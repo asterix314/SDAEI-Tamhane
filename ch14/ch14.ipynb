{
 "cells": [
  {
   "cell_type": "markdown",
   "id": "7c0c714a-801d-4de5-96d7-e375584311c7",
   "metadata": {},
   "source": [
    "# Chapter 14 Nonparametric Statistical Methods"
   ]
  },
  {
   "cell_type": "code",
   "execution_count": 1,
   "id": "77880b95-9144-4d43-9119-3197c2ea4432",
   "metadata": {},
   "outputs": [],
   "source": [
    "import math\n",
    "import itertools\n",
    "\n",
    "import polars as pl\n",
    "from polars import col, lit\n",
    "from scipy import stats\n",
    "import numpy as np\n",
    "import altair as alt\n",
    "\n",
    "RNG = np.random.default_rng()\n",
    "DATA = {}  # input data\n",
    "ANS = {}   # calculation results"
   ]
  },
  {
   "cell_type": "markdown",
   "id": "3b8b4bca-6468-4fe1-869f-64c58d5bfb17",
   "metadata": {},
   "source": [
    "## 14.1 Inferences for Single Samples"
   ]
  },
  {
   "cell_type": "markdown",
   "id": "baebda0c-5e3d-4a48-9b2a-3e58af5e433c",
   "metadata": {},
   "source": [
    "In scipy:\n",
    "- The sign test is implemented as [stats.quantile_test](https://docs.scipy.org/doc/scipy/reference/generated/scipy.stats.quantile_test.html).\n",
    "- The Wilcoxon signed rank test is implemented as [stats.wilcoxon](https://docs.scipy.org/doc/scipy/reference/generated/scipy.stats.wilcoxon.html)."
   ]
  },
  {
   "cell_type": "markdown",
   "id": "78766853-aed9-48ce-a2ea-b520ebc31372",
   "metadata": {},
   "source": [
    "### Ex 14.1"
   ]
  },
  {
   "cell_type": "code",
   "execution_count": 2,
   "id": "1460341e-ee42-4107-8587-28fe9255c72e",
   "metadata": {},
   "outputs": [],
   "source": [
    "DATA['14.1'] = np.array([37, 26, 31, 35, 32, 32, 27, 31, 34, 36])"
   ]
  },
  {
   "cell_type": "markdown",
   "id": "046d2457-0568-495b-bdb5-c5ef26f397e6",
   "metadata": {},
   "source": [
    "#### (a)"
   ]
  },
  {
   "cell_type": "markdown",
   "id": "fa20c2be-af7c-4166-b746-74fbb1565346",
   "metadata": {},
   "source": [
    "For the exact p-value:"
   ]
  },
  {
   "cell_type": "code",
   "execution_count": 3,
   "id": "e50e9824-e19b-47a3-a3dc-ccb166a3c95e",
   "metadata": {},
   "outputs": [
    {
     "data": {
      "text/plain": [
       "QuantileTestResult(statistic=2, statistic_type=1, pvalue=0.0546875)"
      ]
     },
     "execution_count": 3,
     "metadata": {},
     "output_type": "execute_result"
    }
   ],
   "source": [
    "stats.quantile_test(DATA['14.1'], q=30, p=0.5, alternative='greater')"
   ]
  },
  {
   "cell_type": "markdown",
   "id": "8334f3b8-bebc-4928-a5ce-625f21569e0b",
   "metadata": {},
   "source": [
    "which can be calculated directly using the binomial CDF."
   ]
  },
  {
   "cell_type": "code",
   "execution_count": 36,
   "id": "ffe477c8-b292-43e8-852e-b6363ae1ad79",
   "metadata": {},
   "outputs": [
    {
     "data": {
      "text/plain": [
       "0.0546875"
      ]
     },
     "execution_count": 36,
     "metadata": {},
     "output_type": "execute_result"
    }
   ],
   "source": [
    "stats.binom.cdf(np.count_nonzero(DATA['14.1'] <= 30), n=DATA['14.1'].size, p=0.5)"
   ]
  },
  {
   "cell_type": "markdown",
   "id": "b34ac7b3-434c-4e17-95d9-b99eab6f496d",
   "metadata": {},
   "source": [
    "Or with normal approximation with continuity correction:"
   ]
  },
  {
   "cell_type": "code",
   "execution_count": 29,
   "id": "64d92997-040f-46fe-bf3d-91dc65bee11f",
   "metadata": {},
   "outputs": [
    {
     "data": {
      "text/plain": [
       "0.056923149003329024"
      ]
     },
     "execution_count": 29,
     "metadata": {},
     "output_type": "execute_result"
    }
   ],
   "source": [
    "stats.norm.cdf((np.count_nonzero(DATA['14.1'] <= 30) - DATA['14.1'].size * 0.5 + 0.5) / np.sqrt(DATA['14.1'].size * 0.5 * 0.5))"
   ]
  },
  {
   "cell_type": "markdown",
   "id": "d283241e-cd33-4613-83a6-dc59c72c6f37",
   "metadata": {},
   "source": [
    "In any case the p-value is > α = 0.05, so cannot reject $H_0$"
   ]
  },
  {
   "cell_type": "markdown",
   "id": "d4ab4fc5-328d-44de-aa35-33255b3f0cf5",
   "metadata": {},
   "source": [
    "#### (b)"
   ]
  },
  {
   "cell_type": "markdown",
   "id": "93702c37-a3d9-450b-95f5-2678994e5fc1",
   "metadata": {},
   "source": [
    "For the exact test:"
   ]
  },
  {
   "cell_type": "code",
   "execution_count": 36,
   "id": "ef1fff63-28cc-4abf-a8dc-0057b4b5cee3",
   "metadata": {},
   "outputs": [
    {
     "data": {
      "text/plain": [
       "WilcoxonResult(statistic=43.5, pvalue=0.0654296875)"
      ]
     },
     "execution_count": 36,
     "metadata": {},
     "output_type": "execute_result"
    }
   ],
   "source": [
    "stats.wilcoxon(DATA['14.1']-30, alternative='greater', method='exact')"
   ]
  },
  {
   "cell_type": "markdown",
   "id": "fb0ef77b-4d83-4199-b661-801149fc65dd",
   "metadata": {},
   "source": [
    "Normal approximation with continuity correction:"
   ]
  },
  {
   "cell_type": "code",
   "execution_count": 38,
   "id": "540d27fc-7570-427e-94c6-07942680a45f",
   "metadata": {},
   "outputs": [
    {
     "data": {
      "text/plain": [
       "WilcoxonResult(statistic=43.5, pvalue=0.05671152359300298)"
      ]
     },
     "execution_count": 38,
     "metadata": {},
     "output_type": "execute_result"
    }
   ],
   "source": [
    "stats.wilcoxon(DATA['14.1']-30, alternative='greater', method='approx', correction=True)"
   ]
  },
  {
   "cell_type": "markdown",
   "id": "2ab19090-26dc-43ad-b648-f280a5c83d01",
   "metadata": {},
   "source": [
    "In any case the p-value is > α = 0.05, so cannot reject $H_0$"
   ]
  },
  {
   "cell_type": "markdown",
   "id": "1379be4e-2673-4862-9fab-ed72857cc293",
   "metadata": {},
   "source": [
    "### Ex 14.2"
   ]
  },
  {
   "cell_type": "code",
   "execution_count": 42,
   "id": "41615c0a-a5f1-4dbe-87e3-e3f5ee365908",
   "metadata": {},
   "outputs": [
    {
     "data": {
      "text/html": [
       "<div><style>\n",
       ".dataframe > thead > tr,\n",
       ".dataframe > tbody > tr {\n",
       "  text-align: right;\n",
       "  white-space: pre-wrap;\n",
       "}\n",
       "</style>\n",
       "<small>shape: (12, 3)</small><table border=\"1\" class=\"dataframe\"><thead><tr><th>pair</th><th>treated</th><th>control</th></tr><tr><td>i64</td><td>i64</td><td>i64</td></tr></thead><tbody><tr><td>1</td><td>14</td><td>8</td></tr><tr><td>2</td><td>26</td><td>18</td></tr><tr><td>3</td><td>2</td><td>-7</td></tr><tr><td>4</td><td>4</td><td>-1</td></tr><tr><td>5</td><td>-5</td><td>2</td></tr><tr><td>6</td><td>14</td><td>9</td></tr><tr><td>7</td><td>3</td><td>0</td></tr><tr><td>8</td><td>-1</td><td>-4</td></tr><tr><td>9</td><td>1</td><td>13</td></tr><tr><td>10</td><td>6</td><td>3</td></tr><tr><td>11</td><td>3</td><td>3</td></tr><tr><td>12</td><td>4</td><td>3</td></tr></tbody></table></div>"
      ],
      "text/plain": [
       "shape: (12, 3)\n",
       "┌──────┬─────────┬─────────┐\n",
       "│ pair ┆ treated ┆ control │\n",
       "│ ---  ┆ ---     ┆ ---     │\n",
       "│ i64  ┆ i64     ┆ i64     │\n",
       "╞══════╪═════════╪═════════╡\n",
       "│ 1    ┆ 14      ┆ 8       │\n",
       "│ 2    ┆ 26      ┆ 18      │\n",
       "│ 3    ┆ 2       ┆ -7      │\n",
       "│ 4    ┆ 4       ┆ -1      │\n",
       "│ 5    ┆ -5      ┆ 2       │\n",
       "│ …    ┆ …       ┆ …       │\n",
       "│ 8    ┆ -1      ┆ -4      │\n",
       "│ 9    ┆ 1       ┆ 13      │\n",
       "│ 10   ┆ 6       ┆ 3       │\n",
       "│ 11   ┆ 3       ┆ 3       │\n",
       "│ 12   ┆ 4       ┆ 3       │\n",
       "└──────┴─────────┴─────────┘"
      ]
     },
     "execution_count": 42,
     "metadata": {},
     "output_type": "execute_result"
    }
   ],
   "source": [
    "DATA['14.2'] = pl.DataFrame({\n",
    "    'pair': range(1, 13),\n",
    "    'treated': [14, 26, 2, 4, -5, 14, 3, -1, 1, 6, 3, 4],\n",
    "    'control': [8, 18, -7, -1, 2, 9, 0, -4, 13, 3, 3, 3]})\n",
    "DATA['14.2']"
   ]
  },
  {
   "cell_type": "code",
   "execution_count": 54,
   "id": "19e9c32c-5591-4177-a313-538b6677f283",
   "metadata": {},
   "outputs": [
    {
     "data": {
      "text/plain": [
       "QuantileTestResult(statistic=3, statistic_type=1, pvalue=0.072998046875)"
      ]
     },
     "execution_count": 54,
     "metadata": {},
     "output_type": "execute_result"
    }
   ],
   "source": [
    "stats.quantile_test(\n",
    "    DATA['14.2'].select(col('treated')-col('control')).to_series(), \n",
    "    alternative='greater')"
   ]
  },
  {
   "cell_type": "code",
   "execution_count": 58,
   "id": "e66c147a-844d-4805-858d-b6452aaeb648",
   "metadata": {},
   "outputs": [
    {
     "data": {
      "text/plain": [
       "WilcoxonResult(statistic=47.0, pvalue=0.10604514898621259)"
      ]
     },
     "execution_count": 58,
     "metadata": {},
     "output_type": "execute_result"
    }
   ],
   "source": [
    "stats.wilcoxon(\n",
    "    DATA['14.2'].get_column('treated'),\n",
    "    DATA['14.2'].get_column('control'),\n",
    "    alternative='greater')"
   ]
  },
  {
   "cell_type": "markdown",
   "id": "972daf59-04a0-4a5e-9b97-de29be1a5114",
   "metadata": {},
   "source": [
    "Using both the sign test and Wilcoxon signed rank test, the p-value indicates that VB does not improve the IQ at the 0.05 significance level. However the Wilcoxon test gives an even less significant p-value because the negatives have greater magnitudes than the positives -- somewhat increasing the possibility that the true median is 0 when considering only the signs. "
   ]
  },
  {
   "cell_type": "code",
   "execution_count": 67,
   "id": "70134187-3e46-4b8c-a989-de47575f3501",
   "metadata": {},
   "outputs": [
    {
     "data": {
      "text/html": [
       "\n",
       "<style>\n",
       "  #altair-viz-58f88faf82a641da89a30e9abdd9f176.vega-embed {\n",
       "    width: 100%;\n",
       "    display: flex;\n",
       "  }\n",
       "\n",
       "  #altair-viz-58f88faf82a641da89a30e9abdd9f176.vega-embed details,\n",
       "  #altair-viz-58f88faf82a641da89a30e9abdd9f176.vega-embed details summary {\n",
       "    position: relative;\n",
       "  }\n",
       "</style>\n",
       "<div id=\"altair-viz-58f88faf82a641da89a30e9abdd9f176\"></div>\n",
       "<script type=\"text/javascript\">\n",
       "  var VEGA_DEBUG = (typeof VEGA_DEBUG == \"undefined\") ? {} : VEGA_DEBUG;\n",
       "  (function(spec, embedOpt){\n",
       "    let outputDiv = document.currentScript.previousElementSibling;\n",
       "    if (outputDiv.id !== \"altair-viz-58f88faf82a641da89a30e9abdd9f176\") {\n",
       "      outputDiv = document.getElementById(\"altair-viz-58f88faf82a641da89a30e9abdd9f176\");\n",
       "    }\n",
       "    const paths = {\n",
       "      \"vega\": \"https://cdn.jsdelivr.net/npm/vega@5?noext\",\n",
       "      \"vega-lib\": \"https://cdn.jsdelivr.net/npm/vega-lib?noext\",\n",
       "      \"vega-lite\": \"https://cdn.jsdelivr.net/npm/vega-lite@5.16.3?noext\",\n",
       "      \"vega-embed\": \"https://cdn.jsdelivr.net/npm/vega-embed@6?noext\",\n",
       "    };\n",
       "\n",
       "    function maybeLoadScript(lib, version) {\n",
       "      var key = `${lib.replace(\"-\", \"\")}_version`;\n",
       "      return (VEGA_DEBUG[key] == version) ?\n",
       "        Promise.resolve(paths[lib]) :\n",
       "        new Promise(function(resolve, reject) {\n",
       "          var s = document.createElement('script');\n",
       "          document.getElementsByTagName(\"head\")[0].appendChild(s);\n",
       "          s.async = true;\n",
       "          s.onload = () => {\n",
       "            VEGA_DEBUG[key] = version;\n",
       "            return resolve(paths[lib]);\n",
       "          };\n",
       "          s.onerror = () => reject(`Error loading script: ${paths[lib]}`);\n",
       "          s.src = paths[lib];\n",
       "        });\n",
       "    }\n",
       "\n",
       "    function showError(err) {\n",
       "      outputDiv.innerHTML = `<div class=\"error\" style=\"color:red;\">${err}</div>`;\n",
       "      throw err;\n",
       "    }\n",
       "\n",
       "    function displayChart(vegaEmbed) {\n",
       "      vegaEmbed(outputDiv, spec, embedOpt)\n",
       "        .catch(err => showError(`Javascript Error: ${err.message}<br>This usually means there's a typo in your chart specification. See the javascript console for the full traceback.`));\n",
       "    }\n",
       "\n",
       "    if(typeof define === \"function\" && define.amd) {\n",
       "      requirejs.config({paths});\n",
       "      require([\"vega-embed\"], displayChart, err => showError(`Error loading script: ${err.message}`));\n",
       "    } else {\n",
       "      maybeLoadScript(\"vega\", \"5\")\n",
       "        .then(() => maybeLoadScript(\"vega-lite\", \"5.16.3\"))\n",
       "        .then(() => maybeLoadScript(\"vega-embed\", \"6\"))\n",
       "        .catch(showError)\n",
       "        .then(() => displayChart(vegaEmbed));\n",
       "    }\n",
       "  })({\"config\": {\"view\": {\"continuousWidth\": 300, \"continuousHeight\": 300}}, \"data\": {\"name\": \"data-778e95c912edba06f1c9914bbd3ce1b0\"}, \"mark\": {\"type\": \"tick\"}, \"encoding\": {\"x\": {\"axis\": {\"grid\": false}, \"field\": \"diff\", \"type\": \"quantitative\"}}, \"$schema\": \"https://vega.github.io/schema/vega-lite/v5.16.3.json\", \"datasets\": {\"data-778e95c912edba06f1c9914bbd3ce1b0\": [{\"diff\": 6}, {\"diff\": 8}, {\"diff\": 9}, {\"diff\": 5}, {\"diff\": -7}, {\"diff\": 5}, {\"diff\": 3}, {\"diff\": 3}, {\"diff\": -12}, {\"diff\": 3}, {\"diff\": 0}, {\"diff\": 1}]}}, {\"mode\": \"vega-lite\"});\n",
       "</script>"
      ],
      "text/plain": [
       "alt.Chart(...)"
      ]
     },
     "execution_count": 67,
     "metadata": {},
     "output_type": "execute_result"
    }
   ],
   "source": [
    "(\n",
    "    alt.Chart(\n",
    "        DATA['14.2'].select(\n",
    "            (col('treated')-col('control')).alias('diff')))\n",
    "    .mark_tick()\n",
    "    .encode(\n",
    "        alt.X('diff:Q').axis(grid=False)))"
   ]
  },
  {
   "cell_type": "markdown",
   "id": "61b8e14b-7cff-4ffc-9a85-4fd7029c4239",
   "metadata": {},
   "source": [
    "## 14.2 Inferences for Two Independent Samples"
   ]
  },
  {
   "cell_type": "markdown",
   "id": "087fb5d8-d6e0-45ab-a3ef-8b61fb8cf903",
   "metadata": {},
   "source": [
    "### Ex 14.11\n",
    "\n",
    "The table below gives the survival times of 16 mice that were randomly assigned to a control group or to a treatment group. Did the treatment prolong survival? Answer using the Wilcoxon-Mann-Whitney test at $\\alpha = .10$.\n",
    "\n",
    "Survival Times of Mice (Days)||||||||||\n",
    "---|---|---|---|---|---|---|---|---|---\n",
    "**Control Group** | 52 | 104 | 146 | 10 | 50 | 31 | 40 | 27 | 46\n",
    "**Treatment Group** | 94 | 197 | 16 | 38 | 99 | 141 | 23 ||"
   ]
  },
  {
   "cell_type": "code",
   "execution_count": 8,
   "id": "8777d81a-16cf-4df7-8aed-b012d174fd1c",
   "metadata": {},
   "outputs": [
    {
     "data": {
      "text/html": [
       "<div><style>\n",
       ".dataframe > thead > tr,\n",
       ".dataframe > tbody > tr {\n",
       "  text-align: right;\n",
       "  white-space: pre-wrap;\n",
       "}\n",
       "</style>\n",
       "<small>shape: (1, 2)</small><table border=\"1\" class=\"dataframe\"><thead><tr><th>Control</th><th>Treatmnt</th></tr><tr><td>list[f64]</td><td>list[f64]</td></tr></thead><tbody><tr><td>[52.0, 104.0, … 46.0]</td><td>[94.0, 197.0, … 23.0]</td></tr></tbody></table></div>"
      ],
      "text/plain": [
       "shape: (1, 2)\n",
       "┌───────────────────────┬───────────────────────┐\n",
       "│ Control               ┆ Treatmnt              │\n",
       "│ ---                   ┆ ---                   │\n",
       "│ list[f64]             ┆ list[f64]             │\n",
       "╞═══════════════════════╪═══════════════════════╡\n",
       "│ [52.0, 104.0, … 46.0] ┆ [94.0, 197.0, … 23.0] │\n",
       "└───────────────────────┴───────────────────────┘"
      ]
     },
     "execution_count": 8,
     "metadata": {},
     "output_type": "execute_result"
    }
   ],
   "source": [
    "# ✍️\n",
    "DATA['14.11'] = pl.read_json('Ex14-11.json')\n",
    "DATA['14.11'].head()"
   ]
  },
  {
   "cell_type": "code",
   "execution_count": 39,
   "id": "3951a4ad-b7a4-443b-b23c-9b7701edf79e",
   "metadata": {},
   "outputs": [
    {
     "data": {
      "text/plain": [
       "MannwhitneyuResult(statistic=36.0, pvalue=0.3402972027972028)"
      ]
     },
     "execution_count": 39,
     "metadata": {},
     "output_type": "execute_result"
    }
   ],
   "source": [
    "stats.mannwhitneyu(\n",
    "    DATA['14.11']['Treatmnt'].explode(),\n",
    "    DATA['14.11']['Control'].explode(),\n",
    "    alternative='greater')"
   ]
  },
  {
   "cell_type": "markdown",
   "id": "b9eb7b21-9944-4370-86a6-dc65ee647010",
   "metadata": {},
   "source": [
    "P-value = 0.34 > 0.1, so inconclusive to say treatment prolongs survival."
   ]
  },
  {
   "cell_type": "markdown",
   "id": "62cdfa8c-07aa-46ca-8913-82520d7b651f",
   "metadata": {},
   "source": [
    "## 14.6 *Resampling Methods"
   ]
  },
  {
   "cell_type": "markdown",
   "id": "3f69f2e0-031c-4247-bcb1-746ff5a63320",
   "metadata": {},
   "source": [
    "The inherent error of resampling could be far less serious than making wrong and often unverifiable assumptions about the population distribution."
   ]
  },
  {
   "cell_type": "markdown",
   "id": "4c924af2-c250-41d0-8416-76af6a1b2bc5",
   "metadata": {},
   "source": [
    "- permutation test: draw from samples *without replacement*\n",
    "- bootstrap method: draw from samples *with replacement*\n",
    "- jackknife method: delete one observation at a time."
   ]
  },
  {
   "cell_type": "markdown",
   "id": "334c6f8f-2fe8-4eb2-b115-88ecbe559a86",
   "metadata": {},
   "source": [
    "### Ex 14.34\n",
    "\n",
    "Consider a subset of the carbon atomic weight data shown below from Exercise 8.11.\n",
    "\n",
    "||||||\n",
    "---|---|---|---|---\n",
    "**Method 1**| 12.0129 | 12.0072 | 12.0064 | 12.0054\n",
    "**Method 2**| 12.0318 | 12.0246 | 12.0069 |\n",
    "\n",
    "Do a two-sided permutation test to compare the two methods of atomic weight determination by listing all $\\binom{7}{3} = 35$ assignments of labels x and y to the data values. Use $\\alpha = .10$."
   ]
  },
  {
   "cell_type": "code",
   "execution_count": 40,
   "id": "43a45b7f-6ef5-4925-bad1-58609b55aaa0",
   "metadata": {},
   "outputs": [],
   "source": [
    "# ✍️\n",
    "method_1 = np.array([12.0129, 12.0072, 12.0064, 12.0054])\n",
    "method_2 = np.array([12.0318, 12.0246, 12.0069])"
   ]
  },
  {
   "cell_type": "code",
   "execution_count": 3,
   "id": "32eaad25-5a58-4762-8d12-05ab06a7ac9e",
   "metadata": {
    "scrolled": true
   },
   "outputs": [],
   "source": [
    "def get_statistic(m1: np.ndarray, m2: np.ndarray) -> float:\n",
    "    return np.mean(m1) - np.mean(m2)"
   ]
  },
  {
   "cell_type": "code",
   "execution_count": 42,
   "id": "b173b46a-7175-4575-8435-905d2f36a946",
   "metadata": {},
   "outputs": [
    {
     "data": {
      "text/plain": [
       "0.17142857142857143"
      ]
     },
     "execution_count": 42,
     "metadata": {},
     "output_type": "execute_result"
    }
   ],
   "source": [
    "res = stats.permutation_test(\n",
    "    (method_1, method_2), get_statistic,\n",
    "    permutation_type='independent', alternative='two-sided', n_resamples=np.inf)\n",
    "res.pvalue"
   ]
  },
  {
   "cell_type": "markdown",
   "id": "53cfb8da-8623-4578-8ed1-f31d5dd4ab78",
   "metadata": {},
   "source": [
    "P-value > 0.1, therefor no significant difference between the 2 methods."
   ]
  },
  {
   "cell_type": "markdown",
   "id": "3e451e00-a7d5-4738-b92a-79a006b92d82",
   "metadata": {},
   "source": [
    "### Ex 14.35\n",
    "\n",
    "Do a one-sided permutation test on the mouse data from Exercise 14.11 by using a computer package to draw 25 random samples _without replacement_. Enumerate your samples. Estimate the P-value and compare it with that obtained in Exercise 14.11."
   ]
  },
  {
   "cell_type": "code",
   "execution_count": 55,
   "id": "b2ea23a2-0c4e-448e-8a78-7fe4b1ed5ab7",
   "metadata": {},
   "outputs": [
    {
     "data": {
      "text/plain": [
       "0.19230769230769232"
      ]
     },
     "execution_count": 55,
     "metadata": {},
     "output_type": "execute_result"
    }
   ],
   "source": [
    "# ✍️\n",
    "res = stats.permutation_test(\n",
    "    (DATA['14.11']['Treatmnt'].item(), DATA['14.11']['Control'].item()), \n",
    "    lambda m1, m2: m1.mean() - m2.mean(),\n",
    "    permutation_type='independent', alternative='greater', n_resamples=25)\n",
    "res.pvalue"
   ]
  },
  {
   "cell_type": "markdown",
   "id": "3d93fa35-d518-410a-95bd-d1e19b794b3c",
   "metadata": {},
   "source": [
    "Because 25 does not exhaust all the combinations, the P-value may be different each time you run the code. Here we get P-value = 0.19 whereas in Ex 14.11 it was 0.34."
   ]
  },
  {
   "cell_type": "markdown",
   "id": "6a5ade81-32b0-45c0-a5f0-ca11cb51c014",
   "metadata": {},
   "source": [
    "### Ex 14.36\n",
    "\n",
    "Use a computer package to draw 25 bootstrap samples from the data in Exercise 7.16 on thermostat settings. Enumerate your samples. Estimate the standard error of the sample mean and compare it with the exact value."
   ]
  },
  {
   "cell_type": "markdown",
   "id": "069279ed-c5b5-4710-b2c2-f830c224b29e",
   "metadata": {},
   "source": [
    "### Ex 14.37\n",
    "\n",
    "Use the bootstrap samples from Exercise 14.36 to estimate the standard errors of the sample median, sample maximum, and sample minimum."
   ]
  },
  {
   "cell_type": "markdown",
   "id": "59f51ea4-826a-4c69-9475-e6f95d473fc4",
   "metadata": {},
   "source": [
    "### Ex 14.38\n",
    "\n",
    "Do a bootstrap test on the mouse data from Exercise 14.11 by using a computer package to draw 25 random samples _with replacement_ as done in Example 14.7. Enumerate your samples. Estimate the P-value and compare it with that obtained in Exercises 14.11 and 14.35."
   ]
  },
  {
   "cell_type": "markdown",
   "id": "c4d57224-8a22-4c0b-b33b-2a70f87ff32f",
   "metadata": {},
   "source": [
    "### Ex 14.39\n",
    "\n",
    "Show the result (14.30) which relates the bootstrap estimate of the standard error of the\n",
    "sample mean to the exact value. You will need to use the following result from **finite\n",
    "population sampling**: Consider a population of N numbers: ${x_1, x_2, \\ldots , x_N}$ with mean\n",
    "and variance equal to\n",
    "\n",
    "$$\n",
    "\\mu = \\frac{\\sum_{i=1}^N x_i}{N} \\quad \\text{and} \\quad \\sigma^2 = \\frac{\\sum_{i=1}^N (x_i - \\mu)^2}{N}.\n",
    "$$\n",
    "\n",
    "If $\\bar{X}$ is the sample mean of an SRS of size n _with replacement_ from this population, then\n",
    "\n",
    "$$\n",
    "\\mathrm{Var}(\\bar{X}) = \\frac{\\sigma^2}{N} = \\frac{\\sum_{i=1}^N (x_i - \\mu)^2}{n\\,N}.\n",
    "$$"
   ]
  },
  {
   "cell_type": "markdown",
   "id": "c87f1b13-aecd-44b0-a769-ed8dd805d813",
   "metadata": {},
   "source": [
    "### Ex 14.40\n",
    "\n",
    "Show the result (14.32) which states that the jackknife estimate of the standard error of the sample mean is exact. Check the result numerically by enumerating the 10 jackknife samples for the data from Exercise 14.1 and calculating the jackknife estimate of the standard error of the sample mean."
   ]
  },
  {
   "cell_type": "markdown",
   "id": "fdfcf2dc-dc06-48e4-828a-2bf961729977",
   "metadata": {},
   "source": [
    "## Advanced Exercises"
   ]
  },
  {
   "cell_type": "markdown",
   "id": "7d2f1fa0-6a36-480b-92a9-d838162061e0",
   "metadata": {},
   "source": [
    "### Ex 14.43\n",
    "\n",
    "Derive the formulas (14.4) for the mean and variance of the Wilcoxon signed rank statistic\n",
    "under $H_0$ by carrying out the steps below."
   ]
  },
  {
   "cell_type": "markdown",
   "id": "5e512e8e-ec70-4835-878b-f2b0771c8d57",
   "metadata": {},
   "source": [
    "#### (a)\n",
    "\n",
    "The $i$th rank can correspond to a positive sign or a negative sign. Let $Z_i$ be an indicator variable with $Z_i = 1$ if the $i$th rank corresponds to a positive sign and $Z_i = 0$ if the $i$th rank corresponds to a negative sign. Show that $W_+ = \\sum_{i=1}^n i\\,Z_i$."
   ]
  },
  {
   "cell_type": "markdown",
   "id": "e1e5b6d0-31ba-4e00-a4e0-76fa54358796",
   "metadata": {},
   "source": [
    "✍️ Because $W_+$ is the sum of the positive ranks,\n",
    "$$\n",
    "W_+ = \\sum_{i=1}^n i\\,Z_i\\,.\n",
    "$$"
   ]
  },
  {
   "cell_type": "markdown",
   "id": "fa348f66-a817-402d-8957-7f00e25f8c1b",
   "metadata": {},
   "source": [
    "#### (b)\n",
    "\n",
    "Note that the $Z_i$ are independent and identically distributed Bernoulli r.v.'s with success probability $p = P(X_ > \\tilde{\\mu_0})$. Hence show that\n",
    "\n",
    "$$\n",
    "\\mathrm{E}(W_+) = \\sum_{i=1}^n i\\,p = \\frac{p\\,n(1+n)}{2}\n",
    "$$\n",
    "\n",
    "and\n",
    "\n",
    "$$\n",
    "\\mathrm{Var}(W_+) = \\sum_{i=1}^n i^2 p\\,(1-p) = \\frac{p\\,(1-p)\\,n(n+1)(2n+1)}{6}\\,.\n",
    "$$\n",
    "\n",
    "Now (14.4) follows by substituting $p=1/2$ in the above formulas."
   ]
  },
  {
   "cell_type": "markdown",
   "id": "0d46c31f-a064-4847-8353-2c138304f137",
   "metadata": {},
   "source": [
    "✍️\n",
    "$$\n",
    "\\begin{align*}\n",
    "\\mathrm{E}(W_+) &= \\mathrm{E}\\left[\\sum_{i=1}^n i\\,Z_i\\right] \\\\\n",
    "&= \\sum_{i=1}^n i\\,\\mathrm{E}(Z_i) \\\\\n",
    "&= p \\sum_{i=1}^n i \\\\\n",
    "&= p\\,n(1+n)/2\\,.\n",
    "\\end{align*}\n",
    "$$\n",
    "\n",
    "Similarly,\n",
    "\n",
    "$$\n",
    "\\begin{align*}\n",
    "\\mathrm{Var}(W_+) &= \\mathrm{Var}\\left[\\sum_{i=1}^n i\\,Z_i\\right] \\\\\n",
    "&= \\sum_{i=1}^n i^2\\,\\mathrm{Var}(Z_i) \\\\\n",
    "&= p\\,(1-p) \\sum_{i=1}^n i^2 \\\\\n",
    "&= p\\,(1-p)\\,n(n+1)(2n+1)/6\\,.\n",
    "\\end{align*}\n",
    "$$"
   ]
  },
  {
   "cell_type": "code",
   "execution_count": null,
   "id": "b7e93616-795c-4859-96e4-c0dd0e81323d",
   "metadata": {},
   "outputs": [],
   "source": []
  }
 ],
 "metadata": {
  "kernelspec": {
   "display_name": "Python 3 (ipykernel)",
   "language": "python",
   "name": "python3"
  },
  "language_info": {
   "codemirror_mode": {
    "name": "ipython",
    "version": 3
   },
   "file_extension": ".py",
   "mimetype": "text/x-python",
   "name": "python",
   "nbconvert_exporter": "python",
   "pygments_lexer": "ipython3",
   "version": "3.10.12"
  }
 },
 "nbformat": 4,
 "nbformat_minor": 5
}
