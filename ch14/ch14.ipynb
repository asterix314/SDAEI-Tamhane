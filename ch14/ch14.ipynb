{
 "cells": [
  {
   "cell_type": "markdown",
   "id": "7c0c714a-801d-4de5-96d7-e375584311c7",
   "metadata": {},
   "source": [
    "# Chapter 14 Nonparametric Statistical Methods"
   ]
  },
  {
   "cell_type": "code",
   "execution_count": 1,
   "id": "77880b95-9144-4d43-9119-3197c2ea4432",
   "metadata": {},
   "outputs": [],
   "source": [
    "import math\n",
    "import itertools\n",
    "\n",
    "import polars as pl\n",
    "from polars import col, lit\n",
    "from scipy import stats\n",
    "import numpy as np\n",
    "import altair as alt\n",
    "\n",
    "RNG = np.random.default_rng()\n",
    "DATA = {}  # input data\n",
    "ANS = {}   # calculation results"
   ]
  },
  {
   "cell_type": "markdown",
   "id": "3b8b4bca-6468-4fe1-869f-64c58d5bfb17",
   "metadata": {},
   "source": [
    "## 14.1 Inferences for Single Samples"
   ]
  },
  {
   "cell_type": "markdown",
   "id": "baebda0c-5e3d-4a48-9b2a-3e58af5e433c",
   "metadata": {},
   "source": [
    "In scipy:\n",
    "- The sign test is implemented as [stats.quantile_test](https://docs.scipy.org/doc/scipy/reference/generated/scipy.stats.quantile_test.html).\n",
    "- The Wilcoxon signed rank test is implemented as [stats.wilcoxon](https://docs.scipy.org/doc/scipy/reference/generated/scipy.stats.wilcoxon.html)."
   ]
  },
  {
   "cell_type": "markdown",
   "id": "78766853-aed9-48ce-a2ea-b520ebc31372",
   "metadata": {},
   "source": [
    "### Ex 14.1"
   ]
  },
  {
   "cell_type": "code",
   "execution_count": 2,
   "id": "1460341e-ee42-4107-8587-28fe9255c72e",
   "metadata": {},
   "outputs": [],
   "source": [
    "DATA['14.1'] = np.array([37, 26, 31, 35, 32, 32, 27, 31, 34, 36])"
   ]
  },
  {
   "cell_type": "markdown",
   "id": "046d2457-0568-495b-bdb5-c5ef26f397e6",
   "metadata": {},
   "source": [
    "#### (a)"
   ]
  },
  {
   "cell_type": "markdown",
   "id": "fa20c2be-af7c-4166-b746-74fbb1565346",
   "metadata": {},
   "source": [
    "For the exact p-value:"
   ]
  },
  {
   "cell_type": "code",
   "execution_count": 3,
   "id": "e50e9824-e19b-47a3-a3dc-ccb166a3c95e",
   "metadata": {},
   "outputs": [
    {
     "data": {
      "text/plain": [
       "QuantileTestResult(statistic=2, statistic_type=1, pvalue=0.0546875)"
      ]
     },
     "execution_count": 3,
     "metadata": {},
     "output_type": "execute_result"
    }
   ],
   "source": [
    "stats.quantile_test(DATA['14.1'], q=30, p=0.5, alternative='greater')"
   ]
  },
  {
   "cell_type": "markdown",
   "id": "8334f3b8-bebc-4928-a5ce-625f21569e0b",
   "metadata": {},
   "source": [
    "which can be calculated directly using the binomial CDF."
   ]
  },
  {
   "cell_type": "code",
   "execution_count": 36,
   "id": "ffe477c8-b292-43e8-852e-b6363ae1ad79",
   "metadata": {},
   "outputs": [
    {
     "data": {
      "text/plain": [
       "0.0546875"
      ]
     },
     "execution_count": 36,
     "metadata": {},
     "output_type": "execute_result"
    }
   ],
   "source": [
    "stats.binom.cdf(np.count_nonzero(DATA['14.1'] <= 30), n=DATA['14.1'].size, p=0.5)"
   ]
  },
  {
   "cell_type": "markdown",
   "id": "b34ac7b3-434c-4e17-95d9-b99eab6f496d",
   "metadata": {},
   "source": [
    "Or with normal approximation with continuity correction:"
   ]
  },
  {
   "cell_type": "code",
   "execution_count": 29,
   "id": "64d92997-040f-46fe-bf3d-91dc65bee11f",
   "metadata": {},
   "outputs": [
    {
     "data": {
      "text/plain": [
       "0.056923149003329024"
      ]
     },
     "execution_count": 29,
     "metadata": {},
     "output_type": "execute_result"
    }
   ],
   "source": [
    "stats.norm.cdf((np.count_nonzero(DATA['14.1'] <= 30) - DATA['14.1'].size * 0.5 + 0.5) / np.sqrt(DATA['14.1'].size * 0.5 * 0.5))"
   ]
  },
  {
   "cell_type": "markdown",
   "id": "d283241e-cd33-4613-83a6-dc59c72c6f37",
   "metadata": {},
   "source": [
    "In any case the p-value is > α = 0.05, so cannot reject $H_0$"
   ]
  },
  {
   "cell_type": "markdown",
   "id": "d4ab4fc5-328d-44de-aa35-33255b3f0cf5",
   "metadata": {},
   "source": [
    "#### (b)"
   ]
  },
  {
   "cell_type": "markdown",
   "id": "93702c37-a3d9-450b-95f5-2678994e5fc1",
   "metadata": {},
   "source": [
    "For the exact test:"
   ]
  },
  {
   "cell_type": "code",
   "execution_count": 36,
   "id": "ef1fff63-28cc-4abf-a8dc-0057b4b5cee3",
   "metadata": {},
   "outputs": [
    {
     "data": {
      "text/plain": [
       "WilcoxonResult(statistic=43.5, pvalue=0.0654296875)"
      ]
     },
     "execution_count": 36,
     "metadata": {},
     "output_type": "execute_result"
    }
   ],
   "source": [
    "stats.wilcoxon(DATA['14.1']-30, alternative='greater', method='exact')"
   ]
  },
  {
   "cell_type": "markdown",
   "id": "fb0ef77b-4d83-4199-b661-801149fc65dd",
   "metadata": {},
   "source": [
    "Normal approximation with continuity correction:"
   ]
  },
  {
   "cell_type": "code",
   "execution_count": 38,
   "id": "540d27fc-7570-427e-94c6-07942680a45f",
   "metadata": {},
   "outputs": [
    {
     "data": {
      "text/plain": [
       "WilcoxonResult(statistic=43.5, pvalue=0.05671152359300298)"
      ]
     },
     "execution_count": 38,
     "metadata": {},
     "output_type": "execute_result"
    }
   ],
   "source": [
    "stats.wilcoxon(DATA['14.1']-30, alternative='greater', method='approx', correction=True)"
   ]
  },
  {
   "cell_type": "markdown",
   "id": "2ab19090-26dc-43ad-b648-f280a5c83d01",
   "metadata": {},
   "source": [
    "In any case the p-value is > α = 0.05, so cannot reject $H_0$"
   ]
  },
  {
   "cell_type": "markdown",
   "id": "1379be4e-2673-4862-9fab-ed72857cc293",
   "metadata": {},
   "source": [
    "### Ex 14.2"
   ]
  },
  {
   "cell_type": "code",
   "execution_count": 42,
   "id": "41615c0a-a5f1-4dbe-87e3-e3f5ee365908",
   "metadata": {},
   "outputs": [
    {
     "data": {
      "text/html": [
       "<div><style>\n",
       ".dataframe > thead > tr,\n",
       ".dataframe > tbody > tr {\n",
       "  text-align: right;\n",
       "  white-space: pre-wrap;\n",
       "}\n",
       "</style>\n",
       "<small>shape: (12, 3)</small><table border=\"1\" class=\"dataframe\"><thead><tr><th>pair</th><th>treated</th><th>control</th></tr><tr><td>i64</td><td>i64</td><td>i64</td></tr></thead><tbody><tr><td>1</td><td>14</td><td>8</td></tr><tr><td>2</td><td>26</td><td>18</td></tr><tr><td>3</td><td>2</td><td>-7</td></tr><tr><td>4</td><td>4</td><td>-1</td></tr><tr><td>5</td><td>-5</td><td>2</td></tr><tr><td>6</td><td>14</td><td>9</td></tr><tr><td>7</td><td>3</td><td>0</td></tr><tr><td>8</td><td>-1</td><td>-4</td></tr><tr><td>9</td><td>1</td><td>13</td></tr><tr><td>10</td><td>6</td><td>3</td></tr><tr><td>11</td><td>3</td><td>3</td></tr><tr><td>12</td><td>4</td><td>3</td></tr></tbody></table></div>"
      ],
      "text/plain": [
       "shape: (12, 3)\n",
       "┌──────┬─────────┬─────────┐\n",
       "│ pair ┆ treated ┆ control │\n",
       "│ ---  ┆ ---     ┆ ---     │\n",
       "│ i64  ┆ i64     ┆ i64     │\n",
       "╞══════╪═════════╪═════════╡\n",
       "│ 1    ┆ 14      ┆ 8       │\n",
       "│ 2    ┆ 26      ┆ 18      │\n",
       "│ 3    ┆ 2       ┆ -7      │\n",
       "│ 4    ┆ 4       ┆ -1      │\n",
       "│ 5    ┆ -5      ┆ 2       │\n",
       "│ …    ┆ …       ┆ …       │\n",
       "│ 8    ┆ -1      ┆ -4      │\n",
       "│ 9    ┆ 1       ┆ 13      │\n",
       "│ 10   ┆ 6       ┆ 3       │\n",
       "│ 11   ┆ 3       ┆ 3       │\n",
       "│ 12   ┆ 4       ┆ 3       │\n",
       "└──────┴─────────┴─────────┘"
      ]
     },
     "execution_count": 42,
     "metadata": {},
     "output_type": "execute_result"
    }
   ],
   "source": [
    "DATA['14.2'] = pl.DataFrame({\n",
    "    'pair': range(1, 13),\n",
    "    'treated': [14, 26, 2, 4, -5, 14, 3, -1, 1, 6, 3, 4],\n",
    "    'control': [8, 18, -7, -1, 2, 9, 0, -4, 13, 3, 3, 3]})\n",
    "DATA['14.2']"
   ]
  },
  {
   "cell_type": "code",
   "execution_count": 54,
   "id": "19e9c32c-5591-4177-a313-538b6677f283",
   "metadata": {},
   "outputs": [
    {
     "data": {
      "text/plain": [
       "QuantileTestResult(statistic=3, statistic_type=1, pvalue=0.072998046875)"
      ]
     },
     "execution_count": 54,
     "metadata": {},
     "output_type": "execute_result"
    }
   ],
   "source": [
    "stats.quantile_test(\n",
    "    DATA['14.2'].select(col('treated')-col('control')).to_series(), \n",
    "    alternative='greater')"
   ]
  },
  {
   "cell_type": "code",
   "execution_count": 58,
   "id": "e66c147a-844d-4805-858d-b6452aaeb648",
   "metadata": {},
   "outputs": [
    {
     "data": {
      "text/plain": [
       "WilcoxonResult(statistic=47.0, pvalue=0.10604514898621259)"
      ]
     },
     "execution_count": 58,
     "metadata": {},
     "output_type": "execute_result"
    }
   ],
   "source": [
    "stats.wilcoxon(\n",
    "    DATA['14.2'].get_column('treated'),\n",
    "    DATA['14.2'].get_column('control'),\n",
    "    alternative='greater')"
   ]
  },
  {
   "cell_type": "markdown",
   "id": "972daf59-04a0-4a5e-9b97-de29be1a5114",
   "metadata": {},
   "source": [
    "Using both the sign test and Wilcoxon signed rank test, the p-value indicates that VB does not improve the IQ at the 0.05 significance level. However the Wilcoxon test gives an even less significant p-value because the negatives have greater magnitudes than the positives -- somewhat increasing the possibility that the true median is 0 when considering only the signs. "
   ]
  },
  {
   "cell_type": "code",
   "execution_count": 67,
   "id": "70134187-3e46-4b8c-a989-de47575f3501",
   "metadata": {},
   "outputs": [
    {
     "data": {
      "text/html": [
       "\n",
       "<style>\n",
       "  #altair-viz-58f88faf82a641da89a30e9abdd9f176.vega-embed {\n",
       "    width: 100%;\n",
       "    display: flex;\n",
       "  }\n",
       "\n",
       "  #altair-viz-58f88faf82a641da89a30e9abdd9f176.vega-embed details,\n",
       "  #altair-viz-58f88faf82a641da89a30e9abdd9f176.vega-embed details summary {\n",
       "    position: relative;\n",
       "  }\n",
       "</style>\n",
       "<div id=\"altair-viz-58f88faf82a641da89a30e9abdd9f176\"></div>\n",
       "<script type=\"text/javascript\">\n",
       "  var VEGA_DEBUG = (typeof VEGA_DEBUG == \"undefined\") ? {} : VEGA_DEBUG;\n",
       "  (function(spec, embedOpt){\n",
       "    let outputDiv = document.currentScript.previousElementSibling;\n",
       "    if (outputDiv.id !== \"altair-viz-58f88faf82a641da89a30e9abdd9f176\") {\n",
       "      outputDiv = document.getElementById(\"altair-viz-58f88faf82a641da89a30e9abdd9f176\");\n",
       "    }\n",
       "    const paths = {\n",
       "      \"vega\": \"https://cdn.jsdelivr.net/npm/vega@5?noext\",\n",
       "      \"vega-lib\": \"https://cdn.jsdelivr.net/npm/vega-lib?noext\",\n",
       "      \"vega-lite\": \"https://cdn.jsdelivr.net/npm/vega-lite@5.16.3?noext\",\n",
       "      \"vega-embed\": \"https://cdn.jsdelivr.net/npm/vega-embed@6?noext\",\n",
       "    };\n",
       "\n",
       "    function maybeLoadScript(lib, version) {\n",
       "      var key = `${lib.replace(\"-\", \"\")}_version`;\n",
       "      return (VEGA_DEBUG[key] == version) ?\n",
       "        Promise.resolve(paths[lib]) :\n",
       "        new Promise(function(resolve, reject) {\n",
       "          var s = document.createElement('script');\n",
       "          document.getElementsByTagName(\"head\")[0].appendChild(s);\n",
       "          s.async = true;\n",
       "          s.onload = () => {\n",
       "            VEGA_DEBUG[key] = version;\n",
       "            return resolve(paths[lib]);\n",
       "          };\n",
       "          s.onerror = () => reject(`Error loading script: ${paths[lib]}`);\n",
       "          s.src = paths[lib];\n",
       "        });\n",
       "    }\n",
       "\n",
       "    function showError(err) {\n",
       "      outputDiv.innerHTML = `<div class=\"error\" style=\"color:red;\">${err}</div>`;\n",
       "      throw err;\n",
       "    }\n",
       "\n",
       "    function displayChart(vegaEmbed) {\n",
       "      vegaEmbed(outputDiv, spec, embedOpt)\n",
       "        .catch(err => showError(`Javascript Error: ${err.message}<br>This usually means there's a typo in your chart specification. See the javascript console for the full traceback.`));\n",
       "    }\n",
       "\n",
       "    if(typeof define === \"function\" && define.amd) {\n",
       "      requirejs.config({paths});\n",
       "      require([\"vega-embed\"], displayChart, err => showError(`Error loading script: ${err.message}`));\n",
       "    } else {\n",
       "      maybeLoadScript(\"vega\", \"5\")\n",
       "        .then(() => maybeLoadScript(\"vega-lite\", \"5.16.3\"))\n",
       "        .then(() => maybeLoadScript(\"vega-embed\", \"6\"))\n",
       "        .catch(showError)\n",
       "        .then(() => displayChart(vegaEmbed));\n",
       "    }\n",
       "  })({\"config\": {\"view\": {\"continuousWidth\": 300, \"continuousHeight\": 300}}, \"data\": {\"name\": \"data-778e95c912edba06f1c9914bbd3ce1b0\"}, \"mark\": {\"type\": \"tick\"}, \"encoding\": {\"x\": {\"axis\": {\"grid\": false}, \"field\": \"diff\", \"type\": \"quantitative\"}}, \"$schema\": \"https://vega.github.io/schema/vega-lite/v5.16.3.json\", \"datasets\": {\"data-778e95c912edba06f1c9914bbd3ce1b0\": [{\"diff\": 6}, {\"diff\": 8}, {\"diff\": 9}, {\"diff\": 5}, {\"diff\": -7}, {\"diff\": 5}, {\"diff\": 3}, {\"diff\": 3}, {\"diff\": -12}, {\"diff\": 3}, {\"diff\": 0}, {\"diff\": 1}]}}, {\"mode\": \"vega-lite\"});\n",
       "</script>"
      ],
      "text/plain": [
       "alt.Chart(...)"
      ]
     },
     "execution_count": 67,
     "metadata": {},
     "output_type": "execute_result"
    }
   ],
   "source": [
    "(\n",
    "    alt.Chart(\n",
    "        DATA['14.2'].select(\n",
    "            (col('treated')-col('control')).alias('diff')))\n",
    "    .mark_tick()\n",
    "    .encode(\n",
    "        alt.X('diff:Q').axis(grid=False)))"
   ]
  },
  {
   "cell_type": "markdown",
   "id": "62cdfa8c-07aa-46ca-8913-82520d7b651f",
   "metadata": {},
   "source": [
    "## 14.5 *Resampling Methods"
   ]
  },
  {
   "cell_type": "markdown",
   "id": "3f69f2e0-031c-4247-bcb1-746ff5a63320",
   "metadata": {},
   "source": [
    "The inherent error of resampling could be far less serious than making wrong and often unverifiable assumptions about the population distribution."
   ]
  },
  {
   "cell_type": "markdown",
   "id": "4c924af2-c250-41d0-8416-76af6a1b2bc5",
   "metadata": {},
   "source": [
    "- permutation test: draw from samples *without replacement*\n",
    "- bootstrap method: draw from samples *with replacement*\n",
    "- jackknife method: delete one observation at a time."
   ]
  },
  {
   "cell_type": "markdown",
   "id": "334c6f8f-2fe8-4eb2-b115-88ecbe559a86",
   "metadata": {},
   "source": [
    "### Ex 14.34"
   ]
  },
  {
   "cell_type": "code",
   "execution_count": 2,
   "id": "43a45b7f-6ef5-4925-bad1-58609b55aaa0",
   "metadata": {},
   "outputs": [],
   "source": [
    "method_1 = np.array([12.0129, 12.0072, 12.0064, 12.0054])\n",
    "method_2 = np.array([12.0318, 12.0246, 12.0069])"
   ]
  },
  {
   "cell_type": "code",
   "execution_count": 6,
   "id": "32eaad25-5a58-4762-8d12-05ab06a7ac9e",
   "metadata": {
    "scrolled": true
   },
   "outputs": [],
   "source": [
    "def get_statistic(m1: np.ndarray, m2: np.ndarray) -> float:\n",
    "    return np.mean(m1) - np.mean(m2)"
   ]
  },
  {
   "cell_type": "code",
   "execution_count": 12,
   "id": "b173b46a-7175-4575-8435-905d2f36a946",
   "metadata": {},
   "outputs": [
    {
     "data": {
      "text/plain": [
       "0.17142857142857143"
      ]
     },
     "execution_count": 12,
     "metadata": {},
     "output_type": "execute_result"
    }
   ],
   "source": [
    "res = stats.permutation_test(\n",
    "    (method_1, method_2), get_statistic, alternative='two-sided', n_resamples=np.inf)\n",
    "res.pvalue"
   ]
  },
  {
   "cell_type": "code",
   "execution_count": 22,
   "id": "30bf0105-e34d-4315-8c9d-8e6fd915f084",
   "metadata": {},
   "outputs": [
    {
     "data": {
      "text/html": [
       "\n",
       "<style>\n",
       "  #altair-viz-4c5953015e854c97af26701ec5187c5e.vega-embed {\n",
       "    width: 100%;\n",
       "    display: flex;\n",
       "  }\n",
       "\n",
       "  #altair-viz-4c5953015e854c97af26701ec5187c5e.vega-embed details,\n",
       "  #altair-viz-4c5953015e854c97af26701ec5187c5e.vega-embed details summary {\n",
       "    position: relative;\n",
       "  }\n",
       "</style>\n",
       "<div id=\"altair-viz-4c5953015e854c97af26701ec5187c5e\"></div>\n",
       "<script type=\"text/javascript\">\n",
       "  var VEGA_DEBUG = (typeof VEGA_DEBUG == \"undefined\") ? {} : VEGA_DEBUG;\n",
       "  (function(spec, embedOpt){\n",
       "    let outputDiv = document.currentScript.previousElementSibling;\n",
       "    if (outputDiv.id !== \"altair-viz-4c5953015e854c97af26701ec5187c5e\") {\n",
       "      outputDiv = document.getElementById(\"altair-viz-4c5953015e854c97af26701ec5187c5e\");\n",
       "    }\n",
       "    const paths = {\n",
       "      \"vega\": \"https://cdn.jsdelivr.net/npm/vega@5?noext\",\n",
       "      \"vega-lib\": \"https://cdn.jsdelivr.net/npm/vega-lib?noext\",\n",
       "      \"vega-lite\": \"https://cdn.jsdelivr.net/npm/vega-lite@5.16.3?noext\",\n",
       "      \"vega-embed\": \"https://cdn.jsdelivr.net/npm/vega-embed@6?noext\",\n",
       "    };\n",
       "\n",
       "    function maybeLoadScript(lib, version) {\n",
       "      var key = `${lib.replace(\"-\", \"\")}_version`;\n",
       "      return (VEGA_DEBUG[key] == version) ?\n",
       "        Promise.resolve(paths[lib]) :\n",
       "        new Promise(function(resolve, reject) {\n",
       "          var s = document.createElement('script');\n",
       "          document.getElementsByTagName(\"head\")[0].appendChild(s);\n",
       "          s.async = true;\n",
       "          s.onload = () => {\n",
       "            VEGA_DEBUG[key] = version;\n",
       "            return resolve(paths[lib]);\n",
       "          };\n",
       "          s.onerror = () => reject(`Error loading script: ${paths[lib]}`);\n",
       "          s.src = paths[lib];\n",
       "        });\n",
       "    }\n",
       "\n",
       "    function showError(err) {\n",
       "      outputDiv.innerHTML = `<div class=\"error\" style=\"color:red;\">${err}</div>`;\n",
       "      throw err;\n",
       "    }\n",
       "\n",
       "    function displayChart(vegaEmbed) {\n",
       "      vegaEmbed(outputDiv, spec, embedOpt)\n",
       "        .catch(err => showError(`Javascript Error: ${err.message}<br>This usually means there's a typo in your chart specification. See the javascript console for the full traceback.`));\n",
       "    }\n",
       "\n",
       "    if(typeof define === \"function\" && define.amd) {\n",
       "      requirejs.config({paths});\n",
       "      require([\"vega-embed\"], displayChart, err => showError(`Error loading script: ${err.message}`));\n",
       "    } else {\n",
       "      maybeLoadScript(\"vega\", \"5\")\n",
       "        .then(() => maybeLoadScript(\"vega-lite\", \"5.16.3\"))\n",
       "        .then(() => maybeLoadScript(\"vega-embed\", \"6\"))\n",
       "        .catch(showError)\n",
       "        .then(() => displayChart(vegaEmbed));\n",
       "    }\n",
       "  })({\"config\": {\"view\": {\"continuousWidth\": 300, \"continuousHeight\": 300}}, \"data\": {\"name\": \"data-ea03258945ba5b9e2e692d5602a5de22\"}, \"mark\": {\"type\": \"bar\"}, \"encoding\": {\"x\": {\"bin\": true, \"field\": \"diff\", \"type\": \"quantitative\"}, \"y\": {\"aggregate\": \"count\", \"type\": \"quantitative\"}}, \"$schema\": \"https://vega.github.io/schema/vega-lite/v5.16.3.json\", \"datasets\": {\"data-ea03258945ba5b9e2e692d5602a5de22\": [{\"diff\": -0.013124999999998721}, {\"diff\": 0.002274999999999139}, {\"diff\": -0.0019249999999999545}, {\"diff\": -0.012249999999999872}, {\"diff\": 0.0016916666666659808}, {\"diff\": -0.0025083333333331126}, {\"diff\": -0.012833333333331254}, {\"diff\": 0.012891666666666524}, {\"diff\": 0.0025666666666683824}, {\"diff\": -0.0016333333333324873}, {\"diff\": 0.0012249999999998096}, {\"diff\": -0.00297500000000106}, {\"diff\": -0.013299999999999201}, {\"diff\": 0.012425000000000352}, {\"diff\": 0.002100000000002211}, {\"diff\": -0.0020999999999986585}, {\"diff\": 0.011841666666667194}, {\"diff\": 0.0015166666666690531}, {\"diff\": -0.0026833333333318166}, {\"diff\": 0.01271666666666782}, {\"diff\": -0.002100000000002211}, {\"diff\": -0.0063000000000013046}, {\"diff\": -0.016624999999999446}, {\"diff\": 0.009100000000000108}, {\"diff\": -0.0012249999999998096}, {\"diff\": -0.005425000000000679}, {\"diff\": 0.008516666666665174}, {\"diff\": -0.001808333333334744}, {\"diff\": -0.006008333333335614}, {\"diff\": 0.009391666666665799}, {\"diff\": 0.008049999999999002}, {\"diff\": -0.002274999999999139}, {\"diff\": -0.0064750000000000085}, {\"diff\": 0.008924999999999628}, {\"diff\": 0.00834166666666647}]}}, {\"mode\": \"vega-lite\"});\n",
       "</script>"
      ],
      "text/plain": [
       "alt.Chart(...)"
      ]
     },
     "execution_count": 22,
     "metadata": {},
     "output_type": "execute_result"
    }
   ],
   "source": [
    "(\n",
    "    alt.Chart(pl.DataFrame({'diff': res.null_distribution}))\n",
    "    .mark_bar()\n",
    "    .encode(\n",
    "        alt.X('diff', bin=True),\n",
    "        alt.Y('count()')))"
   ]
  },
  {
   "cell_type": "code",
   "execution_count": null,
   "id": "1a375570-0317-4df7-b949-a670680e6290",
   "metadata": {},
   "outputs": [],
   "source": []
  }
 ],
 "metadata": {
  "kernelspec": {
   "display_name": "Python 3 (ipykernel)",
   "language": "python",
   "name": "python3"
  },
  "language_info": {
   "codemirror_mode": {
    "name": "ipython",
    "version": 3
   },
   "file_extension": ".py",
   "mimetype": "text/x-python",
   "name": "python",
   "nbconvert_exporter": "python",
   "pygments_lexer": "ipython3",
   "version": "3.10.12"
  }
 },
 "nbformat": 4,
 "nbformat_minor": 5
}
