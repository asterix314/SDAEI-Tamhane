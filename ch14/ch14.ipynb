{
 "cells": [
  {
   "cell_type": "markdown",
   "id": "7c0c714a-801d-4de5-96d7-e375584311c7",
   "metadata": {},
   "source": [
    "# Chapter 14 Nonparametric Statistical Methods"
   ]
  },
  {
   "cell_type": "markdown",
   "id": "14497ac9-1606-4cc4-a9cb-c0bff23d67bc",
   "metadata": {},
   "source": [
    "Nonparametric or distribution-free methods are useful when the data cannot be assumed to follow a specific distribution (e.g., normal)."
   ]
  },
  {
   "cell_type": "code",
   "execution_count": 93,
   "id": "77880b95-9144-4d43-9119-3197c2ea4432",
   "metadata": {},
   "outputs": [],
   "source": [
    "import math\n",
    "import itertools\n",
    "from typing import Any, Sequence\n",
    "\n",
    "import polars as pl\n",
    "from polars import col, lit\n",
    "from scipy import stats\n",
    "import numpy as np\n",
    "import altair as alt\n",
    "\n",
    "RNG = np.random.default_rng()\n",
    "DATA = {}  # input data"
   ]
  },
  {
   "cell_type": "markdown",
   "id": "3b8b4bca-6468-4fe1-869f-64c58d5bfb17",
   "metadata": {},
   "source": [
    "## 14.1 Inferences for Single Samples"
   ]
  },
  {
   "cell_type": "markdown",
   "id": "cc345b09-66ff-4b4e-be69-b6f550d5027f",
   "metadata": {},
   "source": [
    "In the single sample case, the nonparametric alternatives to the t-test are the **sign test** and the **Wilcoxon signed rank test**. To test a null hypothesis $H_0: \\tilde{\\mu} = \\tilde{\\mu_0}$ on the population median $\\tilde{\\mu}$, based on data $x_1, x_2, \\ldots , x_n$ from that population, the sign test takes into account only whether the differences $d_i = x_i - \\tilde{\\mu_0} > 0$ or $< 0$. The test statistics are $s_+ = \\#(d_i > 0)$ and $s_- = \\#(d_i < 0) = n - s_+$. Under $H_0$, both the test statistics have a $\\mathrm{Bin}(n, 1/2)$ distribution. The Wilcoxon signed rank test takes into account not only the signs of the $d_i$ but also the ranks of the $|d_i|$ The test statistics are $w_+$ = sum of the ranks of the positive $d_i$'s and $w_- = n (n + 1)/2 - w_+$ = sum of the ranks of the negative $d_i$'s. This test is more powerful than the sign test but requires the additional assumption that the population distribution is symmetric. Both these tests can be inverted to obtain a confidence interval for $\\tilde{\\mu}$. Both methods extend to the paired sample case."
   ]
  },
  {
   "cell_type": "markdown",
   "id": "baebda0c-5e3d-4a48-9b2a-3e58af5e433c",
   "metadata": {},
   "source": [
    "In scipy:\n",
    "- The sign test is implemented as [stats.quantile_test](https://docs.scipy.org/doc/scipy/reference/generated/scipy.stats.quantile_test.html).\n",
    "- The Wilcoxon signed rank test is implemented as [stats.wilcoxon](https://docs.scipy.org/doc/scipy/reference/generated/scipy.stats.wilcoxon.html)."
   ]
  },
  {
   "cell_type": "markdown",
   "id": "78766853-aed9-48ce-a2ea-b520ebc31372",
   "metadata": {},
   "source": [
    "### Ex 14.1\n",
    "\n",
    "Test whether the median of the population from which the following sample is drawn exceeds 30, i.e., test $H_0: \\tilde\\mu = 30$ vs. $H_1: \\tilde\\mu > 30$:\n",
    "\n",
    "37 | 26 | 31 | 35 | 32 | 32 | 27 | 31 | 34 | 36\n",
    "---|---|---|---|---|---|---|---|---|---"
   ]
  },
  {
   "cell_type": "markdown",
   "id": "046d2457-0568-495b-bdb5-c5ef26f397e6",
   "metadata": {},
   "source": [
    "#### (a)\n",
    "\n",
    "Find the exact P-value for the sign test and find the normal approximation to it. Is the normal approximation accurate? Can you reject $H_0$ at $\\alpha = .05$?"
   ]
  },
  {
   "cell_type": "code",
   "execution_count": 2,
   "id": "1460341e-ee42-4107-8587-28fe9255c72e",
   "metadata": {},
   "outputs": [],
   "source": [
    "DATA['14.1'] = np.array([37, 26, 31, 35, 32, 32, 27, 31, 34, 36])"
   ]
  },
  {
   "cell_type": "markdown",
   "id": "fa20c2be-af7c-4166-b746-74fbb1565346",
   "metadata": {},
   "source": [
    "For the exact p-value:"
   ]
  },
  {
   "cell_type": "code",
   "execution_count": 3,
   "id": "e50e9824-e19b-47a3-a3dc-ccb166a3c95e",
   "metadata": {},
   "outputs": [
    {
     "data": {
      "text/plain": [
       "QuantileTestResult(statistic=2, statistic_type=1, pvalue=0.0546875)"
      ]
     },
     "execution_count": 3,
     "metadata": {},
     "output_type": "execute_result"
    }
   ],
   "source": [
    "stats.quantile_test(DATA['14.1'], q=30, p=0.5, alternative='greater')"
   ]
  },
  {
   "cell_type": "markdown",
   "id": "8334f3b8-bebc-4928-a5ce-625f21569e0b",
   "metadata": {},
   "source": [
    "which can be calculated directly using the binomial CDF."
   ]
  },
  {
   "cell_type": "code",
   "execution_count": 36,
   "id": "ffe477c8-b292-43e8-852e-b6363ae1ad79",
   "metadata": {},
   "outputs": [
    {
     "data": {
      "text/plain": [
       "0.0546875"
      ]
     },
     "execution_count": 36,
     "metadata": {},
     "output_type": "execute_result"
    }
   ],
   "source": [
    "stats.binom.cdf(np.count_nonzero(DATA['14.1'] <= 30), n=DATA['14.1'].size, p=0.5)"
   ]
  },
  {
   "cell_type": "markdown",
   "id": "b34ac7b3-434c-4e17-95d9-b99eab6f496d",
   "metadata": {},
   "source": [
    "Or with normal approximation with continuity correction:"
   ]
  },
  {
   "cell_type": "code",
   "execution_count": 29,
   "id": "64d92997-040f-46fe-bf3d-91dc65bee11f",
   "metadata": {},
   "outputs": [
    {
     "data": {
      "text/plain": [
       "0.056923149003329024"
      ]
     },
     "execution_count": 29,
     "metadata": {},
     "output_type": "execute_result"
    }
   ],
   "source": [
    "stats.norm.cdf((np.count_nonzero(DATA['14.1'] <= 30) - DATA['14.1'].size * 0.5 + 0.5) / np.sqrt(DATA['14.1'].size * 0.5 * 0.5))"
   ]
  },
  {
   "cell_type": "markdown",
   "id": "d283241e-cd33-4613-83a6-dc59c72c6f37",
   "metadata": {},
   "source": [
    "In any case the p-value is > α = 0.05, so cannot reject $H_0$."
   ]
  },
  {
   "cell_type": "markdown",
   "id": "d4ab4fc5-328d-44de-aa35-33255b3f0cf5",
   "metadata": {},
   "source": [
    "#### (b)\n",
    "\n",
    "Repeat part (a) using the Wilcoxon signed rank test."
   ]
  },
  {
   "cell_type": "markdown",
   "id": "93702c37-a3d9-450b-95f5-2678994e5fc1",
   "metadata": {},
   "source": [
    "For the exact test:"
   ]
  },
  {
   "cell_type": "code",
   "execution_count": 36,
   "id": "ef1fff63-28cc-4abf-a8dc-0057b4b5cee3",
   "metadata": {},
   "outputs": [
    {
     "data": {
      "text/plain": [
       "WilcoxonResult(statistic=43.5, pvalue=0.0654296875)"
      ]
     },
     "execution_count": 36,
     "metadata": {},
     "output_type": "execute_result"
    }
   ],
   "source": [
    "stats.wilcoxon(DATA['14.1']-30, alternative='greater', method='exact')"
   ]
  },
  {
   "cell_type": "markdown",
   "id": "fb0ef77b-4d83-4199-b661-801149fc65dd",
   "metadata": {},
   "source": [
    "Normal approximation with continuity correction:"
   ]
  },
  {
   "cell_type": "code",
   "execution_count": 38,
   "id": "540d27fc-7570-427e-94c6-07942680a45f",
   "metadata": {},
   "outputs": [
    {
     "data": {
      "text/plain": [
       "WilcoxonResult(statistic=43.5, pvalue=0.05671152359300298)"
      ]
     },
     "execution_count": 38,
     "metadata": {},
     "output_type": "execute_result"
    }
   ],
   "source": [
    "stats.wilcoxon(DATA['14.1']-30, alternative='greater', method='approx', correction=True)"
   ]
  },
  {
   "cell_type": "markdown",
   "id": "2ab19090-26dc-43ad-b648-f280a5c83d01",
   "metadata": {},
   "source": [
    "In any case the p-value is > α = 0.05, so cannot reject $H_0$."
   ]
  },
  {
   "cell_type": "markdown",
   "id": "1379be4e-2673-4862-9fab-ed72857cc293",
   "metadata": {},
   "source": [
    "### Ex 14.2\n",
    "\n",
    "In a study of the effect of vitamin B on learning, 12 matched pairs of children were randomly divided into two groups. One child in each pair received a vitamin B tablet (treatment) every day, while the other child received a placebo tablet and served as control. The following table shows the gain in IQ over the six weeks of the study:\n",
    "\n",
    "Pair |1|2|3|4|5|6|7|8|9|10|11|12\n",
    "---|---|---|---|---|---|---|---|---|---|---|---|---\n",
    "Treated | 14 | 26 | 2 | 4 | -5 | 14 | 3 | -1 | 1 | 6 | 3 | 4\n",
    "Control | 8 | 18 | -7 | -1 | 2 | 9 | 0 | -4 | 13 | 3 | 3 | 3"
   ]
  },
  {
   "cell_type": "markdown",
   "id": "e391125a-03a8-435d-b2b7-9be21e7c437e",
   "metadata": {},
   "source": [
    "#### (a)\n",
    "\n",
    "Find the exact P-value for the sign test to determine if vitamin B improves the IQ."
   ]
  },
  {
   "cell_type": "code",
   "execution_count": 42,
   "id": "41615c0a-a5f1-4dbe-87e3-e3f5ee365908",
   "metadata": {},
   "outputs": [
    {
     "data": {
      "text/html": [
       "<div><style>\n",
       ".dataframe > thead > tr,\n",
       ".dataframe > tbody > tr {\n",
       "  text-align: right;\n",
       "  white-space: pre-wrap;\n",
       "}\n",
       "</style>\n",
       "<small>shape: (12, 3)</small><table border=\"1\" class=\"dataframe\"><thead><tr><th>pair</th><th>treated</th><th>control</th></tr><tr><td>i64</td><td>i64</td><td>i64</td></tr></thead><tbody><tr><td>1</td><td>14</td><td>8</td></tr><tr><td>2</td><td>26</td><td>18</td></tr><tr><td>3</td><td>2</td><td>-7</td></tr><tr><td>4</td><td>4</td><td>-1</td></tr><tr><td>5</td><td>-5</td><td>2</td></tr><tr><td>6</td><td>14</td><td>9</td></tr><tr><td>7</td><td>3</td><td>0</td></tr><tr><td>8</td><td>-1</td><td>-4</td></tr><tr><td>9</td><td>1</td><td>13</td></tr><tr><td>10</td><td>6</td><td>3</td></tr><tr><td>11</td><td>3</td><td>3</td></tr><tr><td>12</td><td>4</td><td>3</td></tr></tbody></table></div>"
      ],
      "text/plain": [
       "shape: (12, 3)\n",
       "┌──────┬─────────┬─────────┐\n",
       "│ pair ┆ treated ┆ control │\n",
       "│ ---  ┆ ---     ┆ ---     │\n",
       "│ i64  ┆ i64     ┆ i64     │\n",
       "╞══════╪═════════╪═════════╡\n",
       "│ 1    ┆ 14      ┆ 8       │\n",
       "│ 2    ┆ 26      ┆ 18      │\n",
       "│ 3    ┆ 2       ┆ -7      │\n",
       "│ 4    ┆ 4       ┆ -1      │\n",
       "│ 5    ┆ -5      ┆ 2       │\n",
       "│ …    ┆ …       ┆ …       │\n",
       "│ 8    ┆ -1      ┆ -4      │\n",
       "│ 9    ┆ 1       ┆ 13      │\n",
       "│ 10   ┆ 6       ┆ 3       │\n",
       "│ 11   ┆ 3       ┆ 3       │\n",
       "│ 12   ┆ 4       ┆ 3       │\n",
       "└──────┴─────────┴─────────┘"
      ]
     },
     "execution_count": 42,
     "metadata": {},
     "output_type": "execute_result"
    }
   ],
   "source": [
    "DATA['14.2'] = pl.DataFrame({\n",
    "    'pair': range(1, 13),\n",
    "    'treated': [14, 26, 2, 4, -5, 14, 3, -1, 1, 6, 3, 4],\n",
    "    'control': [8, 18, -7, -1, 2, 9, 0, -4, 13, 3, 3, 3]})\n",
    "DATA['14.2']"
   ]
  },
  {
   "cell_type": "code",
   "execution_count": 54,
   "id": "19e9c32c-5591-4177-a313-538b6677f283",
   "metadata": {},
   "outputs": [
    {
     "data": {
      "text/plain": [
       "QuantileTestResult(statistic=3, statistic_type=1, pvalue=0.072998046875)"
      ]
     },
     "execution_count": 54,
     "metadata": {},
     "output_type": "execute_result"
    }
   ],
   "source": [
    "stats.quantile_test(\n",
    "    DATA['14.2'].select(col('treated')-col('control')).to_series(), \n",
    "    alternative='greater')"
   ]
  },
  {
   "cell_type": "markdown",
   "id": "4838b737-80ec-461c-ae53-c52fa20a0da4",
   "metadata": {},
   "source": [
    "The P-value (0.073) indicates that VB does not improve the IQ at the 0.05 significance level."
   ]
  },
  {
   "cell_type": "markdown",
   "id": "326b954b-65ae-4793-bf3a-cb86a0439765",
   "metadata": {},
   "source": [
    "#### (b) \n",
    "\n",
    "Repeat part (a) using the Wilcoxon signed rank test. Why is a less significant result obtained in this case?"
   ]
  },
  {
   "cell_type": "code",
   "execution_count": 58,
   "id": "e66c147a-844d-4805-858d-b6452aaeb648",
   "metadata": {},
   "outputs": [
    {
     "data": {
      "text/plain": [
       "WilcoxonResult(statistic=47.0, pvalue=0.10604514898621259)"
      ]
     },
     "execution_count": 58,
     "metadata": {},
     "output_type": "execute_result"
    }
   ],
   "source": [
    "stats.wilcoxon(\n",
    "    DATA['14.2'].get_column('treated'),\n",
    "    DATA['14.2'].get_column('control'),\n",
    "    alternative='greater')"
   ]
  },
  {
   "cell_type": "markdown",
   "id": "972daf59-04a0-4a5e-9b97-de29be1a5114",
   "metadata": {},
   "source": [
    "Both the sign test and Wilcoxon signed rank test indicate that VB does not improve the IQ at the 0.05 significance level. However the Wilcoxon test gives an even less significant P-value (0.1) because the negatives have greater magnitudes than the positives, which counterbalances the overwhelming number of positives somehow (shown in the graph below). This redeeming effect is lost in the sign test which considers only the signs."
   ]
  },
  {
   "cell_type": "code",
   "execution_count": 67,
   "id": "70134187-3e46-4b8c-a989-de47575f3501",
   "metadata": {
    "scrolled": true
   },
   "outputs": [
    {
     "data": {
      "text/html": [
       "\n",
       "<style>\n",
       "  #altair-viz-58f88faf82a641da89a30e9abdd9f176.vega-embed {\n",
       "    width: 100%;\n",
       "    display: flex;\n",
       "  }\n",
       "\n",
       "  #altair-viz-58f88faf82a641da89a30e9abdd9f176.vega-embed details,\n",
       "  #altair-viz-58f88faf82a641da89a30e9abdd9f176.vega-embed details summary {\n",
       "    position: relative;\n",
       "  }\n",
       "</style>\n",
       "<div id=\"altair-viz-58f88faf82a641da89a30e9abdd9f176\"></div>\n",
       "<script type=\"text/javascript\">\n",
       "  var VEGA_DEBUG = (typeof VEGA_DEBUG == \"undefined\") ? {} : VEGA_DEBUG;\n",
       "  (function(spec, embedOpt){\n",
       "    let outputDiv = document.currentScript.previousElementSibling;\n",
       "    if (outputDiv.id !== \"altair-viz-58f88faf82a641da89a30e9abdd9f176\") {\n",
       "      outputDiv = document.getElementById(\"altair-viz-58f88faf82a641da89a30e9abdd9f176\");\n",
       "    }\n",
       "    const paths = {\n",
       "      \"vega\": \"https://cdn.jsdelivr.net/npm/vega@5?noext\",\n",
       "      \"vega-lib\": \"https://cdn.jsdelivr.net/npm/vega-lib?noext\",\n",
       "      \"vega-lite\": \"https://cdn.jsdelivr.net/npm/vega-lite@5.16.3?noext\",\n",
       "      \"vega-embed\": \"https://cdn.jsdelivr.net/npm/vega-embed@6?noext\",\n",
       "    };\n",
       "\n",
       "    function maybeLoadScript(lib, version) {\n",
       "      var key = `${lib.replace(\"-\", \"\")}_version`;\n",
       "      return (VEGA_DEBUG[key] == version) ?\n",
       "        Promise.resolve(paths[lib]) :\n",
       "        new Promise(function(resolve, reject) {\n",
       "          var s = document.createElement('script');\n",
       "          document.getElementsByTagName(\"head\")[0].appendChild(s);\n",
       "          s.async = true;\n",
       "          s.onload = () => {\n",
       "            VEGA_DEBUG[key] = version;\n",
       "            return resolve(paths[lib]);\n",
       "          };\n",
       "          s.onerror = () => reject(`Error loading script: ${paths[lib]}`);\n",
       "          s.src = paths[lib];\n",
       "        });\n",
       "    }\n",
       "\n",
       "    function showError(err) {\n",
       "      outputDiv.innerHTML = `<div class=\"error\" style=\"color:red;\">${err}</div>`;\n",
       "      throw err;\n",
       "    }\n",
       "\n",
       "    function displayChart(vegaEmbed) {\n",
       "      vegaEmbed(outputDiv, spec, embedOpt)\n",
       "        .catch(err => showError(`Javascript Error: ${err.message}<br>This usually means there's a typo in your chart specification. See the javascript console for the full traceback.`));\n",
       "    }\n",
       "\n",
       "    if(typeof define === \"function\" && define.amd) {\n",
       "      requirejs.config({paths});\n",
       "      require([\"vega-embed\"], displayChart, err => showError(`Error loading script: ${err.message}`));\n",
       "    } else {\n",
       "      maybeLoadScript(\"vega\", \"5\")\n",
       "        .then(() => maybeLoadScript(\"vega-lite\", \"5.16.3\"))\n",
       "        .then(() => maybeLoadScript(\"vega-embed\", \"6\"))\n",
       "        .catch(showError)\n",
       "        .then(() => displayChart(vegaEmbed));\n",
       "    }\n",
       "  })({\"config\": {\"view\": {\"continuousWidth\": 300, \"continuousHeight\": 300}}, \"data\": {\"name\": \"data-778e95c912edba06f1c9914bbd3ce1b0\"}, \"mark\": {\"type\": \"tick\"}, \"encoding\": {\"x\": {\"axis\": {\"grid\": false}, \"field\": \"diff\", \"type\": \"quantitative\"}}, \"$schema\": \"https://vega.github.io/schema/vega-lite/v5.16.3.json\", \"datasets\": {\"data-778e95c912edba06f1c9914bbd3ce1b0\": [{\"diff\": 6}, {\"diff\": 8}, {\"diff\": 9}, {\"diff\": 5}, {\"diff\": -7}, {\"diff\": 5}, {\"diff\": 3}, {\"diff\": 3}, {\"diff\": -12}, {\"diff\": 3}, {\"diff\": 0}, {\"diff\": 1}]}}, {\"mode\": \"vega-lite\"});\n",
       "</script>"
      ],
      "text/plain": [
       "alt.Chart(...)"
      ]
     },
     "execution_count": 67,
     "metadata": {},
     "output_type": "execute_result"
    }
   ],
   "source": [
    "(\n",
    "    alt.Chart(\n",
    "        DATA['14.2'].select(\n",
    "            (col('treated')-col('control')).alias('diff')))\n",
    "    .mark_tick()\n",
    "    .encode(\n",
    "        alt.X('diff:Q').axis(grid=False)))"
   ]
  },
  {
   "cell_type": "markdown",
   "id": "15b83d8e-68d0-4dfe-9137-4dfd692bae29",
   "metadata": {
    "jp-MarkdownHeadingCollapsed": true
   },
   "source": [
    "### Ex 14.3\n",
    "\n",
    "For the previous exercise calculate 90% sign and Wilcoxon signed rank CI's on the median of the difference in IQ scores of treated vs. control children. Compare the results with those obtained using the corresponding tests."
   ]
  },
  {
   "cell_type": "markdown",
   "id": "65881269-a8bf-4e8d-8df6-31f4ea2f5083",
   "metadata": {},
   "source": [
    "### Ex 14.4\n",
    "\n",
    "Refer to the corneal thickness data of glaucoma patients from Exercise 8.7."
   ]
  },
  {
   "cell_type": "markdown",
   "id": "8e8c064b-de90-4a39-a520-ed1d28c3ec2c",
   "metadata": {},
   "source": [
    "#### (a) \n",
    "\n",
    "Do the sign test to determine if the corneal thickness differs between an eye affected with glaucoma and an unaffected eye. Use $\\alpha = .05$."
   ]
  },
  {
   "cell_type": "markdown",
   "id": "65e40b21-be73-4d13-bd58-de4a0fe5235f",
   "metadata": {},
   "source": [
    "#### (b) \n",
    "\n",
    "Repeat part (a) using the Wilcoxon signed rank test."
   ]
  },
  {
   "cell_type": "markdown",
   "id": "ed083720-6bab-41c4-b7ea-8fd52c0f74ae",
   "metadata": {},
   "source": [
    "### Ex 14.5\n",
    "\n",
    "For the previous exercise calculate 95% (or the nearest achievable higher confidence level to be on the conservative side) sign and Wilcoxon signed rank CI's on the median difference in the corneal thickness between an affected and an unaffected eye. Compare the results with those obtained using the corresponding tests."
   ]
  },
  {
   "cell_type": "markdown",
   "id": "2df768ba-9ce3-498b-aa66-b1e6be66ccea",
   "metadata": {},
   "source": [
    "### Ex 14.6\n",
    "\n",
    "Refer to the data from Exercise 8.15 on home heating energy consumption before and after installing insulation."
   ]
  },
  {
   "cell_type": "markdown",
   "id": "ae702947-0623-4147-ae9a-fd5d17f20e2a",
   "metadata": {},
   "source": [
    "#### (a) \n",
    "Do the sign test at $\\alpha = .05$ to determine if insulation reduced the energy consumption."
   ]
  },
  {
   "cell_type": "markdown",
   "id": "6e5782d3-2ef2-4ae0-a19e-1dc9f0be3819",
   "metadata": {},
   "source": [
    "#### (b) \n",
    "\n",
    "Repeat part (a) using the Wilcoxon signed rank test."
   ]
  },
  {
   "cell_type": "markdown",
   "id": "a0dad44b-9606-4bda-b1b5-ffebd31747dd",
   "metadata": {},
   "source": [
    "### Ex 14.7\n",
    "\n",
    "For the previous exercise calculate 95 % (or the nearest achievable higher confidence level to be on the conservative side) sign and Wilcoxon signed rank CI's on the median energy saving due to insulation. Compare the results with those obtained using the corresponding tests."
   ]
  },
  {
   "cell_type": "markdown",
   "id": "e1e60e82-d413-413c-8176-14dec75c93c5",
   "metadata": {},
   "source": [
    "### Ex 14.8\n",
    "\n",
    "Find the null distribution of the Wilcoxon signed rank statistic for n=4 by enumerating all possible assignments of ranks to signed differences as in Table 14.2. Verify that the mean of the distribution equals $n(n + 1)/4 = 5$ and variance equals $n(n + 1)(2n + 1)/24 = 7.5$."
   ]
  },
  {
   "cell_type": "markdown",
   "id": "0251c2d3-c396-4dc9-bbb9-b16b5479a6b3",
   "metadata": {},
   "source": [
    "### Ex 14.9\n",
    "\n",
    "Many nonparametric test statistics have discrete distributions which impose a lower bound on the P-value (attained when the sample outcome is most favorable for rejecting $H_0$, e.g., when all signs are plus in the upper one-sided sign test or the Wilcoxon signed rank test) and therefore make it impossible to reject $H_0$ at an $\\alpha$ less than this lower bound."
   ]
  },
  {
   "cell_type": "markdown",
   "id": "6c8942f8-d74b-408e-b0c0-22c5445afeab",
   "metadata": {},
   "source": [
    "#### (a)\n",
    "\n",
    "Show that the lowest attainable P-value using the one-sided sign test or the Wilcoxon signed rank test is $(1/2)^n$."
   ]
  },
  {
   "cell_type": "markdown",
   "id": "cac3ee96-1583-4357-8f26-602859d03a30",
   "metadata": {},
   "source": [
    "#### (b) \n",
    "\n",
    "Is it possible to reject $H_0$ at $\\alpha = .01$ if n = 6 using these tests?"
   ]
  },
  {
   "cell_type": "markdown",
   "id": "a1c98d50-1d22-4421-b35b-4c8e341fcf1e",
   "metadata": {},
   "source": [
    "#### (c) \n",
    "\n",
    "What is the smallest sample size required for these tests if rejection of $H_0$ at $\\alpha = .01$ must be possible?"
   ]
  },
  {
   "cell_type": "markdown",
   "id": "06cb8744-3e60-4847-a521-a2e0d2dc11d7",
   "metadata": {
    "jp-MarkdownHeadingCollapsed": true
   },
   "source": [
    "### Ex 14.10\n",
    "\n",
    "Check the accuracy of the normal approximation (14.6) to the Wilcoxon signed rank critical constant $w_{n,\\alpha}$ by comparing it with the exact constant from Table A.10 for n = 10 and $\\alpha = .053$."
   ]
  },
  {
   "cell_type": "markdown",
   "id": "61b8e14b-7cff-4ffc-9a85-4fd7029c4239",
   "metadata": {},
   "source": [
    "## 14.2 Inferences for Two Independent Samples"
   ]
  },
  {
   "cell_type": "markdown",
   "id": "5ac40b73-dea3-420f-90c9-b9142cd63807",
   "metadata": {},
   "source": [
    "The nonparametric alternative to the two independent samples t-test is the **Wilcoxon-Mann-Whitney** test. Let $n_1$ and $n_2$ be the sizes of the two samples. The Wilcoxon test ranks all $N = n_1 + n_2$ observations together and computes rank sums, $w_1$ and $w_2$, for the two samples, where $w_1 + w_2 = N (N + 1)/2$. The Mann-Whitney test uses the statistics $u_1 = \\#(x_i > y_j)$ and $u_2 = \\#(x_i < y_j) = n_1 n_2 - u_1$. The two tests are equivalent because their test statistics are related: $u_1 = w_1 - n_1 (n_1 + 1)/2$ and $u_2 = w_2 - n_2 (n_2 + 1)/2$. The null distributions of these statistics are derived using the fact that all $\\frac{N!}{n_1! n_2!}$ orderings of the data are equally likely under the null hypothesis that the two populations are identical."
   ]
  },
  {
   "cell_type": "markdown",
   "id": "087fb5d8-d6e0-45ab-a3ef-8b61fb8cf903",
   "metadata": {},
   "source": [
    "### Ex 14.11\n",
    "\n",
    "The table below gives the survival times of 16 mice that were randomly assigned to a control group or to a treatment group. Did the treatment prolong survival? Answer using the Wilcoxon-Mann-Whitney test at $\\alpha = .10$.\n",
    "\n",
    "Survival Times of Mice (Days)||||||||||\n",
    "---|---|---|---|---|---|---|---|---|---\n",
    "**Control Group** | 52 | 104 | 146 | 10 | 50 | 31 | 40 | 27 | 46\n",
    "**Treatment Group** | 94 | 197 | 16 | 38 | 99 | 141 | 23 ||"
   ]
  },
  {
   "cell_type": "code",
   "execution_count": 97,
   "id": "8777d81a-16cf-4df7-8aed-b012d174fd1c",
   "metadata": {},
   "outputs": [
    {
     "data": {
      "text/html": [
       "<div><style>\n",
       ".dataframe > thead > tr,\n",
       ".dataframe > tbody > tr {\n",
       "  text-align: right;\n",
       "  white-space: pre-wrap;\n",
       "}\n",
       "</style>\n",
       "<small>shape: (1, 2)</small><table border=\"1\" class=\"dataframe\"><thead><tr><th>Control</th><th>Treatmnt</th></tr><tr><td>list[f64]</td><td>list[f64]</td></tr></thead><tbody><tr><td>[52.0, 104.0, … 46.0]</td><td>[94.0, 197.0, … 23.0]</td></tr></tbody></table></div>"
      ],
      "text/plain": [
       "shape: (1, 2)\n",
       "┌───────────────────────┬───────────────────────┐\n",
       "│ Control               ┆ Treatmnt              │\n",
       "│ ---                   ┆ ---                   │\n",
       "│ list[f64]             ┆ list[f64]             │\n",
       "╞═══════════════════════╪═══════════════════════╡\n",
       "│ [52.0, 104.0, … 46.0] ┆ [94.0, 197.0, … 23.0] │\n",
       "└───────────────────────┴───────────────────────┘"
      ]
     },
     "execution_count": 97,
     "metadata": {},
     "output_type": "execute_result"
    }
   ],
   "source": [
    "# ✍️\n",
    "DATA['14.11'] = pl.read_json('Ex14-11.json')\n",
    "DATA['14.11'].head()"
   ]
  },
  {
   "cell_type": "code",
   "execution_count": 3,
   "id": "3951a4ad-b7a4-443b-b23c-9b7701edf79e",
   "metadata": {},
   "outputs": [
    {
     "data": {
      "text/plain": [
       "MannwhitneyuResult(statistic=36.0, pvalue=0.3402972027972028)"
      ]
     },
     "execution_count": 3,
     "metadata": {},
     "output_type": "execute_result"
    }
   ],
   "source": [
    "stats.mannwhitneyu(\n",
    "    DATA['14.11']['Treatmnt'].explode(),\n",
    "    DATA['14.11']['Control'].explode(),\n",
    "    alternative='greater')"
   ]
  },
  {
   "cell_type": "markdown",
   "id": "b9eb7b21-9944-4370-86a6-dc65ee647010",
   "metadata": {},
   "source": [
    "P-value = 0.34 > 0.1, so inconclusive to say treatment prolongs survival."
   ]
  },
  {
   "cell_type": "markdown",
   "id": "6b52a534-5d75-48bc-b451-01a1ba881d52",
   "metadata": {},
   "source": [
    "### Ex 14.12\n",
    "\n",
    "Consider the dopamine level data from Exercise 4.22. Apply the Wilcoxon-Mann-Whitney test at $\\alpha = .05$ to find out if there is a significant difference between the dopamine levels of the psychotic and nonpsychotic patients."
   ]
  },
  {
   "cell_type": "markdown",
   "id": "e7194ea2-6a53-449f-a4a4-989362ddb08a",
   "metadata": {},
   "source": [
    "### Ex 14.13\n",
    "\n",
    "Consider the data from Exercise 8.11 on the measurement of atomic weight of carbon by two different methods."
   ]
  },
  {
   "cell_type": "markdown",
   "id": "ae7259e9-f0b5-4602-a73b-8c1417670c54",
   "metadata": {},
   "source": [
    "#### (a) \n",
    "\n",
    "Do the Wilcoxon-Mann-Whitney test at $\\alpha$ = .10 to determine if there is a significant difference between the two methods."
   ]
  },
  {
   "cell_type": "markdown",
   "id": "67040cd6-4f18-4596-aea2-115bd0e55815",
   "metadata": {},
   "source": [
    "#### (b)\n",
    "\n",
    "Calculate a 90% CI on the median difference between the two methods. Does the result agree with the result of the hypothesis test from part (a)?"
   ]
  },
  {
   "cell_type": "markdown",
   "id": "a4ec826d-4792-47e8-8c6d-56360dcb2041",
   "metadata": {},
   "source": [
    "### Ex 14.14\n",
    "\n",
    "Find the null distribution of the Mann-Whitney statistic ($U_1$) for $n_1 = n_2 = 3$ by enumerating all possible assignments of ranks to the $x$'s and $y$'s as in Table 14.5. Verify that the mean of the distribution equals $n_1 n_2 / 2 = 4.5$ and variance equals $n_1 n_2 (N + 1) / 12 = 5.25$."
   ]
  },
  {
   "cell_type": "markdown",
   "id": "9c68e83f-2995-40d1-b79c-e4000d66f012",
   "metadata": {},
   "source": [
    "### Ex 14.15\n",
    "\n",
    "This exercise extends Exercise 14.9 to the Wilcoxon-Mann-Whitney test."
   ]
  },
  {
   "cell_type": "markdown",
   "id": "1fa5f266-b282-489d-9371-02aac0f03a85",
   "metadata": {},
   "source": [
    "#### (a) \n",
    "\n",
    "Show that the lowest attainable P-value using the one-sided Wilcoxon-Mann-Whitney test is $1/\\binom{n_1+n_2}{n_1}$, where $n_1$ and $n_2$ are the sample sizes of the two groups."
   ]
  },
  {
   "cell_type": "markdown",
   "id": "63842e3e-62ee-40a4-a1ed-f11d0620f123",
   "metadata": {},
   "source": [
    "#### (b)\n",
    "\n",
    "Is it possible to reject $H_0$ at $\\alpha = .01$ if $n_1 = n_2 = 4$?"
   ]
  },
  {
   "cell_type": "markdown",
   "id": "5398195c-da7a-4cde-961f-c3ab03ebe507",
   "metadata": {},
   "source": [
    "#### (c)\n",
    "\n",
    "What is the smallest $n_1 = n_2 = n$ required if rejection of $H_0$ at $\\alpha = .01$ must be possible?"
   ]
  },
  {
   "cell_type": "markdown",
   "id": "4b535520-bef1-4695-b01e-ee36817836f2",
   "metadata": {
    "jp-MarkdownHeadingCollapsed": true
   },
   "source": [
    "### Ex 14.16\n",
    "\n",
    "Check the accuracy of the normal approximation (14.11) to the Wilcoxon-Mann-Whitney critical constant $u_{n_1, n_2, \\alpha}$ by comparing it with the exact constant from Table A.11 for $n_1 = 8$, $n_2 = 10$ and $\\alpha = .051$."
   ]
  },
  {
   "cell_type": "markdown",
   "id": "53b86a41-c711-4132-8570-a503651e2aa0",
   "metadata": {
    "jp-MarkdownHeadingCollapsed": true
   },
   "source": [
    "### Ex 14.17\n",
    "\n",
    "Use the formulas (14.10) for the mean and variance of the Mann-Whitney U-statistic to show that the means and variances of the Wilcoxon rank sum statistics are given by\n",
    "\n",
    "$$\n",
    "\\mathrm{E}(W_1) = \\frac{n_1 (N + 1)}{2}, \\quad \\mathrm{Var}(W_1) = \\frac{n_1 n_2 (N + 1)}{12}\n",
    "$$\n",
    "\n",
    "and\n",
    "\n",
    "$$\n",
    "\\mathrm{E}(W_2) = \\frac{n_2 (N + 1)}{2}, \\quad \\mathrm{Var}(W_2) = \\frac{n_1 n_2 (N + 1)}{12}\\,.\n",
    "$$\n",
    "\n",
    "What is the expected rank of any observation under $H_0$? Use this expected rank to justify the formulas for $\\mathrm{E}(W_1)$ and $\\mathrm{E}(W_2)$."
   ]
  },
  {
   "cell_type": "markdown",
   "id": "eeab318a-03d9-4033-a201-e77737de24ec",
   "metadata": {},
   "source": [
    "## 14.3 Inferences for Several Independent Samples"
   ]
  },
  {
   "cell_type": "markdown",
   "id": "a4375165-71e0-4a0b-9b30-3002e1ccfda8",
   "metadata": {},
   "source": [
    "The **Kruskal-Wallis test** is a generalization of the Wilcoxon-Mann-Whitney test for $a > 2$ independent samples; it is a nonparametric alternative to the ANOVA F-test for a one-way layout. Let $n_i$ denote the sample size from the $i$th treatment group. All $N = \\sum_{i=1}^a n_i$ observations are ranked together and the rank sums $r_i$ and rank averages $\\bar{r_i} = r_i / n_i$ are computed. The test statistic is a weighted sum of squares of the $\\bar{r_i}$ around their average, which equals $(N + 1)/2$. The null distribution of the statistic is derived by using the same argument as above, namely that under the null hypothesis of equality\n",
    "of the $a$ population distributions all $\\frac{N!}{n_1! n_2! \\cdots n_a!}$ orderings of the data are equally likely. Asymptotically (as $n_i \\rightarrow \\infty$ for all $i$), this null distribution is chi-square with $a - 1$ d.f."
   ]
  },
  {
   "cell_type": "markdown",
   "id": "12506ef2-6a22-4bc4-a6c1-fa6b6658f26b",
   "metadata": {
    "jp-MarkdownHeadingCollapsed": true
   },
   "source": [
    "### Ex 14.18\n",
    "\n",
    "How many different assignments of ranks are possible in the Kruskal-Wallis test for a one-way layout with three treatment groups and four observations per group? Assume that there are no ties."
   ]
  },
  {
   "cell_type": "markdown",
   "id": "9ea1c227-06ef-4840-919d-95552952931f",
   "metadata": {},
   "source": [
    "### Ex 14.19\n",
    "\n",
    "Sixteen students were randomized to four different educational programs, four students per program. The following are the number of days absent from the program over a period of one academic year.\n",
    "\n",
    "Program | A | B | C | D\n",
    "---|---|---|---|---\n",
    "|| 17 | 14 | 6 | 11\n",
    "|| 9 | 10 | 8 | 2\n",
    "|| 35 | 21 | 5 | 4\n",
    "|| 20 | 18 | 13 | 7"
   ]
  },
  {
   "cell_type": "markdown",
   "id": "c5662920-0591-47fe-8686-0a612a9c9938",
   "metadata": {},
   "source": [
    "#### (a)\n",
    "\n",
    "Perform the Kruskal-Wallis test at $\\alpha = .05$ to determine if there are significant differences among the four programs."
   ]
  },
  {
   "cell_type": "markdown",
   "id": "ae29759b-6ff9-478e-9b8a-023ec9cb18de",
   "metadata": {},
   "source": [
    "#### (b) \n",
    "\n",
    "Is there a significant difference between the two programs with the most and the least absences? Answer using a multiple comparison test at $\\alpha = .05$."
   ]
  },
  {
   "cell_type": "markdown",
   "id": "64587125-f152-497a-bd33-d65ec3489ca7",
   "metadata": {},
   "source": [
    "### Ex 14.20\n",
    "\n",
    "Refer to the water salinity data from Exercise 12.4. Apply the Kruskal-Wallis test to check if there are significant differences between the salinity levels of water from different sites. If so, apply a nonparametric multiple comparison test to determine which methods differ from each other. Use $\\alpha = .01$ for both tests."
   ]
  },
  {
   "cell_type": "markdown",
   "id": "9ef36577-c724-4c25-9a51-90093528dba9",
   "metadata": {},
   "source": [
    "### Ex 14.21\n",
    "\n",
    "Refer to the sickle cell data from Exercise 12.5. Apply the Kruskal-Wallis test to check if there are significant differences between the hemoglobin levels of patients with different types of sickle cell disease. If so, apply a nonparametric multiple comparison test to determine which disease types differ from each other. Use $\\alpha = .05$ for both tests."
   ]
  },
  {
   "cell_type": "markdown",
   "id": "4353cae5-e2ac-4dcd-8c00-6a3f7fa0fa2d",
   "metadata": {},
   "source": [
    "## 14.4 Inferences For Several Matched Samples"
   ]
  },
  {
   "cell_type": "markdown",
   "id": "57ba75be-4ae2-4736-a4f9-3534cb514214",
   "metadata": {},
   "source": [
    "The **Friedman test** is a generalization of the sign test for $a > 2$ matched samples; it is a nonparametric alternative to the ANOVA F-test for a randomized block design. Here the rankings are done separately within each of the $b$ sets of matched samples\n",
    "or blocks. The test statistic is similar to the Kruskal-Wallis statistic based on rank averages. The null distribution of the statistic is derived by using the fact that under the null hypothesis of the equality of the $a$ population distributions, all $(a!)^b$ rankings are equally likely. Asymptotically (as $b \\rightarrow \\infty$), this null distribution is chi-square with\n",
    "$a - 1$ d.f."
   ]
  },
  {
   "cell_type": "markdown",
   "id": "65638a6b-e174-4b9f-8f13-b40e2e0551ff",
   "metadata": {},
   "source": [
    "### Ex 14.22\n",
    "\n",
    "How many different assignments of ranks are possible in the Friedman test for a randomized block design with three treatment groups and four blocks? Assume that there are no ties."
   ]
  },
  {
   "cell_type": "markdown",
   "id": "f1ecdd1b-5934-4795-90f5-b8113c9fe6e1",
   "metadata": {},
   "source": [
    "### Ex 14.23\n",
    "\n",
    "Three assembly fixtures were compared using four different workers, with each worker using the three fixtures in a random order. The time (in minutes) taken to complete the assembly is given in the following table.\n",
    "Worker\n",
    "\n",
    "Fixture \\ Worker | 1 | 2 | 3 | 4\n",
    "---|---|---|---|---\n",
    "1 | 1.3 | 1.6 | 2.0 | 1.4\n",
    "2 | 2.1 | 1.9 | 2.2 | 1.5\n",
    "3 | 1.8 | 1.7 | 1.2 | 1.1"
   ]
  },
  {
   "cell_type": "markdown",
   "id": "3835f783-84bd-4a61-b7f5-b25cb47da6a1",
   "metadata": {},
   "source": [
    "#### (a)\n",
    "\n",
    "Do the Friedman test to determine if there are significant differences between the fixtures in terms of the assembly times required. Use $\\alpha = .10$."
   ]
  },
  {
   "cell_type": "markdown",
   "id": "a16a5f35-5e0a-406b-ba40-f1d78c66b0f4",
   "metadata": {},
   "source": [
    "#### (b)\n",
    "\n",
    "If significant differences are found in part (a), determine which fixtures differ from each other using a nonparametric multiple comparison test with $\\alpha = .10$."
   ]
  },
  {
   "cell_type": "markdown",
   "id": "688d2cb8-49f2-4e81-bfc4-a719befd1427",
   "metadata": {},
   "source": [
    "### Ex 14.24\n",
    "\n",
    "Analyze the penicillin yield data from Exercise 12.21 by using the Friedman test to determine if there are significant differences between the methods of manufacture. If so, apply a nonparametric multiple comparison test to determine which methods differ from each other. Use $\\alpha = .10$ for both tests."
   ]
  },
  {
   "cell_type": "markdown",
   "id": "ff196735-84c8-4f0f-834d-020366757d17",
   "metadata": {},
   "source": [
    "### Ex 14.25\n",
    "\n",
    "Refer to the blood plasma data from Exercise 12.26. Apply the Friedman test to check if there are significant differences between the plasma levels of each person at different times. Use $\\alpha = .05$."
   ]
  },
  {
   "cell_type": "markdown",
   "id": "6e28820c-9274-492c-83b4-62ee9cc867ee",
   "metadata": {},
   "source": [
    "## 14.5 Rank Correlation Methods"
   ]
  },
  {
   "cell_type": "markdown",
   "id": "719be454-8b4b-4869-b9b2-23b31f4e6a95",
   "metadata": {},
   "source": [
    "Two nonparametric alternatives to the Pearson correlation coefficient for n independent pairs of observations, $\\{(x_i, y_i)\\ |\\ i = 1, 2, \\ldots, n\\}$, are the **Spearman rank correlation coefficient** and the **Kendall rank correlation coefficient**. The Spearman rank correlation coefficient is just the Pearson correlation coefficient applied to the ranks of the $x_i$'s and the $y_i$'s. The Kendall rank correlation coefficient is defined as the difference between the proportions of concordant and discordant pairs, which can also be computed from the ranks. The null distributions (under the hypothesis of independence between the $x_i$'s and the $y_i$'s) of both these rank correlation coefficients are derived by regarding all $n!$ pairings of the ranks as equally likely. Asymptotically (as $n \\rightarrow \\infty$), the null distributions of both the rank correlation coefficients are normal with zero means but different variances."
   ]
  },
  {
   "cell_type": "markdown",
   "id": "62cdfa8c-07aa-46ca-8913-82520d7b651f",
   "metadata": {},
   "source": [
    "## 14.6 *Resampling Methods"
   ]
  },
  {
   "cell_type": "markdown",
   "id": "e40fc04e-5f02-4fa2-ad7f-aaba06e70afb",
   "metadata": {},
   "source": [
    "Resampling methods draw repeated samples from the observed sample itself to generate the sampling distribution of a statistic. The permutation method draws samples without replacement, while the bootstrap method draws samples with replacement. The jackknife method resamples by deleting one observation at a time. These methods are useful for assessing accuracies (e.g., the bias and standard error) of complex statistics."
   ]
  },
  {
   "cell_type": "markdown",
   "id": "3f69f2e0-031c-4247-bcb1-746ff5a63320",
   "metadata": {},
   "source": [
    "The inherent error of resampling could be far less serious than making wrong and often unverifiable assumptions about the population distribution."
   ]
  },
  {
   "cell_type": "markdown",
   "id": "4c924af2-c250-41d0-8416-76af6a1b2bc5",
   "metadata": {},
   "source": [
    "- permutation test: draw from samples *without replacement*. The Wilcoxon-Mann-Whitney test is a special case of this.\n",
    "- bootstrap method: draw from samples *with replacement*.\n",
    "- jackknife method: delete one observation at a time."
   ]
  },
  {
   "cell_type": "markdown",
   "id": "334c6f8f-2fe8-4eb2-b115-88ecbe559a86",
   "metadata": {},
   "source": [
    "### Ex 14.34\n",
    "\n",
    "Consider a subset of the carbon atomic weight data shown below from Exercise 8.11.\n",
    "\n",
    "||||||\n",
    "---|---|---|---|---\n",
    "**Method 1**| 12.0129 | 12.0072 | 12.0064 | 12.0054\n",
    "**Method 2**| 12.0318 | 12.0246 | 12.0069 |\n",
    "\n",
    "Do a two-sided permutation test to compare the two methods of atomic weight determination by listing all $\\binom{7}{3} = 35$ assignments of labels x and y to the data values. Use $\\alpha = .10$."
   ]
  },
  {
   "cell_type": "code",
   "execution_count": 40,
   "id": "43a45b7f-6ef5-4925-bad1-58609b55aaa0",
   "metadata": {},
   "outputs": [],
   "source": [
    "# ✍️\n",
    "method_1 = np.array([12.0129, 12.0072, 12.0064, 12.0054])\n",
    "method_2 = np.array([12.0318, 12.0246, 12.0069])"
   ]
  },
  {
   "cell_type": "code",
   "execution_count": 3,
   "id": "32eaad25-5a58-4762-8d12-05ab06a7ac9e",
   "metadata": {
    "scrolled": true
   },
   "outputs": [],
   "source": [
    "def get_statistic(m1: np.ndarray, m2: np.ndarray) -> float:\n",
    "    return np.mean(m1) - np.mean(m2)"
   ]
  },
  {
   "cell_type": "code",
   "execution_count": 42,
   "id": "b173b46a-7175-4575-8435-905d2f36a946",
   "metadata": {},
   "outputs": [
    {
     "data": {
      "text/plain": [
       "0.17142857142857143"
      ]
     },
     "execution_count": 42,
     "metadata": {},
     "output_type": "execute_result"
    }
   ],
   "source": [
    "res = stats.permutation_test(\n",
    "    (method_1, method_2), get_statistic,\n",
    "    permutation_type='independent', alternative='two-sided', n_resamples=np.inf)\n",
    "res.pvalue"
   ]
  },
  {
   "cell_type": "markdown",
   "id": "53cfb8da-8623-4578-8ed1-f31d5dd4ab78",
   "metadata": {},
   "source": [
    "P-value > 0.1, therefor no significant difference between the 2 methods."
   ]
  },
  {
   "cell_type": "markdown",
   "id": "3e451e00-a7d5-4738-b92a-79a006b92d82",
   "metadata": {},
   "source": [
    "### Ex 14.35\n",
    "\n",
    "Do a one-sided permutation test on the mouse data from Exercise 14.11 by using a computer package to draw 25 random samples _without replacement_. Enumerate your samples. Estimate the P-value and compare it with that obtained in Exercise 14.11."
   ]
  },
  {
   "cell_type": "markdown",
   "id": "80c06fef-2e2b-4167-8866-1fa871729d22",
   "metadata": {},
   "source": [
    "✍️ First, let's enumerate the samples. Remember that the mouse data from Exercise 14.11 is:"
   ]
  },
  {
   "cell_type": "code",
   "execution_count": 58,
   "id": "79f095d4-d7d0-454c-8327-b52d8994df1b",
   "metadata": {},
   "outputs": [
    {
     "data": {
      "text/html": [
       "<div><style>\n",
       ".dataframe > thead > tr,\n",
       ".dataframe > tbody > tr {\n",
       "  text-align: right;\n",
       "  white-space: pre-wrap;\n",
       "}\n",
       "</style>\n",
       "<small>shape: (1, 2)</small><table border=\"1\" class=\"dataframe\"><thead><tr><th>Control</th><th>Treatmnt</th></tr><tr><td>list[f64]</td><td>list[f64]</td></tr></thead><tbody><tr><td>[52.0, 104.0, … 46.0]</td><td>[94.0, 197.0, … 23.0]</td></tr></tbody></table></div>"
      ],
      "text/plain": [
       "shape: (1, 2)\n",
       "┌───────────────────────┬───────────────────────┐\n",
       "│ Control               ┆ Treatmnt              │\n",
       "│ ---                   ┆ ---                   │\n",
       "│ list[f64]             ┆ list[f64]             │\n",
       "╞═══════════════════════╪═══════════════════════╡\n",
       "│ [52.0, 104.0, … 46.0] ┆ [94.0, 197.0, … 23.0] │\n",
       "└───────────────────────┴───────────────────────┘"
      ]
     },
     "execution_count": 58,
     "metadata": {},
     "output_type": "execute_result"
    }
   ],
   "source": [
    "DATA['14.11']"
   ]
  },
  {
   "cell_type": "code",
   "execution_count": 116,
   "id": "253e74f6-efaa-44e8-a11a-560940d6409b",
   "metadata": {
    "scrolled": true
   },
   "outputs": [
    {
     "name": "stdout",
     "output_type": "stream",
     "text": [
      "shape: (25, 3)\n",
      "┌────────────────────────┬────────────────────────┬────────────┐\n",
      "│ control                ┆ treatment              ┆ statistic  │\n",
      "│ ---                    ┆ ---                    ┆ ---        │\n",
      "│ list[f64]              ┆ list[f64]              ┆ f64        │\n",
      "╞════════════════════════╪════════════════════════╪════════════╡\n",
      "│ [146.0, 52.0, … 16.0]  ┆ [40.0, 23.0, … 38.0]   ┆ -5.428571  │\n",
      "│ [94.0, 197.0, … 50.0]  ┆ [10.0, 16.0, … 104.0]  ┆ -33.873016 │\n",
      "│ [94.0, 46.0, … 52.0]   ┆ [99.0, 10.0, … 40.0]   ┆ 12.857143  │\n",
      "│ [16.0, 146.0, … 94.0]  ┆ [40.0, 10.0, … 141.0]  ┆ 20.47619   │\n",
      "│ [94.0, 23.0, … 104.0]  ┆ [50.0, 141.0, … 197.0] ┆ 42.063492  │\n",
      "│ [31.0, 16.0, … 99.0]   ┆ [40.0, 27.0, … 52.0]   ┆ -15.333333 │\n",
      "│ [38.0, 31.0, … 52.0]   ┆ [27.0, 146.0, … 94.0]  ┆ 22.507937  │\n",
      "│ [52.0, 197.0, … 99.0]  ┆ [146.0, 27.0, … 94.0]  ┆ -17.365079 │\n",
      "│ [94.0, 38.0, … 10.0]   ┆ [27.0, 16.0, … 50.0]   ┆ -5.68254   │\n",
      "│ [146.0, 141.0, … 38.0] ┆ [50.0, 31.0, … 40.0]   ┆ -43.777778 │\n",
      "│ [94.0, 23.0, … 146.0]  ┆ [38.0, 16.0, … 99.0]   ┆ 12.095238  │\n",
      "│ [10.0, 197.0, … 104.0] ┆ [38.0, 52.0, … 27.0]   ┆ -41.492063 │\n",
      "│ [50.0, 94.0, … 27.0]   ┆ [10.0, 23.0, … 197.0]  ┆ -30.063492 │\n",
      "│ [23.0, 40.0, … 16.0]   ┆ [99.0, 197.0, … 10.0]  ┆ 13.365079  │\n",
      "│ [40.0, 27.0, … 10.0]   ┆ [146.0, 23.0, … 38.0]  ┆ 25.047619  │\n",
      "│ [141.0, 40.0, … 197.0] ┆ [10.0, 27.0, … 46.0]   ┆ -64.857143 │\n",
      "│ [46.0, 50.0, … 104.0]  ┆ [38.0, 94.0, … 197.0]  ┆ 11.84127   │\n",
      "│ [31.0, 50.0, … 146.0]  ┆ [197.0, 94.0, … 141.0] ┆ 31.904762  │\n",
      "│ [94.0, 197.0, … 46.0]  ┆ [23.0, 38.0, … 10.0]   ┆ -25.492063 │\n",
      "│ [40.0, 94.0, … 146.0]  ┆ [27.0, 104.0, … 10.0]  ┆ -6.444444  │\n",
      "│ [104.0, 141.0, … 16.0] ┆ [38.0, 197.0, … 23.0]  ┆ -16.857143 │\n",
      "│ [27.0, 40.0, … 50.0]   ┆ [197.0, 31.0, … 52.0]  ┆ -7.460317  │\n",
      "│ [104.0, 46.0, … 40.0]  ┆ [146.0, 50.0, … 141.0] ┆ 34.444444  │\n",
      "│ [50.0, 10.0, … 46.0]   ┆ [16.0, 31.0, … 52.0]   ┆ -45.555556 │\n",
      "│ [16.0, 52.0, … 99.0]   ┆ [146.0, 50.0, … 46.0]  ┆ 0.15873    │\n",
      "└────────────────────────┴────────────────────────┴────────────┘\n"
     ]
    }
   ],
   "source": [
    "# simulate a permutation test\n",
    "n_samples = 25\n",
    "control, treatment = DATA['14.11'].row(0)\n",
    "\n",
    "df = (\n",
    "    DATA['14.11']\n",
    "    .select(\n",
    "        pl.repeat(col('Control').list.concat('Treatmnt'), n_samples)\n",
    "        .list.sample(fraction=1, shuffle=True)\n",
    "        .alias('data'))\n",
    "    .select(\n",
    "        col('data').list.head(len(control)).alias('control'),\n",
    "        col('data').list.tail(len(treatment)).alias('treatment'))\n",
    "    .with_columns(\n",
    "        statistic=col('treatment').list.mean() - col('control').list.mean()))\n",
    "\n",
    "with pl.Config(tbl_rows=-1):\n",
    "    print(df)"
   ]
  },
  {
   "cell_type": "markdown",
   "id": "7e35b89f-fe26-4b5c-9157-2a7a28e56290",
   "metadata": {},
   "source": [
    "So the P-value is estimated to be:"
   ]
  },
  {
   "cell_type": "code",
   "execution_count": 117,
   "id": "4be2d685-0483-447b-860d-c2362baadd0f",
   "metadata": {},
   "outputs": [
    {
     "data": {
      "text/plain": [
       "0.12"
      ]
     },
     "execution_count": 117,
     "metadata": {},
     "output_type": "execute_result"
    }
   ],
   "source": [
    "1 - 0.01 * stats.percentileofscore(df['statistic'], np.mean(treatment) - np.mean(control))"
   ]
  },
  {
   "cell_type": "markdown",
   "id": "18fcbb17-372a-42c6-8aa4-925421f58820",
   "metadata": {},
   "source": [
    "Because 25 does not exhaust all the combinations, this P-value may be different each time the code is run. However it should not be too far off from the P-value calculated by enumerating all the combinations, using `stats.permutation_test`:"
   ]
  },
  {
   "cell_type": "code",
   "execution_count": 119,
   "id": "b2ea23a2-0c4e-448e-8a78-7fe4b1ed5ab7",
   "metadata": {},
   "outputs": [
    {
     "data": {
      "text/plain": [
       "0.14055944055944056"
      ]
     },
     "execution_count": 119,
     "metadata": {},
     "output_type": "execute_result"
    }
   ],
   "source": [
    "res = stats.permutation_test(\n",
    "    (treatment, control), \n",
    "    lambda m1, m2: np.mean(m1) - np.mean(m2),\n",
    "    permutation_type='independent', alternative='greater', n_resamples=np.inf)\n",
    "res.pvalue"
   ]
  },
  {
   "cell_type": "markdown",
   "id": "3d93fa35-d518-410a-95bd-d1e19b794b3c",
   "metadata": {},
   "source": [
    "Whereas in Ex 14.11 the P-value was 0.34."
   ]
  },
  {
   "cell_type": "markdown",
   "id": "6a5ade81-32b0-45c0-a5f0-ca11cb51c014",
   "metadata": {},
   "source": [
    "### Ex 14.36\n",
    "\n",
    "Use a computer package to draw 25 bootstrap samples from the data in Exercise 7.16 on thermostat settings. Enumerate your samples. Estimate the standard error of the sample mean and compare it with the exact value."
   ]
  },
  {
   "cell_type": "code",
   "execution_count": 3,
   "id": "5030cbdc-42e3-445a-a50f-c09923ee6e18",
   "metadata": {},
   "outputs": [
    {
     "data": {
      "text/html": [
       "<div><style>\n",
       ".dataframe > thead > tr,\n",
       ".dataframe > tbody > tr {\n",
       "  text-align: right;\n",
       "  white-space: pre-wrap;\n",
       "}\n",
       "</style>\n",
       "<small>shape: (1, 1)</small><table border=\"1\" class=\"dataframe\"><thead><tr><th></th></tr><tr><td>list[f64]</td></tr></thead><tbody><tr><td>[202.2, 203.4, … 199.0]</td></tr></tbody></table></div>"
      ],
      "text/plain": [
       "shape: (1, 1)\n",
       "┌─────────────────────────┐\n",
       "│                         │\n",
       "│ ---                     │\n",
       "│ list[f64]               │\n",
       "╞═════════════════════════╡\n",
       "│ [202.2, 203.4, … 199.0] │\n",
       "└─────────────────────────┘"
      ]
     },
     "execution_count": 3,
     "metadata": {},
     "output_type": "execute_result"
    }
   ],
   "source": [
    "# ✍️\n",
    "DATA['14.36'] = pl.read_json('../data/Ex7-16.json')\n",
    "DATA['14.36']"
   ]
  },
  {
   "cell_type": "markdown",
   "id": "61095f5e-0eac-448e-9c84-202634ead1d2",
   "metadata": {},
   "source": [
    "Now to enumerate 25 bootstrap samples:"
   ]
  },
  {
   "cell_type": "code",
   "execution_count": 4,
   "id": "0e44e792-a686-4c90-b7e1-2e25bc750037",
   "metadata": {},
   "outputs": [
    {
     "name": "stdout",
     "output_type": "stream",
     "text": [
      "shape: (25, 2)\n",
      "┌───────┬────────────────────────────────────────────────────────────────────────┐\n",
      "│ index ┆ temperature                                                            │\n",
      "│ ---   ┆ ---                                                                    │\n",
      "│ u32   ┆ list[f64]                                                              │\n",
      "╞═══════╪════════════════════════════════════════════════════════════════════════╡\n",
      "│ 1     ┆ [200.5, 201.3, 203.7, 200.8, 203.4, 203.7, 201.3, 203.7, 202.5, 202.2] │\n",
      "│ 2     ┆ [202.2, 198.0, 203.7, 203.7, 202.5, 202.2, 203.4, 199.0, 200.8, 203.4] │\n",
      "│ 3     ┆ [203.7, 199.0, 206.3, 202.2, 199.0, 199.0, 198.0, 203.4, 201.3, 199.0] │\n",
      "│ 4     ┆ [206.3, 199.0, 203.7, 202.5, 201.3, 200.8, 206.3, 198.0, 203.7, 202.5] │\n",
      "│ 5     ┆ [198.0, 206.3, 202.2, 206.3, 206.3, 202.2, 206.3, 201.3, 201.3, 202.2] │\n",
      "│ 6     ┆ [201.3, 199.0, 200.5, 202.5, 206.3, 203.7, 201.3, 198.0, 203.7, 202.2] │\n",
      "│ 7     ┆ [198.0, 202.2, 202.5, 198.0, 199.0, 198.0, 203.7, 203.4, 203.7, 199.0] │\n",
      "│ 8     ┆ [198.0, 202.5, 199.0, 198.0, 206.3, 201.3, 202.2, 200.5, 200.5, 202.2] │\n",
      "│ 9     ┆ [203.4, 199.0, 206.3, 200.8, 200.5, 199.0, 206.3, 203.4, 201.3, 202.2] │\n",
      "│ 10    ┆ [203.4, 200.8, 206.3, 202.5, 200.5, 198.0, 199.0, 201.3, 206.3, 202.5] │\n",
      "│ 11    ┆ [206.3, 202.5, 201.3, 203.7, 199.0, 200.5, 202.5, 203.7, 199.0, 203.7] │\n",
      "│ 12    ┆ [202.5, 200.5, 199.0, 198.0, 201.3, 201.3, 203.4, 200.5, 206.3, 203.4] │\n",
      "│ 13    ┆ [200.8, 201.3, 198.0, 202.2, 200.8, 202.2, 198.0, 203.7, 199.0, 200.8] │\n",
      "│ 14    ┆ [200.5, 199.0, 198.0, 202.5, 200.5, 202.5, 202.2, 199.0, 203.7, 198.0] │\n",
      "│ 15    ┆ [201.3, 203.7, 203.7, 203.4, 203.7, 202.2, 203.4, 200.5, 203.7, 200.8] │\n",
      "│ 16    ┆ [199.0, 203.4, 206.3, 199.0, 206.3, 198.0, 202.2, 202.5, 202.2, 202.5] │\n",
      "│ 17    ┆ [198.0, 206.3, 200.5, 206.3, 199.0, 201.3, 202.2, 200.5, 199.0, 203.7] │\n",
      "│ 18    ┆ [203.7, 199.0, 206.3, 200.8, 206.3, 200.5, 201.3, 202.2, 200.8, 198.0] │\n",
      "│ 19    ┆ [202.2, 200.5, 200.5, 200.8, 201.3, 206.3, 202.2, 206.3, 200.8, 202.5] │\n",
      "│ 20    ┆ [202.2, 201.3, 203.7, 203.4, 206.3, 198.0, 199.0, 202.5, 200.8, 199.0] │\n",
      "│ 21    ┆ [203.7, 198.0, 206.3, 202.5, 198.0, 202.5, 201.3, 206.3, 203.7, 198.0] │\n",
      "│ 22    ┆ [201.3, 203.7, 206.3, 201.3, 199.0, 202.5, 202.2, 199.0, 203.7, 198.0] │\n",
      "│ 23    ┆ [200.8, 200.5, 198.0, 201.3, 206.3, 200.5, 201.3, 203.7, 206.3, 200.8] │\n",
      "│ 24    ┆ [202.2, 203.4, 202.5, 198.0, 200.5, 200.8, 203.7, 206.3, 198.0, 200.8] │\n",
      "│ 25    ┆ [198.0, 198.0, 200.5, 203.4, 203.7, 202.2, 203.4, 200.8, 203.4, 200.5] │\n",
      "└───────┴────────────────────────────────────────────────────────────────────────┘\n"
     ]
    }
   ],
   "source": [
    "df = (\n",
    "    DATA['14.36']\n",
    "    .select(\n",
    "        pl.repeat(col(''), n=25)\n",
    "        .list.sample(fraction=1, with_replacement=True)\n",
    "        .alias('temperature')))\n",
    "\n",
    "with pl.Config(tbl_rows=-1, fmt_table_cell_list_len=-1, fmt_str_lengths=100):\n",
    "    print(df.with_row_index(offset=1))"
   ]
  },
  {
   "cell_type": "markdown",
   "id": "d2b2b557-12cb-49d8-bbed-66e97e233f81",
   "metadata": {},
   "source": [
    "The standard error of these sample means is therefore:"
   ]
  },
  {
   "cell_type": "code",
   "execution_count": 5,
   "id": "1209e2a7-5d76-4f30-b7ef-e3eb2e7057e6",
   "metadata": {},
   "outputs": [
    {
     "data": {
      "text/html": [
       "<div><style>\n",
       ".dataframe > thead > tr,\n",
       ".dataframe > tbody > tr {\n",
       "  text-align: right;\n",
       "  white-space: pre-wrap;\n",
       "}\n",
       "</style>\n",
       "<small>shape: (1, 1)</small><table border=\"1\" class=\"dataframe\"><thead><tr><th>SE (25 samples)</th></tr><tr><td>f64</td></tr></thead><tbody><tr><td>0.629497</td></tr></tbody></table></div>"
      ],
      "text/plain": [
       "shape: (1, 1)\n",
       "┌─────────────────┐\n",
       "│ SE (25 samples) │\n",
       "│ ---             │\n",
       "│ f64             │\n",
       "╞═════════════════╡\n",
       "│ 0.629497        │\n",
       "└─────────────────┘"
      ]
     },
     "execution_count": 5,
     "metadata": {},
     "output_type": "execute_result"
    }
   ],
   "source": [
    "df.select(col('temperature').list.mean().std().alias('SE (25 samples)'))"
   ]
  },
  {
   "cell_type": "markdown",
   "id": "e9e4644d-db8f-49e9-b3cc-3f8f2de780ef",
   "metadata": {},
   "source": [
    "Compare it with the \"population\" (the given data) standard error. They are indeed comparable."
   ]
  },
  {
   "cell_type": "code",
   "execution_count": 6,
   "id": "cb5dd051-360d-4500-a984-55f77b70f2fb",
   "metadata": {},
   "outputs": [
    {
     "data": {
      "text/html": [
       "<div><style>\n",
       ".dataframe > thead > tr,\n",
       ".dataframe > tbody > tr {\n",
       "  text-align: right;\n",
       "  white-space: pre-wrap;\n",
       "}\n",
       "</style>\n",
       "<small>shape: (1, 1)</small><table border=\"1\" class=\"dataframe\"><thead><tr><th></th></tr><tr><td>f64</td></tr></thead><tbody><tr><td>0.762168</td></tr></tbody></table></div>"
      ],
      "text/plain": [
       "shape: (1, 1)\n",
       "┌──────────┐\n",
       "│          │\n",
       "│ ---      │\n",
       "│ f64      │\n",
       "╞══════════╡\n",
       "│ 0.762168 │\n",
       "└──────────┘"
      ]
     },
     "execution_count": 6,
     "metadata": {},
     "output_type": "execute_result"
    }
   ],
   "source": [
    "DATA['14.36'].select(col('').list.std() / col('').list.len().sqrt().alias('exact SE'))"
   ]
  },
  {
   "cell_type": "markdown",
   "id": "069279ed-c5b5-4710-b2c2-f830c224b29e",
   "metadata": {},
   "source": [
    "### Ex 14.37\n",
    "\n",
    "Use the bootstrap samples from Exercise 14.36 to estimate the standard errors of the sample median, sample maximum, and sample minimum."
   ]
  },
  {
   "cell_type": "code",
   "execution_count": 31,
   "id": "64291d35-5931-4d0f-9305-db0ccb1fba0b",
   "metadata": {},
   "outputs": [
    {
     "data": {
      "text/html": [
       "<div><style>\n",
       ".dataframe > thead > tr,\n",
       ".dataframe > tbody > tr {\n",
       "  text-align: right;\n",
       "  white-space: pre-wrap;\n",
       "}\n",
       "</style>\n",
       "<small>shape: (1, 4)</small><table border=\"1\" class=\"dataframe\"><thead><tr><th>SE of mean</th><th>of median</th><th>of max</th><th>of min</th></tr><tr><td>f64</td><td>f64</td><td>f64</td><td>f64</td></tr></thead><tbody><tr><td>0.629497</td><td>0.777909</td><td>1.19147</td><td>0.845084</td></tr></tbody></table></div>"
      ],
      "text/plain": [
       "shape: (1, 4)\n",
       "┌────────────┬───────────┬─────────┬──────────┐\n",
       "│ SE of mean ┆ of median ┆ of max  ┆ of min   │\n",
       "│ ---        ┆ ---       ┆ ---     ┆ ---      │\n",
       "│ f64        ┆ f64       ┆ f64     ┆ f64      │\n",
       "╞════════════╪═══════════╪═════════╪══════════╡\n",
       "│ 0.629497   ┆ 0.777909  ┆ 1.19147 ┆ 0.845084 │\n",
       "└────────────┴───────────┴─────────┴──────────┘"
      ]
     },
     "execution_count": 31,
     "metadata": {},
     "output_type": "execute_result"
    }
   ],
   "source": [
    "df.select(\n",
    "    col('temperature').list.mean().std().alias('SE of mean'),\n",
    "    col('temperature').list.median().std().alias('of median'),\n",
    "    col('temperature').list.max().std().alias('of max'),\n",
    "    col('temperature').list.min().std().alias('of min'))"
   ]
  },
  {
   "cell_type": "markdown",
   "id": "0b782ad8-847a-40a0-9213-55987a4a2fa7",
   "metadata": {},
   "source": [
    "Compare to the result below obtained by using `stats.bootstrap`. Note that each SE is calculated based on a separate bootstrap resample (of size 9999 by default)."
   ]
  },
  {
   "cell_type": "code",
   "execution_count": 34,
   "id": "0e1c677c-7002-4687-bc9e-83201d82026c",
   "metadata": {},
   "outputs": [
    {
     "data": {
      "text/html": [
       "<div><style>\n",
       ".dataframe > thead > tr,\n",
       ".dataframe > tbody > tr {\n",
       "  text-align: right;\n",
       "  white-space: pre-wrap;\n",
       "}\n",
       "</style>\n",
       "<small>shape: (1, 4)</small><table border=\"1\" class=\"dataframe\"><thead><tr><th>SE of mean</th><th>of median</th><th>of max</th><th>of min</th></tr><tr><td>f64</td><td>f64</td><td>f64</td><td>f64</td></tr></thead><tbody><tr><td>0.722429</td><td>0.863929</td><td>1.340081</td><td>0.836833</td></tr></tbody></table></div>"
      ],
      "text/plain": [
       "shape: (1, 4)\n",
       "┌────────────┬───────────┬──────────┬──────────┐\n",
       "│ SE of mean ┆ of median ┆ of max   ┆ of min   │\n",
       "│ ---        ┆ ---       ┆ ---      ┆ ---      │\n",
       "│ f64        ┆ f64       ┆ f64      ┆ f64      │\n",
       "╞════════════╪═══════════╪══════════╪══════════╡\n",
       "│ 0.722429   ┆ 0.863929  ┆ 1.340081 ┆ 0.836833 │\n",
       "└────────────┴───────────┴──────────┴──────────┘"
      ]
     },
     "execution_count": 34,
     "metadata": {},
     "output_type": "execute_result"
    }
   ],
   "source": [
    "DATA['14.36'].select(\n",
    "    col('').map_elements(\n",
    "        lambda x: {\n",
    "            'SE of mean': stats.bootstrap((x,), np.mean).standard_error,\n",
    "            'of median': stats.bootstrap((x,), np.median).standard_error,\n",
    "            'of max': stats.bootstrap((x,), np.max).standard_error,\n",
    "            'of min': stats.bootstrap((x,), np.min).standard_error,})\n",
    ").unnest('')"
   ]
  },
  {
   "cell_type": "markdown",
   "id": "59f51ea4-826a-4c69-9475-e6f95d473fc4",
   "metadata": {},
   "source": [
    "### Ex 14.38\n",
    "\n",
    "Do a bootstrap test on the mouse data from Exercise 14.11 by using a computer package to draw 25 random samples _with replacement_ as done in Example 14.7. Enumerate your samples. Estimate the P-value and compare it with that obtained in Exercises 14.11 and 14.35."
   ]
  },
  {
   "cell_type": "markdown",
   "id": "3d75d976-30c4-410e-89bd-b1f0815371c5",
   "metadata": {},
   "source": [
    "✍️ Remember the data from Exercise 14.11 was:"
   ]
  },
  {
   "cell_type": "code",
   "execution_count": 98,
   "id": "0e025371-33de-4a56-9579-ab1a9a5a7824",
   "metadata": {},
   "outputs": [
    {
     "data": {
      "text/html": [
       "<div><style>\n",
       ".dataframe > thead > tr,\n",
       ".dataframe > tbody > tr {\n",
       "  text-align: right;\n",
       "  white-space: pre-wrap;\n",
       "}\n",
       "</style>\n",
       "<small>shape: (1, 2)</small><table border=\"1\" class=\"dataframe\"><thead><tr><th>Control</th><th>Treatmnt</th></tr><tr><td>list[f64]</td><td>list[f64]</td></tr></thead><tbody><tr><td>[52.0, 104.0, … 46.0]</td><td>[94.0, 197.0, … 23.0]</td></tr></tbody></table></div>"
      ],
      "text/plain": [
       "shape: (1, 2)\n",
       "┌───────────────────────┬───────────────────────┐\n",
       "│ Control               ┆ Treatmnt              │\n",
       "│ ---                   ┆ ---                   │\n",
       "│ list[f64]             ┆ list[f64]             │\n",
       "╞═══════════════════════╪═══════════════════════╡\n",
       "│ [52.0, 104.0, … 46.0] ┆ [94.0, 197.0, … 23.0] │\n",
       "└───────────────────────┴───────────────────────┘"
      ]
     },
     "execution_count": 98,
     "metadata": {},
     "output_type": "execute_result"
    }
   ],
   "source": [
    "DATA['14.11']"
   ]
  },
  {
   "cell_type": "code",
   "execution_count": 121,
   "id": "9e6eb672-733d-4f3d-8181-1d6fcfc703d2",
   "metadata": {
    "scrolled": true
   },
   "outputs": [
    {
     "name": "stdout",
     "output_type": "stream",
     "text": [
      "shape: (25, 4)\n",
      "┌───────┬──────────────────────────────────────┬──────────────────────────────────────┬────────────┐\n",
      "│ index ┆ control                              ┆ treatment                            ┆ statistic  │\n",
      "│ ---   ┆ ---                                  ┆ ---                                  ┆ ---        │\n",
      "│ u32   ┆ list[f64]                            ┆ list[f64]                            ┆ f64        │\n",
      "╞═══════╪══════════════════════════════════════╪══════════════════════════════════════╪════════════╡\n",
      "│ 1     ┆ [31.0, 46.0, 104.0, 23.0, 23.0,      ┆ [46.0, 52.0, 10.0, 197.0, 94.0,      ┆ -7.619048  │\n",
      "│       ┆ 141.0, 141.0, 38.0, 104.0]           ┆ 23.0, 31.0]                          ┆            │\n",
      "│ 2     ┆ [40.0, 16.0, 16.0, 141.0, 99.0,      ┆ [40.0, 104.0, 52.0, 146.0, 23.0,     ┆ 13.206349  │\n",
      "│       ┆ 99.0, 31.0, 99.0, 10.0]              ┆ 104.0, 52.0]                         ┆            │\n",
      "│ 3     ┆ [146.0, 141.0, 38.0, 50.0, 38.0,     ┆ [31.0, 46.0, 10.0, 104.0, 16.0,      ┆ -51.761905 │\n",
      "│       ┆ 94.0, 50.0, 50.0, 197.0]             ┆ 46.0, 10.0]                          ┆            │\n",
      "│ 4     ┆ [10.0, 146.0, 31.0, 10.0, 104.0,     ┆ [38.0, 31.0, 104.0, 141.0, 50.0,     ┆ -5.190476  │\n",
      "│       ┆ 141.0, 52.0, 99.0, 40.0]             ┆ 46.0, 46.0]                          ┆            │\n",
      "│ 5     ┆ [146.0, 46.0, 46.0, 197.0, 16.0,     ┆ [94.0, 38.0, 141.0, 197.0, 23.0,     ┆ 7.365079   │\n",
      "│       ┆ 104.0, 16.0, 52.0, 23.0]             ┆ 23.0, 38.0]                          ┆            │\n",
      "│ 6     ┆ [31.0, 27.0, 197.0, 40.0, 27.0,      ┆ [38.0, 197.0, 50.0, 52.0, 50.0,      ┆ -0.412698  │\n",
      "│       ┆ 52.0, 38.0, 141.0, 10.0]             ┆ 38.0, 10.0]                          ┆            │\n",
      "│ 7     ┆ [46.0, 52.0, 31.0, 23.0, 197.0,      ┆ [197.0, 46.0, 197.0, 16.0, 141.0,    ┆ 55.444444  │\n",
      "│       ┆ 38.0, 50.0, 50.0, 94.0]              ┆ 197.0, 46.0]                         ┆            │\n",
      "│ 8     ┆ [52.0, 16.0, 27.0, 38.0, 197.0,      ┆ [50.0, 104.0, 94.0, 38.0, 31.0,      ┆ 14.428571  │\n",
      "│       ┆ 38.0, 46.0, 31.0, 50.0]              ┆ 146.0, 23.0]                         ┆            │\n",
      "│ 9     ┆ [16.0, 40.0, 146.0, 23.0, 146.0,     ┆ [197.0, 52.0, 23.0, 16.0, 141.0,     ┆ 1.285714   │\n",
      "│       ┆ 104.0, 38.0, 46.0, 197.0]            ┆ 27.0, 141.0]                         ┆            │\n",
      "│ 10    ┆ [94.0, 16.0, 16.0, 27.0, 23.0, 38.0, ┆ [46.0, 38.0, 50.0, 99.0, 104.0,      ┆ 19.984127  │\n",
      "│       ┆ 197.0, 52.0, 27.0]                   ┆ 38.0, 146.0]                         ┆            │\n",
      "│ 11    ┆ [40.0, 46.0, 197.0, 38.0, 141.0,     ┆ [197.0, 197.0, 23.0, 52.0, 40.0,     ┆ -6.603175  │\n",
      "│       ┆ 16.0, 146.0, 94.0, 46.0]             ┆ 16.0, 23.0]                          ┆            │\n",
      "│ 12    ┆ [141.0, 197.0, 52.0, 23.0, 141.0,    ┆ [27.0, 104.0, 197.0, 38.0, 38.0,     ┆ 8.730159   │\n",
      "│       ┆ 10.0, 10.0, 50.0, 38.0]              ┆ 141.0, 31.0]                         ┆            │\n",
      "│ 13    ┆ [16.0, 23.0, 94.0, 141.0, 27.0,      ┆ [197.0, 16.0, 146.0, 38.0, 52.0,     ┆ 9.301587   │\n",
      "│       ┆ 94.0, 94.0, 146.0, 27.0]             ┆ 104.0, 27.0]                         ┆            │\n",
      "│ 14    ┆ [23.0, 40.0, 16.0, 141.0, 31.0,      ┆ [50.0, 99.0, 38.0, 50.0, 52.0,       ┆ 27.714286  │\n",
      "│       ┆ 99.0, 16.0, 16.0, 23.0]              ┆ 197.0, 23.0]                         ┆            │\n",
      "│ 15    ┆ [38.0, 99.0, 197.0, 40.0, 31.0,      ┆ [50.0, 27.0, 141.0, 52.0, 31.0,      ┆ 6.111111   │\n",
      "│       ┆ 38.0, 27.0, 38.0, 40.0]              ┆ 27.0, 141.0]                         ┆            │\n",
      "│ 16    ┆ [10.0, 141.0, 94.0, 27.0, 146.0,     ┆ [16.0, 16.0, 197.0, 23.0, 52.0,      ┆ -6.365079  │\n",
      "│       ┆ 50.0, 16.0, 27.0, 31.0]              ┆ 23.0, 50.0]                          ┆            │\n",
      "│ 17    ┆ [16.0, 197.0, 46.0, 104.0, 23.0,     ┆ [46.0, 104.0, 10.0, 27.0, 197.0,     ┆ -46.730159 │\n",
      "│       ┆ 104.0, 197.0, 197.0, 146.0]          ┆ 40.0, 50.0]                          ┆            │\n",
      "│ 18    ┆ [27.0, 197.0, 10.0, 31.0, 23.0,      ┆ [46.0, 16.0, 146.0, 23.0, 16.0,      ┆ -27.269841 │\n",
      "│       ┆ 46.0, 27.0, 197.0, 104.0]            ┆ 50.0, 27.0]                          ┆            │\n",
      "│ 19    ┆ [146.0, 94.0, 99.0, 38.0, 16.0,      ┆ [27.0, 10.0, 27.0, 197.0, 27.0,      ┆ -25.777778 │\n",
      "│       ┆ 99.0, 94.0, 38.0, 94.0]              ┆ 38.0, 52.0]                          ┆            │\n",
      "│ 20    ┆ [46.0, 40.0, 38.0, 141.0, 141.0,     ┆ [52.0, 146.0, 52.0, 104.0, 197.0,    ┆ -1.650794  │\n",
      "│       ┆ 16.0, 146.0, 141.0, 94.0]            ┆ 46.0, 16.0]                          ┆            │\n",
      "│ 21    ┆ [146.0, 197.0, 141.0, 52.0, 46.0,    ┆ [46.0, 52.0, 141.0, 104.0, 31.0,     ┆ -20.571429 │\n",
      "│       ┆ 23.0, 50.0, 27.0, 146.0]             ┆ 99.0, 27.0]                          ┆            │\n",
      "│ 22    ┆ [40.0, 27.0, 197.0, 16.0, 94.0,      ┆ [27.0, 99.0, 46.0, 99.0, 27.0,       ┆ 2.380952   │\n",
      "│       ┆ 10.0, 31.0, 23.0, 141.0]             ┆ 146.0, 23.0]                         ┆            │\n",
      "│ 23    ┆ [16.0, 38.0, 46.0, 146.0, 10.0,      ┆ [141.0, 104.0, 197.0, 27.0, 146.0,   ┆ 51.746032  │\n",
      "│       ┆ 141.0, 50.0, 99.0, 40.0]             ┆ 99.0, 104.0]                         ┆            │\n",
      "│ 24    ┆ [31.0, 27.0, 16.0, 52.0, 197.0,      ┆ [10.0, 27.0, 38.0, 31.0, 10.0, 50.0, ┆ -33.888889 │\n",
      "│       ┆ 27.0, 38.0, 99.0, 52.0]              ┆ 16.0]                                ┆            │\n",
      "│ 25    ┆ [16.0, 99.0, 141.0, 31.0, 27.0,      ┆ [38.0, 16.0, 10.0, 197.0, 94.0,      ┆ 8.968254   │\n",
      "│       ┆ 52.0, 50.0, 146.0, 31.0]             ┆ 23.0, 146.0]                         ┆            │\n",
      "└───────┴──────────────────────────────────────┴──────────────────────────────────────┴────────────┘\n"
     ]
    }
   ],
   "source": [
    "# to enumerate the 25 samples\n",
    "n_resamples = 25\n",
    "df = (\n",
    "    DATA['14.11']\n",
    "    .select( # concatenate the 2 lists and take 25 bootstrap resamples\n",
    "        pl.all().list.len().name.prefix('len_'),\n",
    "        pl.repeat(\n",
    "            col('Control').list.concat('Treatmnt'), n=n_resamples)\n",
    "        .list.sample(fraction=1, with_replacement=True)\n",
    "        .alias('combined'))\n",
    "    .select( # label the first 9 'control' and the rest 'treatment'\n",
    "        col('combined').list.head('len_Control').alias('control'),\n",
    "        col('combined').list.tail('len_Treatmnt').alias('treatment'))\n",
    "    .with_columns(statistic=col('treatment').list.mean() - col('control').list.mean()))\n",
    "\n",
    "with pl.Config(tbl_rows=-1, fmt_table_cell_list_len=-1, fmt_str_lengths=100):\n",
    "    print(df.with_row_index(offset=1))"
   ]
  },
  {
   "cell_type": "markdown",
   "id": "1d7566de-fa74-4a0d-a904-fdf59fc7a099",
   "metadata": {},
   "source": [
    "With the bootstrap distribution of the differences obtained, the P-value would be"
   ]
  },
  {
   "cell_type": "code",
   "execution_count": 122,
   "id": "f73a6dfb-67eb-494e-a98a-c306bab2e334",
   "metadata": {},
   "outputs": [
    {
     "data": {
      "text/plain": [
       "0.07999999999999996"
      ]
     },
     "execution_count": 122,
     "metadata": {},
     "output_type": "execute_result"
    }
   ],
   "source": [
    "diff = DATA['14.11'].select(\n",
    "        col('Treatmnt').list.mean() - col('Control').list.mean()).item()\n",
    "1 - 0.01 * stats.percentileofscore(df['statistic'], diff)"
   ]
  },
  {
   "cell_type": "markdown",
   "id": "bde34485-1038-4532-b94b-b6cb02c29f4a",
   "metadata": {},
   "source": [
    "which is significant at the $\\alpha = .10$ level, supporting the claim that the treatment has an effect in prolonging survival times, whereas, as we saw, that both the Mann-Whitney test in Ex 14.11 (p = 0.34) and the permutation test in Ex 14.35 (p = 0.14) fail to detect an effect. \n",
    "\n",
    "`stats.bootstrap` by default uses 9999 resamples, and in this case the P-value converges to around 0.13, as shown below, in agreement with the permutation result. This show that 25 is simply too small for the P-value to be stable."
   ]
  },
  {
   "cell_type": "code",
   "execution_count": 124,
   "id": "95081178-2988-48e3-9705-3d65849710dc",
   "metadata": {},
   "outputs": [
    {
     "data": {
      "text/plain": [
       "0.12491249124912485"
      ]
     },
     "execution_count": 124,
     "metadata": {},
     "output_type": "execute_result"
    }
   ],
   "source": [
    "data = DATA['14.11'].select(col('Control').list.concat('Treatmnt')).item()\n",
    "dist = stats.bootstrap((data, ), lambda x: np.mean(x[:7]) - np.mean(x[7:])).bootstrap_distribution\n",
    "1 - 0.01 * stats.percentileofscore(dist, diff)"
   ]
  },
  {
   "cell_type": "markdown",
   "id": "c4d57224-8a22-4c0b-b33b-2a70f87ff32f",
   "metadata": {
    "jp-MarkdownHeadingCollapsed": true
   },
   "source": [
    "### Ex 14.39\n",
    "\n",
    "Show the result (14.30) which relates the bootstrap estimate of the standard error of the\n",
    "sample mean to the exact value. You will need to use the following result from **finite\n",
    "population sampling**: Consider a population of N numbers: ${x_1, x_2, \\ldots , x_N}$ with mean\n",
    "and variance equal to\n",
    "\n",
    "$$\n",
    "\\mu = \\frac{\\sum_{i=1}^N x_i}{N} \\quad \\text{and} \\quad \\sigma^2 = \\frac{\\sum_{i=1}^N (x_i - \\mu)^2}{N}.\n",
    "$$\n",
    "\n",
    "If $\\bar{X}$ is the sample mean of an SRS of size n _with replacement_ from this population, then\n",
    "\n",
    "$$\n",
    "\\mathrm{Var}(\\bar{X}) = \\frac{\\sigma^2}{n} = \\frac{\\sum_{i=1}^N (x_i - \\mu)^2}{n\\,N}.\n",
    "$$"
   ]
  },
  {
   "cell_type": "markdown",
   "id": "c87f1b13-aecd-44b0-a769-ed8dd805d813",
   "metadata": {},
   "source": [
    "### Ex 14.40\n",
    "\n",
    "Show the result (14.32) which states that the jackknife estimate of the standard error of the sample mean is exact. Check the result numerically by enumerating the 10 jackknife samples for the data from Exercise 14.1 and calculating the jackknife estimate of the standard error of the sample mean."
   ]
  },
  {
   "cell_type": "markdown",
   "id": "fdfcf2dc-dc06-48e4-828a-2bf961729977",
   "metadata": {},
   "source": [
    "## Advanced Exercises"
   ]
  },
  {
   "cell_type": "markdown",
   "id": "dba42612-76fa-4a9c-b550-e911c6f12a32",
   "metadata": {},
   "source": [
    "### Ex 14.41\n",
    "\n",
    "For a random sample $X_1, X_2, \\ldots, X_n$ from an $N(\\mu, \\sigma^2)$ distribution consider testing $H_0: \\mu = 0$ vs. $H_1: \\mu > 0$ using the sign test. The hypotheses tested by the sign test are $H_0: p = 1/2$ vs. $H_1: p > 1/2$, where $p = P(X_i > 0)$."
   ]
  },
  {
   "cell_type": "markdown",
   "id": "e3b76dac-41bd-4b9f-ad52-b28a963dd663",
   "metadata": {},
   "source": [
    "#### (a) \n",
    "\n",
    "Show that the power of the $\\alpha$-level sign test that rejects $H_0$ when $S_+ = \\#(X_i > 0) \\ge b_{n,\\alpha}$ is given by\n",
    "\n",
    "$$\n",
    "\\sum_{i=b_{n, \\alpha}}^n \\binom{n}{i} p^i (1-p)^{n-i}\n",
    "$$\n",
    "\n",
    "where $p = \\Phi(\\mu / \\sigma)$."
   ]
  },
  {
   "cell_type": "markdown",
   "id": "7b2bf080-a756-4caf-8ced-6f09f93301e0",
   "metadata": {},
   "source": [
    "#### (b)\n",
    "\n",
    "The power of the corresponding normal theory z-test for testing $H_0: \\mu = 0$ vs. $H_1: \\mu > 0$ (assuming $\\sigma$ is known) is given by\n",
    "\n",
    "$$\n",
    "\\Phi\\left(\\frac{\\mu \\sqrt{n}}{\\sigma} - z_\\alpha\\right)\n",
    "$$\n",
    "\n",
    "using the results from Chapter 7. Calculate the powers of the sign test and z-test for $n=10$, $\\alpha = .0547$ (in which case $b_{n, \\alpha} = 8$ and $z_\\alpha = 1.601$) for $\\mu / \\sigma$ = 0.5, 1.0, and 1.5. (*Hint*: First calculate $p$ for given $\\mu / \\sigma $. Then calculate the power of the sign test using the binomial distribution formula.)"
   ]
  },
  {
   "cell_type": "markdown",
   "id": "64aed87d-fc61-4c31-b767-70d60e321b54",
   "metadata": {},
   "source": [
    "#### (c) \n",
    "\n",
    "Why is the z-test power higher than the sign test power for all values of $\\mu / \\sigma$? Do you think that the z-test will be more powerful than the sign test even if the distribution of the $X_i$'s is not normal? Why or why not?"
   ]
  },
  {
   "cell_type": "markdown",
   "id": "2d0663ce-8b1b-41ac-8ca3-c98b9798143a",
   "metadata": {},
   "source": [
    "### Ex 14.42\n",
    "\n",
    "The sign test is a test on the median or the 50th percentile of a distribution; it is equivalent to a binomial test of $H_0: p = 1/2$, where $p$ is the probability that an observation from the distribution exceeds the median value postulated under $H_0$."
   ]
  },
  {
   "cell_type": "markdown",
   "id": "c7d3b682-ff83-4b97-92bb-693a4c847aca",
   "metadata": {},
   "source": [
    "#### (a)\n",
    "\n",
    "Generalize the sign test for testing the $q$th quantile or the 100$q$th percentile (denoted by $\\tilde{\\mu_q}$) of a distribution. State the test procedure. (*Hint*: Define $p = P(X > \\tilde{\\mu_q}) = 1 - q$.)"
   ]
  },
  {
   "cell_type": "markdown",
   "id": "ac4ce59b-7c8f-4f73-9b4f-431450dc22d9",
   "metadata": {},
   "source": [
    "#### (b) \n",
    "\n",
    "Let $\\tilde{\\mu}_.75$ denote the 75th percentile of the distribution of household incomes of a population. Test $H_0: \\tilde{\\mu}_.75$ = 60K vs. $H_1: \\tilde{\\mu}_.75$ > 60K at $\\alpha = .10$ based on the following incomes (expressed in K$'s) of 15 sample households:\n",
    "\n",
    "||||||||||||||||\n",
    "---|---|---|---|---|---|---|---|---|---|---|---|---|---|---\n",
    "75 | 45 | 50 | 62 | 40 | 35 | 80 | 68 | 40 | 38 | 43 | 70 | 55 | 65 | 70"
   ]
  },
  {
   "cell_type": "markdown",
   "id": "7d2f1fa0-6a36-480b-92a9-d838162061e0",
   "metadata": {},
   "source": [
    "### Ex 14.43\n",
    "\n",
    "Derive the formulas (14.4) for the mean and variance of the Wilcoxon signed rank statistic under $H_0$ by carrying out the steps below."
   ]
  },
  {
   "cell_type": "markdown",
   "id": "5e512e8e-ec70-4835-878b-f2b0771c8d57",
   "metadata": {},
   "source": [
    "#### (a)\n",
    "\n",
    "The $i$th rank can correspond to a positive sign or a negative sign. Let $Z_i$ be an indicator variable with $Z_i = 1$ if the $i$th rank corresponds to a positive sign and $Z_i = 0$ if the $i$th rank corresponds to a negative sign. Show that $W_+ = \\sum_{i=1}^n i\\,Z_i$."
   ]
  },
  {
   "cell_type": "markdown",
   "id": "e1e5b6d0-31ba-4e00-a4e0-76fa54358796",
   "metadata": {},
   "source": [
    "✍️ Because $W_+$ is the sum of the positive ranks,\n",
    "$$\n",
    "W_+ = \\sum_{i=1}^n i\\,Z_i\\,.\n",
    "$$"
   ]
  },
  {
   "cell_type": "markdown",
   "id": "fa348f66-a817-402d-8957-7f00e25f8c1b",
   "metadata": {},
   "source": [
    "#### (b)\n",
    "\n",
    "Note that the $Z_i$ are independent and identically distributed Bernoulli r.v.'s with success probability $p = P(X_ > \\tilde{\\mu_0})$. Hence show that\n",
    "\n",
    "$$\n",
    "\\mathrm{E}(W_+) = \\sum_{i=1}^n i\\,p = \\frac{p\\,n(1+n)}{2}\n",
    "$$\n",
    "\n",
    "and\n",
    "\n",
    "$$\n",
    "\\mathrm{Var}(W_+) = \\sum_{i=1}^n i^2 p\\,(1-p) = \\frac{p\\,(1-p)\\,n(n+1)(2n+1)}{6}\\,.\n",
    "$$\n",
    "\n",
    "Now (14.4) follows by substituting $p=1/2$ in the above formulas."
   ]
  },
  {
   "cell_type": "markdown",
   "id": "0d46c31f-a064-4847-8353-2c138304f137",
   "metadata": {},
   "source": [
    "✍️\n",
    "$$\n",
    "\\begin{align*}\n",
    "\\mathrm{E}(W_+) &= \\mathrm{E}\\left[\\sum_{i=1}^n i\\,Z_i\\right] \\\\\n",
    "&= \\sum_{i=1}^n i\\,\\mathrm{E}(Z_i) \\\\\n",
    "&= p \\sum_{i=1}^n i \\\\\n",
    "&= p\\,n(1+n)/2\\,.\n",
    "\\end{align*}\n",
    "$$\n",
    "\n",
    "Similarly,\n",
    "\n",
    "$$\n",
    "\\begin{align*}\n",
    "\\mathrm{Var}(W_+) &= \\mathrm{Var}\\left[\\sum_{i=1}^n i\\,Z_i\\right] \\\\\n",
    "&= \\sum_{i=1}^n i^2\\,\\mathrm{Var}(Z_i) \\\\\n",
    "&= p\\,(1-p) \\sum_{i=1}^n i^2 \\\\\n",
    "&= p\\,(1-p)\\,n(n+1)(2n+1)/6\\,.\n",
    "\\end{align*}\n",
    "$$"
   ]
  },
  {
   "cell_type": "code",
   "execution_count": null,
   "id": "b7e93616-795c-4859-96e4-c0dd0e81323d",
   "metadata": {},
   "outputs": [],
   "source": []
  }
 ],
 "metadata": {
  "kernelspec": {
   "display_name": "Python 3 (ipykernel)",
   "language": "python",
   "name": "python3"
  },
  "language_info": {
   "codemirror_mode": {
    "name": "ipython",
    "version": 3
   },
   "file_extension": ".py",
   "mimetype": "text/x-python",
   "name": "python",
   "nbconvert_exporter": "python",
   "pygments_lexer": "ipython3",
   "version": "3.10.12"
  }
 },
 "nbformat": 4,
 "nbformat_minor": 5
}
