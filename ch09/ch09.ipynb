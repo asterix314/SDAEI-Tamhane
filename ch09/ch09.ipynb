{
 "cells": [
  {
   "cell_type": "markdown",
   "id": "7c0c714a-801d-4de5-96d7-e375584311c7",
   "metadata": {},
   "source": [
    "# Chapter 9 Inferences for Proportions and Count Data"
   ]
  },
  {
   "cell_type": "code",
   "execution_count": 1,
   "id": "77880b95-9144-4d43-9119-3197c2ea4432",
   "metadata": {},
   "outputs": [],
   "source": [
    "import polars as pl\n",
    "from polars import col, lit\n",
    "from scipy import stats\n",
    "import numpy as np\n",
    "\n",
    "RNG = np.random.default_rng()"
   ]
  },
  {
   "cell_type": "markdown",
   "id": "ed97c34b-0e54-4351-97c3-0485d2d5d74e",
   "metadata": {},
   "source": [
    "## 9.1 Inferences on Proportion"
   ]
  },
  {
   "cell_type": "markdown",
   "id": "594bef62-84fa-4cbf-aa52-aa47f83ab4a1",
   "metadata": {},
   "source": [
    "This chapter begins with inference procedures for an unknown proportion $p$ in a Bernoulli population. The sample proportion $\\hat{p}$ from a random sample of size $n$ is an unbiased estimate of $p$. Inferences on p are based on the central limit theorem (CLT) result that for large $n$, the sample proportion $\\hat{p}$ is approximately normal with mean = $p$ and standard deviation = $\\sqrt{pq/n}$ . A large sample two-sided 100(1- $\\alpha$)% confidence interval for $p$ is given by\n",
    "\n",
    "$$\n",
    "\\left[ \\hat{p} \\pm z_{\\alpha /2} \\sqrt{\\frac{\\hat{p} \\hat{q}}{n}}\\;\\right]\n",
    "$$\n",
    "\n",
    "where $\\hat{q}$ = 1 - $\\hat{p}$ and $z_{\\alpha/2}$ is the upper $\\alpha/2$ critical point of the standard normal distribution. A large sample test on $p$ to test $H_0: p = p_0$ can be based on the test statistic\n",
    "\n",
    "$$\n",
    "z = \\frac{\\hat{p} - p_0}{\\sqrt{\\hat{p}\\hat{q}/n}} \\quad \\text{or} \\quad \n",
    "z = \\frac{\\hat{p} - p_0}{\\sqrt{p_0 q_0 / n}}.\n",
    "$$\n",
    "\n",
    "Both these statistics are asymptotically standard normal under $H_0$."
   ]
  },
  {
   "cell_type": "markdown",
   "id": "0e0fd2c6-a891-4d89-b524-44e7bde59409",
   "metadata": {},
   "source": [
    "### Ex 9.1\n",
    "\n",
    "A business journal publisher plans to survey a sample of the subscribers to estimate the proportion $p$ with annual household incomes over $100.000."
   ]
  },
  {
   "cell_type": "markdown",
   "id": "d24f452e-97e8-4d1d-8601-005a1ef060e8",
   "metadata": {},
   "source": [
    "#### (a)\n",
    "\n",
    "How many subscribers must be surveyed to obtain a 99% CI for $p$ with a margin of error no greater than 0.05? Assume that no prior estimate of $p$ is available."
   ]
  },
  {
   "cell_type": "markdown",
   "id": "f8941fac-d57e-42b0-af1c-2e1a647ca879",
   "metadata": {},
   "source": [
    "✍️ The margin of error\n",
    "\n",
    "$$\n",
    "E = z_{\\alpha/2} \\sqrt{\\frac{p q}{n}} \\text{.}\n",
    "$$\n",
    "\n",
    "Therefore,\n",
    "\n",
    "$$\n",
    "n = \\frac{z_\\alpha^2 p q}{E^2}\n",
    "$$\n",
    "\n",
    "Because no previous estimate of $p$ is available, we use $1/2$ as a conservative estimate."
   ]
  },
  {
   "cell_type": "code",
   "execution_count": 7,
   "id": "0e68a7c3-6fae-4f09-bfbf-d78a35dc378a",
   "metadata": {},
   "outputs": [
    {
     "name": "stdout",
     "output_type": "stream",
     "text": [
      "664.0\n"
     ]
    }
   ],
   "source": [
    "α = 1 - 0.99\n",
    "p = 1/2\n",
    "n = stats.norm.ppf(1-α/2)**2 * p * (1-p)/ 0.05**2\n",
    "print(np.ceil(n))"
   ]
  },
  {
   "cell_type": "markdown",
   "id": "27d853b9-f03f-4442-95c7-c3542d27d2d3",
   "metadata": {},
   "source": [
    "So 664 subscribers should be serveyed."
   ]
  },
  {
   "cell_type": "markdown",
   "id": "d1a65617-5fd9-41d3-8b83-8328f7db5a0b",
   "metadata": {},
   "source": [
    "#### (b)\n",
    "\n",
    "The marketing department thinks that $p$ = 0.30 would be a reasonable guess. What is the corresponding sample size?"
   ]
  },
  {
   "cell_type": "code",
   "execution_count": 10,
   "id": "740f29e7-5701-47ab-a919-2d7cf6ffcf2a",
   "metadata": {},
   "outputs": [
    {
     "name": "stdout",
     "output_type": "stream",
     "text": [
      "558.0\n"
     ]
    }
   ],
   "source": [
    "α = 1 - 0.99\n",
    "p = 0.3\n",
    "n = stats.norm.ppf(1-α/2)**2 * p * (1-p)/ 0.05**2\n",
    "print(np.ceil(n))"
   ]
  },
  {
   "cell_type": "markdown",
   "id": "9ed8c102-0460-41c1-a380-2194415aeefb",
   "metadata": {},
   "source": [
    "#### (c)\n",
    "\n",
    "Refer to the sample size obtained in (b). If a 40% nonresponse rate is anticipated, how many surveys need to be mailed? How may such a high nonresponse rate cause bias in the estimate?"
   ]
  },
  {
   "cell_type": "code",
   "execution_count": 13,
   "id": "e5c4b29b-29f9-4b6e-abad-f1fd1026aa30",
   "metadata": {},
   "outputs": [
    {
     "name": "stdout",
     "output_type": "stream",
     "text": [
      "929.0\n"
     ]
    }
   ],
   "source": [
    "non_response_rate = 0.4\n",
    "mails = n / (1 - non_response_rate)\n",
    "print(np.ceil(mails))"
   ]
  },
  {
   "cell_type": "markdown",
   "id": "5932d4f8-1be9-45f0-9c4a-5880fe69363b",
   "metadata": {},
   "source": [
    "Assuming the responses tend to come from higher-income households, the result may overestimate $p$."
   ]
  },
  {
   "cell_type": "markdown",
   "id": "b0ead40d-9985-4da8-bbf2-824531356006",
   "metadata": {},
   "source": [
    "### Ex 9.2\n",
    "\n",
    "While imprisoned by the Germans during World War II, the English mathematician John Kerrich tossed a coin 10,000 times and obtained 5067 heads. Let $p$ be the probability of a head on a single toss. We wish to check if the data are consistent with the hypothesis that the coin was fair."
   ]
  },
  {
   "cell_type": "markdown",
   "id": "fe4ddeeb-5756-424e-8d18-f53c30a8b491",
   "metadata": {},
   "source": [
    "#### (a)\n",
    "Set up the hypotheses. Why should the alternative be two-sided?"
   ]
  },
  {
   "cell_type": "markdown",
   "id": "cd0115af-7434-47ad-a6ed-c48247156d11",
   "metadata": {},
   "source": [
    "✍️\n",
    "\n",
    "$$\n",
    "\\begin{align*}\n",
    "H_0: & p = 1/2\\text{, v.s.} \\\\\n",
    "H_1: & p \\ne 1/2 \\text{.}\n",
    "\\end{align*}\n",
    "$$\n",
    "\n",
    "$H_1$ is two-sided because if the coin is not fair, $p$ could be either $> 1/2$ or $< 1/2$."
   ]
  },
  {
   "cell_type": "markdown",
   "id": "0df40619-adb0-4b4a-8d84-d671774778cd",
   "metadata": {},
   "source": [
    "#### (b)\n",
    "Calculate the $P$-value. Can you reject $H_0$ at the .05 level?"
   ]
  },
  {
   "cell_type": "code",
   "execution_count": 28,
   "id": "706e1add-3420-4230-b3bd-7da6f4e8ffb0",
   "metadata": {},
   "outputs": [
    {
     "name": "stdout",
     "output_type": "stream",
     "text": [
      "0.18024534492890254\n"
     ]
    }
   ],
   "source": [
    "n = 10_000\n",
    "p = 1/2\n",
    "q = 1 - p\n",
    "z = (5067/n - p)/np.sqrt(p*q/n)\n",
    "p_val = 2 * stats.norm.sf(z)\n",
    "print(p_val)"
   ]
  },
  {
   "cell_type": "markdown",
   "id": "635266d7-8972-4fe9-9490-de3295befda5",
   "metadata": {},
   "source": [
    "Because 0.18 > 0.05, cannot reject $H_0$."
   ]
  },
  {
   "cell_type": "markdown",
   "id": "c4eb1662-0f39-41ae-ab8a-5ce1c8afc65a",
   "metadata": {},
   "source": [
    "#### (c)\n",
    "Find a 95% CI for the proportion of heads for Kerrich's coin."
   ]
  },
  {
   "cell_type": "code",
   "execution_count": 27,
   "id": "e81bdda3-16ca-4c28-bc4b-80895f9dc3e9",
   "metadata": {},
   "outputs": [
    {
     "name": "stdout",
     "output_type": "stream",
     "text": [
      "(0.49690018007729975, 0.5164998199227003)\n"
     ]
    }
   ],
   "source": [
    "α = 1 - 0.95\n",
    "margin_of_error = float(stats.norm.ppf(1-α/2) * np.sqrt(p*q/n))\n",
    "ci = (5067/n - margin_of_error, 5067/n + margin_of_error)\n",
    "print(ci)"
   ]
  },
  {
   "cell_type": "markdown",
   "id": "9aa19ce1-6ea4-4d0b-a154-1cd1295b9078",
   "metadata": {},
   "source": [
    "### Ex 9.3\n",
    "\n",
    "Calls to technical support service of a software company are monitored on a sampling basis for quality assurance. Each monitored call is classified as satisfactory or unsatisfactory by the supervisor in terms of the quality of help offered. A random sample of 100 calls was monitored over one month for a new trainee; 8 calls were classified as unsatisfactory."
   ]
  },
  {
   "cell_type": "markdown",
   "id": "b0b25caf-0b9c-46e2-a629-edc56fadb6d9",
   "metadata": {},
   "source": [
    "#### (a)\n",
    "Calculate a 95% CI for the actual proportion of unsatisfactory calls during the month. Use both formulas (9.1) and (9.3) and compare the results."
   ]
  },
  {
   "cell_type": "markdown",
   "id": "f3c27656-dd92-4e46-b4e7-8d458d32835e",
   "metadata": {},
   "source": [
    "#### (b) \n",
    "This CI is used to test $H_0: p = 0.10$ vs. $H_1: p \\ne 0.10$. If $H_0$ is not rejected, then monitoring of the trainee is continued at the same frequency; if $H_0$ is rejected in the lower tail, then monitoring frequency is reduced; and if $H_0$ is rejected in the upper tail, then the trainee is provided additional training. Based on the CI calculated in (a), what action should be taken on this trainee?"
   ]
  },
  {
   "cell_type": "markdown",
   "id": "5c9d62d7-575a-418c-9c88-4c89dca84bad",
   "metadata": {},
   "source": [
    "## 9.2 Inferences for Comparing Two Proportions"
   ]
  },
  {
   "cell_type": "markdown",
   "id": "8aec0625-eba7-473e-a4b9-9f063270ce1c",
   "metadata": {},
   "source": [
    "Next we consider the problem of comparing two Bernoulli proportions, $p_1$ and $p_2$, based on two independent random samples of sizes $n_1$ and $n_2$. The basis for inferences on $p_1 - p_2$ is the result that for large $n_1$ and $n_2$, the difference in the sample proportions, $\\hat{p}_1 - \\hat{p}_2$, is approximately normal with mean = $p_1 - p_2$ and standard deviation = $\\sqrt{p_1 q_1 / n_1 + p_2 q_2 / n_2}$ . A large sample two- sided 100(1 - $\\alpha$)% confidence interval for $p_1 - p_2$ is given by\n",
    "\n",
    "$$\n",
    "\\left[ \\hat{p}_1 - \\hat{p}_2 \\pm z_{\\alpha/2} \\sqrt{\\frac{\\hat{p}_1 \\hat{q}_1}{n_1} + \\frac{\\hat{p}_2 \\hat{q}_2}{n_2}}\\; \\right].\n",
    "$$\n",
    "\n",
    "A large sample two-sided $z$-test can be used to test $H_0: p_1 = p_2$ vs. $H_1: p_1 \\ne  p_2$ by using the test statistic\n",
    "\n",
    "$$\n",
    "z = \\frac{\\hat{p}_1 - \\hat{p}_2}{\\sqrt{\\frac{\\hat{p}_1 \\hat{q}_1}{n_1} + \\frac{\\hat{p}_2 \\hat{q}_2}{n_2}}}\n",
    "\\quad \\text{or} \\quad \n",
    "z = \\frac{\\hat{p}_1 - \\hat{p}_2}{\\sqrt{\\hat{p}\\hat{q}\\left(\\frac{1}{n_1} + \\frac{1}{n_2}\\right)}}\n",
    "$$\n",
    "\n",
    "\n",
    "where $\\hat{p} = (n_1\\hat{p}_1 + n_2\\hat{p}_2)/(n_1 + n_2)$ is the pooled sample proportion. Small sample tests to compare $p_1$ and $p_2$ are also given for independent samples (Fisher's exact test) and matched pairs designs (McNemar's test)."
   ]
  },
  {
   "cell_type": "code",
   "execution_count": null,
   "id": "b0b8833c-6320-419e-af99-1746f3e9a484",
   "metadata": {},
   "outputs": [],
   "source": []
  },
  {
   "cell_type": "markdown",
   "id": "22ac58ea-dcd1-4b9e-8134-7acd971d4791",
   "metadata": {},
   "source": [
    "## 9.3 Inferences for One-way Count Data"
   ]
  },
  {
   "cell_type": "markdown",
   "id": "5e3a4bdf-5a30-471d-bd18-d83d4e3c5190",
   "metadata": {},
   "source": [
    "A generalization of the test on the binomial proportion $p$ is a test on the cell probabilities of a multinomial distribution. Based on a random sample of size $n$ from a $c$-cell multinomial distribution (one-way count data) with cell probabilities $p_1, p_2, \\ldots, p_c$, the test of\n",
    "\n",
    "$$\n",
    "H_0: p_1 = p_{10},\\, p_2 = p_{20},\\, \\ldots, \\, p_c = p_{c0} \\quad \\text{vs.} \\quad\n",
    "H_1: \\text{At least one}\\, p_i \\ne p_{i0}\n",
    "$$\n",
    "\n",
    "is based on the **chi-square statistic** having the general form:\n",
    "\n",
    "$$\n",
    "\\chi^2 = \\sum \\frac{(\\text{observed} - \\text{expected})^2}{\\text{expected}}\n",
    "$$\n",
    "\n",
    "where \"observed\" refers to the observed cell counts $n_i$ and \"expected\" refers to the expected cell counts $e_i = n p_{i0}$ under $H_0$. The degrees of freedom (d.f.) of the chi-square statistic are $c$ - 1. The primary use of this statistic is for the **goodness of fit** test of a specified distribution to a set of data. If any parameters of the distribution are estimated from the data, then one d.f. is deducted for each independent estimated parameter from the total d.f. $c$ - 1."
   ]
  },
  {
   "cell_type": "markdown",
   "id": "84416064-4901-46c1-b4bb-400f2ac09253",
   "metadata": {},
   "source": [
    "## 9.4 Inferences for Two-way Count Data"
   ]
  },
  {
   "cell_type": "markdown",
   "id": "68a6551d-c13f-4a86-9a01-ea5ef1eadb1f",
   "metadata": {},
   "source": [
    "Two-way count data result when\n",
    "\n",
    "1. a single sample is cross-classified based on two categorical variables into $r$ rows and $c$ columns (**multinomial sampling**), or \n",
    "2. independent samples are drawn from $r$ multinomial distributions with the same $c$ categories\n",
    "(**product multinomial sampling**). \n",
    "\n",
    "In both cases, the data are summarized in the form of an $r \\times c$ **contingency table** of counts. In case (1), the null hypothesis of interest is the **independence hypothesis** between the row and column variables; in case (2), it is the **homogeneity hypothesis**. In both cases, the chi-square statistic has the same general form given above, with the expected count for the $(i, j)$th cell (under $H_0$) being the $i$th row total times the proportion of all observations falling in the $j$ th column. The d.f. of the chi-square statistic equal $(r - 1)(c - 1)$. Thus association between the row and the column variable is demonstrated at level $\\alpha$ if $\\chi^2 > \\chi^2_{(r-1)(c-1), \\alpha}$·"
   ]
  },
  {
   "cell_type": "code",
   "execution_count": null,
   "id": "262fa88d-a258-4591-abe0-e4614ce8d7fc",
   "metadata": {},
   "outputs": [],
   "source": []
  }
 ],
 "metadata": {
  "kernelspec": {
   "display_name": "Python 3 (ipykernel)",
   "language": "python",
   "name": "python3"
  },
  "language_info": {
   "codemirror_mode": {
    "name": "ipython",
    "version": 3
   },
   "file_extension": ".py",
   "mimetype": "text/x-python",
   "name": "python",
   "nbconvert_exporter": "python",
   "pygments_lexer": "ipython3",
   "version": "3.10.12"
  }
 },
 "nbformat": 4,
 "nbformat_minor": 5
}
