{
 "cells": [
  {
   "cell_type": "markdown",
   "id": "7c0c714a-801d-4de5-96d7-e375584311c7",
   "metadata": {},
   "source": [
    "# Chapter 9 Inferences for Proportions and Count Data"
   ]
  },
  {
   "cell_type": "code",
   "execution_count": 1,
   "id": "77880b95-9144-4d43-9119-3197c2ea4432",
   "metadata": {},
   "outputs": [],
   "source": [
    "import polars as pl\n",
    "from polars import col, lit\n",
    "from scipy import stats, special\n",
    "import numpy as np\n",
    "\n",
    "RNG = np.random.default_rng()"
   ]
  },
  {
   "cell_type": "markdown",
   "id": "ed97c34b-0e54-4351-97c3-0485d2d5d74e",
   "metadata": {},
   "source": [
    "## 9.1 Inferences on Proportion"
   ]
  },
  {
   "cell_type": "markdown",
   "id": "594bef62-84fa-4cbf-aa52-aa47f83ab4a1",
   "metadata": {},
   "source": [
    "This chapter begins with inference procedures for an unknown proportion $p$ in a Bernoulli population. The sample proportion $\\hat{p}$ from a random sample of size $n$ is an unbiased estimate of $p$. Inferences on p are based on the central limit theorem (CLT) result that for large $n$, the sample proportion $\\hat{p}$ is approximately normal with mean = $p$ and standard deviation = $\\sqrt{pq/n}$ . A large sample two-sided 100(1- $\\alpha$)% confidence interval for $p$ is given by\n",
    "\n",
    "$$\n",
    "\\left[ \\hat{p} \\pm z_{\\alpha /2} \\sqrt{\\frac{\\hat{p} \\hat{q}}{n}}\\;\\right]\n",
    "$$\n",
    "\n",
    "where $\\hat{q}$ = 1 - $\\hat{p}$ and $z_{\\alpha/2}$ is the upper $\\alpha/2$ critical point of the standard normal distribution. A large sample test on $p$ to test $H_0: p = p_0$ can be based on the test statistic\n",
    "\n",
    "$$\n",
    "z = \\frac{\\hat{p} - p_0}{\\sqrt{\\hat{p}\\hat{q}/n}} \\quad \\text{or} \\quad \n",
    "z = \\frac{\\hat{p} - p_0}{\\sqrt{p_0 q_0 / n}}.\n",
    "$$\n",
    "\n",
    "Both these statistics are asymptotically standard normal under $H_0$."
   ]
  },
  {
   "cell_type": "markdown",
   "id": "0e0fd2c6-a891-4d89-b524-44e7bde59409",
   "metadata": {},
   "source": [
    "### Ex 9.1\n",
    "\n",
    "A business journal publisher plans to survey a sample of the subscribers to estimate the proportion $p$ with annual household incomes over $100.000."
   ]
  },
  {
   "cell_type": "markdown",
   "id": "d24f452e-97e8-4d1d-8601-005a1ef060e8",
   "metadata": {},
   "source": [
    "#### (a)\n",
    "\n",
    "How many subscribers must be surveyed to obtain a 99% CI for $p$ with a margin of error no greater than 0.05? Assume that no prior estimate of $p$ is available."
   ]
  },
  {
   "cell_type": "markdown",
   "id": "f8941fac-d57e-42b0-af1c-2e1a647ca879",
   "metadata": {},
   "source": [
    "✍️ The margin of error\n",
    "\n",
    "$$\n",
    "E = z_{\\alpha/2} \\sqrt{\\frac{p q}{n}} \\text{.}\n",
    "$$\n",
    "\n",
    "Therefore,\n",
    "\n",
    "$$\n",
    "n = \\frac{z_\\alpha^2 p q}{E^2}\n",
    "$$\n",
    "\n",
    "Because no previous estimate of $p$ is available, we use $1/2$ as a conservative estimate."
   ]
  },
  {
   "cell_type": "code",
   "execution_count": 7,
   "id": "0e68a7c3-6fae-4f09-bfbf-d78a35dc378a",
   "metadata": {},
   "outputs": [
    {
     "name": "stdout",
     "output_type": "stream",
     "text": [
      "664.0\n"
     ]
    }
   ],
   "source": [
    "α = 1 - 0.99\n",
    "p = 1/2\n",
    "n = stats.norm.ppf(1-α/2)**2 * p * (1-p)/ 0.05**2\n",
    "print(np.ceil(n))"
   ]
  },
  {
   "cell_type": "markdown",
   "id": "27d853b9-f03f-4442-95c7-c3542d27d2d3",
   "metadata": {},
   "source": [
    "So 664 subscribers should be serveyed."
   ]
  },
  {
   "cell_type": "markdown",
   "id": "d1a65617-5fd9-41d3-8b83-8328f7db5a0b",
   "metadata": {},
   "source": [
    "#### (b)\n",
    "\n",
    "The marketing department thinks that $p$ = 0.30 would be a reasonable guess. What is the corresponding sample size?"
   ]
  },
  {
   "cell_type": "code",
   "execution_count": 10,
   "id": "740f29e7-5701-47ab-a919-2d7cf6ffcf2a",
   "metadata": {},
   "outputs": [
    {
     "name": "stdout",
     "output_type": "stream",
     "text": [
      "558.0\n"
     ]
    }
   ],
   "source": [
    "α = 1 - 0.99\n",
    "p = 0.3\n",
    "n = stats.norm.ppf(1-α/2)**2 * p * (1-p)/ 0.05**2\n",
    "print(np.ceil(n))"
   ]
  },
  {
   "cell_type": "markdown",
   "id": "9ed8c102-0460-41c1-a380-2194415aeefb",
   "metadata": {},
   "source": [
    "#### (c)\n",
    "\n",
    "Refer to the sample size obtained in (b). If a 40% nonresponse rate is anticipated, how many surveys need to be mailed? How may such a high nonresponse rate cause bias in the estimate?"
   ]
  },
  {
   "cell_type": "code",
   "execution_count": 13,
   "id": "e5c4b29b-29f9-4b6e-abad-f1fd1026aa30",
   "metadata": {},
   "outputs": [
    {
     "name": "stdout",
     "output_type": "stream",
     "text": [
      "929.0\n"
     ]
    }
   ],
   "source": [
    "non_response_rate = 0.4\n",
    "mails = n / (1 - non_response_rate)\n",
    "print(np.ceil(mails))"
   ]
  },
  {
   "cell_type": "markdown",
   "id": "5932d4f8-1be9-45f0-9c4a-5880fe69363b",
   "metadata": {},
   "source": [
    "Assuming the responses tend to come from higher-income households, the result may overestimate $p$."
   ]
  },
  {
   "cell_type": "markdown",
   "id": "b0ead40d-9985-4da8-bbf2-824531356006",
   "metadata": {},
   "source": [
    "### Ex 9.2\n",
    "\n",
    "While imprisoned by the Germans during World War II, the English mathematician John Kerrich tossed a coin 10,000 times and obtained 5067 heads. Let $p$ be the probability of a head on a single toss. We wish to check if the data are consistent with the hypothesis that the coin was fair."
   ]
  },
  {
   "cell_type": "markdown",
   "id": "fe4ddeeb-5756-424e-8d18-f53c30a8b491",
   "metadata": {},
   "source": [
    "#### (a)\n",
    "Set up the hypotheses. Why should the alternative be two-sided?"
   ]
  },
  {
   "cell_type": "markdown",
   "id": "cd0115af-7434-47ad-a6ed-c48247156d11",
   "metadata": {},
   "source": [
    "✍️\n",
    "\n",
    "$$\n",
    "\\begin{align*}\n",
    "H_0: & p = 1/2\\text{, v.s.} \\\\\n",
    "H_1: & p \\ne 1/2 \\text{.}\n",
    "\\end{align*}\n",
    "$$\n",
    "\n",
    "$H_1$ is two-sided because if the coin is not fair, $p$ could be either $> 1/2$ or $< 1/2$."
   ]
  },
  {
   "cell_type": "markdown",
   "id": "0df40619-adb0-4b4a-8d84-d671774778cd",
   "metadata": {},
   "source": [
    "#### (b)\n",
    "Calculate the $P$-value. Can you reject $H_0$ at the .05 level?"
   ]
  },
  {
   "cell_type": "code",
   "execution_count": 28,
   "id": "706e1add-3420-4230-b3bd-7da6f4e8ffb0",
   "metadata": {},
   "outputs": [
    {
     "name": "stdout",
     "output_type": "stream",
     "text": [
      "0.18024534492890254\n"
     ]
    }
   ],
   "source": [
    "n = 10_000\n",
    "p = 1/2\n",
    "q = 1 - p\n",
    "z = (5067/n - p)/np.sqrt(p*q/n)\n",
    "p_val = 2 * stats.norm.sf(z)\n",
    "print(p_val)"
   ]
  },
  {
   "cell_type": "markdown",
   "id": "635266d7-8972-4fe9-9490-de3295befda5",
   "metadata": {},
   "source": [
    "Because 0.18 > 0.05, cannot reject $H_0$."
   ]
  },
  {
   "cell_type": "markdown",
   "id": "c4eb1662-0f39-41ae-ab8a-5ce1c8afc65a",
   "metadata": {},
   "source": [
    "#### (c)\n",
    "Find a 95% CI for the proportion of heads for Kerrich's coin."
   ]
  },
  {
   "cell_type": "code",
   "execution_count": 27,
   "id": "e81bdda3-16ca-4c28-bc4b-80895f9dc3e9",
   "metadata": {},
   "outputs": [
    {
     "name": "stdout",
     "output_type": "stream",
     "text": [
      "(0.49690018007729975, 0.5164998199227003)\n"
     ]
    }
   ],
   "source": [
    "α = 1 - 0.95\n",
    "margin_of_error = float(stats.norm.ppf(1-α/2) * np.sqrt(p*q/n))\n",
    "ci = (5067/n - margin_of_error, 5067/n + margin_of_error)\n",
    "print(ci)"
   ]
  },
  {
   "cell_type": "markdown",
   "id": "9aa19ce1-6ea4-4d0b-a154-1cd1295b9078",
   "metadata": {},
   "source": [
    "### Ex 9.3\n",
    "\n",
    "Calls to technical support service of a software company are monitored on a sampling basis for quality assurance. Each monitored call is classified as satisfactory or unsatisfactory by the supervisor in terms of the quality of help offered. A random sample of 100 calls was monitored over one month for a new trainee; 8 calls were classified as unsatisfactory."
   ]
  },
  {
   "cell_type": "markdown",
   "id": "b0b25caf-0b9c-46e2-a629-edc56fadb6d9",
   "metadata": {},
   "source": [
    "#### (a)\n",
    "Calculate a 95% CI for the actual proportion of unsatisfactory calls during the month.\n",
    "Use both formulas (9.1) and (9.3) and compare the results."
   ]
  },
  {
   "cell_type": "markdown",
   "id": "dc2d2141-096e-41b4-92fa-c141b1122fcd",
   "metadata": {},
   "source": [
    "✍️ Formula (9.1):\n",
    "\n",
    "$$\n",
    "\\hat{p} - z_{\\alpha/2}\\sqrt{\\frac{\\hat{p}\\hat{q}}{n}} \\le p \\le \\hat{p} + z_{\\alpha/2}\\sqrt{\\frac{\\hat{p}\\hat{q}}{n}} \n",
    "$$"
   ]
  },
  {
   "cell_type": "code",
   "execution_count": 29,
   "id": "f6e29646-78f3-496a-a90d-530714b94007",
   "metadata": {},
   "outputs": [
    {
     "name": "stdout",
     "output_type": "stream",
     "text": [
      "(0.02682751000723329, 0.1331724899927667)\n"
     ]
    }
   ],
   "source": [
    "α = 1 - 0.95\n",
    "n = 100\n",
    "p = 8/100\n",
    "q = 1 - p\n",
    "margin_of_error = float(stats.norm.ppf(1-α/2) * np.sqrt(p*q/n))\n",
    "ci = (p - margin_of_error, p + margin_of_error)\n",
    "print(ci)"
   ]
  },
  {
   "cell_type": "markdown",
   "id": "d5b3877f-98c3-4262-bbea-8f67f2efc166",
   "metadata": {},
   "source": [
    "Formula (9.3):\n",
    "\n",
    "$$\n",
    "\\frac{\\hat{p} + \\frac{z^2}{2n} - \\sqrt{\\frac{\\hat{p}\\hat{q}z^2}{n} + \\frac{z^4}{4n^2}}}{1 + \\frac{z^2}{n}} \n",
    "\\le p \\le  \n",
    "\\frac{\\hat{p} + \\frac{z^2}{2n} + \\sqrt{\\frac{\\hat{p}\\hat{q}z^2}{n} + \\frac{z^4}{4n^2}}}{1 + \\frac{z^2}{n}} \n",
    "$$\n",
    "\n",
    "where $z$ = $z_{\\alpha/2}$."
   ]
  },
  {
   "cell_type": "code",
   "execution_count": 34,
   "id": "01193ee4-aa9d-4c15-a503-bc0ed0c8f5b9",
   "metadata": {},
   "outputs": [
    {
     "name": "stdout",
     "output_type": "stream",
     "text": [
      "(0.04109346148438062, 0.14998107700948735)\n"
     ]
    }
   ],
   "source": [
    "α = 1 - 0.95\n",
    "z = stats.norm.ppf(1-α/2)\n",
    "n = 100\n",
    "p = 8/100\n",
    "q = 1 - p\n",
    "denom = 1 + z**2/n\n",
    "margin = np.sqrt(p*q*z**2/n + z**4/(4*n**2)) / denom\n",
    "mid = (p + z**2/(2*n)) / denom \n",
    "ci = (float(mid - margin), float(mid + margin))\n",
    "print(ci)"
   ]
  },
  {
   "cell_type": "markdown",
   "id": "43a40c37-0f2f-4cd1-b91a-e1e4d6cee001",
   "metadata": {},
   "source": [
    "Formula (9.3) gives a slightly higher CI than formula (9.1). (shifts to the right by about 0.015)"
   ]
  },
  {
   "cell_type": "markdown",
   "id": "f3c27656-dd92-4e46-b4e7-8d458d32835e",
   "metadata": {},
   "source": [
    "#### (b) \n",
    "This CI is used to test $H_0: p = 0.10$ vs. $H_1: p \\ne 0.10$. If $H_0$ is not rejected, then monitoring of the trainee is continued at the same frequency; if $H_0$ is rejected in the lower tail, then monitoring frequency is reduced; and if $H_0$ is rejected in the upper tail, then the trainee is provided additional training. Based on the CI calculated in (a), what action should be taken on this trainee?"
   ]
  },
  {
   "cell_type": "markdown",
   "id": "b4e44d94-1582-40a7-855c-c3bf87c675f3",
   "metadata": {},
   "source": [
    "✍️ Because 0.1 is contained in the CI (for both formulas), $H_0$ is not rejected. Therefore monitoring will continue at the same frequency."
   ]
  },
  {
   "cell_type": "markdown",
   "id": "11e3dda7-cd39-41bf-9c43-740ca6dd02ad",
   "metadata": {},
   "source": [
    "### Ex 9.4\n",
    "\n",
    "The fraction defective in a high volume production process is to be estimated using a 95% CI with a margin of error of 0.2%."
   ]
  },
  {
   "cell_type": "markdown",
   "id": "68b61cff-1180-4fa7-a964-5bf7ca85920b",
   "metadata": {},
   "source": [
    "#### (a) \n",
    "If the a priori guess at the fraction defective is 1%, how many parts should be sampled? Compare this number with the sample size that you would need if no a priori information regarding the true fraction defective is assumed."
   ]
  },
  {
   "cell_type": "markdown",
   "id": "279cd50f-599f-491b-904c-768f51f8c701",
   "metadata": {},
   "source": [
    "✍️ \n",
    "\n",
    "$$\n",
    "n = \\frac{z_\\alpha^2 p q}{E^2}\n",
    "$$"
   ]
  },
  {
   "cell_type": "code",
   "execution_count": 43,
   "id": "ce361d22-8951-4814-9250-b660cb60b58c",
   "metadata": {},
   "outputs": [
    {
     "name": "stdout",
     "output_type": "stream",
     "text": [
      "[  9508. 240092.]\n"
     ]
    }
   ],
   "source": [
    "α = 1 - 0.95\n",
    "p = np.array([0.01, 0.5])\n",
    "n = stats.norm.ppf(1-α/2)**2 * p * (1-p)/ 0.002**2\n",
    "print(np.ceil(n))"
   ]
  },
  {
   "cell_type": "markdown",
   "id": "87dd2eb9-1a12-43ee-9e1d-a34261fc0931",
   "metadata": {},
   "source": [
    "#### (b)\n",
    "One problem with estimating a very low fraction defective is that no defectives may be obtained in the sample, making it impossible to calculate a CI. What sampling method would you use to ensure that there will be sufficient number of defectives in the sample to provide reliable information on the true fraction defective?"
   ]
  },
  {
   "cell_type": "markdown",
   "id": "f8716c6c-b0cf-4528-b86c-fa986ae89558",
   "metadata": {},
   "source": [
    "✍️ Start with a small sample and, if no defectives are found, continue to add to the sample until a certain number of defectives are observed and the current sample provides enough evidence about the proportion of defectives."
   ]
  },
  {
   "cell_type": "markdown",
   "id": "bf7b3c69-ec2b-41ca-8142-073b006e2503",
   "metadata": {},
   "source": [
    "### Ex 9.5\n",
    "\n",
    "A quarterback from a Big Ten college football team worked to improve his proportion of completed passes. His career average had been 46.5% completed passes. His record halfway into the new season is 82 completed passes out of 151 attempted."
   ]
  },
  {
   "cell_type": "markdown",
   "id": "c742fe9d-d22c-4db4-b717-8d353437d17f",
   "metadata": {},
   "source": [
    "#### (a) \n",
    "Set up the hypotheses to test whether his proportion of completed passes has improved. Should the alternative be one-sided or two-sided? Explain."
   ]
  },
  {
   "cell_type": "markdown",
   "id": "da6833b2-4201-44c5-ace1-cd7b3c914c20",
   "metadata": {},
   "source": [
    "✍️ Because we are looking for signs of improvement, one-sided alternative should be used.\n",
    "\n",
    "$$\n",
    "H_0: p = p_0 = 46.5\\% \\quad \\text{v.s.} \\quad H_1: p > p_0 \n",
    "$$"
   ]
  },
  {
   "cell_type": "markdown",
   "id": "40bc6368-33dd-4be4-9ba9-569bd73459d8",
   "metadata": {},
   "source": [
    "#### (b) \n",
    "Perform a test at $\\alpha$ = .05. Is there a significant improvement?"
   ]
  },
  {
   "cell_type": "code",
   "execution_count": 49,
   "id": "0aab3b76-6dc4-4b85-83a0-56fe7aa5fbb5",
   "metadata": {},
   "outputs": [
    {
     "name": "stdout",
     "output_type": "stream",
     "text": [
      "0.027251575849474706\n"
     ]
    }
   ],
   "source": [
    "k, n = 82, 151\n",
    "p0 = 0.465\n",
    "z = (k/n - p0) / np.sqrt(p0*(1-p0)/n)\n",
    "pvalue = stats.norm.sf(z)\n",
    "print(pvalue)"
   ]
  },
  {
   "cell_type": "markdown",
   "id": "b75e1d50-0381-4c80-93e9-7e4aabb0dff3",
   "metadata": {},
   "source": [
    "Or use the exact, binomial test:"
   ]
  },
  {
   "cell_type": "code",
   "execution_count": 47,
   "id": "73e18d3b-82ee-41f8-9867-aac879f0d345",
   "metadata": {},
   "outputs": [
    {
     "name": "stdout",
     "output_type": "stream",
     "text": [
      "0.032948694746468936\n"
     ]
    }
   ],
   "source": [
    "test = stats.binomtest(k=82, n=151, p=0.465, alternative='greater')\n",
    "print(test.pvalue)"
   ]
  },
  {
   "cell_type": "markdown",
   "id": "e2214cda-b9ef-48f8-934d-da661fe92db7",
   "metadata": {},
   "source": [
    "Both methods result in $p < \\alpha$, so yes, there is significant improvement."
   ]
  },
  {
   "cell_type": "markdown",
   "id": "1a3a351f-dbe8-4dcd-9a90-233355cb0dfb",
   "metadata": {},
   "source": [
    "#### (c) \n",
    "At least how many passes out of 151 should he have completed in order to demonstrate significant improvement at $\\alpha$ = .025?"
   ]
  },
  {
   "cell_type": "markdown",
   "id": "c8477b7b-69a8-4de7-ac85-6c35346893b0",
   "metadata": {},
   "source": [
    "✍️ The $z$ statistic should be at least"
   ]
  },
  {
   "cell_type": "code",
   "execution_count": 51,
   "id": "413cdc21-d939-457b-b156-663cb96a489e",
   "metadata": {},
   "outputs": [
    {
     "name": "stdout",
     "output_type": "stream",
     "text": [
      "1.959963984540054\n"
     ]
    }
   ],
   "source": [
    "α = .025\n",
    "z = stats.norm.ppf(1-α)\n",
    "print(z)"
   ]
  },
  {
   "cell_type": "markdown",
   "id": "66480dcf-dd12-4701-ab76-d5c097bdb020",
   "metadata": {},
   "source": [
    "Therefore,"
   ]
  },
  {
   "cell_type": "code",
   "execution_count": 53,
   "id": "eb8e02c7-b887-4d95-9742-a113c2661377",
   "metadata": {},
   "outputs": [
    {
     "name": "stdout",
     "output_type": "stream",
     "text": [
      "83.0\n"
     ]
    }
   ],
   "source": [
    "k = n * (z * np.sqrt(p0*(1-p0)/n) + p0)\n",
    "print(np.ceil(k))"
   ]
  },
  {
   "cell_type": "markdown",
   "id": "d98d61b5-3122-4d39-819a-01a5a5c9f19f",
   "metadata": {},
   "source": [
    "At $\\alpha$ = .025, he should complete 83 passes or more."
   ]
  },
  {
   "cell_type": "markdown",
   "id": "4a1294ea-de87-47ec-97b8-2d5ad411cfaf",
   "metadata": {},
   "source": [
    "### Ex 9.6\n",
    "\n",
    "A blood test intended to identify patients at \"high risk\" of cardiac disease gave positive results on 80 out of 100 known cardiac patients, but also on 16 out of 200 known normal patients."
   ]
  },
  {
   "cell_type": "markdown",
   "id": "1f610255-540b-4c14-bf13-81cf8adafda4",
   "metadata": {},
   "source": [
    "#### (a) \n",
    "Find a 90% CI for the sensitivity of the test, which is defined as the probability that a cardiac patient is correctly identified."
   ]
  },
  {
   "cell_type": "code",
   "execution_count": 3,
   "id": "fc43c4e0-776a-485c-b423-8dd388a44865",
   "metadata": {},
   "outputs": [
    {
     "name": "stdout",
     "output_type": "stream",
     "text": [
      "(0.7342058549219411, 0.865794145078059)\n"
     ]
    }
   ],
   "source": [
    "α = 1 - 0.9\n",
    "n = 100\n",
    "p = 80/100\n",
    "margin = float(stats.norm.ppf(1-α/2) * np.sqrt(p*(1-p)/n))\n",
    "ci = (p - margin, p + margin)\n",
    "print(ci)"
   ]
  },
  {
   "cell_type": "markdown",
   "id": "952786f3-2976-4f61-adf9-a42b2ff3c27c",
   "metadata": {},
   "source": [
    "Compare it with"
   ]
  },
  {
   "cell_type": "code",
   "execution_count": 14,
   "id": "f2c6cbdc-777e-42ce-acc3-75c75e326469",
   "metadata": {},
   "outputs": [
    {
     "data": {
      "text/plain": [
       "ConfidenceInterval(low=0.7227997503290864, high=0.8633386747541124)"
      ]
     },
     "execution_count": 14,
     "metadata": {},
     "output_type": "execute_result"
    }
   ],
   "source": [
    "(\n",
    "    stats.binomtest(k=80, n=100, alternative='two-sided')\n",
    "    .proportion_ci(confidence_level=0.9)\n",
    ")"
   ]
  },
  {
   "cell_type": "markdown",
   "id": "41c00d13-e207-4e03-a1b7-5e3cc5ea7700",
   "metadata": {},
   "source": [
    "#### (b) \n",
    "Find a 90% CI for the specifidty of the test, which is defined as the probability that a normal patient is correctly identified."
   ]
  },
  {
   "cell_type": "code",
   "execution_count": 15,
   "id": "e1e31362-da61-46f2-909d-d3f8c2e7f5d2",
   "metadata": {},
   "outputs": [
    {
     "data": {
      "text/plain": [
       "ConfidenceInterval(low=0.8810282256716788, high=0.9491782829700732)"
      ]
     },
     "execution_count": 15,
     "metadata": {},
     "output_type": "execute_result"
    }
   ],
   "source": [
    "(\n",
    "    stats.binomtest(k=200-16, n=200, alternative='two-sided')\n",
    "    .proportion_ci(confidence_level=0.9)\n",
    ")"
   ]
  },
  {
   "cell_type": "markdown",
   "id": "5a62c11f-dd28-4b24-868f-94424cbadd8d",
   "metadata": {},
   "source": [
    "### Ex 9.7\n",
    "\n",
    "People at high risk of sudden cardiac death can be identified using the change in a signal averaged electrocardiogram before and after prescribed activities. The current method is about 80% accurate. The method was modified, hoping to improve its accuracy. The new method is tested on 50 people and gave correct results on 46 patients. Is this convincing\n",
    "evidence that the new method is more accurate?"
   ]
  },
  {
   "cell_type": "markdown",
   "id": "5d8b596d-6a6b-45ce-9d32-6232ba53fc95",
   "metadata": {},
   "source": [
    "#### (a) \n",
    "Set up the hypotheses to test that the accuracy of the new method is better than that of the current method."
   ]
  },
  {
   "cell_type": "markdown",
   "id": "800a51a6-b786-48e5-a68c-208e315f78e6",
   "metadata": {},
   "source": [
    "✍️ \n",
    "\n",
    "$$\n",
    "H_0: p = 0.8 \\quad \\text{v.s.} \\quad H_1: p > 0.8 .\n",
    "$$"
   ]
  },
  {
   "cell_type": "markdown",
   "id": "e0f973fb-68b7-4786-be35-b6c884bcdca6",
   "metadata": {},
   "source": [
    "#### (b) \n",
    "Perform a test of the hypotheses at $\\alpha$ = .05. What do you conclude about the accuracy of the new method?"
   ]
  },
  {
   "cell_type": "code",
   "execution_count": 9,
   "id": "1b6e6400-7081-4365-ba6b-2d4df04f11f1",
   "metadata": {},
   "outputs": [
    {
     "name": "stdout",
     "output_type": "stream",
     "text": [
      "0.016947426762344633\n"
     ]
    }
   ],
   "source": [
    "n = 50\n",
    "p0 = 0.8\n",
    "p = 46/50\n",
    "z = (p - p0) / np.sqrt(p0*(1-p0)/n)\n",
    "pval = stats.norm.sf(z)\n",
    "print(pval)"
   ]
  },
  {
   "cell_type": "code",
   "execution_count": 8,
   "id": "2fe8cff0-8bb7-4ee2-b640-8416f00e55c4",
   "metadata": {},
   "outputs": [
    {
     "name": "stdout",
     "output_type": "stream",
     "text": [
      "0.018496015060209342\n"
     ]
    }
   ],
   "source": [
    "test = stats.binomtest(k=46, n=50, p=0.8, alternative='greater')\n",
    "print(test.pvalue)"
   ]
  },
  {
   "cell_type": "markdown",
   "id": "2cea914c-eb37-46a4-9a3d-5904b20cf2e5",
   "metadata": {},
   "source": [
    "The new method is significantly more accurate."
   ]
  },
  {
   "cell_type": "markdown",
   "id": "de834142-7519-4c3e-b4d1-906a3d5bbb55",
   "metadata": {},
   "source": [
    "### Ex 9.8\n",
    "\n",
    "Refer to the previous exercise."
   ]
  },
  {
   "cell_type": "markdown",
   "id": "3eba587e-7953-43ff-ba0f-9fb2ec398ab7",
   "metadata": {},
   "source": [
    "#### (a) \n",
    "If the new method actually has 90% accuracy, what power does a sample of 50 have to demonstrate that the new method is better, using a .05-level test?"
   ]
  },
  {
   "cell_type": "markdown",
   "id": "bab79b7c-715f-4fc4-8fa7-d8ae9a5ef478",
   "metadata": {},
   "source": [
    "✍️ Knowing that $\\frac{\\hat{p} - p_1}{\\sqrt{p_1 q_1 / n}} \\sim N(0,1)$, the power\n",
    "\n",
    "$$\n",
    "\\begin{align*}\n",
    "\\pi &= \\mathrm{P}\\left\\{\\frac{\\hat{p} - p_0}{\\sqrt{\\frac{p_0 q_0}{n}}} > z_{\\alpha}\\right\\}\\\\\n",
    "&= \\mathrm{P}\\left\\{ \\frac{\\hat{p} - p_1}{\\sqrt{\\frac{p_1 q_1}{n}}} > \n",
    "    z_{\\alpha} \\sqrt{\\frac{p_0 q_0}{p_1 q_1}} + \\frac{p_0 - p_1}{\\sqrt{\\frac{p_1 q_1}{n}}} \\right\\} \\\\\n",
    "&= 1-\\Phi\\left( z_{\\alpha} \\sqrt{\\frac{p_0 q_0}{p_1 q_1}} + \\frac{p_0 - p_1}{\\sqrt{\\frac{p_1 q_1}{n}}}\\right) \\\\\n",
    "&= \\Phi\\left( \\frac{(p_1 - p_0) \\sqrt{n} - z_\\alpha \\sqrt{p_0 q_0}}{\\sqrt{p_1 q_1}} \\right) \\text{.}\n",
    "\\end{align*}\n",
    "$$"
   ]
  },
  {
   "cell_type": "code",
   "execution_count": 2,
   "id": "2508ae1b-af37-4c5f-91cc-a93b6a3247aa",
   "metadata": {},
   "outputs": [
    {
     "name": "stdout",
     "output_type": "stream",
     "text": [
      "0.5650889396286685\n"
     ]
    }
   ],
   "source": [
    "α = .05\n",
    "p0 = 0.8\n",
    "p1 = 0.9\n",
    "n = 50\n",
    "z = ((p1-p0)*np.sqrt(n) - stats.norm.ppf(1-α)*np.sqrt(p0*(1-p0))) / np.sqrt(p1*(1-p1))\n",
    "power = float(stats.norm.cdf(z))\n",
    "print(power)"
   ]
  },
  {
   "cell_type": "markdown",
   "id": "84e37dc6-90e3-49f6-a0d4-4a7ee5153ebf",
   "metadata": {},
   "source": [
    "#### (b) \n",
    "How many patients should be tested in order for this power to be at least 0.75?"
   ]
  },
  {
   "cell_type": "markdown",
   "id": "70b0fafa-76e1-462a-abf6-e444fbd270a7",
   "metadata": {},
   "source": [
    "✍️ Using the result from (a) and letting $\\pi = 0.75 = 1-\\beta$, we have\n",
    "\n",
    "$$\n",
    "\\frac{(p_1 - p_0) \\sqrt{n} - z_\\alpha \\sqrt{p_0 q_0}}{\\sqrt{p_1 q_1}} = z_{\\beta} \\text{,}\n",
    "$$\n",
    "\n",
    "therefore,\n",
    "\n",
    "$$\n",
    "n = \\left( \\frac{z_\\beta \\sqrt{p_1 q_1} + z_\\alpha \\sqrt{p_0 q_0}}{p_1 - p_0} \\right)^2 \\text{.}\n",
    "$$"
   ]
  },
  {
   "cell_type": "code",
   "execution_count": 3,
   "id": "fc2029f1-1e04-4bce-8e8c-fbfa8f65df3c",
   "metadata": {},
   "outputs": [
    {
     "name": "stdout",
     "output_type": "stream",
     "text": [
      "75.0\n"
     ]
    }
   ],
   "source": [
    "β = 1 - 0.75\n",
    "n = ((stats.norm.ppf(1-β)*np.sqrt(p1*(1-p1)) + stats.norm.ppf(1-α)*np.sqrt(p0*(1-p0)))/(p0 - p1))**2\n",
    "print(np.ceil(n))"
   ]
  },
  {
   "cell_type": "markdown",
   "id": "0922ae34-5020-4272-8111-278429d95f88",
   "metadata": {},
   "source": [
    "### Ex 9.9\n",
    "\n",
    "A preelection poll is to be planned for a senatorial election between two candidates. Previous polls have shown that the election is hanging in delicate balance. If there is a shift (in either direction) by more than 2 percentage points since the last poll, then the polling agency would like to detect it with probability of at least 0.80 using a .05-level test. Determine how many voters should be polled. If actually 2500 voters are polled, what is the value of this probability?"
   ]
  },
  {
   "cell_type": "markdown",
   "id": "5bbc5d84-2d83-4613-9b5e-fdac6ebc07e2",
   "metadata": {},
   "source": [
    "✍️ We are considering the case when the real poll percentage is either > 52% or < 48%, but not both. So it is essentially the same as Ex. 9.8 except we should substitute $z_{\\alpha/2}$ for $z_\\alpha$ in the formula for $n$, giving\n",
    "\n",
    "$$\n",
    "n = \\left( \\frac{z_\\beta \\sqrt{p_1 q_1} + z_{\\alpha/2} \\sqrt{p_0 q_0}}{p_1 - p_0} \\right)^2 \\text{.}\n",
    "$$\n",
    "\n",
    "Note that for $p_1 = 1/2 \\pm \\delta$, the result would be the same."
   ]
  },
  {
   "cell_type": "code",
   "execution_count": 4,
   "id": "a9de519d-66cf-45f6-b383-aa8923070e30",
   "metadata": {},
   "outputs": [
    {
     "name": "stdout",
     "output_type": "stream",
     "text": [
      "4904.0\n"
     ]
    }
   ],
   "source": [
    "β = 1 - 0.8\n",
    "α = .05\n",
    "p1 = 0.52 # or 0.48, the result will be the same.\n",
    "p0 = 0.5\n",
    "n = ((stats.norm.ppf(1-β)*np.sqrt(p1*(1-p1)) + stats.norm.ppf(1-α/2)*np.sqrt(p0*(1-p0)))/(p0 - p1))**2\n",
    "print(np.ceil(n))"
   ]
  },
  {
   "cell_type": "markdown",
   "id": "ac81ba15-f645-4052-a5f5-f804e42af41e",
   "metadata": {},
   "source": [
    "If actually 2500 voters are polled, the power\n",
    "\n",
    "$$\n",
    "\\begin{align*}\n",
    "\\pi &= \\mathrm{P}\\left\\{\\frac{\\hat{p} - p_0}{\\sqrt{\\frac{p_0 q_0}{n}}} > z_{\\alpha/2}\\right\\}\n",
    "    + \\mathrm{P}\\left\\{\\frac{\\hat{p} - p_0}{\\sqrt{\\frac{p_0 q_0}{n}}} < -z_{\\alpha/2}\\right\\}\\\\\n",
    "&= \\Phi\\left( \\frac{(p_1 - p_0) \\sqrt{n} - z_{\\alpha/2} \\sqrt{p_0 q_0}}{\\sqrt{p_1 q_1}} \\right)\n",
    "    + \\Phi\\left( \\frac{(p_0 - p_1) \\sqrt{n} - z_{\\alpha/2} \\sqrt{p_0 q_0}}{\\sqrt{p_1 q_1}} \\right) \\text{.}\n",
    "\\end{align*}\n",
    "$$"
   ]
  },
  {
   "cell_type": "markdown",
   "id": "4533bf56-263b-4848-a7a2-d851acbe9ab0",
   "metadata": {},
   "source": [
    "Again, for $p_1 = 1/2 \\pm \\delta$, the result would be the same."
   ]
  },
  {
   "cell_type": "code",
   "execution_count": 28,
   "id": "a51f36cb-c3a7-4b0d-897a-06fe8096ac84",
   "metadata": {},
   "outputs": [
    {
     "name": "stdout",
     "output_type": "stream",
     "text": [
      "0.5160175620301128\n"
     ]
    }
   ],
   "source": [
    "α = .05\n",
    "p0 = 0.5\n",
    "p1 = 0.52 # or 0.48, the result will be the same\n",
    "n = 2500\n",
    "z1 = ((p1-p0)*np.sqrt(n) - stats.norm.ppf(1-α/2)*np.sqrt(p0*(1-p0))) / np.sqrt(p1*(1-p1))\n",
    "z2 = ((p0-p1)*np.sqrt(n) - stats.norm.ppf(1-α/2)*np.sqrt(p0*(1-p0))) / np.sqrt(p1*(1-p1))\n",
    "power = float(stats.norm.cdf(z1) + stats.norm.cdf(z2))\n",
    "print(power)"
   ]
  },
  {
   "cell_type": "markdown",
   "id": "5c9d62d7-575a-418c-9c88-4c89dca84bad",
   "metadata": {},
   "source": [
    "## 9.2 Inferences for Comparing Two Proportions"
   ]
  },
  {
   "cell_type": "markdown",
   "id": "8aec0625-eba7-473e-a4b9-9f063270ce1c",
   "metadata": {},
   "source": [
    "Next we consider the problem of comparing two Bernoulli proportions, $p_1$ and $p_2$, based on two independent random samples of sizes $n_1$ and $n_2$. The basis for inferences on $p_1 - p_2$ is the result that for large $n_1$ and $n_2$, the difference in the sample proportions, $\\hat{p}_1 - \\hat{p}_2$, is approximately normal with mean = $p_1 - p_2$ and standard deviation = $\\sqrt{p_1 q_1 / n_1 + p_2 q_2 / n_2}$ . A large sample two- sided 100(1 - $\\alpha$)% confidence interval for $p_1 - p_2$ is given by\n",
    "\n",
    "$$\n",
    "\\left[ \\hat{p}_1 - \\hat{p}_2 \\pm z_{\\alpha/2} \\sqrt{\\frac{\\hat{p}_1 \\hat{q}_1}{n_1} + \\frac{\\hat{p}_2 \\hat{q}_2}{n_2}}\\; \\right].\n",
    "$$\n",
    "\n",
    "A large sample two-sided $z$-test can be used to test $H_0: p_1 = p_2$ vs. $H_1: p_1 \\ne  p_2$ by using the test statistic\n",
    "\n",
    "$$\n",
    "z = \\frac{\\hat{p}_1 - \\hat{p}_2}{\\sqrt{\\frac{\\hat{p}_1 \\hat{q}_1}{n_1} + \\frac{\\hat{p}_2 \\hat{q}_2}{n_2}}}\n",
    "\\quad \\text{or} \\quad \n",
    "z = \\frac{\\hat{p}_1 - \\hat{p}_2}{\\sqrt{\\hat{p}\\hat{q}\\left(\\frac{1}{n_1} + \\frac{1}{n_2}\\right)}}\n",
    "$$\n",
    "\n",
    "\n",
    "where $\\hat{p} = (n_1\\hat{p}_1 + n_2\\hat{p}_2)/(n_1 + n_2)$ is the pooled sample proportion. Small sample tests to compare $p_1$ and $p_2$ are also given for independent samples (Fisher's exact test) and matched pairs designs (McNemar's test)."
   ]
  },
  {
   "cell_type": "markdown",
   "id": "d66a9669-feed-43f3-9d13-887427b69c8f",
   "metadata": {},
   "source": [
    "### Ex 9.10\n",
    "\n",
    "To gauge a change in opinion regarding the public view on bilingual education, a telephone poll was taken in September 1993 and again in September 1995. The results based on the survey of 1000 American adults contacted in each poll were that 40% from the 1993 poll and 48% from the 1995 poll favored teaching all children in English over bilingual alternatives. Has there been a significant change in opinion? Answer by doing a two-sided test for the significance of the difference in two proportions at $\\alpha$ = .05. Why is a two-sided alternative appropriate here?"
   ]
  },
  {
   "cell_type": "code",
   "execution_count": 9,
   "id": "6337e9fb-c31d-4a10-aac9-f705db204619",
   "metadata": {},
   "outputs": [
    {
     "name": "stdout",
     "output_type": "stream",
     "text": [
      "0.00031365894525581494\n"
     ]
    }
   ],
   "source": [
    "p1 = 0.4\n",
    "p2 = 0.48\n",
    "n1 = n2 = 1000\n",
    "p = (n1 * p1 + n2 * p2) / (n1 + n2)\n",
    "z = (p1 - p2) / np.sqrt(p*(1-p)*(1/n1 + 1/n2))\n",
    "pval = 2 * stats.norm.cdf(z)\n",
    "print(pval)"
   ]
  },
  {
   "cell_type": "markdown",
   "id": "66bc52a8-e1ff-4d40-8480-0768a1cfc26f",
   "metadata": {},
   "source": [
    "$P$-value < $\\alpha$, so there has been a significant change in opinion. A two-sided alternative was used because the question was to detect *change* without specifying a direction."
   ]
  },
  {
   "cell_type": "markdown",
   "id": "f5ee1b9b-9175-4a5c-8b9d-137adb0452ef",
   "metadata": {},
   "source": [
    "### Ex 9.11\n",
    "\n",
    "A high school had 17 students receive National Merit recognition (semifinalist or commendation) out of 482 seniors in 1992 and 29 students out of 503 seniors in 1995. Does this represent a significant change in the proportion recognized at this school? Answer by doing a two-sided test for the significance of the difference in two proportions at $\\alpha$ = .10. Why is a two-sided alternative appropriate here?"
   ]
  },
  {
   "cell_type": "code",
   "execution_count": 12,
   "id": "20c77338-605a-4262-9878-b15c029346b0",
   "metadata": {},
   "outputs": [
    {
     "name": "stdout",
     "output_type": "stream",
     "text": [
      "0.09603175006295907\n"
     ]
    }
   ],
   "source": [
    "p1 = 17/482\n",
    "p2 = 29/503\n",
    "n1 = 482\n",
    "n2 = 503\n",
    "p = (n1 * p1 + n2 * p2) / (n1 + n2)\n",
    "z = (p1 - p2) / np.sqrt(p*(1-p)*(1/n1 + 1/n2))\n",
    "pval = 2 * stats.norm.cdf(z)\n",
    "print(pval)"
   ]
  },
  {
   "cell_type": "markdown",
   "id": "8da34c40-3191-4189-add6-2e4461375960",
   "metadata": {},
   "source": [
    "$P$-value < $\\alpha$, so there has been a significant change (but barely). A two-sided alternative was appropriate because the question was to detect *change* without specifying a direction."
   ]
  },
  {
   "cell_type": "markdown",
   "id": "c0488be3-f255-460a-9be7-8f7cc4f62072",
   "metadata": {},
   "source": [
    "### Ex 9.12\n",
    "\n",
    "The following data set from a study by the well-known chemist and Nobel Laureate Linus Pauling (1901-1994) gives the incidence of cold among 279 French skiers who were randomized to the Vitamin C and Placebo groups.\n",
    "\n",
    "\n",
    "Group | Cold: Yes | Cold: No | Total\n",
    "---|---|---|---\n",
    "Vitamin C | 17 | 122 | 139\n",
    "Placebo | 31 | 109 | 140\n",
    "\n",
    "Is there a significant difference in the incidence rates for cold between the Vitamin C and Placebo groups at $\\alpha$ = .05? What do you conclude about the effectiveness of Vitamin C in preventing cold?"
   ]
  },
  {
   "cell_type": "code",
   "execution_count": 2,
   "id": "95ec30b2-69f5-400f-910a-bbc2d91354a9",
   "metadata": {},
   "outputs": [
    {
     "name": "stdout",
     "output_type": "stream",
     "text": [
      "0.0282718602468226\n"
     ]
    }
   ],
   "source": [
    "p1 = 17/139\n",
    "p2 = 31/140\n",
    "n1 = 139\n",
    "n2 = 140\n",
    "p = (n1 * p1 + n2 * p2) / (n1 + n2)\n",
    "z = (p1 - p2) / np.sqrt(p*(1-p)*(1/n1 + 1/n2))\n",
    "pval = 2 * stats.norm.cdf(z)\n",
    "print(pval)"
   ]
  },
  {
   "cell_type": "markdown",
   "id": "c807e7d1-808b-4564-8cb8-27c257f5c6bd",
   "metadata": {},
   "source": [
    "$P$-value < $\\alpha$, so there has been a significant difference between Vitamin C and Placebo groups, indicating that Vitamin C is effective in preventing cold."
   ]
  },
  {
   "cell_type": "markdown",
   "id": "602c7c6f-d67f-44b8-ba7b-488f1ebd74b1",
   "metadata": {},
   "source": [
    "### Ex 9.13\n",
    "\n",
    "The graduate degrees of faculty from a research group within a medical school were tabulated by gender, giving the following results.\n",
    "\n",
    "Gender | Degree: M.D. | Degree: Ph.D.\n",
    "---|---|---\n",
    "Male | 5 | 1 \n",
    "Female | 3 | 6"
   ]
  },
  {
   "cell_type": "markdown",
   "id": "0fb231ee-ea15-489c-9978-dedf3a64bf28",
   "metadata": {},
   "source": [
    "#### (a) \n",
    "Set up the hypotheses to determine whether the proportion of male M.D.'s differs from the proportion of female M.D.'s. Which statistical test is appropriate to test the hypotheses?"
   ]
  },
  {
   "cell_type": "markdown",
   "id": "1e0bced5-3283-4050-859f-9c6ac0bf7f10",
   "metadata": {},
   "source": [
    "✍️ Let $p_\\text{male}$ and $p_\\text{female}$ denote the proportion of male and female M.D.'s respectively in that medical school.\n",
    "\n",
    "$$\n",
    "H_0: p_\\text{male} = p_\\text{female} \\quad \\text{v.s.} \\quad H_1: p_\\text{male} \\ne p_\\text{female} \n",
    "$$\n",
    "\n",
    "Because of the small sample size, we should use Fisher's eact test for this."
   ]
  },
  {
   "cell_type": "markdown",
   "id": "85ce2203-325f-4d76-a7b6-34931a25eb12",
   "metadata": {},
   "source": [
    "#### (b)\n",
    "Calculate the $P$-value of the test. What is your conclusion using $\\alpha$ = .05?"
   ]
  },
  {
   "cell_type": "markdown",
   "id": "d2703477-1f92-4cab-8181-5045fe9aeefd",
   "metadata": {},
   "source": [
    "✍️ This $P$-value is the probability that the number of male M.D.'s is ≥ 5:"
   ]
  },
  {
   "cell_type": "code",
   "execution_count": 6,
   "id": "92435190-0de3-4a99-9bd2-b64502af59be",
   "metadata": {},
   "outputs": [
    {
     "name": "stdout",
     "output_type": "stream",
     "text": [
      "0.16783216783216784\n"
     ]
    }
   ],
   "source": [
    "pval = 2 * stats.hypergeom.sf(5-1, 15, 8, 6)\n",
    "print(pval)"
   ]
  },
  {
   "cell_type": "markdown",
   "id": "533900b3-d867-4a05-b6e2-11c180f605a6",
   "metadata": {},
   "source": [
    "$P$-value > $\\alpha$, so no significant difference."
   ]
  },
  {
   "cell_type": "markdown",
   "id": "d1b0fa47-d9d6-45b3-aa41-16f748fa1981",
   "metadata": {},
   "source": [
    "Compare with `fisher_exact`. It uses a different convention to calculate the two-sided $P$-value from that used in the Book. When the null distribution is asymmetric (hypergeometric, e.g.), there are multiple conventions for computing a two-sided $P$-value. So the result is not exactly the same, but still comparable."
   ]
  },
  {
   "cell_type": "code",
   "execution_count": 12,
   "id": "0db1d567-a8af-4835-91f1-dff8f7b188b1",
   "metadata": {},
   "outputs": [
    {
     "name": "stdout",
     "output_type": "stream",
     "text": [
      "0.11888111888111888\n"
     ]
    }
   ],
   "source": [
    "test = stats.fisher_exact(table=[[5,1],[3,6]], alternative='two-sided')\n",
    "print(test.pvalue)"
   ]
  },
  {
   "cell_type": "markdown",
   "id": "f274a211-4bf7-45f0-8409-f6de101b3c60",
   "metadata": {},
   "source": [
    "### Ex 9.14\n",
    "\n",
    "A study evaluated the urinary-thromboglobulin excretion in 12 normal and 12 diabetic patients. Summary results are obtained by coding values of 20 or less as \"low\" and values above 20 as \"high\", as shown in the following table.\n",
    "\n",
    "Excretion: | Low | High\n",
    "---|---|---\n",
    "Normal | 10 | 2 \n",
    "Diabetic | 4 | 8"
   ]
  },
  {
   "cell_type": "markdown",
   "id": "c298b8b3-d5f9-4404-b708-1edca0ecd9bb",
   "metadata": {},
   "source": [
    "#### (a) \n",
    "Set up the hypotheses to determine whether there is a difference in the urinary-thromboglobulin excretion between normal and diabetic patients. Which statistical test is appropriate to test the hypotheses?"
   ]
  },
  {
   "cell_type": "markdown",
   "id": "7556dba9-e6bd-4923-bb4d-b169cd7af58d",
   "metadata": {},
   "source": [
    "✍️ Let $p_1$ and $p_2$ denote the proportion of \"low\" excretion among normal and diabetic patients, respectively.\n",
    "\n",
    "$$\n",
    "H_0: p_1 = p_2 \\quad \\text{v.s.} \\quad H_1: p_1 \\ne p_2\n",
    "$$\n",
    "\n",
    "Because the numbers are very small, we should use Fisher's eact test for this."
   ]
  },
  {
   "cell_type": "markdown",
   "id": "1291f421-af03-41f2-92af-bd0c98472e86",
   "metadata": {},
   "source": [
    "#### (b) \n",
    "Calculate the $P$-value of the test. What is your conclusion using $\\alpha$ = .05?"
   ]
  },
  {
   "cell_type": "code",
   "execution_count": 13,
   "id": "bd176521-34f9-474b-af61-70ebb17f8f6a",
   "metadata": {},
   "outputs": [
    {
     "name": "stdout",
     "output_type": "stream",
     "text": [
      "0.036074841836047915\n",
      "0.03607484183604793\n"
     ]
    }
   ],
   "source": [
    "pval = 2 * stats.hypergeom.sf(10-1, 24, 14, 12)\n",
    "print(pval)\n",
    "test = stats.fisher_exact(table=[[10, 2],[4, 8]], alternative='two-sided')\n",
    "print(test.pvalue)"
   ]
  },
  {
   "cell_type": "markdown",
   "id": "91d8dfc6-1389-4383-b91c-5549f5628ecc",
   "metadata": {},
   "source": [
    "$P$-value < $\\alpha$, we should conclude there is significant difference between the excretion levels of normal and diabetic patients.\n",
    "\n",
    "Also note that in this case the null distribution is symmetric (12 patients each), and `fisher_exact` gives the same result."
   ]
  },
  {
   "cell_type": "markdown",
   "id": "56441469-869a-46f9-8742-9f171d7a2908",
   "metadata": {},
   "source": [
    "### Ex 9.15\n",
    "\n",
    "A matched pairs study was conducted to compare two topical anesthetic drugs for use in dentistry. The two drugs were applied on the oral mucous membrane of the two sides of each patient's mouth, and after a certain period of time it was noted whether or not the membrane remained anesthetized. Data on 45 patients showed the following responses.\n",
    "\n",
    "Drug 1 \\ Drug 2 | Anesthetized | Not Anesthetized\n",
    "---|---|---\n",
    "Anesthetized | 15 | 13 \n",
    "Not Anesthetized | 3 | 14"
   ]
  },
  {
   "cell_type": "markdown",
   "id": "8a4f7866-c7d2-43e4-b427-4997a4b16691",
   "metadata": {},
   "source": [
    "#### (a) \n",
    "Set up the hypotheses to determine whether there is a statistically significant difference between the two drugs. Which statistical test is appropriate to test the hypotheses?"
   ]
  },
  {
   "cell_type": "markdown",
   "id": "8a924ccc-73d6-49c3-884c-69a36b40aeaf",
   "metadata": {},
   "source": [
    "✍️ Denote by $p_i$ the probability that the membrane remains anesthetized under drug $i$.\n",
    "$$\n",
    "H_0: p_1 = p_2 \\quad \\text{v.s.} \\quad H_1: p_1 \\ne p2 \\text{.}\n",
    "$$\n",
    "McNemar's test should be appropriate."
   ]
  },
  {
   "cell_type": "markdown",
   "id": "b5ab9e91-8740-4262-a636-53dc524dde0d",
   "metadata": {},
   "source": [
    "#### (b) \n",
    "Calculate the $P$-value of the test. What is your conclusion using $\\alpha$ = .05?"
   ]
  },
  {
   "cell_type": "markdown",
   "id": "dce3231b-58e8-4b5b-a4c1-0da2d468f33c",
   "metadata": {},
   "source": [
    "✍️ The null distribution of the McNemar's test is binomial, so here we use the `binomtest` directly."
   ]
  },
  {
   "cell_type": "code",
   "execution_count": 16,
   "id": "de689c2a-9984-412e-816a-4ca9818f8c95",
   "metadata": {},
   "outputs": [
    {
     "name": "stdout",
     "output_type": "stream",
     "text": [
      "0.021270751953125\n"
     ]
    }
   ],
   "source": [
    "test = stats.binomtest(k=13, n=16, p=1/2, alternative='two-sided')\n",
    "print(test.pvalue)"
   ]
  },
  {
   "cell_type": "markdown",
   "id": "8d99eb7e-d273-4ea0-b5e0-db4fa748eb8a",
   "metadata": {},
   "source": [
    "$P$-value < $\\alpha$, therefore there is significant difference between the two drugs."
   ]
  },
  {
   "cell_type": "markdown",
   "id": "a0d10fe3-ee13-49a6-bb8f-42949aa4f2d0",
   "metadata": {},
   "source": [
    "### Ex 9.16\n",
    "\n",
    "In a speech class two persuasive speeches, one pro and the other con, were given by two students on requiring guest lists for fraternity/sorority parties. The opinions of the other 52 students in the class were obtained on this issue before and after the speeches with the following responses.\n",
    "\n",
    "Before \\ After | Pro | Con\n",
    "---|---|---\n",
    "Pro | 2 | 8 \n",
    "Con | 26 | 16"
   ]
  },
  {
   "cell_type": "markdown",
   "id": "c077aa5a-467a-4723-8ecd-9004deb3a1ae",
   "metadata": {},
   "source": [
    "#### (a)\n",
    "Set up the hypotheses to determine whether or not there is a change in opinion of the students. Which statistical test is appropriate to test the hypotheses?"
   ]
  },
  {
   "cell_type": "markdown",
   "id": "7e2cde12-744f-4c3a-b8a2-5c6482ed47be",
   "metadata": {},
   "source": [
    "✍️ Denote by $p_1$ the proportion of students that are pro on the topic before the speeches, and by $p_2$, after.\n",
    "$$\n",
    "H_0: p_1 = p_2 \\quad \\text{v.s.} \\quad H_1: p_1 \\ne p2 \\text{.}\n",
    "$$\n",
    "McNemar's test should be appropriate."
   ]
  },
  {
   "cell_type": "markdown",
   "id": "511b2337-c50c-42dc-b33e-fc8e912df646",
   "metadata": {},
   "source": [
    "#### (b) \n",
    "Calculate the $P$-value of the test. What is your conclusion using $\\alpha$ =.05?"
   ]
  },
  {
   "cell_type": "code",
   "execution_count": 17,
   "id": "6ee38b8c-d240-499f-81d1-a93641fceaa0",
   "metadata": {},
   "outputs": [
    {
     "name": "stdout",
     "output_type": "stream",
     "text": [
      "0.0029350556433200836\n"
     ]
    }
   ],
   "source": [
    "test = stats.binomtest(k=8, n=26+8, p=1/2, alternative='two-sided')\n",
    "print(test.pvalue)"
   ]
  },
  {
   "cell_type": "markdown",
   "id": "d224d12a-eac1-4665-af0c-0e5e543aba97",
   "metadata": {},
   "source": [
    "$P$-value < $\\alpha$, therefore conclude there is a change of opinion."
   ]
  },
  {
   "cell_type": "markdown",
   "id": "22ac58ea-dcd1-4b9e-8134-7acd971d4791",
   "metadata": {},
   "source": [
    "## 9.3 Inferences for One-way Count Data"
   ]
  },
  {
   "cell_type": "markdown",
   "id": "5e3a4bdf-5a30-471d-bd18-d83d4e3c5190",
   "metadata": {},
   "source": [
    "A generalization of the test on the binomial proportion $p$ is a test on the cell probabilities of a multinomial distribution. Based on a random sample of size $n$ from a $c$-cell multinomial distribution (one-way count data) with cell probabilities $p_1, p_2, \\ldots, p_c$, the test of\n",
    "\n",
    "$$\n",
    "H_0: p_1 = p_{10},\\, p_2 = p_{20},\\, \\ldots, \\, p_c = p_{c0} \\quad \\text{vs.} \\quad\n",
    "H_1: \\text{At least one}\\, p_i \\ne p_{i0}\n",
    "$$\n",
    "\n",
    "is based on the **chi-square statistic** having the general form:\n",
    "\n",
    "$$\n",
    "\\chi^2 = \\sum \\frac{(\\text{observed} - \\text{expected})^2}{\\text{expected}}\n",
    "$$\n",
    "\n",
    "where \"observed\" refers to the observed cell counts $n_i$ and \"expected\" refers to the expected cell counts $e_i = n p_{i0}$ under $H_0$. The degrees of freedom (d.f.) of the chi-square statistic are $c$ - 1. The primary use of this statistic is for the **goodness of fit** test of a specified distribution to a set of data. If any parameters of the distribution are estimated from the data, then one d.f. is deducted for each independent estimated parameter from the total d.f. $c$ - 1."
   ]
  },
  {
   "cell_type": "markdown",
   "id": "a6242695-b6a0-4a02-a63f-c45ab19f751e",
   "metadata": {},
   "source": [
    "### Ex 9.17\n",
    "\n",
    "Use the following data to test the hypothesis that a horse's chances of winning are unaffected by its position on the starting lineup. The data give the starting position of each of 144 winners. where position 1 is closest to the inside rail of the race track.\n",
    "\n",
    "||||||||||\n",
    "---|---|---|---|---|---|---|---|---\n",
    "Starting Position | 1 | 2 | 3 | 4 | 5 | 6 | 7 | 8 \n",
    "Number of Wins | 29 | 19 | 18 | 25 | 17 | 10 | 15 | 11\n",
    "\n",
    "State the hypotheses and perform a test at $\\alpha$ = .05."
   ]
  },
  {
   "cell_type": "markdown",
   "id": "26eb9133-6fbb-4c86-8f0c-2f96c6a01b63",
   "metadata": {},
   "source": [
    "✍️ Let $p_i$ denote the chance of winning from starting position $i$.\n",
    "$$\n",
    "H_0: p_1 = p_2 = \\ldots = p_8 = 1/8 \\quad \\text{v.s.} \\quad H_1: p_j \\ne 1/8 \\text{ for some } j\\text{.}\n",
    "$$"
   ]
  },
  {
   "cell_type": "code",
   "execution_count": 19,
   "id": "79fdfd1d-19e7-42bb-b2a1-42f897652042",
   "metadata": {},
   "outputs": [
    {
     "name": "stdout",
     "output_type": "stream",
     "text": [
      "0.022239477462390588\n"
     ]
    }
   ],
   "source": [
    "test = stats.chisquare([29, 19, 18, 25, 17, 10, 15, 11])\n",
    "print(test.pvalue)"
   ]
  },
  {
   "cell_type": "markdown",
   "id": "5de42146-3f4c-41b3-801e-b4d2c57f3954",
   "metadata": {},
   "source": [
    "$P$-value < $\\alpha$, reject $H_1$ and conclude that chances of winning are affected by starting position."
   ]
  },
  {
   "cell_type": "markdown",
   "id": "f5827da5-da93-4c37-b783-ef41f288ca72",
   "metadata": {},
   "source": [
    "### Ex 9.18\n",
    "\n",
    "The number of first births to 700 women are shown by month from the University Hospital of Basel, Switzerland.\n",
    "\n",
    "||||||||||||||\n",
    "---|---|---|---|---|---|---|---|---|---|---|---|---\n",
    "Month | Jan | Feb | Mar | Apr | May | June | July | Aug | Sept | Oct | Nov | Dec\n",
    "Births | 66 | 63 | 64 | 48 | 64 | 74 | 70 | 59 | 54 | 51 | 45 | 42\n",
    "\n",
    "State the hypotheses to test that births are spread uniformly through the year. Perform a test of the hypotheses at $\\alpha$ = .05."
   ]
  },
  {
   "cell_type": "markdown",
   "id": "0de0e758-6cbb-4392-a991-88ebe308c431",
   "metadata": {},
   "source": [
    "✍️ Let $p_i$ denote the proportion of births in Month $i$.\n",
    "$$\n",
    "H_0: p_1 = p_2 = \\ldots = p_{12} = 1/12 \\quad \\text{v.s.} \\quad H_1: p_j \\ne 1/12 \\text{ for some } j\\text{.}\n",
    "$$"
   ]
  },
  {
   "cell_type": "code",
   "execution_count": 20,
   "id": "265ef068-20f4-477b-b5d5-098e3578fae9",
   "metadata": {},
   "outputs": [
    {
     "name": "stdout",
     "output_type": "stream",
     "text": [
      "0.04924720128163976\n"
     ]
    }
   ],
   "source": [
    "test = stats.chisquare([66, 63, 64, 48, 64, 74, 70, 59, 54, 51, 45, 42])\n",
    "print(test.pvalue)"
   ]
  },
  {
   "cell_type": "markdown",
   "id": "bda8ac4c-0d2a-417a-b991-3dc975b17dc3",
   "metadata": {},
   "source": [
    "Although $P$-value slightly < $\\alpha$, this is very border case. Let's be conservative and say that data is inconclusive to suggest a difference in the proportion of births among different months."
   ]
  },
  {
   "cell_type": "markdown",
   "id": "fe667f6c-5719-4d71-be71-78f43b5a8f65",
   "metadata": {},
   "source": [
    "### Ex 9.19\n",
    "\n",
    "The Hutterite Brethren is a religious group that is essentially a closed population with almost all marriages within the group. The following table shows the distribution of sons in families with 7 children whose mothers were born between 1879 and 1936.\n",
    "\n",
    "|<td colspan=8>Number of Sons in Families with Seven Children|||||||||\n",
    "---|---|---|---|---|---|---|---|---\n",
    "Sons | 0 | 1 | 2 | 3 | 4 | 5 | 6 | 7\n",
    "Count | 0 | 6 | 14 | 25 | 21 | 22 | 9 | 1"
   ]
  },
  {
   "cell_type": "markdown",
   "id": "45f23736-edac-4774-97d3-541f385e862b",
   "metadata": {},
   "source": [
    "#### (a) \n",
    "State the hypotheses to test that the number of sons follows a binomial distribution with $p$ = 0.5, where $p$ is the probability that a child is male. Conduct a test of the hypotheses using a $\\chi^2$-test at $\\alpha$ = .10."
   ]
  },
  {
   "cell_type": "markdown",
   "id": "a870f169-a3ee-4b1b-ad97-021953fd80ca",
   "metadata": {},
   "source": [
    "✍️ Denote by $p_i$ ($i = 0 \\ldots 7$) the proportion of 7-children families having $i$ sons. \n",
    "$$\n",
    "H_0: p_i = \\binom{n}{i} p^i (1-p)^{n-i} = \\frac{1}{2^7}\\binom{7}{i} \\quad \\text{v.s.} \\quad H_1: \\text{ not } H_0 \\text{.}\n",
    "$$"
   ]
  },
  {
   "cell_type": "markdown",
   "id": "a3695a2a-5ac3-4e4e-89d4-416d810c9933",
   "metadata": {},
   "source": [
    "To use the $\\chi^2$-test, each count should be ≥ 5. So we combine the first and last 2 cells before applying the test."
   ]
  },
  {
   "cell_type": "code",
   "execution_count": 68,
   "id": "36a2d824-0b5f-46c1-8719-cdd092fe3a0c",
   "metadata": {},
   "outputs": [
    {
     "name": "stdout",
     "output_type": "stream",
     "text": [
      "0.2800706126649032\n"
     ]
    }
   ],
   "source": [
    "f_obs = np.array([0, 6, 14, 25, 21, 22, 9, 1])\n",
    "f_obs_combined = np.concat(([0+6], f_obs[2:-2], [9+1]))\n",
    "f_exp = stats.binom(n=7, p=1/2).pmf(np.arange(8)) * f_obs.sum()\n",
    "f_exp_combined = np.concat(([f_exp[:2].sum()], f_exp[2:-2], [f_exp[-2:].sum()]))\n",
    "test = stats.chisquare(f_obs_combined, f_exp_combined)\n",
    "print(test.pvalue)"
   ]
  },
  {
   "cell_type": "markdown",
   "id": "6aa587c3-0825-4fe6-b754-b7b97ba81277",
   "metadata": {},
   "source": [
    "$P$-value > $\\alpha$, concude that data is consistent with a binomial distribution."
   ]
  },
  {
   "cell_type": "markdown",
   "id": "cde93523-dc32-4ff8-a6fe-32cdafff35a1",
   "metadata": {},
   "source": [
    "#### (b) \n",
    "State the hypotheses to test that the number of sons follows a binomial distribution (with unspecified $p$). Conduct a test of the hypotheses using a $\\chi^2$-test at $\\alpha$ = .10. How does the result of this test compare with the result from part (a)?"
   ]
  },
  {
   "cell_type": "code",
   "execution_count": 69,
   "id": "fa10fa43-8b89-4999-8d69-0b9908f4c911",
   "metadata": {},
   "outputs": [
    {
     "name": "stdout",
     "output_type": "stream",
     "text": [
      "estimated p = 0.5306122448979592\n",
      "P-value = 0.5212706259986852\n"
     ]
    }
   ],
   "source": [
    "# estimate probability of sons\n",
    "p = f_obs @ np.arange(8) / (f_obs.sum()*7)\n",
    "print(f\"estimated p = {p}\")\n",
    "# and use the estimated p to generate the expected counts.\n",
    "f_exp = stats.binom(n=7, p=p).pmf(range(8)) * f_obs.sum()\n",
    "f_exp_combined = np.concat(([f_exp[:2].sum()], f_exp[2:-2], [f_exp[-2:].sum()]))\n",
    "# use ddof=1 to account for the estimated p\n",
    "test = stats.chisquare(f_obs_combined, f_exp_combined, ddof=1)\n",
    "print(f\"P-value = {test.pvalue}\")"
   ]
  },
  {
   "cell_type": "markdown",
   "id": "fb76c45d-3612-4fd4-90c2-a20956c2725d",
   "metadata": {},
   "source": [
    "$P$-value > $\\alpha$, concude that data is consistent with a binomial distribution, in agreement with (a). Note also that the $P$-value with the estimated parameter is greater than that with a fixed parameter (0.52 > 0.28), because the estimation fits the data better."
   ]
  },
  {
   "cell_type": "markdown",
   "id": "3ce21c5e-7af0-4243-a6a1-703daed919fa",
   "metadata": {},
   "source": [
    "### Ex 9.20\n",
    "\n",
    "A genetics experiment on characteristics of tomato plants provided the following data on the numbers of offspring expressing four phenotypes.\n",
    "\n",
    "Phenotype | Frequency\n",
    "---|---\n",
    "Tall, cut-leaf | 926\n",
    "Dwarf, cut-leaf | 293\n",
    "Tall, potato-leaf | 288\n",
    "Dwarf, potato-leaf | 104\n",
    "|\n",
    "Total | 1611"
   ]
  },
  {
   "cell_type": "markdown",
   "id": "ac5b0d28-822d-412c-8708-cc7cb26c3096",
   "metadata": {},
   "source": [
    "#### (a) \n",
    "State the hypotheses to test that theoretically the four phenotypes will appear in the proportion 9:3:3:1."
   ]
  },
  {
   "cell_type": "markdown",
   "id": "3516b25a-4b10-4a7e-b510-aa79a917bdd0",
   "metadata": {},
   "source": [
    "✍️ Let $p_i$ ($i = 1 \\ldots 4$) correspond to the probabilities of the 4 phenotypes in the order listed.\n",
    "$$\n",
    "H_0: p_1 = 9/16 \\text{, } p_2 = p_3 = 3/16 \\text{, } p_4 = 1/16 \\quad \\text{v.s.} \\quad H_1:\\text{ not } H_0 \\text{.}\n",
    "$$"
   ]
  },
  {
   "cell_type": "markdown",
   "id": "870352cf-fe64-466b-9f6e-eed8c53bbe9b",
   "metadata": {},
   "source": [
    "#### (b) \n",
    "Test the hypotheses. Use $\\alpha$ = .05."
   ]
  },
  {
   "cell_type": "code",
   "execution_count": 42,
   "id": "5ed9a690-f16a-4607-b7b6-50d384863ab8",
   "metadata": {},
   "outputs": [
    {
     "name": "stdout",
     "output_type": "stream",
     "text": [
      "0.6895078646142022\n"
     ]
    }
   ],
   "source": [
    "f_obs = np.array([926, 293, 288, 104])\n",
    "f_exp = np.array([9, 3, 3, 1]) / 16 * f_obs.sum()\n",
    "test = stats.chisquare(f_obs, f_exp)\n",
    "print(test.pvalue)"
   ]
  },
  {
   "cell_type": "markdown",
   "id": "b39b1247-0505-4ece-b496-a2d91c59a968",
   "metadata": {},
   "source": [
    "$P$-value > $\\alpha$, conclude that data is consistent with $H_0$."
   ]
  },
  {
   "cell_type": "markdown",
   "id": "5f1f297f-4a20-4254-9510-3b6ca9695575",
   "metadata": {},
   "source": [
    "### Ex 9.21\n",
    "\n",
    "During World War II, a 36 sq. km area of South London was gridded into 0.25 km squares to record bomb hits. The following data give the number of squares receiving 0 hits, 1 hit, etc. If hits were random, a Poisson model would fit the data. Test using $\\alpha$ = .05 to see if this is the case.\n",
    "\n",
    "||||||||||\n",
    "---|---|---|---|---|---|---|---|---\n",
    "Number of Hits | 0 | 1 | 2 | 3 | 4 | 5 | 6 | 7\n",
    "Number of 0.25 km Squares | 229 | 211 | 93 | 35 | 7 | 0 | 0 | 1"
   ]
  },
  {
   "cell_type": "markdown",
   "id": "32f9db9a-1f2c-400b-be7b-4d9d76ecc501",
   "metadata": {},
   "source": [
    "✍️ Let $p_i$ ($i = 0 \\ldots 7$) correspond to the probabilities of a 0.25 km square having $i$ hits.\n",
    "$$\n",
    "H_0: p_i = e^{-\\mu} \\frac{\\mu^i}{i!} \\quad \\text{v.s.} \\quad H_1:\\text{ not } H_0 \\text{.}\n",
    "$$"
   ]
  },
  {
   "cell_type": "markdown",
   "id": "ae129f87-8746-45d4-be15-9299207f6469",
   "metadata": {},
   "source": [
    "We need combine the last 4 cells and then apply the $\\chi^2$-test."
   ]
  },
  {
   "cell_type": "code",
   "execution_count": 61,
   "id": "b8c04282-657f-4cc2-8923-d012760e7a56",
   "metadata": {},
   "outputs": [
    {
     "name": "stdout",
     "output_type": "stream",
     "text": [
      "0.7969959425043197\n"
     ]
    }
   ],
   "source": [
    "f_obs = np.array([229, 211, 93, 35, 7, 0, 0, 1])\n",
    "# estimate μ\n",
    "μ = np.arange(8) @ f_obs / f_obs.sum()\n",
    "# combine cells\n",
    "f_obs = np.append(f_obs[:4], f_obs[4:].sum())\n",
    "f_exp = np.append(stats.poisson(μ).pmf(np.arange(4)), \n",
    "                  stats.poisson(μ).sf(3)) * f_obs.sum()\n",
    "# ddof=1 for estimated μ\n",
    "test = stats.chisquare(f_obs, f_exp, ddof=1)\n",
    "print(test.pvalue)"
   ]
  },
  {
   "cell_type": "markdown",
   "id": "29f14f49-a6fe-468f-9491-734df5889391",
   "metadata": {},
   "source": [
    "$P$-value > $\\alpha$, conclude that Poisson is a plausible model for the data."
   ]
  },
  {
   "cell_type": "markdown",
   "id": "c068ebb9-0261-46e3-b51a-ffd6bd7ba15e",
   "metadata": {},
   "source": [
    "### Ex 9.22\n",
    "\n",
    "Studies were made to estimate the number of passengers (other than the driver) per car in urban traffic. The numbers of passengers carried in 1011 cars traveling through the Wilshire and Bundy boulevard intersection in Los Angeles between 10:00 A.M. and 10:20 A.M. on March 24, 1959, are given below.\n",
    "\n",
    "||||||||\n",
    "---|---|---|---|---|---|---\n",
    "Number of Passengers | 0 | 1 | 2 | 3 | 4 | ≥5\n",
    "Frequency | 678 | 227 | 56 | 28 | 8 | 14"
   ]
  },
  {
   "cell_type": "markdown",
   "id": "ccec5a68-4670-4dd8-b069-fdec78b74638",
   "metadata": {},
   "source": [
    "#### (a)\n",
    "The average number of passengers per car is 0.519. Test to see if the number of passengers follows a Poisson distribution."
   ]
  },
  {
   "cell_type": "code",
   "execution_count": 80,
   "id": "51dc7592-1ece-4d94-84c9-6f3f1d13dfc8",
   "metadata": {},
   "outputs": [
    {
     "name": "stdout",
     "output_type": "stream",
     "text": [
      "1.3474982979796068e-214\n"
     ]
    }
   ],
   "source": [
    "f_obs = np.array([678, 227, 56, 28, 8, 14])\n",
    "μ = 0.519 # estimated from data\n",
    "f_exp = np.append(stats.poisson(μ).pmf(np.arange(5)), \n",
    "                  stats.poisson(μ).sf(4)) * f_obs.sum()\n",
    "test = stats.chisquare(f_obs, f_exp, ddof=1)\n",
    "print(test.pvalue)"
   ]
  },
  {
   "cell_type": "markdown",
   "id": "867a0b7e-9f9f-4d8b-8ff7-ef9fe825d564",
   "metadata": {},
   "source": [
    "Number of passengers is not Poisson."
   ]
  },
  {
   "cell_type": "markdown",
   "id": "8ee11189-e470-42bc-bab9-559d41300463",
   "metadata": {},
   "source": [
    "#### (b) \n",
    "Consider a geometric distribution for the number of occupants. (The number of occupants= 1 + the number of passengers). Recall that the geometric distribution is given by\n",
    "$$\n",
    "P(X = x) = (1 - p)^{x-1}p, x = 1,2, \\ldots\n",
    "$$\n",
    "where $p = 1/\\mu$. Estimate $p$ using $\\hat{\\mu}$ = 1.519 occupants. Test to see if the number of occupants follows a geometric distribution."
   ]
  },
  {
   "cell_type": "code",
   "execution_count": 81,
   "id": "d66bac09-bd89-45e0-9e0d-f68823465f88",
   "metadata": {},
   "outputs": [
    {
     "name": "stdout",
     "output_type": "stream",
     "text": [
      "1.0778618711649194e-05\n"
     ]
    }
   ],
   "source": [
    "f_obs = 1 + np.array([678, 227, 56, 28, 8, 14])\n",
    "p = 1/1.519 # estimated from data\n",
    "f_exp = np.append(stats.geom(p).pmf(np.arange(1, 6)), \n",
    "                  stats.geom(p).sf(5)) * f_obs.sum()\n",
    "test = stats.chisquare(f_obs, f_exp, ddof=1)\n",
    "print(test.pvalue)"
   ]
  },
  {
   "cell_type": "markdown",
   "id": "5c634110-4398-4f35-b6f5-e994e2c09489",
   "metadata": {},
   "source": [
    "$P$-value is still too small, so number of passengers is not geometric either."
   ]
  },
  {
   "cell_type": "markdown",
   "id": "a53bc529-d270-45d6-aa69-ae8c108e938b",
   "metadata": {},
   "source": [
    "#### (c) \n",
    "Which distribution fits the data better?"
   ]
  },
  {
   "cell_type": "markdown",
   "id": "3c6244f1-05e5-435f-b08e-e2d4f8950331",
   "metadata": {},
   "source": [
    "✍️ The geometric distribution fits the data better, for it has a much larger $P$-value than the Poisson."
   ]
  },
  {
   "cell_type": "markdown",
   "id": "2d9a3662-dc50-4f03-998f-fa14b4060b21",
   "metadata": {},
   "source": [
    "### Ex 9.23\n",
    "\n",
    "Consider the problem of testing $H_0: p = p_0$ vs. $H_1: p \\ne p_0$, where $p$ is the success probability of a Bernoulli population from which we have a random sample of size $n$. Equation (9.6) gives the following test statistic for this problem:\n",
    "$$\n",
    "z = \\frac{y - n\\, p_0}{\\sqrt{n p_0(1-p_0)}}\n",
    "$$\n",
    "where $y$ is the number of successes."
   ]
  },
  {
   "cell_type": "markdown",
   "id": "ff69a840-5987-4cdd-af82-b6a0ddb91ae5",
   "metadata": {},
   "source": [
    "#### (a) \n",
    "Show that $z^2 = \\chi^2$ , where the $\\chi^2$-statistic is given by (9.14). This $\\chi^2$-statistic has 1 d.f."
   ]
  },
  {
   "cell_type": "markdown",
   "id": "7a7356c1-ca7d-4426-ac6d-c67fd17e8e1b",
   "metadata": {},
   "source": [
    "✍️ There are 2 categories in the sample: success and failure. If we are to perform a $\\chi^2$ goodness-of-fit test on the data, the observed and expected numbers will be the following:\n",
    "\n",
    "$i=$ | 1 | 2\n",
    "---|---|---\n",
    "$e_i$ | $n p_0$ | $n (1-p_0)$\n",
    "$n_i$ | $y$ | $n-y$\n",
    "\n",
    "And the statistic (with 1 d.f.) will be\n",
    "$$\n",
    "\\begin{align*}\n",
    "\\chi^2 & = \\frac{(n_1 - e_1)^2}{e_1} + \\frac{(n_2 - e_2)^2}{e_2} \\\\\n",
    "    &= \\frac{(y - n p_0)^2}{n p_0} + \\frac{[n-y-n(1-p_0)]^2}{n(1-p_0)} \\\\\n",
    "    &= \\frac{(y - np_0)^2}{np_0(1-p_0)} \\\\\n",
    "    &= z^2 \\text{.}\n",
    "\\end{align*}\n",
    "$$"
   ]
  },
  {
   "cell_type": "markdown",
   "id": "8c3c8de8-6846-4e04-aa6c-517f53e5f6be",
   "metadata": {},
   "source": [
    "#### (b) \n",
    "Show that the two-sided $z$-test and the $\\chi^2$-test are equivalent."
   ]
  },
  {
   "cell_type": "markdown",
   "id": "51ceb2cb-e59c-40e5-9f33-0b1c91db873a",
   "metadata": {},
   "source": [
    "✍️ The critical region of a two-sided $z$-test is\n",
    "$$\n",
    "|z| < z_{\\alpha/2}\\text{, or } z^2 <  z_{\\alpha/2}^2 \\text{.}\n",
    "$$\n",
    "Using the result from (a), this is equivalent to\n",
    "$$\n",
    "\\chi^2 < z_{\\alpha/2}^2 = \\chi^2_{1,\\alpha}\n",
    "$$\n",
    "with 1 d.f."
   ]
  },
  {
   "cell_type": "markdown",
   "id": "ef0605e5-54cf-47c6-ab9d-f4e5c0e4d938",
   "metadata": {},
   "source": [
    "### Ex 9.24\n",
    "\n",
    "The NBA final is a seven game series, and the first team to win four games wins the series. Denote by $p$ the probability that the Eastern Conference team wins a game and by $q = 1 - p$ that the Western Conference team wins a game. Assume that these probabilities remain constant from game to game and that the outcomes of the games are mutually independent. Assume the result from Exercise 2.70 that the probability that the series ends in j games is given by\n",
    "$$\n",
    "\\binom{j-1}{3} [p^4 q^{j-4} + q^4 p^{j-4}], \\quad  j = 4,5,6,7.\n",
    "$$\n",
    "There have been 52 finals in NBA's history (from 1947 to 1998). The number of finals that have gone for 4, 5, 6 and 7 games has been as follows:\n",
    "\n",
    "- 4 games: 6 finals,\n",
    "- 5 games: 11 finals,\n",
    "- 6 games: 21 finals,\n",
    "- 7 games: 14 finals.\n",
    "\n",
    "Sppose we assume that the two finalists are evenly matched, so that $p = q = 1/2$. Show that the above model fits these data well."
   ]
  },
  {
   "cell_type": "code",
   "execution_count": 7,
   "id": "2a2cd524-068f-4c9f-ba1d-784433270da4",
   "metadata": {},
   "outputs": [
    {
     "name": "stdout",
     "output_type": "stream",
     "text": [
      "0.5628827711754665\n"
     ]
    }
   ],
   "source": [
    "f_obs = np.array([6, 11, 21, 14])\n",
    "j = np.arange(4, 8)\n",
    "f_exp = special.comb(j-1, 3) / 2**(j-1) * f_obs.sum()\n",
    "test = stats.chisquare(f_obs, f_exp)\n",
    "print(test.pvalue)"
   ]
  },
  {
   "cell_type": "markdown",
   "id": "67e6ee5a-4c75-4cd9-80b4-bc9bec69d964",
   "metadata": {},
   "source": [
    "$P$-value > 0.1, so the model is consistent with the data."
   ]
  },
  {
   "cell_type": "markdown",
   "id": "84416064-4901-46c1-b4bb-400f2ac09253",
   "metadata": {},
   "source": [
    "## 9.4 Inferences for Two-way Count Data"
   ]
  },
  {
   "cell_type": "markdown",
   "id": "68a6551d-c13f-4a86-9a01-ea5ef1eadb1f",
   "metadata": {},
   "source": [
    "Two-way count data result when\n",
    "\n",
    "1. a single sample is cross-classified based on two categorical variables into $r$ rows and $c$ columns (**multinomial sampling**), or \n",
    "2. independent samples are drawn from $r$ multinomial distributions with the same $c$ categories\n",
    "(**product multinomial sampling**). \n",
    "\n",
    "In both cases, the data are summarized in the form of an $r \\times c$ **contingency table** of counts. In case (1), the null hypothesis of interest is the **independence hypothesis** between the row and column variables; in case (2), it is the **homogeneity hypothesis**. In both cases, the chi-square statistic has the same general form given above, with the expected count for the $(i, j)$th cell (under $H_0$) being the $i$th row total times the proportion of all observations falling in the $j$ th column. The d.f. of the chi-square statistic equal $(r - 1)(c - 1)$. Thus association between the row and the column variable is demonstrated at level $\\alpha$ if $\\chi^2 > \\chi^2_{(r-1)(c-1), \\alpha}$·"
   ]
  },
  {
   "cell_type": "markdown",
   "id": "196fe066-13f5-4e02-b2d5-14680df0529a",
   "metadata": {},
   "source": [
    "### Ex. 9.25\n",
    "\n",
    "Tell in each of the following instances whether sampling is multinomial or product multinomial. State mathematically the null hypothesis of no association between the two categorical variables under study."
   ]
  },
  {
   "cell_type": "markdown",
   "id": "935d7daf-1a08-45e1-8c5b-36d6638b2832",
   "metadata": {},
   "source": [
    "#### (a) \n",
    "A sample of 500 people is cross-classified according to each person's religious affiliation (Christian, Jewish, Agnostic, Other) and political party affiliation (Republican, Democrat, Independent, Other)."
   ]
  },
  {
   "cell_type": "markdown",
   "id": "786721eb-af22-4dbd-9bc2-5ef58284f8fa",
   "metadata": {},
   "source": [
    "✍️ This is multinomial sampling.\n",
    "$$\n",
    "H_0: p_{ij} = p_{i \\cdot}\\ p_{\\cdot j} \\text{ for all } i, j \\text{,}\n",
    "$$\n",
    "where $p_{ij}$ represents the probability of people having religious affiliation $i$ and political party affiliation $j$, and $p_{i \\cdot}$ and $p_{\\cdot j}$ the marginal probabilities."
   ]
  },
  {
   "cell_type": "markdown",
   "id": "0114dbc5-3090-4da0-94f9-a5d9bc451055",
   "metadata": {},
   "source": [
    "#### (b) \n",
    "To compare the performances of different types of mutual funds, five groups of funds are sampled (municipal bond fund, corporate bond fund, equity income fund, blue chip stock fund, and aggressive growth fund) with 20 funds from each group. The sampled funds are classified according to whether the fund's return over a five year period is low (less than 5%), medium (5% to 10%), or high (greater than 10%)."
   ]
  },
  {
   "cell_type": "markdown",
   "id": "0992cab6-31d2-4d90-b86e-7a35529f0ad9",
   "metadata": {},
   "source": [
    "✍️ This is product multinomial sampling.\n",
    "$$\n",
    "H_0: p_{ij} = p_j \\text{ for all } i, j \\text{,}\n",
    "$$\n",
    "where $p_{ij}$ represents the probability of funds coming from group $i$ and with return category $j$, and $p_j$ the common return category probabilities across all fund groups."
   ]
  },
  {
   "cell_type": "markdown",
   "id": "01c9405a-8d35-414a-a1e4-f918ec944412",
   "metadata": {},
   "source": [
    "### Ex. 9.26\n",
    "\n",
    "Tell in each of the following instances whether sampling is multinomial or product multinomial. State mathematically the null hypothesis of no association between the two categorical variables under study."
   ]
  },
  {
   "cell_type": "markdown",
   "id": "2db25188-aaf6-48c0-81cc-c11aa0b4f693",
   "metadata": {},
   "source": [
    "#### (a) \n",
    "To see if there is an association between age and willingness to use internet grocery ordering services, 100 people are surveyed in each of four age groups (21-35, 36-50, 50-65, and over 65). The people surveyed are asked whether or not they would use the service, if they had the software."
   ]
  },
  {
   "cell_type": "markdown",
   "id": "e4dd2587-ea61-462a-b639-5c1c41780280",
   "metadata": {},
   "source": [
    "✍️ This is multinomial sampling.\n",
    "$$\n",
    "H_0: p_{ij} = p_{i \\cdot}\\ p_{\\cdot j} \\text{ for all } i, j \\text{,}\n",
    "$$\n",
    "where $i$ refers to the age group and $j$ to willingness for online orders (yes or no), and $p_{i \\cdot}$ and $p_{\\cdot j}$ are the marginal probabilities."
   ]
  },
  {
   "cell_type": "markdown",
   "id": "69cd5057-7316-49ae-ad4e-a5e640d96404",
   "metadata": {},
   "source": [
    "#### (b)\n",
    "A sample of 1000 traffic accidents is cross-classified according to the severity of injury (none, minor, disabling, death) and the use of a safety restraint (none, seat belt, seat and shoulder belt)."
   ]
  },
  {
   "cell_type": "markdown",
   "id": "1f901c4d-3ed2-4ffc-83ae-205cfd62f45f",
   "metadata": {},
   "source": [
    "✍️ This is also multinomial sampling.\n",
    "$$\n",
    "H_0: p_{ij} = p_{i \\cdot}\\ p_{\\cdot j} \\text{ for all } i, j \\text{,}\n",
    "$$\n",
    "where $i$ refers to the severity of injury and $j$ to the safety restraint used, and $p_{i \\cdot}$ and $p_{\\cdot j}$ are the marginal probabilities."
   ]
  },
  {
   "cell_type": "markdown",
   "id": "dd23db42-35b3-458f-a232-50367e62e80d",
   "metadata": {},
   "source": [
    "### Ex. 9.27\n",
    "\n",
    "Evidence for authorship of a document can be based on the distribution of word lengths. In 1861 the _New Orleans Crescent_ published a set of ten letters signed Quintus Curtius Snodgrass. It has been claimed that the author was Mark Twain. A way to test this claim is to see if the word length distribution of the Q.C.S. letters matches the distribution of the word lengths in a sample of Mark Twain's writing. Here are the data for the two distributions.\n",
    "\n",
    "Word Length | 1 | 2 | 3 | 4 | 5 | 6 | 7 | 8 | 9 | 10 | 11 | 12 | 13+\n",
    "---|---|---|---|---|---|---|---|---|---|---|---|---|---\n",
    "Mark Twain | 312 | 1146 | 1394 | 1177 | 661 | 442 | 367 | 231 | 181 | 109 | 50 | 24 | 12\n",
    "Q.C.S. | 424 | 2685 | 2752 | 2302 | 1431 | 992 | 896 | 638 | 465 | 276 | 152 | 101 | 61"
   ]
  },
  {
   "cell_type": "markdown",
   "id": "f2fb26ff-af3b-4140-bb83-0fe7e36b3733",
   "metadata": {},
   "source": [
    "#### (a) \n",
    "Which type of sampling is used here -- multinomial or product multinomial?"
   ]
  },
  {
   "cell_type": "markdown",
   "id": "9294824d-b732-47db-bcb1-c6581380b9df",
   "metadata": {},
   "source": [
    "✍️ This is product multinomial sampling."
   ]
  },
  {
   "cell_type": "markdown",
   "id": "1d34301d-7fe1-456f-b5ac-5f89a3158938",
   "metadata": {},
   "source": [
    "#### (b) \n",
    "Do the appropriate test at $\\alpha$ = .01. State your conclusion."
   ]
  },
  {
   "cell_type": "code",
   "execution_count": 12,
   "id": "542bbc89-e78b-4e77-a905-25708a55dc11",
   "metadata": {},
   "outputs": [
    {
     "name": "stdout",
     "output_type": "stream",
     "text": [
      "2.836740984550758e-16\n"
     ]
    }
   ],
   "source": [
    "table = [\n",
    "    [312, 1146, 1394, 1177, 661, 442, 367, 231, 181, 109, 50, 24, 12],\n",
    "    [424, 2685, 2752, 2302, 1431, 992, 896, 638, 465, 276, 152, 101, 61]]\n",
    "test = stats.chi2_contingency(table)\n",
    "print(test.pvalue)"
   ]
  },
  {
   "cell_type": "markdown",
   "id": "bf645d82-1c69-4853-b8ec-ce2ea4636ed1",
   "metadata": {},
   "source": [
    "$P$-value < $\\alpha$, so the word-length distributions of Mark Twain and Q.C.S. differ."
   ]
  },
  {
   "cell_type": "markdown",
   "id": "62e149fe-a0c2-484e-abc9-126433de8c9f",
   "metadata": {},
   "source": [
    "### Ex. 9.28\n",
    "\n",
    "Reader's Digest conducted an experiment to find out how honest people are in different cities. Three cities of each type were selected: big cities (Atlanta, GA, Seattle, WA, and St. Louis, MO), suburbs (Boston, MA, Houston, TX, and Los Angeles, CA), medium cities (Dayton, OH, Greensboro, PA, and Las Vegas, NV) and small cities (Cheyenne, WY, Concord, NH, and Meadville, PA). In each selected city 10 wallets were left in public places. Each wallet contained $50 cash and a telephone number and an address where the owner could be reached. A record was kept of the number of wallets returned by people who found the wallets. The data are summarized in the table below.\n",
    "\n",
    "Type of Cities | Wallet: Returned | Wallet: Kept || Row Total\n",
    "---|---|---|---|---\n",
    "Big Cities | 21 | 9 || 30\n",
    "Suburbs | 18 | 12 || 30\n",
    "Medium Cities | 17 | 13 || 30\n",
    "Small Cities | 24 | 6 || 30\n",
    "||||\n",
    "Column Total | 80 | 40 || 120"
   ]
  },
  {
   "cell_type": "markdown",
   "id": "82a7fa28-30b5-4fcd-93da-e9c94fd15dee",
   "metadata": {},
   "source": [
    "#### (a) \n",
    "Which type of sampling is used here -- multinomial or product multinomial?"
   ]
  },
  {
   "cell_type": "markdown",
   "id": "77a28ee6-788d-41a7-b714-72372bad6ea2",
   "metadata": {},
   "source": [
    "✍️ This is product multinomial sampling."
   ]
  },
  {
   "cell_type": "markdown",
   "id": "c8a6e4cd-a387-40b4-9727-9f872c215c31",
   "metadata": {},
   "source": [
    "#### (b) \n",
    "Set up the hypotheses to check whether there are significant differences between the percentages of people who returned the wallets in different types of cities."
   ]
  },
  {
   "cell_type": "markdown",
   "id": "ad32e322-d224-488b-beed-c2a3f5953947",
   "metadata": {},
   "source": [
    "✍️\n",
    "$$\n",
    "H_0: p_i = p \\text{ for all } i \\quad \\text{v.s.} \\quad H_1: p_i \\ne p \\text{ for some $i$,}\n",
    "$$\n",
    "where $i$ refers to the different types of cities, and $p$ is the common percentage of people who return the wallets."
   ]
  },
  {
   "cell_type": "markdown",
   "id": "f864fb7e-ec35-4a64-8d35-4451a220115b",
   "metadata": {},
   "source": [
    "#### (c) \n",
    "Do a $\\chi^2$-test of the hypotheses. Can you conclude that there are significant differences among the return rates in different types of cities? Use $\\alpha$ = .10."
   ]
  },
  {
   "cell_type": "code",
   "execution_count": 13,
   "id": "aafa46dc-dedc-4c27-a18c-0c5b6c3e09aa",
   "metadata": {},
   "outputs": [
    {
     "name": "stdout",
     "output_type": "stream",
     "text": [
      "0.21229028736013367\n"
     ]
    }
   ],
   "source": [
    "table = [\n",
    "    [21, 9],\n",
    "    [18, 12],\n",
    "    [17, 13],\n",
    "    [24, 6]]\n",
    "test = stats.chi2_contingency(table)\n",
    "print(test.pvalue)"
   ]
  },
  {
   "cell_type": "markdown",
   "id": "6be18ebf-4ff8-40e2-b931-4ccd4fee1f74",
   "metadata": {},
   "source": [
    "$P$-value > $\\alpha$, so so significant differences among the different types of cites."
   ]
  },
  {
   "cell_type": "markdown",
   "id": "08e0e66f-5150-4991-8133-5723cf0aaa04",
   "metadata": {},
   "source": [
    "### Ex. 9.29\n",
    "\n",
    "Biologists studying sandflies at a site in eastern Panama looked at the relationship between gender and the height at which the flies were caught in a light trap, resulting in the following data.\n",
    "\n",
    "Gender \\ Height | 3 feet | 35 feet || Row Total\n",
    "---|---|---|---|---\n",
    "Males | 173 | 125 || 298\n",
    "Females | 150 | 73 || 223\n",
    "||||\n",
    "Column Total | 323 | 198 || 521"
   ]
  },
  {
   "cell_type": "markdown",
   "id": "959ac50c-c7be-4e6e-82a7-0eaf55651181",
   "metadata": {},
   "source": [
    "#### (a) \n",
    "Which type of sampling is used here -- multinomial or product multinomial?"
   ]
  },
  {
   "cell_type": "markdown",
   "id": "b3bf6cbe-bf91-4b0c-bf77-5dbf5c750753",
   "metadata": {},
   "source": [
    "#### (b) \n",
    "Set up the hypotheses to test whether the gender of the sandflies and trap height are associated."
   ]
  },
  {
   "cell_type": "markdown",
   "id": "110115e7-51d1-4e95-b466-7fdbe837f9f5",
   "metadata": {},
   "source": [
    "#### (c)\n",
    "Do a chi-square test of the hypotheses. Use $\\alpha$ = .05."
   ]
  },
  {
   "cell_type": "markdown",
   "id": "a19b4457-78d3-44c4-99c9-1f33e1a4060f",
   "metadata": {},
   "source": [
    "### Ex. 9.30\n",
    "\n",
    "The drug Dramamine was tested for its effectiveness to prevent airsickness compared to placebo. A total of 216 volunteers were randomly assigned to receive treatment (Dramamine) or control (placebo). Of the 108 volunteers receiving treatment, 31 became airsick; of the 108 volunteers receiving placebo, 60 became airsick."
   ]
  },
  {
   "cell_type": "markdown",
   "id": "aefef54a-4381-4e50-86ef-33f1b249917b",
   "metadata": {},
   "source": [
    "#### (a) \n",
    "Make a 2 $\\times$ 2 table displaying the results."
   ]
  },
  {
   "cell_type": "markdown",
   "id": "7683c8dd-506e-4c93-a564-d0303f757ee0",
   "metadata": {},
   "source": [
    "#### (b) \n",
    "Set up the hypotheses to test whether Dramamine is effective in reducing the chances of airsickness."
   ]
  },
  {
   "cell_type": "markdown",
   "id": "fc5def5a-ef16-4448-9d80-5eaa1c8d5eab",
   "metadata": {},
   "source": [
    "#### (c) \n",
    "Do a chi-square test of the hypotheses. Use $\\alpha$ = .05."
   ]
  },
  {
   "cell_type": "markdown",
   "id": "54560d82-48a1-4c02-81e3-4a1edb151e9b",
   "metadata": {},
   "source": [
    "### Ex. 9.31\n",
    "\n",
    "The Western Collaborative Group Study investigated the risk of coronary heart disease in 3154 men. From these data, the 40 heaviest men were classified by their cholesterol measurements (mg per 100 ml) and behavior (Type A or Type B). Broadly speaking, Type A behavior is competitive, while Type B behavior is noncompetitive. There were 20 Type A men, of whom 8 had cholesterol levels above 250 mg per 100 ml. There were 20 Type B men, of whom 3 had cholesterol levels above 250 mg per 100 ml."
   ]
  },
  {
   "cell_type": "markdown",
   "id": "4bc59861-cd41-41c9-95d6-1f01faa1b135",
   "metadata": {},
   "source": [
    "#### (a) \n",
    "Make a 2 $\\times$ 2 table displaying the personality type by cholesterol levels (≤ 250 vs. > 250)."
   ]
  },
  {
   "cell_type": "markdown",
   "id": "08c353cb-b04c-44c4-98a4-b7f28f645815",
   "metadata": {},
   "source": [
    "#### (b) \n",
    "Set up the hypotheses to test whether or not personality type is associated with cholesterol level. Conduct a test of the hypotheses. Use $\\alpha$ = .10."
   ]
  },
  {
   "cell_type": "markdown",
   "id": "b250e0e1-854b-4592-a439-be2c6c601402",
   "metadata": {},
   "source": [
    "### Ex. 9.32\n",
    "\n",
    "The following table gives the eye color and hair color of 592 students.\n",
    "\n",
    "Eye Color \\ Hair Color | Black | Brown | Red | Blond || Row Total\n",
    "---|---|---|---|---|---|---\n",
    "Brown | 68 | 119 | 26 | 7 || 220\n",
    "Blue | 20 | 84 | 17 | 94 || 215\n",
    "Hazel | 15 | 54 | 14 | 10 || 93\n",
    "Green | 5 | 29 | 14 | 16 || 64\n",
    "|||||\n",
    "Column Total | 108 | 286 | 71 | 127 || 592"
   ]
  },
  {
   "cell_type": "markdown",
   "id": "134d7fea-da24-49d9-a265-31e2e5e1e295",
   "metadata": {},
   "source": [
    "#### (a) \n",
    "Which type of sampling is used here -- multinomial or product multinomial?#### (b) \n",
    "Set up the hypotheses to test that the eye color and hair color are associated. Do a chi-square test at $\\alpha$ = .05. What do you conclude?"
   ]
  },
  {
   "cell_type": "markdown",
   "id": "9518d3c8-6a8f-4d19-a47c-f07588603fe3",
   "metadata": {},
   "source": [
    "#### (b) \n",
    "Set up the hypotheses to test that the eye color and hair color are associated. Do a chi-square test at $\\alpha$ = .05. What do you conclude?"
   ]
  },
  {
   "cell_type": "markdown",
   "id": "0833c490-48a6-41b9-8510-15f4f96b2d23",
   "metadata": {},
   "source": [
    "### Ex. 9.33\n",
    "\n",
    "Following the nuclear mishap at Three Mile Island near Harrisburg, PA, a sample of 150 households was surveyed. One question asked was: \"Should there have been a full evacuation of the immediate area?\" The following table classifies the responses according to the distance from the accident.\n",
    "\n",
    "Full Evacuation \\ Distance (miles) | 1-3 | 4-6 | 7-9 | 10-12 | 13-15 | 15+ || Row Total\n",
    "---|---|---|---|---|---|---|---|---\n",
    "Yes | 7 | 11 | 10 | 5 | 4 | 29 || 66\n",
    "No | 9 | 11 | 13 | 6 | 6 | 39 || 84\n",
    "||||||||\n",
    "Column Total | 16 | 22 | 23 | 11 | 10 | 68 || 150"
   ]
  },
  {
   "cell_type": "markdown",
   "id": "d37b44c7-439b-44f6-935f-fdb204c25baa",
   "metadata": {},
   "source": [
    "#### (a) \n",
    "Set up the hypotheses to test whether distance from the accident and evacuation attitudes are associated."
   ]
  },
  {
   "cell_type": "markdown",
   "id": "7497ad80-4147-4aba-9d35-0eae8fa6b9bd",
   "metadata": {},
   "source": [
    "#### (b)\n",
    "Conduct a test of the hypotheses. Use $\\alpha$ = .10."
   ]
  },
  {
   "cell_type": "markdown",
   "id": "73e66e15-5661-4d8d-93b8-8b0d8369e619",
   "metadata": {},
   "source": [
    "### Ex. 9.34\n",
    "\n",
    "To investigate whether there is a relationship between tonsil size and carriers of a particular bacterium, _Streptococcus pyrogenes_, 1398 school children were examined. The following table classifies the children according to tonsil size and carrier status.\n",
    "\n",
    "Tonsil Size \\ Carrier Status | Carrier | Non carrier || Row Total\n",
    "---|---|---|---|---\n",
    "Normal | 19 | 497 || 516\n",
    "Large | 29 | 560 || 589\n",
    "Very Large | 24 | 269 || 293\n",
    "||||\n",
    "Column Total | 72 | 1326 || 1398"
   ]
  },
  {
   "cell_type": "markdown",
   "id": "8894872b-f8c4-45e6-887a-a901bc80738e",
   "metadata": {},
   "source": [
    "#### (a) \n",
    "Set up the hypotheses to test whether tonsil size and carrier status are associated."
   ]
  },
  {
   "cell_type": "markdown",
   "id": "d38a1b4a-511c-4d85-9089-b22f6f8e64e1",
   "metadata": {},
   "source": [
    "#### (b) \n",
    "Conduct a test of the hypotheses. Can you conclude that tonsil size and carrier status are associated? Use $\\alpha$ = .05."
   ]
  },
  {
   "cell_type": "markdown",
   "id": "8112e46e-6e90-4007-ab5e-bbc3990052eb",
   "metadata": {},
   "source": [
    "### Ex. 9.35\n",
    "\n",
    "A study was done to investigate the association between the age at which breast cancer was diagnosed and the frequency of breast self-examination. The following table classifies the women in the sample according to these two criteria.\n",
    "\n",
    "Age \\ Frequency | Monthly | Occasionally | Never\n",
    "---|---|---|---\n",
    "< 45 | 91 | 90 | 51\n",
    "45-59 | 150 | 200 | 155\n",
    "60+ | 109 | 198 | 172"
   ]
  },
  {
   "cell_type": "markdown",
   "id": "3931de27-fecd-4c86-bf2b-f48ce075c002",
   "metadata": {},
   "source": [
    "#### (a) \n",
    "Set up the hypotheses to test that frequency of self-examination is related to the age of breast cancer diagnosis."
   ]
  },
  {
   "cell_type": "markdown",
   "id": "6fa61100-6cea-4178-97d7-76d9ea7cdc11",
   "metadata": {},
   "source": [
    "#### (b)\n",
    "Conduct a test of the hypotheses. Can you conclude association using $\\alpha$ = .10?"
   ]
  },
  {
   "cell_type": "markdown",
   "id": "c02c9071-b5a7-439a-9136-3628870f3b31",
   "metadata": {},
   "source": [
    "### Ex. 9.36\n",
    "\n",
    "Refer to Exercise 9.30. Calculate a 95% CI for the odds ratio. What does this say about the odds of airsickness if Dramamine is used?"
   ]
  },
  {
   "cell_type": "markdown",
   "id": "9c462617-e7ce-4a51-92d3-3d50451aa1ca",
   "metadata": {},
   "source": [
    "### Ex. 9.37\n",
    "\n",
    "Refer to Exercise 9.31. Calculate a 90% CI for the odds ratio. What does this say about the odds of higher cholesterol levels for a Type A personality?"
   ]
  },
  {
   "cell_type": "markdown",
   "id": "7907deed-5143-4145-8f52-87ae8ab20b30",
   "metadata": {},
   "source": [
    "## Advanced Exercises"
   ]
  },
  {
   "cell_type": "markdown",
   "id": "d46bbb45-27d3-44b6-8ac5-4ae794b49418",
   "metadata": {},
   "source": [
    "### Ex. 9.38\n",
    "\n",
    "A sample of employed men aged 18 to 67 were asked if they had carried out work on their home in the preceding year for which they would have previously employed a craftsman. The following table gives the summary of responses of 906 homeowners.\n",
    "\n",
    "Work | Home Repair | Age: < 30 | Age: 31-45 | Age: 46+ || Row Total\n",
    "---|---|---|---|---|---|---\n",
    "Skilled | Yes | 56 | 56 | 35 || 147\n",
    "Skilled | No  | 12 | 21 | 8  || 41\n",
    "Unskilled | Yes | 23 | 52 | 49 || 124\n",
    "Unskilled | No  | 9  | 31 | 51 || 91\n",
    "Office | Yes | 54 | 191 | 102 || 347\n",
    "Office | No  | 19 | 76  | 61  || 156\n",
    "||||||\n",
    "Column Totals || 173 | 427 | 306 || 906"
   ]
  },
  {
   "cell_type": "markdown",
   "id": "1b5ea255-a30d-419b-981b-a0ec448dc8f5",
   "metadata": {},
   "source": [
    "#### (a) \n",
    "For each category of work. set up the hypotheses to test that frequency of home repair is related to the age. Conduct the test using $\\alpha$ = .05."
   ]
  },
  {
   "cell_type": "markdown",
   "id": "6e3b38a4-1ced-4def-87f1-7c18a607feca",
   "metadata": {},
   "source": [
    "#### (b) \n",
    "Create a table of home repair by age summing across all types of work. Test for association between the frequency of home repair and age group using $\\alpha$ = .05."
   ]
  },
  {
   "cell_type": "markdown",
   "id": "ba8dcd12-1fc3-48e2-a795-bfc6a03eb9df",
   "metadata": {},
   "source": [
    "#### (c) \n",
    "Compare the results in (a) and (b). What information is missed in (b)?"
   ]
  },
  {
   "cell_type": "markdown",
   "id": "3f68c212-0582-49a3-9764-350b94decad0",
   "metadata": {},
   "source": [
    "### Ex. 9.39\n",
    "\n",
    "In this exercise we will derive the more accurate large sample CI (9.3) for the binomial proportion $p$."
   ]
  },
  {
   "cell_type": "markdown",
   "id": "ed82db11-3da7-48f9-b0be-c8ac18af015a",
   "metadata": {},
   "source": [
    "#### (a) \n",
    "Begin with the probability statement\n",
    "$$\n",
    "P\\left[ -z_{\\alpha/2} \\le \\frac{\\hat{p}-p}{\\sqrt{pq/n}} \\le z_{\\alpha/2} \\right]\n",
    "= P\\left[ (\\hat{p} - p)^2 \\le z_{\\alpha/2}^2 \\frac{pq}{n} \\right] \\simeq 1 - \\alpha\n",
    "$$\n",
    "and simplify it to the form\n",
    "$$\n",
    "P\\{A p^2 + B p + C \\le 0\\} \\simeq 1 - \\alpha.\n",
    "$$"
   ]
  },
  {
   "cell_type": "markdown",
   "id": "18269c25-657e-45ed-b81c-bdf0718e9460",
   "metadata": {},
   "source": [
    "#### (b) \n",
    "Find the two roots of the quadratic equation $A p^2 + B p + C = 0$, and show that they are given by\n",
    "$$\n",
    "p_L = \\frac{}{}\\text{, } p_U = \\frac{}{}\n",
    "$$\n",
    "where $z = z_{\\alpha/2}$·"
   ]
  },
  {
   "cell_type": "markdown",
   "id": "846cf25d-6c46-4576-ad9a-62dcbd8a5d0b",
   "metadata": {},
   "source": [
    "#### (c) \n",
    "Show that $A p^2 + B p + C \\le 0$ is equivalent to $p_L \\le p \\le p_U$. (_Hint:_ Sketch the quadratic function $A p^2 + B p + C$ and note that it falls below zero when $p$ falls between its two roots, $p_L$ and $p_U$.) Therefore $P\\{p_L \\le p \\le p_U\\} \\simeq 1 - \\alpha$, and thus $[p_L, p_U]$ is an approximate $(1 - \\alpha)$-level CI for $p$. Why is this CI more accurate than that given in (9.1)?"
   ]
  },
  {
   "cell_type": "markdown",
   "id": "1a434c61-1085-4e8e-9c1a-51711da77a32",
   "metadata": {},
   "source": [
    "#### (d) \n",
    "Show that if the terms of the order of $1/n$ are ignored in comparison to the terms of the order of $1/\\sqrt{n}$ when $n$ is large, the CI $[p_L, p_U]$ simplifies to (9.1)."
   ]
  },
  {
   "cell_type": "code",
   "execution_count": null,
   "id": "206b0879-362a-4a5e-bdd8-538c3596d3a6",
   "metadata": {},
   "outputs": [],
   "source": []
  }
 ],
 "metadata": {
  "kernelspec": {
   "display_name": "Python 3 (ipykernel)",
   "language": "python",
   "name": "python3"
  },
  "language_info": {
   "codemirror_mode": {
    "name": "ipython",
    "version": 3
   },
   "file_extension": ".py",
   "mimetype": "text/x-python",
   "name": "python",
   "nbconvert_exporter": "python",
   "pygments_lexer": "ipython3",
   "version": "3.10.12"
  }
 },
 "nbformat": 4,
 "nbformat_minor": 5
}
