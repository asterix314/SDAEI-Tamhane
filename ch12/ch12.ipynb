{
 "cells": [
  {
   "cell_type": "markdown",
   "id": "7c0c714a-801d-4de5-96d7-e375584311c7",
   "metadata": {},
   "source": [
    "# Chapter 12 Analysis of Single Factor Experiments"
   ]
  },
  {
   "cell_type": "code",
   "execution_count": 1,
   "id": "77880b95-9144-4d43-9119-3197c2ea4432",
   "metadata": {},
   "outputs": [],
   "source": [
    "import polars as pl\n",
    "from polars import col, lit\n",
    "from scipy import stats\n",
    "import numpy as np\n",
    "import altair as alt\n",
    "\n",
    "RNG = np.random.default_rng()\n",
    "DATA = {}  # input data\n",
    "ANS = {}   # calculation results"
   ]
  },
  {
   "cell_type": "markdown",
   "id": "ff855208-4011-419e-bfcd-c30c9014acf0",
   "metadata": {},
   "source": [
    "## 12.1 Completely Randomized Design"
   ]
  },
  {
   "cell_type": "markdown",
   "id": "4471b5e6-404a-4938-a6d7-31c3f512830a",
   "metadata": {},
   "source": [
    "To calculate the confidence interval of the group mean using a _pooled_ $\\hat s$:\n",
    "$$\n",
    "\\text{CI} = \\hat\\mu_\\text{group} \\pm t_{N-a,\\ \\alpha/2} \\frac{\\hat{s}_\\text{pool}}{\\sqrt{n_\\text{group}}}\\ .\n",
    "$$\n",
    "\n",
    "If there are multiple datasets, the CIs are calculated independently for each dataset."
   ]
  },
  {
   "cell_type": "code",
   "execution_count": 2,
   "id": "e3e6be51-ea8c-4dc5-ade0-57f1114023d0",
   "metadata": {
    "scrolled": true
   },
   "outputs": [],
   "source": [
    "def CI(data: pl.DataFrame, α: float=0.05) -> pl.DataFrame:\n",
    "    \"\"\" \n",
    "    returns the studentized CIs for each group in the data using a pooled s.\n",
    "\n",
    "    input columns:\n",
    "    - dataset: name of dataset. can be empty if only one dataset.\n",
    "    - group: name of treatment groups\n",
    "    - n: group size\n",
    "    - μ: group mean\n",
    "    - s: group standard deviation\n",
    "\n",
    "    output columns:\n",
    "    - dataset\n",
    "    - group\n",
    "    - CI: a pair of floats\n",
    "    \"\"\"\n",
    "    dof = col('n').sum() - pl.len()\n",
    "    t_crit = dof.map_elements(lambda v: stats.t.ppf(1-α/2, v))\n",
    "    s_pool = ((col('s')**2 * (col('n') - 1)).sum() / dof).sqrt()\n",
    "    se = s_pool / col('n').sqrt()\n",
    "    \n",
    "    return (\n",
    "        data.group_by('dataset')\n",
    "        .agg(\n",
    "            'group',\n",
    "            pl.concat_list(col('μ') - t_crit*se, col('μ') + t_crit*se)\n",
    "            .alias('CI'))\n",
    "        .explode('group', 'CI'))"
   ]
  },
  {
   "cell_type": "markdown",
   "id": "5c40c2dd-58c8-46ea-ba60-aa9e1cf711ac",
   "metadata": {},
   "source": [
    "To generate the ANOVA table for each dataset. Follows the textbook."
   ]
  },
  {
   "cell_type": "code",
   "execution_count": 3,
   "id": "6242367b-730c-48aa-a0e4-d4514bed4c6b",
   "metadata": {
    "scrolled": true
   },
   "outputs": [],
   "source": [
    "def ANOVA(data: pl.DataFrame) -> pl.DataFrame:\n",
    "    \"\"\" \n",
    "    returns the 1-way ANOVA table as a DataFrame.\n",
    "\n",
    "    assumed conditions in the input data:\n",
    "    - normality assumption\n",
    "    - constant variance\n",
    "\n",
    "    input columns:\n",
    "    - dataset: string id of dataset\n",
    "    - n: group size\n",
    "    - μ: group mean\n",
    "    - s: group standard deviation\n",
    "\n",
    "    output columns:\n",
    "    - dataset\n",
    "    - standard ANOVA table columns: \n",
    "        - source: treatment, error, total\n",
    "        - SS: sum of squares\n",
    "        - dof: degree of freedom\n",
    "        - MS: mean squres\n",
    "        - F: F statistic\n",
    "    \"\"\"\n",
    "    μ_total = (col('μ') * col('n')).sum() / col('n').sum()\n",
    "    \n",
    "    # factor A sum of squares\n",
    "    ssa = ((col('μ') - μ_total)**2 * col('n')).sum()\n",
    "    dof_ssa = pl.len() - 1\n",
    "    \n",
    "    # error sum of squares\n",
    "    sse = (col('s')**2 * (col('n') - 1)).sum()\n",
    "    dof_sse = col('n').sum() - pl.len()\n",
    "    \n",
    "    msa = ssa / dof_ssa # factor A mean square\n",
    "    mse = sse / dof_sse # error mean square\n",
    "\n",
    "    return (\n",
    "        data\n",
    "        .group_by('dataset')\n",
    "        .agg(ssa=ssa, dof_ssa=dof_ssa, sse=sse, dof_sse=dof_sse, msa=msa, mse=mse)\n",
    "        .select(\n",
    "            'dataset', \n",
    "            source=pl.concat_list(lit('treatment'), lit('error'), lit('total')),\n",
    "            SS=pl.concat_list('ssa', 'sse', col('ssa') + col('sse')),\n",
    "            dof=pl.concat_list('dof_ssa', 'dof_sse', col('dof_ssa') + col('dof_sse')),\n",
    "            MS=pl.concat_list('msa', 'mse', None),\n",
    "            F=pl.concat_list(col('msa') / col('mse'), None, None))\n",
    "        .explode('source', 'SS', 'dof', 'MS', 'F'))"
   ]
  },
  {
   "cell_type": "markdown",
   "id": "8f4d8546-b6bb-4d73-8ab3-9612490e99be",
   "metadata": {},
   "source": [
    "## 12.1 Solutions to Exercises"
   ]
  },
  {
   "cell_type": "markdown",
   "id": "62f159d3-bdc8-4e6a-a1e5-e9044628e414",
   "metadata": {},
   "source": [
    "### 1."
   ]
  },
  {
   "cell_type": "code",
   "execution_count": 4,
   "id": "e1cd3598-8b12-4a60-8d1a-6a18c82bc497",
   "metadata": {},
   "outputs": [
    {
     "data": {
      "text/html": [
       "<div><style>\n",
       ".dataframe > thead > tr,\n",
       ".dataframe > tbody > tr {\n",
       "  text-align: right;\n",
       "  white-space: pre-wrap;\n",
       "}\n",
       "</style>\n",
       "<small>shape: (3, 6)</small><table border=\"1\" class=\"dataframe\"><thead><tr><th>n</th><th>SugarAvg</th><th>SugarSD</th><th>FiberAvg</th><th>FiberSD</th><th>Location</th></tr><tr><td>f64</td><td>f64</td><td>f64</td><td>f64</td><td>f64</td><td>str</td></tr></thead><tbody><tr><td>20.0</td><td>4.8</td><td>2.138</td><td>1.68</td><td>1.166</td><td>&quot;Shelf1&quot;</td></tr><tr><td>20.0</td><td>9.85</td><td>1.985</td><td>0.95</td><td>1.162</td><td>&quot;Shelf2&quot;</td></tr><tr><td>20.0</td><td>6.1</td><td>1.865</td><td>2.17</td><td>1.277</td><td>&quot;Shelf3&quot;</td></tr></tbody></table></div>"
      ],
      "text/plain": [
       "shape: (3, 6)\n",
       "┌──────┬──────────┬─────────┬──────────┬─────────┬──────────┐\n",
       "│ n    ┆ SugarAvg ┆ SugarSD ┆ FiberAvg ┆ FiberSD ┆ Location │\n",
       "│ ---  ┆ ---      ┆ ---     ┆ ---      ┆ ---     ┆ ---      │\n",
       "│ f64  ┆ f64      ┆ f64     ┆ f64      ┆ f64     ┆ str      │\n",
       "╞══════╪══════════╪═════════╪══════════╪═════════╪══════════╡\n",
       "│ 20.0 ┆ 4.8      ┆ 2.138   ┆ 1.68     ┆ 1.166   ┆ Shelf1   │\n",
       "│ 20.0 ┆ 9.85     ┆ 1.985   ┆ 0.95     ┆ 1.162   ┆ Shelf2   │\n",
       "│ 20.0 ┆ 6.1      ┆ 1.865   ┆ 2.17     ┆ 1.277   ┆ Shelf3   │\n",
       "└──────┴──────────┴─────────┴──────────┴─────────┴──────────┘"
      ]
     },
     "execution_count": 4,
     "metadata": {},
     "output_type": "execute_result"
    }
   ],
   "source": [
    "DATA['12.1'] = pl.read_json('Ex12-1.json').explode(pl.all())\n",
    "DATA['12.1'].head()"
   ]
  },
  {
   "cell_type": "markdown",
   "id": "4acd6e8e-f22d-4f49-91dc-b31f9e9ce095",
   "metadata": {},
   "source": [
    "Transform to a long format that is compatible with the function `CI`. The shelves correspond to the treatment groups and there are 2 datasets: sugar and fiber."
   ]
  },
  {
   "cell_type": "code",
   "execution_count": 5,
   "id": "a596b921-05e7-4324-882f-9f491a1737fc",
   "metadata": {},
   "outputs": [
    {
     "data": {
      "text/html": [
       "<div><style>\n",
       ".dataframe > thead > tr,\n",
       ".dataframe > tbody > tr {\n",
       "  text-align: right;\n",
       "  white-space: pre-wrap;\n",
       "}\n",
       "</style>\n",
       "<small>shape: (6, 5)</small><table border=\"1\" class=\"dataframe\"><thead><tr><th>group</th><th>n</th><th>dataset</th><th>μ</th><th>s</th></tr><tr><td>str</td><td>i64</td><td>str</td><td>f64</td><td>f64</td></tr></thead><tbody><tr><td>&quot;Shelf1&quot;</td><td>20</td><td>&quot;fiber&quot;</td><td>1.68</td><td>1.166</td></tr><tr><td>&quot;Shelf2&quot;</td><td>20</td><td>&quot;fiber&quot;</td><td>0.95</td><td>1.162</td></tr><tr><td>&quot;Shelf3&quot;</td><td>20</td><td>&quot;fiber&quot;</td><td>2.17</td><td>1.277</td></tr><tr><td>&quot;Shelf1&quot;</td><td>20</td><td>&quot;sugar&quot;</td><td>4.8</td><td>2.138</td></tr><tr><td>&quot;Shelf2&quot;</td><td>20</td><td>&quot;sugar&quot;</td><td>9.85</td><td>1.985</td></tr><tr><td>&quot;Shelf3&quot;</td><td>20</td><td>&quot;sugar&quot;</td><td>6.1</td><td>1.865</td></tr></tbody></table></div>"
      ],
      "text/plain": [
       "shape: (6, 5)\n",
       "┌────────┬─────┬─────────┬──────┬───────┐\n",
       "│ group  ┆ n   ┆ dataset ┆ μ    ┆ s     │\n",
       "│ ---    ┆ --- ┆ ---     ┆ ---  ┆ ---   │\n",
       "│ str    ┆ i64 ┆ str     ┆ f64  ┆ f64   │\n",
       "╞════════╪═════╪═════════╪══════╪═══════╡\n",
       "│ Shelf1 ┆ 20  ┆ fiber   ┆ 1.68 ┆ 1.166 │\n",
       "│ Shelf2 ┆ 20  ┆ fiber   ┆ 0.95 ┆ 1.162 │\n",
       "│ Shelf3 ┆ 20  ┆ fiber   ┆ 2.17 ┆ 1.277 │\n",
       "│ Shelf1 ┆ 20  ┆ sugar   ┆ 4.8  ┆ 2.138 │\n",
       "│ Shelf2 ┆ 20  ┆ sugar   ┆ 9.85 ┆ 1.985 │\n",
       "│ Shelf3 ┆ 20  ┆ sugar   ┆ 6.1  ┆ 1.865 │\n",
       "└────────┴─────┴─────────┴──────┴───────┘"
      ]
     },
     "execution_count": 5,
     "metadata": {},
     "output_type": "execute_result"
    }
   ],
   "source": [
    "DATA['12.1 - long'] = (\n",
    "    DATA['12.1'].select(\n",
    "        group='Location',\n",
    "        n=col('n').cast(int),\n",
    "        container=pl.concat_list(\n",
    "            pl.struct(dataset=lit('sugar'), μ='SugarAvg', s='SugarSD'),\n",
    "            pl.struct(dataset=lit('fiber'), μ='FiberAvg', s='FiberSD')))\n",
    "    .explode('container')\n",
    "    .unnest('container')\n",
    "    .sort('dataset', 'group'))\n",
    "\n",
    "DATA['12.1 - long']"
   ]
  },
  {
   "cell_type": "markdown",
   "id": "59667044-5a30-4605-8142-19430bc1f3fd",
   "metadata": {},
   "source": [
    "#### (a)"
   ]
  },
  {
   "cell_type": "code",
   "execution_count": 6,
   "id": "56ec5588-7ebc-4c75-8353-9620f0f25583",
   "metadata": {
    "scrolled": true
   },
   "outputs": [
    {
     "data": {
      "text/html": [
       "<div><style>\n",
       ".dataframe > thead > tr,\n",
       ".dataframe > tbody > tr {\n",
       "  text-align: right;\n",
       "  white-space: pre-wrap;\n",
       "}\n",
       "</style>\n",
       "<small>shape: (6, 3)</small><table border=\"1\" class=\"dataframe\"><thead><tr><th>dataset</th><th>group</th><th>CI</th></tr><tr><td>str</td><td>str</td><td>list[f64]</td></tr></thead><tbody><tr><td>&quot;fiber&quot;</td><td>&quot;Shelf1&quot;</td><td>[1.141407, 2.218593]</td></tr><tr><td>&quot;fiber&quot;</td><td>&quot;Shelf2&quot;</td><td>[0.411407, 1.488593]</td></tr><tr><td>&quot;fiber&quot;</td><td>&quot;Shelf3&quot;</td><td>[1.631407, 2.708593]</td></tr><tr><td>&quot;sugar&quot;</td><td>&quot;Shelf1&quot;</td><td>[3.904862, 5.695138]</td></tr><tr><td>&quot;sugar&quot;</td><td>&quot;Shelf2&quot;</td><td>[8.954862, 10.745138]</td></tr><tr><td>&quot;sugar&quot;</td><td>&quot;Shelf3&quot;</td><td>[5.204862, 6.995138]</td></tr></tbody></table></div>"
      ],
      "text/plain": [
       "shape: (6, 3)\n",
       "┌─────────┬────────┬───────────────────────┐\n",
       "│ dataset ┆ group  ┆ CI                    │\n",
       "│ ---     ┆ ---    ┆ ---                   │\n",
       "│ str     ┆ str    ┆ list[f64]             │\n",
       "╞═════════╪════════╪═══════════════════════╡\n",
       "│ fiber   ┆ Shelf1 ┆ [1.141407, 2.218593]  │\n",
       "│ fiber   ┆ Shelf2 ┆ [0.411407, 1.488593]  │\n",
       "│ fiber   ┆ Shelf3 ┆ [1.631407, 2.708593]  │\n",
       "│ sugar   ┆ Shelf1 ┆ [3.904862, 5.695138]  │\n",
       "│ sugar   ┆ Shelf2 ┆ [8.954862, 10.745138] │\n",
       "│ sugar   ┆ Shelf3 ┆ [5.204862, 6.995138]  │\n",
       "└─────────┴────────┴───────────────────────┘"
      ]
     },
     "execution_count": 6,
     "metadata": {},
     "output_type": "execute_result"
    }
   ],
   "source": [
    "ANS['12.1.a'] = CI(DATA['12.1 - long'])\n",
    "ANS['12.1.a']"
   ]
  },
  {
   "cell_type": "markdown",
   "id": "413578bb-b0ab-4458-907a-677fdd020366",
   "metadata": {},
   "source": [
    "Let's visualize the CIs."
   ]
  },
  {
   "cell_type": "code",
   "execution_count": 7,
   "id": "92b1f4f3-c8bb-4cb6-8d98-a90a7cfdbfe4",
   "metadata": {
    "scrolled": true
   },
   "outputs": [
    {
     "data": {
      "text/html": [
       "\n",
       "<style>\n",
       "  #altair-viz-97bf748c022c46d4864cbb73230677d0.vega-embed {\n",
       "    width: 100%;\n",
       "    display: flex;\n",
       "  }\n",
       "\n",
       "  #altair-viz-97bf748c022c46d4864cbb73230677d0.vega-embed details,\n",
       "  #altair-viz-97bf748c022c46d4864cbb73230677d0.vega-embed details summary {\n",
       "    position: relative;\n",
       "  }\n",
       "</style>\n",
       "<div id=\"altair-viz-97bf748c022c46d4864cbb73230677d0\"></div>\n",
       "<script type=\"text/javascript\">\n",
       "  var VEGA_DEBUG = (typeof VEGA_DEBUG == \"undefined\") ? {} : VEGA_DEBUG;\n",
       "  (function(spec, embedOpt){\n",
       "    let outputDiv = document.currentScript.previousElementSibling;\n",
       "    if (outputDiv.id !== \"altair-viz-97bf748c022c46d4864cbb73230677d0\") {\n",
       "      outputDiv = document.getElementById(\"altair-viz-97bf748c022c46d4864cbb73230677d0\");\n",
       "    }\n",
       "    const paths = {\n",
       "      \"vega\": \"https://cdn.jsdelivr.net/npm/vega@5?noext\",\n",
       "      \"vega-lib\": \"https://cdn.jsdelivr.net/npm/vega-lib?noext\",\n",
       "      \"vega-lite\": \"https://cdn.jsdelivr.net/npm/vega-lite@5.16.3?noext\",\n",
       "      \"vega-embed\": \"https://cdn.jsdelivr.net/npm/vega-embed@6?noext\",\n",
       "    };\n",
       "\n",
       "    function maybeLoadScript(lib, version) {\n",
       "      var key = `${lib.replace(\"-\", \"\")}_version`;\n",
       "      return (VEGA_DEBUG[key] == version) ?\n",
       "        Promise.resolve(paths[lib]) :\n",
       "        new Promise(function(resolve, reject) {\n",
       "          var s = document.createElement('script');\n",
       "          document.getElementsByTagName(\"head\")[0].appendChild(s);\n",
       "          s.async = true;\n",
       "          s.onload = () => {\n",
       "            VEGA_DEBUG[key] = version;\n",
       "            return resolve(paths[lib]);\n",
       "          };\n",
       "          s.onerror = () => reject(`Error loading script: ${paths[lib]}`);\n",
       "          s.src = paths[lib];\n",
       "        });\n",
       "    }\n",
       "\n",
       "    function showError(err) {\n",
       "      outputDiv.innerHTML = `<div class=\"error\" style=\"color:red;\">${err}</div>`;\n",
       "      throw err;\n",
       "    }\n",
       "\n",
       "    function displayChart(vegaEmbed) {\n",
       "      vegaEmbed(outputDiv, spec, embedOpt)\n",
       "        .catch(err => showError(`Javascript Error: ${err.message}<br>This usually means there's a typo in your chart specification. See the javascript console for the full traceback.`));\n",
       "    }\n",
       "\n",
       "    if(typeof define === \"function\" && define.amd) {\n",
       "      requirejs.config({paths});\n",
       "      require([\"vega-embed\"], displayChart, err => showError(`Error loading script: ${err.message}`));\n",
       "    } else {\n",
       "      maybeLoadScript(\"vega\", \"5\")\n",
       "        .then(() => maybeLoadScript(\"vega-lite\", \"5.16.3\"))\n",
       "        .then(() => maybeLoadScript(\"vega-embed\", \"6\"))\n",
       "        .catch(showError)\n",
       "        .then(() => displayChart(vegaEmbed));\n",
       "    }\n",
       "  })({\"config\": {\"view\": {\"continuousWidth\": 300, \"continuousHeight\": 300}}, \"data\": {\"name\": \"data-b045502ccba49f2383fadc1309559fca\"}, \"mark\": {\"type\": \"line\", \"strokeWidth\": 2}, \"encoding\": {\"row\": {\"field\": \"dataset\", \"title\": null, \"type\": \"nominal\"}, \"x\": {\"field\": \"low\", \"title\": \"CI\", \"type\": \"quantitative\"}, \"x2\": {\"field\": \"high\"}, \"y\": {\"field\": \"group\", \"title\": null, \"type\": \"nominal\"}}, \"resolve\": {\"scale\": {\"x\": \"independent\"}}, \"$schema\": \"https://vega.github.io/schema/vega-lite/v5.16.3.json\", \"datasets\": {\"data-b045502ccba49f2383fadc1309559fca\": [{\"dataset\": \"fiber\", \"group\": \"Shelf1\", \"low\": 1.141406957085243, \"high\": 2.218593042914757}, {\"dataset\": \"fiber\", \"group\": \"Shelf2\", \"low\": 0.411406957085243, \"high\": 1.488593042914757}, {\"dataset\": \"fiber\", \"group\": \"Shelf3\", \"low\": 1.631406957085243, \"high\": 2.7085930429147567}, {\"dataset\": \"sugar\", \"group\": \"Shelf1\", \"low\": 3.904862326639528, \"high\": 5.695137673360471}, {\"dataset\": \"sugar\", \"group\": \"Shelf2\", \"low\": 8.954862326639528, \"high\": 10.745137673360471}, {\"dataset\": \"sugar\", \"group\": \"Shelf3\", \"low\": 5.204862326639528, \"high\": 6.995137673360471}]}}, {\"mode\": \"vega-lite\"});\n",
       "</script>"
      ],
      "text/plain": [
       "alt.Chart(...)"
      ]
     },
     "execution_count": 7,
     "metadata": {},
     "output_type": "execute_result"
    }
   ],
   "source": [
    "(\n",
    "    alt.Chart(\n",
    "        ANS['12.1.a'].select('dataset', 'group',\n",
    "            low=col('CI').list.first(),\n",
    "            high=col('CI').list.last()))\n",
    "    .mark_line(strokeWidth=2)\n",
    "    .encode(\n",
    "        alt.X('low').title('CI'),\n",
    "        alt.X2('high'),\n",
    "        alt.Y('group').title(None),\n",
    "        alt.Row('dataset').title(None))\n",
    "    .resolve_scale(x='independent')\n",
    ")"
   ]
  },
  {
   "cell_type": "markdown",
   "id": "505975a2-a857-46fd-aa53-bbf3673f15ac",
   "metadata": {},
   "source": [
    "Reading from the chart:\n",
    "- Sugar: The CIs of Shelf 1 and Shelf 3 overlap, so no obvious differences. But Shelf 2 stands out from the rest.\n",
    "- Fiber: By the same token, Shelf 2 and Shelf 3 are different because their CIs do not overlap."
   ]
  },
  {
   "cell_type": "markdown",
   "id": "ea71f91f-c0d7-4180-9aa4-94aa2bf79643",
   "metadata": {},
   "source": [
    "#### (b)"
   ]
  },
  {
   "cell_type": "code",
   "execution_count": 8,
   "id": "c249e459-bb25-4d3f-8ea7-e4fc084c9b08",
   "metadata": {
    "scrolled": true
   },
   "outputs": [
    {
     "data": {
      "text/html": [
       "<div><style>\n",
       ".dataframe > thead > tr,\n",
       ".dataframe > tbody > tr {\n",
       "  text-align: right;\n",
       "  white-space: pre-wrap;\n",
       "}\n",
       "</style>\n",
       "<small>shape: (6, 6)</small><table border=\"1\" class=\"dataframe\"><thead><tr><th>dataset</th><th>source</th><th>SS</th><th>dof</th><th>MS</th><th>F</th></tr><tr><td>str</td><td>str</td><td>f64</td><td>i64</td><td>f64</td><td>f64</td></tr></thead><tbody><tr><td>&quot;fiber&quot;</td><td>&quot;treatment&quot;</td><td>15.076</td><td>2</td><td>7.538</td><td>5.209964</td></tr><tr><td>&quot;fiber&quot;</td><td>&quot;error&quot;</td><td>82.470051</td><td>57</td><td>1.446843</td><td>null</td></tr><tr><td>&quot;fiber&quot;</td><td>&quot;total&quot;</td><td>97.546051</td><td>59</td><td>null</td><td>null</td></tr><tr><td>&quot;sugar&quot;</td><td>&quot;treatment&quot;</td><td>275.033333</td><td>2</td><td>137.516667</td><td>34.409292</td></tr><tr><td>&quot;sugar&quot;</td><td>&quot;error&quot;</td><td>227.800386</td><td>57</td><td>3.996498</td><td>null</td></tr><tr><td>&quot;sugar&quot;</td><td>&quot;total&quot;</td><td>502.833719</td><td>59</td><td>null</td><td>null</td></tr></tbody></table></div>"
      ],
      "text/plain": [
       "shape: (6, 6)\n",
       "┌─────────┬───────────┬────────────┬─────┬────────────┬───────────┐\n",
       "│ dataset ┆ source    ┆ SS         ┆ dof ┆ MS         ┆ F         │\n",
       "│ ---     ┆ ---       ┆ ---        ┆ --- ┆ ---        ┆ ---       │\n",
       "│ str     ┆ str       ┆ f64        ┆ i64 ┆ f64        ┆ f64       │\n",
       "╞═════════╪═══════════╪════════════╪═════╪════════════╪═══════════╡\n",
       "│ fiber   ┆ treatment ┆ 15.076     ┆ 2   ┆ 7.538      ┆ 5.209964  │\n",
       "│ fiber   ┆ error     ┆ 82.470051  ┆ 57  ┆ 1.446843   ┆ null      │\n",
       "│ fiber   ┆ total     ┆ 97.546051  ┆ 59  ┆ null       ┆ null      │\n",
       "│ sugar   ┆ treatment ┆ 275.033333 ┆ 2   ┆ 137.516667 ┆ 34.409292 │\n",
       "│ sugar   ┆ error     ┆ 227.800386 ┆ 57  ┆ 3.996498   ┆ null      │\n",
       "│ sugar   ┆ total     ┆ 502.833719 ┆ 59  ┆ null       ┆ null      │\n",
       "└─────────┴───────────┴────────────┴─────┴────────────┴───────────┘"
      ]
     },
     "execution_count": 8,
     "metadata": {},
     "output_type": "execute_result"
    }
   ],
   "source": [
    "ANS['12.1.b'] = ANOVA(DATA['12.1 - long'])\n",
    "ANS['12.1.b']"
   ]
  },
  {
   "cell_type": "markdown",
   "id": "33bd3fd2-3a39-4e88-917b-48f6496b0b17",
   "metadata": {},
   "source": [
    "The 95% critical value $f(2, 57)$ is"
   ]
  },
  {
   "cell_type": "code",
   "execution_count": 9,
   "id": "27924785-b2c8-47ed-abda-cf4e1640a162",
   "metadata": {},
   "outputs": [
    {
     "data": {
      "text/plain": [
       "3.1588427192606465"
      ]
     },
     "execution_count": 9,
     "metadata": {},
     "output_type": "execute_result"
    }
   ],
   "source": [
    "stats.f(2, 57).ppf(0.95)"
   ]
  },
  {
   "cell_type": "markdown",
   "id": "872fe1b3-073e-4c52-93e8-764fdce292c1",
   "metadata": {},
   "source": [
    "Therefore both the sugar and fiber content F ratios (34.4 and 5.2 respectively) are greater than the critical value, meaning there are significant differences among the shelves."
   ]
  },
  {
   "cell_type": "markdown",
   "id": "2af505a3-1580-4ae6-a4f8-c9b898028835",
   "metadata": {},
   "source": [
    "#### (c)"
   ]
  },
  {
   "cell_type": "markdown",
   "id": "5f7a2831-361b-415a-9e39-9bed2a81a303",
   "metadata": {},
   "source": [
    "Shelf 2 contains cereals that are high in sugar and low in fiber (refer to the line chart in (b)), in other words, \"taste good\". The grocery store's strategy is to place those where grade schoolers can easily see."
   ]
  },
  {
   "cell_type": "markdown",
   "id": "0d3bb4db-4db8-4dde-821a-352e925cb16e",
   "metadata": {},
   "source": [
    "### 2."
   ]
  },
  {
   "cell_type": "code",
   "execution_count": 10,
   "id": "5f069841-a397-45f4-99ab-47aac71afa28",
   "metadata": {},
   "outputs": [
    {
     "data": {
      "text/html": [
       "<div><style>\n",
       ".dataframe > thead > tr,\n",
       ".dataframe > tbody > tr {\n",
       "  text-align: right;\n",
       "  white-space: pre-wrap;\n",
       "}\n",
       "</style>\n",
       "<small>shape: (5, 2)</small><table border=\"1\" class=\"dataframe\"><thead><tr><th>mg</th><th>taprate</th></tr><tr><td>f64</td><td>f64</td></tr></thead><tbody><tr><td>0.0</td><td>242.0</td></tr><tr><td>0.0</td><td>245.0</td></tr><tr><td>0.0</td><td>244.0</td></tr><tr><td>0.0</td><td>248.0</td></tr><tr><td>0.0</td><td>247.0</td></tr></tbody></table></div>"
      ],
      "text/plain": [
       "shape: (5, 2)\n",
       "┌─────┬─────────┐\n",
       "│ mg  ┆ taprate │\n",
       "│ --- ┆ ---     │\n",
       "│ f64 ┆ f64     │\n",
       "╞═════╪═════════╡\n",
       "│ 0.0 ┆ 242.0   │\n",
       "│ 0.0 ┆ 245.0   │\n",
       "│ 0.0 ┆ 244.0   │\n",
       "│ 0.0 ┆ 248.0   │\n",
       "│ 0.0 ┆ 247.0   │\n",
       "└─────┴─────────┘"
      ]
     },
     "execution_count": 10,
     "metadata": {},
     "output_type": "execute_result"
    }
   ],
   "source": [
    "DATA['12.2'] = pl.read_json('Ex12-2.json').explode(pl.all())\n",
    "DATA['12.2'].head()"
   ]
  },
  {
   "cell_type": "code",
   "execution_count": 11,
   "id": "e1252732-e95d-4c83-8898-6c4f06f8b97d",
   "metadata": {},
   "outputs": [
    {
     "data": {
      "text/html": [
       "<div><style>\n",
       ".dataframe > thead > tr,\n",
       ".dataframe > tbody > tr {\n",
       "  text-align: right;\n",
       "  white-space: pre-wrap;\n",
       "}\n",
       "</style>\n",
       "<small>shape: (5, 2)</small><table border=\"1\" class=\"dataframe\"><thead><tr><th>mg</th><th>taprate</th></tr><tr><td>str</td><td>i64</td></tr></thead><tbody><tr><td>&quot;0 mg&quot;</td><td>242</td></tr><tr><td>&quot;0 mg&quot;</td><td>245</td></tr><tr><td>&quot;0 mg&quot;</td><td>244</td></tr><tr><td>&quot;0 mg&quot;</td><td>248</td></tr><tr><td>&quot;0 mg&quot;</td><td>247</td></tr></tbody></table></div>"
      ],
      "text/plain": [
       "shape: (5, 2)\n",
       "┌──────┬─────────┐\n",
       "│ mg   ┆ taprate │\n",
       "│ ---  ┆ ---     │\n",
       "│ str  ┆ i64     │\n",
       "╞══════╪═════════╡\n",
       "│ 0 mg ┆ 242     │\n",
       "│ 0 mg ┆ 245     │\n",
       "│ 0 mg ┆ 244     │\n",
       "│ 0 mg ┆ 248     │\n",
       "│ 0 mg ┆ 247     │\n",
       "└──────┴─────────┘"
      ]
     },
     "execution_count": 11,
     "metadata": {},
     "output_type": "execute_result"
    }
   ],
   "source": [
    "DATA['12.2 - clean'] = (\n",
    "    DATA['12.2']\n",
    "    .select(\n",
    "        pl.format('{} mg', col('mg').cast(int)),\n",
    "        col('taprate').cast(int)))\n",
    "\n",
    "DATA['12.2 - clean'].head()"
   ]
  },
  {
   "cell_type": "markdown",
   "id": "77a9fa04-7e9e-4db6-be93-95342310779d",
   "metadata": {},
   "source": [
    "#### (a)"
   ]
  },
  {
   "cell_type": "code",
   "execution_count": 12,
   "id": "5687a506-679f-4d81-b5b7-dc62d85a8b93",
   "metadata": {},
   "outputs": [
    {
     "data": {
      "text/html": [
       "\n",
       "<style>\n",
       "  #altair-viz-e216f83208344f21a995c0e898fe15a6.vega-embed {\n",
       "    width: 100%;\n",
       "    display: flex;\n",
       "  }\n",
       "\n",
       "  #altair-viz-e216f83208344f21a995c0e898fe15a6.vega-embed details,\n",
       "  #altair-viz-e216f83208344f21a995c0e898fe15a6.vega-embed details summary {\n",
       "    position: relative;\n",
       "  }\n",
       "</style>\n",
       "<div id=\"altair-viz-e216f83208344f21a995c0e898fe15a6\"></div>\n",
       "<script type=\"text/javascript\">\n",
       "  var VEGA_DEBUG = (typeof VEGA_DEBUG == \"undefined\") ? {} : VEGA_DEBUG;\n",
       "  (function(spec, embedOpt){\n",
       "    let outputDiv = document.currentScript.previousElementSibling;\n",
       "    if (outputDiv.id !== \"altair-viz-e216f83208344f21a995c0e898fe15a6\") {\n",
       "      outputDiv = document.getElementById(\"altair-viz-e216f83208344f21a995c0e898fe15a6\");\n",
       "    }\n",
       "    const paths = {\n",
       "      \"vega\": \"https://cdn.jsdelivr.net/npm/vega@5?noext\",\n",
       "      \"vega-lib\": \"https://cdn.jsdelivr.net/npm/vega-lib?noext\",\n",
       "      \"vega-lite\": \"https://cdn.jsdelivr.net/npm/vega-lite@5.16.3?noext\",\n",
       "      \"vega-embed\": \"https://cdn.jsdelivr.net/npm/vega-embed@6?noext\",\n",
       "    };\n",
       "\n",
       "    function maybeLoadScript(lib, version) {\n",
       "      var key = `${lib.replace(\"-\", \"\")}_version`;\n",
       "      return (VEGA_DEBUG[key] == version) ?\n",
       "        Promise.resolve(paths[lib]) :\n",
       "        new Promise(function(resolve, reject) {\n",
       "          var s = document.createElement('script');\n",
       "          document.getElementsByTagName(\"head\")[0].appendChild(s);\n",
       "          s.async = true;\n",
       "          s.onload = () => {\n",
       "            VEGA_DEBUG[key] = version;\n",
       "            return resolve(paths[lib]);\n",
       "          };\n",
       "          s.onerror = () => reject(`Error loading script: ${paths[lib]}`);\n",
       "          s.src = paths[lib];\n",
       "        });\n",
       "    }\n",
       "\n",
       "    function showError(err) {\n",
       "      outputDiv.innerHTML = `<div class=\"error\" style=\"color:red;\">${err}</div>`;\n",
       "      throw err;\n",
       "    }\n",
       "\n",
       "    function displayChart(vegaEmbed) {\n",
       "      vegaEmbed(outputDiv, spec, embedOpt)\n",
       "        .catch(err => showError(`Javascript Error: ${err.message}<br>This usually means there's a typo in your chart specification. See the javascript console for the full traceback.`));\n",
       "    }\n",
       "\n",
       "    if(typeof define === \"function\" && define.amd) {\n",
       "      requirejs.config({paths});\n",
       "      require([\"vega-embed\"], displayChart, err => showError(`Error loading script: ${err.message}`));\n",
       "    } else {\n",
       "      maybeLoadScript(\"vega\", \"5\")\n",
       "        .then(() => maybeLoadScript(\"vega-lite\", \"5.16.3\"))\n",
       "        .then(() => maybeLoadScript(\"vega-embed\", \"6\"))\n",
       "        .catch(showError)\n",
       "        .then(() => displayChart(vegaEmbed));\n",
       "    }\n",
       "  })({\"config\": {\"view\": {\"continuousWidth\": 300, \"continuousHeight\": 300}}, \"data\": {\"name\": \"data-acdf9bcf03dee65e0d5c32e95bdca54c\"}, \"mark\": {\"type\": \"boxplot\"}, \"encoding\": {\"x\": {\"field\": \"taprate\", \"scale\": {\"zero\": false}, \"type\": \"quantitative\"}, \"y\": {\"field\": \"mg\", \"type\": \"nominal\"}}, \"$schema\": \"https://vega.github.io/schema/vega-lite/v5.16.3.json\", \"datasets\": {\"data-acdf9bcf03dee65e0d5c32e95bdca54c\": [{\"mg\": \"0 mg\", \"taprate\": 242}, {\"mg\": \"0 mg\", \"taprate\": 245}, {\"mg\": \"0 mg\", \"taprate\": 244}, {\"mg\": \"0 mg\", \"taprate\": 248}, {\"mg\": \"0 mg\", \"taprate\": 247}, {\"mg\": \"0 mg\", \"taprate\": 248}, {\"mg\": \"0 mg\", \"taprate\": 242}, {\"mg\": \"0 mg\", \"taprate\": 244}, {\"mg\": \"0 mg\", \"taprate\": 246}, {\"mg\": \"0 mg\", \"taprate\": 242}, {\"mg\": \"100 mg\", \"taprate\": 248}, {\"mg\": \"100 mg\", \"taprate\": 246}, {\"mg\": \"100 mg\", \"taprate\": 245}, {\"mg\": \"100 mg\", \"taprate\": 247}, {\"mg\": \"100 mg\", \"taprate\": 248}, {\"mg\": \"100 mg\", \"taprate\": 250}, {\"mg\": \"100 mg\", \"taprate\": 247}, {\"mg\": \"100 mg\", \"taprate\": 246}, {\"mg\": \"100 mg\", \"taprate\": 243}, {\"mg\": \"100 mg\", \"taprate\": 244}, {\"mg\": \"200 mg\", \"taprate\": 246}, {\"mg\": \"200 mg\", \"taprate\": 248}, {\"mg\": \"200 mg\", \"taprate\": 250}, {\"mg\": \"200 mg\", \"taprate\": 252}, {\"mg\": \"200 mg\", \"taprate\": 248}, {\"mg\": \"200 mg\", \"taprate\": 250}, {\"mg\": \"200 mg\", \"taprate\": 246}, {\"mg\": \"200 mg\", \"taprate\": 248}, {\"mg\": \"200 mg\", \"taprate\": 245}, {\"mg\": \"200 mg\", \"taprate\": 250}]}}, {\"mode\": \"vega-lite\"});\n",
       "</script>"
      ],
      "text/plain": [
       "alt.Chart(...)"
      ]
     },
     "execution_count": 12,
     "metadata": {},
     "output_type": "execute_result"
    }
   ],
   "source": [
    "(\n",
    "    alt.Chart(DATA['12.2 - clean'])\n",
    "    .mark_boxplot()\n",
    "    .encode(\n",
    "        alt.Y('mg'),\n",
    "        alt.X('taprate').scale(zero=False))\n",
    ")"
   ]
  },
  {
   "cell_type": "markdown",
   "id": "e6e28e8e-798a-4666-8cea-7e4a61a1217e",
   "metadata": {},
   "source": [
    "The chart seems to indicate different effects among the doses."
   ]
  },
  {
   "cell_type": "markdown",
   "id": "c51d393b-255e-4611-946d-ce447a4fdbe8",
   "metadata": {},
   "source": [
    "#### (b)"
   ]
  },
  {
   "cell_type": "code",
   "execution_count": 13,
   "id": "9823c426-1e20-49c3-b5ed-d21def8bed9a",
   "metadata": {},
   "outputs": [
    {
     "data": {
      "text/html": [
       "<div><style>\n",
       ".dataframe > thead > tr,\n",
       ".dataframe > tbody > tr {\n",
       "  text-align: right;\n",
       "  white-space: pre-wrap;\n",
       "}\n",
       "</style>\n",
       "<small>shape: (3, 6)</small><table border=\"1\" class=\"dataframe\"><thead><tr><th>dataset</th><th>source</th><th>SS</th><th>dof</th><th>MS</th><th>F</th></tr><tr><td>str</td><td>str</td><td>f64</td><td>u32</td><td>f64</td><td>f64</td></tr></thead><tbody><tr><td>&quot;&quot;</td><td>&quot;treatment&quot;</td><td>61.4</td><td>2</td><td>30.7</td><td>6.181208</td></tr><tr><td>&quot;&quot;</td><td>&quot;error&quot;</td><td>134.1</td><td>27</td><td>4.966667</td><td>null</td></tr><tr><td>&quot;&quot;</td><td>&quot;total&quot;</td><td>195.5</td><td>29</td><td>null</td><td>null</td></tr></tbody></table></div>"
      ],
      "text/plain": [
       "shape: (3, 6)\n",
       "┌─────────┬───────────┬───────┬─────┬──────────┬──────────┐\n",
       "│ dataset ┆ source    ┆ SS    ┆ dof ┆ MS       ┆ F        │\n",
       "│ ---     ┆ ---       ┆ ---   ┆ --- ┆ ---      ┆ ---      │\n",
       "│ str     ┆ str       ┆ f64   ┆ u32 ┆ f64      ┆ f64      │\n",
       "╞═════════╪═══════════╪═══════╪═════╪══════════╪══════════╡\n",
       "│         ┆ treatment ┆ 61.4  ┆ 2   ┆ 30.7     ┆ 6.181208 │\n",
       "│         ┆ error     ┆ 134.1 ┆ 27  ┆ 4.966667 ┆ null     │\n",
       "│         ┆ total     ┆ 195.5 ┆ 29  ┆ null     ┆ null     │\n",
       "└─────────┴───────────┴───────┴─────┴──────────┴──────────┘"
      ]
     },
     "execution_count": 13,
     "metadata": {},
     "output_type": "execute_result"
    }
   ],
   "source": [
    "DATA['12.2 - aggregated'] = (\n",
    "    DATA['12.2']\n",
    "    .group_by(col('mg').alias('group'))\n",
    "    .agg(\n",
    "        n=pl.len(),\n",
    "        μ=col('taprate').mean(),\n",
    "        s=col('taprate').std())\n",
    "    .with_columns(dataset=pl.lit(''))) # only one dataset so don't bother naming\n",
    "\n",
    "ANS['12.2.b'] = ANOVA(DATA['12.2 - aggregated'])\n",
    "ANS['12.2.b']"
   ]
  },
  {
   "cell_type": "markdown",
   "id": "0e788bf8-0c22-4f81-b0a9-fc60a4589467",
   "metadata": {},
   "source": [
    "On the other hand:"
   ]
  },
  {
   "cell_type": "code",
   "execution_count": 14,
   "id": "c86fbfd3-36c2-4038-a25e-cbf37ac948aa",
   "metadata": {},
   "outputs": [
    {
     "data": {
      "text/plain": [
       "2.5106086665585408"
      ]
     },
     "execution_count": 14,
     "metadata": {},
     "output_type": "execute_result"
    }
   ],
   "source": [
    "stats.f(2, 27).ppf(0.9)"
   ]
  },
  {
   "cell_type": "markdown",
   "id": "b68ccd4a-ac8a-474f-aab8-46beb48ec6eb",
   "metadata": {},
   "source": [
    "And 2.51 < 6.18. So yes, there are significant differences."
   ]
  },
  {
   "cell_type": "markdown",
   "id": "c156279c-4a3e-4900-ad54-3f1fbb1ce200",
   "metadata": {},
   "source": [
    "Corroboration:"
   ]
  },
  {
   "cell_type": "code",
   "execution_count": 15,
   "id": "bac1232b-71ec-4ac1-9a99-3f45e69af893",
   "metadata": {},
   "outputs": [
    {
     "data": {
      "text/plain": [
       "F_onewayResult(statistic=6.181208053691275, pvalue=0.006163213574095554)"
      ]
     },
     "execution_count": 15,
     "metadata": {},
     "output_type": "execute_result"
    }
   ],
   "source": [
    "stats.f_oneway(*(g['taprate'] for g in DATA['12.2 - clean'].partition_by('mg')))"
   ]
  },
  {
   "cell_type": "markdown",
   "id": "e97dec32-92a5-4889-bdf3-9cfe8b0c8bf6",
   "metadata": {},
   "source": [
    "#### (c)"
   ]
  },
  {
   "cell_type": "code",
   "execution_count": 16,
   "id": "5a98d274-338b-4937-96b6-dac6b5b11c53",
   "metadata": {},
   "outputs": [
    {
     "data": {
      "text/html": [
       "\n",
       "<style>\n",
       "  #altair-viz-f8a71b8c54c7499bb709e206bde1836f.vega-embed {\n",
       "    width: 100%;\n",
       "    display: flex;\n",
       "  }\n",
       "\n",
       "  #altair-viz-f8a71b8c54c7499bb709e206bde1836f.vega-embed details,\n",
       "  #altair-viz-f8a71b8c54c7499bb709e206bde1836f.vega-embed details summary {\n",
       "    position: relative;\n",
       "  }\n",
       "</style>\n",
       "<div id=\"altair-viz-f8a71b8c54c7499bb709e206bde1836f\"></div>\n",
       "<script type=\"text/javascript\">\n",
       "  var VEGA_DEBUG = (typeof VEGA_DEBUG == \"undefined\") ? {} : VEGA_DEBUG;\n",
       "  (function(spec, embedOpt){\n",
       "    let outputDiv = document.currentScript.previousElementSibling;\n",
       "    if (outputDiv.id !== \"altair-viz-f8a71b8c54c7499bb709e206bde1836f\") {\n",
       "      outputDiv = document.getElementById(\"altair-viz-f8a71b8c54c7499bb709e206bde1836f\");\n",
       "    }\n",
       "    const paths = {\n",
       "      \"vega\": \"https://cdn.jsdelivr.net/npm/vega@5?noext\",\n",
       "      \"vega-lib\": \"https://cdn.jsdelivr.net/npm/vega-lib?noext\",\n",
       "      \"vega-lite\": \"https://cdn.jsdelivr.net/npm/vega-lite@5.16.3?noext\",\n",
       "      \"vega-embed\": \"https://cdn.jsdelivr.net/npm/vega-embed@6?noext\",\n",
       "    };\n",
       "\n",
       "    function maybeLoadScript(lib, version) {\n",
       "      var key = `${lib.replace(\"-\", \"\")}_version`;\n",
       "      return (VEGA_DEBUG[key] == version) ?\n",
       "        Promise.resolve(paths[lib]) :\n",
       "        new Promise(function(resolve, reject) {\n",
       "          var s = document.createElement('script');\n",
       "          document.getElementsByTagName(\"head\")[0].appendChild(s);\n",
       "          s.async = true;\n",
       "          s.onload = () => {\n",
       "            VEGA_DEBUG[key] = version;\n",
       "            return resolve(paths[lib]);\n",
       "          };\n",
       "          s.onerror = () => reject(`Error loading script: ${paths[lib]}`);\n",
       "          s.src = paths[lib];\n",
       "        });\n",
       "    }\n",
       "\n",
       "    function showError(err) {\n",
       "      outputDiv.innerHTML = `<div class=\"error\" style=\"color:red;\">${err}</div>`;\n",
       "      throw err;\n",
       "    }\n",
       "\n",
       "    function displayChart(vegaEmbed) {\n",
       "      vegaEmbed(outputDiv, spec, embedOpt)\n",
       "        .catch(err => showError(`Javascript Error: ${err.message}<br>This usually means there's a typo in your chart specification. See the javascript console for the full traceback.`));\n",
       "    }\n",
       "\n",
       "    if(typeof define === \"function\" && define.amd) {\n",
       "      requirejs.config({paths});\n",
       "      require([\"vega-embed\"], displayChart, err => showError(`Error loading script: ${err.message}`));\n",
       "    } else {\n",
       "      maybeLoadScript(\"vega\", \"5\")\n",
       "        .then(() => maybeLoadScript(\"vega-lite\", \"5.16.3\"))\n",
       "        .then(() => maybeLoadScript(\"vega-embed\", \"6\"))\n",
       "        .catch(showError)\n",
       "        .then(() => displayChart(vegaEmbed));\n",
       "    }\n",
       "  })({\"config\": {\"view\": {\"continuousWidth\": 300, \"continuousHeight\": 300}}, \"hconcat\": [{\"mark\": {\"type\": \"circle\"}, \"encoding\": {\"x\": {\"axis\": {\"labelAngle\": 0}, \"field\": \"mg\", \"title\": null, \"type\": \"nominal\"}, \"y\": {\"field\": \"residual\", \"type\": \"quantitative\"}}, \"width\": 200}, {\"mark\": {\"type\": \"circle\"}, \"encoding\": {\"x\": {\"field\": \"residual\", \"type\": \"quantitative\"}, \"y\": {\"field\": \"normal_score\", \"type\": \"quantitative\"}}}], \"data\": {\"name\": \"data-be4ed055c43a94911e25b8aa1f91bbfd\"}, \"$schema\": \"https://vega.github.io/schema/vega-lite/v5.16.3.json\", \"datasets\": {\"data-be4ed055c43a94911e25b8aa1f91bbfd\": [{\"mg\": \"0 mg\", \"taprate\": 242, \"residual\": -2.8000000000000114, \"normal_score\": -1.1309776082451584}, {\"mg\": \"0 mg\", \"taprate\": 245, \"residual\": 0.19999999999998863, \"normal_score\": 0.1215873827504829}, {\"mg\": \"0 mg\", \"taprate\": 244, \"residual\": -0.8000000000000114, \"normal_score\": -0.41598722018967504}, {\"mg\": \"0 mg\", \"taprate\": 248, \"residual\": 3.1999999999999886, \"normal_score\": 1.2112321309213452}, {\"mg\": \"0 mg\", \"taprate\": 247, \"residual\": 2.1999999999999886, \"normal_score\": 0.9891686273406353}, {\"mg\": \"0 mg\", \"taprate\": 248, \"residual\": 3.1999999999999886, \"normal_score\": 1.2112321309213452}, {\"mg\": \"0 mg\", \"taprate\": 242, \"residual\": -2.8000000000000114, \"normal_score\": -1.1309776082451584}, {\"mg\": \"0 mg\", \"taprate\": 244, \"residual\": -0.8000000000000114, \"normal_score\": -0.41598722018967504}, {\"mg\": \"0 mg\", \"taprate\": 246, \"residual\": 1.1999999999999886, \"normal_score\": 0.37228936046519107}, {\"mg\": \"0 mg\", \"taprate\": 242, \"residual\": -2.8000000000000114, \"normal_score\": -1.1309776082451584}, {\"mg\": \"100 mg\", \"taprate\": 248, \"residual\": 1.5999999999999943, \"normal_score\": 0.5059336541658119}, {\"mg\": \"100 mg\", \"taprate\": 246, \"residual\": -0.4000000000000057, \"normal_score\": -0.2450062230373207}, {\"mg\": \"100 mg\", \"taprate\": 245, \"residual\": -1.4000000000000057, \"normal_score\": -0.5524425846467742}, {\"mg\": \"100 mg\", \"taprate\": 247, \"residual\": 0.5999999999999943, \"normal_score\": 0.2450062230373207}, {\"mg\": \"100 mg\", \"taprate\": 248, \"residual\": 1.5999999999999943, \"normal_score\": 0.5059336541658119}, {\"mg\": \"100 mg\", \"taprate\": 250, \"residual\": 3.5999999999999943, \"normal_score\": 1.517929159594278}, {\"mg\": \"100 mg\", \"taprate\": 247, \"residual\": 0.5999999999999943, \"normal_score\": 0.2450062230373207}, {\"mg\": \"100 mg\", \"taprate\": 246, \"residual\": -0.4000000000000057, \"normal_score\": -0.2450062230373207}, {\"mg\": \"100 mg\", \"taprate\": 243, \"residual\": -3.4000000000000057, \"normal_score\": -1.8485962885014091}, {\"mg\": \"100 mg\", \"taprate\": 244, \"residual\": -2.4000000000000057, \"normal_score\": -0.8648943586852831}, {\"mg\": \"200 mg\", \"taprate\": 246, \"residual\": -2.3000000000000114, \"normal_score\": -0.7000902126075669}, {\"mg\": \"200 mg\", \"taprate\": 248, \"residual\": -0.30000000000001137, \"normal_score\": -0.04044050856564621}, {\"mg\": \"200 mg\", \"taprate\": 250, \"residual\": 1.6999999999999886, \"normal_score\": 0.7527287942581697}, {\"mg\": \"200 mg\", \"taprate\": 252, \"residual\": 3.6999999999999886, \"normal_score\": 1.8485962885014091}, {\"mg\": \"200 mg\", \"taprate\": 248, \"residual\": -0.30000000000001137, \"normal_score\": -0.04044050856564621}, {\"mg\": \"200 mg\", \"taprate\": 250, \"residual\": 1.6999999999999886, \"normal_score\": 0.7527287942581697}, {\"mg\": \"200 mg\", \"taprate\": 246, \"residual\": -2.3000000000000114, \"normal_score\": -0.7000902126075669}, {\"mg\": \"200 mg\", \"taprate\": 248, \"residual\": -0.30000000000001137, \"normal_score\": -0.04044050856564621}, {\"mg\": \"200 mg\", \"taprate\": 245, \"residual\": -3.3000000000000114, \"normal_score\": -1.5179291595942785}, {\"mg\": \"200 mg\", \"taprate\": 250, \"residual\": 1.6999999999999886, \"normal_score\": 0.7527287942581697}]}}, {\"mode\": \"vega-lite\"});\n",
       "</script>"
      ],
      "text/plain": [
       "alt.HConcatChart(...)"
      ]
     },
     "execution_count": 16,
     "metadata": {},
     "output_type": "execute_result"
    }
   ],
   "source": [
    "chart_base = (\n",
    "    alt.Chart(\n",
    "        DATA['12.2 - clean']\n",
    "        .with_columns(\n",
    "            residual=col('taprate') - col('taprate').mean().over('mg'))\n",
    "        .with_columns(\n",
    "            normal_score=(col('residual').rank() / (pl.len() + 1)).map_batches(\n",
    "                lambda x: stats.norm.ppf(x))))\n",
    "    .mark_circle())\n",
    "\n",
    "(\n",
    "    chart_base.encode(\n",
    "        alt.X('mg').axis(labelAngle=0).title(None),\n",
    "        alt.Y('residual'))\n",
    "    .properties(width=200)\n",
    "    | chart_base.encode(\n",
    "        x='residual', \n",
    "        y='normal_score')\n",
    ")"
   ]
  },
  {
   "cell_type": "markdown",
   "id": "8d4a5f07-3616-4f0e-a329-945481fc93b1",
   "metadata": {},
   "source": [
    "From the charts: the variances are consistent across different doses. The residuals are fairly normally distributed."
   ]
  },
  {
   "cell_type": "markdown",
   "id": "2d4a295b-4fe6-44dd-bc16-68a2ac1a632d",
   "metadata": {},
   "source": [
    "### 3."
   ]
  },
  {
   "cell_type": "code",
   "execution_count": 17,
   "id": "d26dea85-29bf-4bb8-9b16-bfb8d2355816",
   "metadata": {
    "scrolled": true
   },
   "outputs": [
    {
     "data": {
      "text/html": [
       "<div><style>\n",
       ".dataframe > thead > tr,\n",
       ".dataframe > tbody > tr {\n",
       "  text-align: right;\n",
       "  white-space: pre-wrap;\n",
       "}\n",
       "</style>\n",
       "<small>shape: (5, 2)</small><table border=\"1\" class=\"dataframe\"><thead><tr><th>AvgEgg</th><th>Group</th></tr><tr><td>f64</td><td>str</td></tr></thead><tbody><tr><td>35.4</td><td>&quot;Control&quot;</td></tr><tr><td>27.4</td><td>&quot;Control&quot;</td></tr><tr><td>19.3</td><td>&quot;Control&quot;</td></tr><tr><td>41.8</td><td>&quot;Control&quot;</td></tr><tr><td>20.3</td><td>&quot;Control&quot;</td></tr></tbody></table></div>"
      ],
      "text/plain": [
       "shape: (5, 2)\n",
       "┌────────┬─────────┐\n",
       "│ AvgEgg ┆ Group   │\n",
       "│ ---    ┆ ---     │\n",
       "│ f64    ┆ str     │\n",
       "╞════════╪═════════╡\n",
       "│ 35.4   ┆ Control │\n",
       "│ 27.4   ┆ Control │\n",
       "│ 19.3   ┆ Control │\n",
       "│ 41.8   ┆ Control │\n",
       "│ 20.3   ┆ Control │\n",
       "└────────┴─────────┘"
      ]
     },
     "execution_count": 17,
     "metadata": {},
     "output_type": "execute_result"
    }
   ],
   "source": [
    "DATA['12.3'] = pl.read_json('Ex12-3.json').explode(pl.all())\n",
    "DATA['12.3'].head()"
   ]
  },
  {
   "cell_type": "markdown",
   "id": "eb63112f-1189-4797-92ce-f28b201470d4",
   "metadata": {},
   "source": [
    "#### (a)"
   ]
  },
  {
   "cell_type": "code",
   "execution_count": 18,
   "id": "9a71b153-5cdb-4137-adaa-4f6315e38a53",
   "metadata": {},
   "outputs": [
    {
     "data": {
      "text/html": [
       "\n",
       "<style>\n",
       "  #altair-viz-b33af5f4dbdd466fba6fea18b3646bea.vega-embed {\n",
       "    width: 100%;\n",
       "    display: flex;\n",
       "  }\n",
       "\n",
       "  #altair-viz-b33af5f4dbdd466fba6fea18b3646bea.vega-embed details,\n",
       "  #altair-viz-b33af5f4dbdd466fba6fea18b3646bea.vega-embed details summary {\n",
       "    position: relative;\n",
       "  }\n",
       "</style>\n",
       "<div id=\"altair-viz-b33af5f4dbdd466fba6fea18b3646bea\"></div>\n",
       "<script type=\"text/javascript\">\n",
       "  var VEGA_DEBUG = (typeof VEGA_DEBUG == \"undefined\") ? {} : VEGA_DEBUG;\n",
       "  (function(spec, embedOpt){\n",
       "    let outputDiv = document.currentScript.previousElementSibling;\n",
       "    if (outputDiv.id !== \"altair-viz-b33af5f4dbdd466fba6fea18b3646bea\") {\n",
       "      outputDiv = document.getElementById(\"altair-viz-b33af5f4dbdd466fba6fea18b3646bea\");\n",
       "    }\n",
       "    const paths = {\n",
       "      \"vega\": \"https://cdn.jsdelivr.net/npm/vega@5?noext\",\n",
       "      \"vega-lib\": \"https://cdn.jsdelivr.net/npm/vega-lib?noext\",\n",
       "      \"vega-lite\": \"https://cdn.jsdelivr.net/npm/vega-lite@5.16.3?noext\",\n",
       "      \"vega-embed\": \"https://cdn.jsdelivr.net/npm/vega-embed@6?noext\",\n",
       "    };\n",
       "\n",
       "    function maybeLoadScript(lib, version) {\n",
       "      var key = `${lib.replace(\"-\", \"\")}_version`;\n",
       "      return (VEGA_DEBUG[key] == version) ?\n",
       "        Promise.resolve(paths[lib]) :\n",
       "        new Promise(function(resolve, reject) {\n",
       "          var s = document.createElement('script');\n",
       "          document.getElementsByTagName(\"head\")[0].appendChild(s);\n",
       "          s.async = true;\n",
       "          s.onload = () => {\n",
       "            VEGA_DEBUG[key] = version;\n",
       "            return resolve(paths[lib]);\n",
       "          };\n",
       "          s.onerror = () => reject(`Error loading script: ${paths[lib]}`);\n",
       "          s.src = paths[lib];\n",
       "        });\n",
       "    }\n",
       "\n",
       "    function showError(err) {\n",
       "      outputDiv.innerHTML = `<div class=\"error\" style=\"color:red;\">${err}</div>`;\n",
       "      throw err;\n",
       "    }\n",
       "\n",
       "    function displayChart(vegaEmbed) {\n",
       "      vegaEmbed(outputDiv, spec, embedOpt)\n",
       "        .catch(err => showError(`Javascript Error: ${err.message}<br>This usually means there's a typo in your chart specification. See the javascript console for the full traceback.`));\n",
       "    }\n",
       "\n",
       "    if(typeof define === \"function\" && define.amd) {\n",
       "      requirejs.config({paths});\n",
       "      require([\"vega-embed\"], displayChart, err => showError(`Error loading script: ${err.message}`));\n",
       "    } else {\n",
       "      maybeLoadScript(\"vega\", \"5\")\n",
       "        .then(() => maybeLoadScript(\"vega-lite\", \"5.16.3\"))\n",
       "        .then(() => maybeLoadScript(\"vega-embed\", \"6\"))\n",
       "        .catch(showError)\n",
       "        .then(() => displayChart(vegaEmbed));\n",
       "    }\n",
       "  })({\"config\": {\"view\": {\"continuousWidth\": 300, \"continuousHeight\": 300}}, \"data\": {\"name\": \"data-43f65669a64c2460a2a05e6e52bf316c\"}, \"mark\": {\"type\": \"boxplot\"}, \"encoding\": {\"x\": {\"field\": \"AvgEgg\", \"type\": \"quantitative\"}, \"y\": {\"field\": \"Group\", \"type\": \"nominal\"}}, \"$schema\": \"https://vega.github.io/schema/vega-lite/v5.16.3.json\", \"datasets\": {\"data-43f65669a64c2460a2a05e6e52bf316c\": [{\"AvgEgg\": 35.4, \"Group\": \"Control\"}, {\"AvgEgg\": 27.4, \"Group\": \"Control\"}, {\"AvgEgg\": 19.3, \"Group\": \"Control\"}, {\"AvgEgg\": 41.8, \"Group\": \"Control\"}, {\"AvgEgg\": 20.3, \"Group\": \"Control\"}, {\"AvgEgg\": 37.6, \"Group\": \"Control\"}, {\"AvgEgg\": 36.9, \"Group\": \"Control\"}, {\"AvgEgg\": 37.3, \"Group\": \"Control\"}, {\"AvgEgg\": 28.2, \"Group\": \"Control\"}, {\"AvgEgg\": 23.4, \"Group\": \"Control\"}, {\"AvgEgg\": 33.7, \"Group\": \"Control\"}, {\"AvgEgg\": 29.2, \"Group\": \"Control\"}, {\"AvgEgg\": 41.7, \"Group\": \"Control\"}, {\"AvgEgg\": 22.6, \"Group\": \"Control\"}, {\"AvgEgg\": 40.4, \"Group\": \"Control\"}, {\"AvgEgg\": 34.4, \"Group\": \"Control\"}, {\"AvgEgg\": 30.4, \"Group\": \"Control\"}, {\"AvgEgg\": 14.9, \"Group\": \"Control\"}, {\"AvgEgg\": 51.8, \"Group\": \"Control\"}, {\"AvgEgg\": 33.8, \"Group\": \"Control\"}, {\"AvgEgg\": 37.9, \"Group\": \"Control\"}, {\"AvgEgg\": 29.5, \"Group\": \"Control\"}, {\"AvgEgg\": 42.4, \"Group\": \"Control\"}, {\"AvgEgg\": 36.6, \"Group\": \"Control\"}, {\"AvgEgg\": 47.4, \"Group\": \"Control\"}, {\"AvgEgg\": 12.8, \"Group\": \"Resist\"}, {\"AvgEgg\": 21.6, \"Group\": \"Resist\"}, {\"AvgEgg\": 14.8, \"Group\": \"Resist\"}, {\"AvgEgg\": 23.1, \"Group\": \"Resist\"}, {\"AvgEgg\": 34.6, \"Group\": \"Resist\"}, {\"AvgEgg\": 19.7, \"Group\": \"Resist\"}, {\"AvgEgg\": 22.6, \"Group\": \"Resist\"}, {\"AvgEgg\": 29.6, \"Group\": \"Resist\"}, {\"AvgEgg\": 16.4, \"Group\": \"Resist\"}, {\"AvgEgg\": 20.3, \"Group\": \"Resist\"}, {\"AvgEgg\": 29.3, \"Group\": \"Resist\"}, {\"AvgEgg\": 14.9, \"Group\": \"Resist\"}, {\"AvgEgg\": 27.3, \"Group\": \"Resist\"}, {\"AvgEgg\": 22.4, \"Group\": \"Resist\"}, {\"AvgEgg\": 27.5, \"Group\": \"Resist\"}, {\"AvgEgg\": 20.3, \"Group\": \"Resist\"}, {\"AvgEgg\": 38.7, \"Group\": \"Resist\"}, {\"AvgEgg\": 26.4, \"Group\": \"Resist\"}, {\"AvgEgg\": 23.7, \"Group\": \"Resist\"}, {\"AvgEgg\": 26.1, \"Group\": \"Resist\"}, {\"AvgEgg\": 29.5, \"Group\": \"Resist\"}, {\"AvgEgg\": 38.6, \"Group\": \"Resist\"}, {\"AvgEgg\": 44.4, \"Group\": \"Resist\"}, {\"AvgEgg\": 23.2, \"Group\": \"Resist\"}, {\"AvgEgg\": 23.6, \"Group\": \"Resist\"}, {\"AvgEgg\": 38.4, \"Group\": \"Suscept\"}, {\"AvgEgg\": 32.9, \"Group\": \"Suscept\"}, {\"AvgEgg\": 48.5, \"Group\": \"Suscept\"}, {\"AvgEgg\": 20.9, \"Group\": \"Suscept\"}, {\"AvgEgg\": 11.6, \"Group\": \"Suscept\"}, {\"AvgEgg\": 22.3, \"Group\": \"Suscept\"}, {\"AvgEgg\": 30.2, \"Group\": \"Suscept\"}, {\"AvgEgg\": 33.4, \"Group\": \"Suscept\"}, {\"AvgEgg\": 26.7, \"Group\": \"Suscept\"}, {\"AvgEgg\": 39.0, \"Group\": \"Suscept\"}, {\"AvgEgg\": 12.8, \"Group\": \"Suscept\"}, {\"AvgEgg\": 14.6, \"Group\": \"Suscept\"}, {\"AvgEgg\": 12.2, \"Group\": \"Suscept\"}, {\"AvgEgg\": 23.1, \"Group\": \"Suscept\"}, {\"AvgEgg\": 29.4, \"Group\": \"Suscept\"}, {\"AvgEgg\": 16.0, \"Group\": \"Suscept\"}, {\"AvgEgg\": 20.1, \"Group\": \"Suscept\"}, {\"AvgEgg\": 23.3, \"Group\": \"Suscept\"}, {\"AvgEgg\": 22.9, \"Group\": \"Suscept\"}, {\"AvgEgg\": 22.5, \"Group\": \"Suscept\"}, {\"AvgEgg\": 15.1, \"Group\": \"Suscept\"}, {\"AvgEgg\": 31.0, \"Group\": \"Suscept\"}, {\"AvgEgg\": 16.9, \"Group\": \"Suscept\"}, {\"AvgEgg\": 16.1, \"Group\": \"Suscept\"}, {\"AvgEgg\": 10.8, \"Group\": \"Suscept\"}]}}, {\"mode\": \"vega-lite\"});\n",
       "</script>"
      ],
      "text/plain": [
       "alt.Chart(...)"
      ]
     },
     "execution_count": 18,
     "metadata": {},
     "output_type": "execute_result"
    }
   ],
   "source": [
    "(\n",
    "    alt.Chart(DATA['12.3'])\n",
    "    .mark_boxplot()\n",
    "    .encode(y='Group', x='AvgEgg')\n",
    ")"
   ]
  },
  {
   "cell_type": "markdown",
   "id": "ac4e5edd-a333-4338-9c8c-cf2b6c15a6d0",
   "metadata": {},
   "source": [
    "The control group is a bit higher in terms of average eggs laid per day."
   ]
  },
  {
   "cell_type": "markdown",
   "id": "fac70e7f-a999-4939-8606-8490084ff749",
   "metadata": {},
   "source": [
    "#### (b)"
   ]
  },
  {
   "cell_type": "code",
   "execution_count": 19,
   "id": "0fe66a79-c1c0-4de1-b782-394137b7ac04",
   "metadata": {},
   "outputs": [
    {
     "data": {
      "text/html": [
       "<div><style>\n",
       ".dataframe > thead > tr,\n",
       ".dataframe > tbody > tr {\n",
       "  text-align: right;\n",
       "  white-space: pre-wrap;\n",
       "}\n",
       "</style>\n",
       "<small>shape: (3, 6)</small><table border=\"1\" class=\"dataframe\"><thead><tr><th>dataset</th><th>source</th><th>SS</th><th>dof</th><th>MS</th><th>F</th></tr><tr><td>str</td><td>str</td><td>f64</td><td>u32</td><td>f64</td><td>f64</td></tr></thead><tbody><tr><td>&quot;&quot;</td><td>&quot;treatment&quot;</td><td>1362.211467</td><td>2</td><td>681.105733</td><td>8.665739</td></tr><tr><td>&quot;&quot;</td><td>&quot;error&quot;</td><td>5659.0224</td><td>72</td><td>78.597533</td><td>null</td></tr><tr><td>&quot;&quot;</td><td>&quot;total&quot;</td><td>7021.233867</td><td>74</td><td>null</td><td>null</td></tr></tbody></table></div>"
      ],
      "text/plain": [
       "shape: (3, 6)\n",
       "┌─────────┬───────────┬─────────────┬─────┬────────────┬──────────┐\n",
       "│ dataset ┆ source    ┆ SS          ┆ dof ┆ MS         ┆ F        │\n",
       "│ ---     ┆ ---       ┆ ---         ┆ --- ┆ ---        ┆ ---      │\n",
       "│ str     ┆ str       ┆ f64         ┆ u32 ┆ f64        ┆ f64      │\n",
       "╞═════════╪═══════════╪═════════════╪═════╪════════════╪══════════╡\n",
       "│         ┆ treatment ┆ 1362.211467 ┆ 2   ┆ 681.105733 ┆ 8.665739 │\n",
       "│         ┆ error     ┆ 5659.0224   ┆ 72  ┆ 78.597533  ┆ null     │\n",
       "│         ┆ total     ┆ 7021.233867 ┆ 74  ┆ null       ┆ null     │\n",
       "└─────────┴───────────┴─────────────┴─────┴────────────┴──────────┘"
      ]
     },
     "execution_count": 19,
     "metadata": {},
     "output_type": "execute_result"
    }
   ],
   "source": [
    "DATA['12.3 - aggregated'] = (\n",
    "    DATA['12.3']\n",
    "    .group_by('Group')\n",
    "    .agg(\n",
    "        n=pl.len(),\n",
    "        μ=col('AvgEgg').mean(),\n",
    "        s=col('AvgEgg').std())\n",
    "    .with_columns(dataset=pl.lit('')))\n",
    "\n",
    "ANS['12.3.b'] = ANOVA(DATA['12.3 - aggregated'])\n",
    "ANS['12.3.b']"
   ]
  },
  {
   "cell_type": "code",
   "execution_count": 20,
   "id": "aa132fe6-0422-42ea-9ddf-3d8619aae081",
   "metadata": {},
   "outputs": [
    {
     "data": {
      "text/plain": [
       "3.1239074485457783"
      ]
     },
     "execution_count": 20,
     "metadata": {},
     "output_type": "execute_result"
    }
   ],
   "source": [
    "stats.f(2, 72).ppf(0.95)"
   ]
  },
  {
   "cell_type": "markdown",
   "id": "f9562a43-96f0-4935-8861-7960c2c4b0f1",
   "metadata": {},
   "source": [
    "8.67 > 3.12, so the difference is significant."
   ]
  },
  {
   "cell_type": "markdown",
   "id": "c35a1e81-d1d1-404b-848d-54735c41e99f",
   "metadata": {},
   "source": [
    "#### (c)"
   ]
  },
  {
   "cell_type": "code",
   "execution_count": 21,
   "id": "0f6517f0-7754-41d3-8d1e-205ddefc1b58",
   "metadata": {
    "scrolled": true
   },
   "outputs": [
    {
     "data": {
      "text/html": [
       "\n",
       "<style>\n",
       "  #altair-viz-7ae5cdfddf9243c19338983b9338047f.vega-embed {\n",
       "    width: 100%;\n",
       "    display: flex;\n",
       "  }\n",
       "\n",
       "  #altair-viz-7ae5cdfddf9243c19338983b9338047f.vega-embed details,\n",
       "  #altair-viz-7ae5cdfddf9243c19338983b9338047f.vega-embed details summary {\n",
       "    position: relative;\n",
       "  }\n",
       "</style>\n",
       "<div id=\"altair-viz-7ae5cdfddf9243c19338983b9338047f\"></div>\n",
       "<script type=\"text/javascript\">\n",
       "  var VEGA_DEBUG = (typeof VEGA_DEBUG == \"undefined\") ? {} : VEGA_DEBUG;\n",
       "  (function(spec, embedOpt){\n",
       "    let outputDiv = document.currentScript.previousElementSibling;\n",
       "    if (outputDiv.id !== \"altair-viz-7ae5cdfddf9243c19338983b9338047f\") {\n",
       "      outputDiv = document.getElementById(\"altair-viz-7ae5cdfddf9243c19338983b9338047f\");\n",
       "    }\n",
       "    const paths = {\n",
       "      \"vega\": \"https://cdn.jsdelivr.net/npm/vega@5?noext\",\n",
       "      \"vega-lib\": \"https://cdn.jsdelivr.net/npm/vega-lib?noext\",\n",
       "      \"vega-lite\": \"https://cdn.jsdelivr.net/npm/vega-lite@5.16.3?noext\",\n",
       "      \"vega-embed\": \"https://cdn.jsdelivr.net/npm/vega-embed@6?noext\",\n",
       "    };\n",
       "\n",
       "    function maybeLoadScript(lib, version) {\n",
       "      var key = `${lib.replace(\"-\", \"\")}_version`;\n",
       "      return (VEGA_DEBUG[key] == version) ?\n",
       "        Promise.resolve(paths[lib]) :\n",
       "        new Promise(function(resolve, reject) {\n",
       "          var s = document.createElement('script');\n",
       "          document.getElementsByTagName(\"head\")[0].appendChild(s);\n",
       "          s.async = true;\n",
       "          s.onload = () => {\n",
       "            VEGA_DEBUG[key] = version;\n",
       "            return resolve(paths[lib]);\n",
       "          };\n",
       "          s.onerror = () => reject(`Error loading script: ${paths[lib]}`);\n",
       "          s.src = paths[lib];\n",
       "        });\n",
       "    }\n",
       "\n",
       "    function showError(err) {\n",
       "      outputDiv.innerHTML = `<div class=\"error\" style=\"color:red;\">${err}</div>`;\n",
       "      throw err;\n",
       "    }\n",
       "\n",
       "    function displayChart(vegaEmbed) {\n",
       "      vegaEmbed(outputDiv, spec, embedOpt)\n",
       "        .catch(err => showError(`Javascript Error: ${err.message}<br>This usually means there's a typo in your chart specification. See the javascript console for the full traceback.`));\n",
       "    }\n",
       "\n",
       "    if(typeof define === \"function\" && define.amd) {\n",
       "      requirejs.config({paths});\n",
       "      require([\"vega-embed\"], displayChart, err => showError(`Error loading script: ${err.message}`));\n",
       "    } else {\n",
       "      maybeLoadScript(\"vega\", \"5\")\n",
       "        .then(() => maybeLoadScript(\"vega-lite\", \"5.16.3\"))\n",
       "        .then(() => maybeLoadScript(\"vega-embed\", \"6\"))\n",
       "        .catch(showError)\n",
       "        .then(() => displayChart(vegaEmbed));\n",
       "    }\n",
       "  })({\"config\": {\"view\": {\"continuousWidth\": 300, \"continuousHeight\": 300}}, \"hconcat\": [{\"mark\": {\"type\": \"circle\"}, \"encoding\": {\"x\": {\"axis\": {\"labelAngle\": 0}, \"field\": \"Group\", \"title\": null, \"type\": \"nominal\"}, \"y\": {\"field\": \"residual\", \"type\": \"quantitative\"}}, \"width\": 200}, {\"mark\": {\"type\": \"circle\"}, \"encoding\": {\"x\": {\"field\": \"residual\", \"type\": \"quantitative\"}, \"y\": {\"field\": \"normal_score\", \"type\": \"quantitative\"}}}], \"data\": {\"name\": \"data-b9f939fcc56d1df6261b45c4d9f50d73\"}, \"$schema\": \"https://vega.github.io/schema/vega-lite/v5.16.3.json\", \"datasets\": {\"data-b9f939fcc56d1df6261b45c4d9f50d73\": [{\"AvgEgg\": 35.4, \"Group\": \"Control\", \"residual\": 2.028000000000013, \"normal_score\": 0.26699412540495254}, {\"AvgEgg\": 27.4, \"Group\": \"Control\", \"residual\": -5.971999999999987, \"normal_score\": -0.6744897501960817}, {\"AvgEgg\": 19.3, \"Group\": \"Control\", \"residual\": -14.071999999999985, \"normal_score\": -1.9379315108528288}, {\"AvgEgg\": 41.8, \"Group\": \"Control\", \"residual\": 8.428000000000011, \"normal_score\": 0.9500137556693217}, {\"AvgEgg\": 20.3, \"Group\": \"Control\", \"residual\": -13.071999999999985, \"normal_score\": -1.7568266072519054}, {\"AvgEgg\": 37.6, \"Group\": \"Control\", \"residual\": 4.228000000000016, \"normal_score\": 0.5549229427026537}, {\"AvgEgg\": 36.9, \"Group\": \"Control\", \"residual\": 3.528000000000013, \"normal_score\": 0.44282165759651115}, {\"AvgEgg\": 37.3, \"Group\": \"Control\", \"residual\": 3.9280000000000115, \"normal_score\": 0.4795056533309502}, {\"AvgEgg\": 28.2, \"Group\": \"Control\", \"residual\": -5.171999999999986, \"normal_score\": -0.5938213929935198}, {\"AvgEgg\": 23.4, \"Group\": \"Control\", \"residual\": -9.971999999999987, \"normal_score\": -1.0031479676625337}, {\"AvgEgg\": 33.7, \"Group\": \"Control\", \"residual\": 0.32800000000001717, \"normal_score\": 0.09910785982289917}, {\"AvgEgg\": 29.2, \"Group\": \"Control\", \"residual\": -4.171999999999986, \"normal_score\": -0.4795056533309502}, {\"AvgEgg\": 41.7, \"Group\": \"Control\", \"residual\": 8.328000000000017, \"normal_score\": 0.899434907667234}, {\"AvgEgg\": 22.6, \"Group\": \"Control\", \"residual\": -10.771999999999984, \"normal_score\": -1.1829168441908855}, {\"AvgEgg\": 40.4, \"Group\": \"Control\", \"residual\": 7.028000000000013, \"normal_score\": 0.8045963803603002}, {\"AvgEgg\": 34.4, \"Group\": \"Control\", \"residual\": 1.028000000000013, \"normal_score\": 0.199201324789267}, {\"AvgEgg\": 30.4, \"Group\": \"Control\", \"residual\": -2.971999999999987, \"normal_score\": -0.33603814037182317}, {\"AvgEgg\": 14.9, \"Group\": \"Control\", \"residual\": -18.471999999999987, \"normal_score\": -2.221519588337837}, {\"AvgEgg\": 51.8, \"Group\": \"Control\", \"residual\": 18.42800000000001, \"normal_score\": 1.7568266072519054}, {\"AvgEgg\": 33.8, \"Group\": \"Control\", \"residual\": 0.4280000000000115, \"normal_score\": 0.13231285227617132}, {\"AvgEgg\": 37.9, \"Group\": \"Control\", \"residual\": 4.528000000000013, \"normal_score\": 0.6744897501960817}, {\"AvgEgg\": 29.5, \"Group\": \"Control\", \"residual\": -3.8719999999999857, \"normal_score\": -0.44282165759651115}, {\"AvgEgg\": 42.4, \"Group\": \"Control\", \"residual\": 9.028000000000013, \"normal_score\": 1.0031479676625337}, {\"AvgEgg\": 36.6, \"Group\": \"Control\", \"residual\": 3.2280000000000157, \"normal_score\": 0.4067242518713638}, {\"AvgEgg\": 47.4, \"Group\": \"Control\", \"residual\": 14.028000000000013, \"normal_score\": 1.4121875789061633}, {\"AvgEgg\": 12.8, \"Group\": \"Resist\", \"residual\": -12.456000000000003, \"normal_score\": -1.5079045914405589}, {\"AvgEgg\": 21.6, \"Group\": \"Resist\", \"residual\": -3.6560000000000024, \"normal_score\": -0.40672425187136363}, {\"AvgEgg\": 14.8, \"Group\": \"Resist\", \"residual\": -10.456000000000003, \"normal_score\": -1.11895838106256}, {\"AvgEgg\": 23.1, \"Group\": \"Resist\", \"residual\": -2.1560000000000024, \"normal_score\": -0.199201324789267}, {\"AvgEgg\": 34.6, \"Group\": \"Resist\", \"residual\": 9.343999999999998, \"normal_score\": 1.11895838106256}, {\"AvgEgg\": 19.7, \"Group\": \"Resist\", \"residual\": -5.5560000000000045, \"normal_score\": -0.6336400007797011}, {\"AvgEgg\": 22.6, \"Group\": \"Resist\", \"residual\": -2.6560000000000024, \"normal_score\": -0.23296385427137248}, {\"AvgEgg\": 29.6, \"Group\": \"Resist\", \"residual\": 4.343999999999998, \"normal_score\": 0.633640000779701}, {\"AvgEgg\": 16.4, \"Group\": \"Resist\", \"residual\": -8.856000000000005, \"normal_score\": -0.899434907667234}, {\"AvgEgg\": 20.3, \"Group\": \"Resist\", \"residual\": -4.956000000000003, \"normal_score\": -0.5357877300556416}, {\"AvgEgg\": 29.3, \"Group\": \"Resist\", \"residual\": 4.043999999999997, \"normal_score\": 0.5168467276526094}, {\"AvgEgg\": 14.9, \"Group\": \"Resist\", \"residual\": -10.356000000000003, \"normal_score\": -1.0592769170824314}, {\"AvgEgg\": 27.3, \"Group\": \"Resist\", \"residual\": 2.043999999999997, \"normal_score\": 0.30133652085957624}, {\"AvgEgg\": 22.4, \"Group\": \"Resist\", \"residual\": -2.856000000000005, \"normal_score\": -0.30133652085957613}, {\"AvgEgg\": 27.5, \"Group\": \"Resist\", \"residual\": 2.243999999999996, \"normal_score\": 0.33603814037182306}, {\"AvgEgg\": 20.3, \"Group\": \"Resist\", \"residual\": -4.956000000000003, \"normal_score\": -0.5357877300556416}, {\"AvgEgg\": 38.7, \"Group\": \"Resist\", \"residual\": 13.443999999999999, \"normal_score\": 1.3279018717558344}, {\"AvgEgg\": 26.4, \"Group\": \"Resist\", \"residual\": 1.1439999999999948, \"normal_score\": 0.23296385427137234}, {\"AvgEgg\": 23.7, \"Group\": \"Resist\", \"residual\": -1.5560000000000045, \"normal_score\": -0.09910785982289917}, {\"AvgEgg\": 26.1, \"Group\": \"Resist\", \"residual\": 0.8439999999999976, \"normal_score\": 0.16566441386855307}, {\"AvgEgg\": 29.5, \"Group\": \"Resist\", \"residual\": 4.243999999999996, \"normal_score\": 0.5938213929935199}, {\"AvgEgg\": 38.6, \"Group\": \"Resist\", \"residual\": 13.343999999999998, \"normal_score\": 1.2521195202652196}, {\"AvgEgg\": 44.4, \"Group\": \"Resist\", \"residual\": 19.143999999999995, \"normal_score\": 1.9379315108528297}, {\"AvgEgg\": 23.2, \"Group\": \"Resist\", \"residual\": -2.0560000000000045, \"normal_score\": -0.16566441386855307}, {\"AvgEgg\": 23.6, \"Group\": \"Resist\", \"residual\": -1.6560000000000024, \"normal_score\": -0.13231285227617118}, {\"AvgEgg\": 38.4, \"Group\": \"Suscept\", \"residual\": 14.772000000000002, \"normal_score\": 1.5079045914405595}, {\"AvgEgg\": 32.9, \"Group\": \"Suscept\", \"residual\": 9.272000000000002, \"normal_score\": 1.0592769170824314}, {\"AvgEgg\": 48.5, \"Group\": \"Suscept\", \"residual\": 24.872000000000003, \"normal_score\": 2.221519588337836}, {\"AvgEgg\": 20.9, \"Group\": \"Suscept\", \"residual\": -2.727999999999998, \"normal_score\": -0.26699412540495254}, {\"AvgEgg\": 11.6, \"Group\": \"Suscept\", \"residual\": -12.027999999999997, \"normal_score\": -1.4121875789061642}, {\"AvgEgg\": 22.3, \"Group\": \"Suscept\", \"residual\": -1.3279999999999959, \"normal_score\": -0.06601181237584074}, {\"AvgEgg\": 30.2, \"Group\": \"Suscept\", \"residual\": 6.572000000000003, \"normal_score\": 0.7598095710099186}, {\"AvgEgg\": 33.4, \"Group\": \"Suscept\", \"residual\": 9.772000000000002, \"normal_score\": 1.1829168441908855}, {\"AvgEgg\": 26.7, \"Group\": \"Suscept\", \"residual\": 3.0720000000000027, \"normal_score\": 0.37114932320228394}, {\"AvgEgg\": 39.0, \"Group\": \"Suscept\", \"residual\": 15.372000000000003, \"normal_score\": 1.6198562586382697}, {\"AvgEgg\": 12.8, \"Group\": \"Suscept\", \"residual\": -10.827999999999996, \"normal_score\": -1.2521195202652196}, {\"AvgEgg\": 14.6, \"Group\": \"Suscept\", \"residual\": -9.027999999999997, \"normal_score\": -0.9500137556693217}, {\"AvgEgg\": 12.2, \"Group\": \"Suscept\", \"residual\": -11.427999999999997, \"normal_score\": -1.3279018717558337}, {\"AvgEgg\": 23.1, \"Group\": \"Suscept\", \"residual\": -0.5279999999999951, \"normal_score\": 0.032987932937402896}, {\"AvgEgg\": 29.4, \"Group\": \"Suscept\", \"residual\": 5.772000000000002, \"normal_score\": 0.7164975001779914}, {\"AvgEgg\": 16.0, \"Group\": \"Suscept\", \"residual\": -7.627999999999997, \"normal_score\": -0.8045963803603002}, {\"AvgEgg\": 20.1, \"Group\": \"Suscept\", \"residual\": -3.527999999999995, \"normal_score\": -0.37114932320228394}, {\"AvgEgg\": 23.3, \"Group\": \"Suscept\", \"residual\": -0.32799999999999585, \"normal_score\": 0.0660118123758406}, {\"AvgEgg\": 22.9, \"Group\": \"Suscept\", \"residual\": -0.727999999999998, \"normal_score\": 0.0}, {\"AvgEgg\": 22.5, \"Group\": \"Suscept\", \"residual\": -1.1279999999999966, \"normal_score\": -0.03298793293740276}, {\"AvgEgg\": 15.1, \"Group\": \"Suscept\", \"residual\": -8.527999999999997, \"normal_score\": -0.8510585268385688}, {\"AvgEgg\": 31.0, \"Group\": \"Suscept\", \"residual\": 7.372000000000003, \"normal_score\": 0.851058526838569}, {\"AvgEgg\": 16.9, \"Group\": \"Suscept\", \"residual\": -6.727999999999998, \"normal_score\": -0.7164975001779914}, {\"AvgEgg\": 16.1, \"Group\": \"Suscept\", \"residual\": -7.527999999999995, \"normal_score\": -0.7598095710099186}, {\"AvgEgg\": 10.8, \"Group\": \"Suscept\", \"residual\": -12.827999999999996, \"normal_score\": -1.6198562586382699}]}}, {\"mode\": \"vega-lite\"});\n",
       "</script>"
      ],
      "text/plain": [
       "alt.HConcatChart(...)"
      ]
     },
     "execution_count": 21,
     "metadata": {},
     "output_type": "execute_result"
    }
   ],
   "source": [
    "chart_base = (\n",
    "    alt.Chart(\n",
    "        DATA['12.3']\n",
    "        .with_columns(\n",
    "            residual=col('AvgEgg') - col('AvgEgg').mean().over('Group'))\n",
    "        .with_columns(\n",
    "            normal_score=(col('residual').rank() / (pl.len() + 1)).map_batches(\n",
    "                lambda x: stats.norm.ppf(x))))\n",
    "    .mark_circle())\n",
    "\n",
    "(\n",
    "    chart_base.encode(\n",
    "        alt.X('Group').axis(labelAngle=0).title(None),\n",
    "        alt.Y('residual'))\n",
    "    .properties(width=200)\n",
    "    | chart_base.encode(\n",
    "        x='residual', \n",
    "        y='normal_score')\n",
    ")"
   ]
  },
  {
   "cell_type": "markdown",
   "id": "cb4d0a01-0ce4-4255-94bd-f80e471f49b1",
   "metadata": {},
   "source": [
    "From the charts: the variances are consistent across different groups. The residuals are fairly normally distributed."
   ]
  },
  {
   "cell_type": "markdown",
   "id": "1f30a46a-2be4-4e4e-b30e-513d59e893c7",
   "metadata": {},
   "source": [
    "### 4."
   ]
  },
  {
   "cell_type": "code",
   "execution_count": 22,
   "id": "af9fc814-2fdd-462c-8e17-21f01e7f9a9e",
   "metadata": {},
   "outputs": [
    {
     "data": {
      "text/html": [
       "<div><style>\n",
       ".dataframe > thead > tr,\n",
       ".dataframe > tbody > tr {\n",
       "  text-align: right;\n",
       "  white-space: pre-wrap;\n",
       "}\n",
       "</style>\n",
       "<small>shape: (5, 2)</small><table border=\"1\" class=\"dataframe\"><thead><tr><th>salinity</th><th>site</th></tr><tr><td>f64</td><td>str</td></tr></thead><tbody><tr><td>37.54</td><td>&quot;I&quot;</td></tr><tr><td>37.01</td><td>&quot;I&quot;</td></tr><tr><td>36.71</td><td>&quot;I&quot;</td></tr><tr><td>37.03</td><td>&quot;I&quot;</td></tr><tr><td>37.32</td><td>&quot;I&quot;</td></tr></tbody></table></div>"
      ],
      "text/plain": [
       "shape: (5, 2)\n",
       "┌──────────┬──────┐\n",
       "│ salinity ┆ site │\n",
       "│ ---      ┆ ---  │\n",
       "│ f64      ┆ str  │\n",
       "╞══════════╪══════╡\n",
       "│ 37.54    ┆ I    │\n",
       "│ 37.01    ┆ I    │\n",
       "│ 36.71    ┆ I    │\n",
       "│ 37.03    ┆ I    │\n",
       "│ 37.32    ┆ I    │\n",
       "└──────────┴──────┘"
      ]
     },
     "execution_count": 22,
     "metadata": {},
     "output_type": "execute_result"
    }
   ],
   "source": [
    "DATA['12.4'] = pl.read_json('Ex12-4.json').explode(pl.all())\n",
    "DATA['12.4'].head()"
   ]
  },
  {
   "cell_type": "markdown",
   "id": "892a0800-b03a-43e2-bbcd-352856e0c764",
   "metadata": {},
   "source": [
    "#### (a)"
   ]
  },
  {
   "cell_type": "code",
   "execution_count": 23,
   "id": "ebb0d12d-c49e-4f7c-9584-efd3f01ea42f",
   "metadata": {},
   "outputs": [
    {
     "data": {
      "text/html": [
       "\n",
       "<style>\n",
       "  #altair-viz-1158b9caf5694c249a3ba265dff0447f.vega-embed {\n",
       "    width: 100%;\n",
       "    display: flex;\n",
       "  }\n",
       "\n",
       "  #altair-viz-1158b9caf5694c249a3ba265dff0447f.vega-embed details,\n",
       "  #altair-viz-1158b9caf5694c249a3ba265dff0447f.vega-embed details summary {\n",
       "    position: relative;\n",
       "  }\n",
       "</style>\n",
       "<div id=\"altair-viz-1158b9caf5694c249a3ba265dff0447f\"></div>\n",
       "<script type=\"text/javascript\">\n",
       "  var VEGA_DEBUG = (typeof VEGA_DEBUG == \"undefined\") ? {} : VEGA_DEBUG;\n",
       "  (function(spec, embedOpt){\n",
       "    let outputDiv = document.currentScript.previousElementSibling;\n",
       "    if (outputDiv.id !== \"altair-viz-1158b9caf5694c249a3ba265dff0447f\") {\n",
       "      outputDiv = document.getElementById(\"altair-viz-1158b9caf5694c249a3ba265dff0447f\");\n",
       "    }\n",
       "    const paths = {\n",
       "      \"vega\": \"https://cdn.jsdelivr.net/npm/vega@5?noext\",\n",
       "      \"vega-lib\": \"https://cdn.jsdelivr.net/npm/vega-lib?noext\",\n",
       "      \"vega-lite\": \"https://cdn.jsdelivr.net/npm/vega-lite@5.16.3?noext\",\n",
       "      \"vega-embed\": \"https://cdn.jsdelivr.net/npm/vega-embed@6?noext\",\n",
       "    };\n",
       "\n",
       "    function maybeLoadScript(lib, version) {\n",
       "      var key = `${lib.replace(\"-\", \"\")}_version`;\n",
       "      return (VEGA_DEBUG[key] == version) ?\n",
       "        Promise.resolve(paths[lib]) :\n",
       "        new Promise(function(resolve, reject) {\n",
       "          var s = document.createElement('script');\n",
       "          document.getElementsByTagName(\"head\")[0].appendChild(s);\n",
       "          s.async = true;\n",
       "          s.onload = () => {\n",
       "            VEGA_DEBUG[key] = version;\n",
       "            return resolve(paths[lib]);\n",
       "          };\n",
       "          s.onerror = () => reject(`Error loading script: ${paths[lib]}`);\n",
       "          s.src = paths[lib];\n",
       "        });\n",
       "    }\n",
       "\n",
       "    function showError(err) {\n",
       "      outputDiv.innerHTML = `<div class=\"error\" style=\"color:red;\">${err}</div>`;\n",
       "      throw err;\n",
       "    }\n",
       "\n",
       "    function displayChart(vegaEmbed) {\n",
       "      vegaEmbed(outputDiv, spec, embedOpt)\n",
       "        .catch(err => showError(`Javascript Error: ${err.message}<br>This usually means there's a typo in your chart specification. See the javascript console for the full traceback.`));\n",
       "    }\n",
       "\n",
       "    if(typeof define === \"function\" && define.amd) {\n",
       "      requirejs.config({paths});\n",
       "      require([\"vega-embed\"], displayChart, err => showError(`Error loading script: ${err.message}`));\n",
       "    } else {\n",
       "      maybeLoadScript(\"vega\", \"5\")\n",
       "        .then(() => maybeLoadScript(\"vega-lite\", \"5.16.3\"))\n",
       "        .then(() => maybeLoadScript(\"vega-embed\", \"6\"))\n",
       "        .catch(showError)\n",
       "        .then(() => displayChart(vegaEmbed));\n",
       "    }\n",
       "  })({\"config\": {\"view\": {\"continuousWidth\": 300, \"continuousHeight\": 300}}, \"data\": {\"name\": \"data-a2fefc8eb492678b2ea3ff8a4735123d\"}, \"mark\": {\"type\": \"boxplot\"}, \"encoding\": {\"x\": {\"field\": \"salinity\", \"scale\": {\"zero\": false}, \"type\": \"quantitative\"}, \"y\": {\"field\": \"site\", \"type\": \"nominal\"}}, \"$schema\": \"https://vega.github.io/schema/vega-lite/v5.16.3.json\", \"datasets\": {\"data-a2fefc8eb492678b2ea3ff8a4735123d\": [{\"salinity\": 37.54, \"site\": \"I\"}, {\"salinity\": 37.01, \"site\": \"I\"}, {\"salinity\": 36.71, \"site\": \"I\"}, {\"salinity\": 37.03, \"site\": \"I\"}, {\"salinity\": 37.32, \"site\": \"I\"}, {\"salinity\": 37.01, \"site\": \"I\"}, {\"salinity\": 37.03, \"site\": \"I\"}, {\"salinity\": 37.7, \"site\": \"I\"}, {\"salinity\": 37.36, \"site\": \"I\"}, {\"salinity\": 36.75, \"site\": \"I\"}, {\"salinity\": 37.45, \"site\": \"I\"}, {\"salinity\": 38.85, \"site\": \"I\"}, {\"salinity\": 40.17, \"site\": \"II\"}, {\"salinity\": 40.8, \"site\": \"II\"}, {\"salinity\": 39.76, \"site\": \"II\"}, {\"salinity\": 39.7, \"site\": \"II\"}, {\"salinity\": 40.79, \"site\": \"II\"}, {\"salinity\": 40.44, \"site\": \"II\"}, {\"salinity\": 39.79, \"site\": \"II\"}, {\"salinity\": 39.38, \"site\": \"II\"}, {\"salinity\": 39.04, \"site\": \"III\"}, {\"salinity\": 39.21, \"site\": \"III\"}, {\"salinity\": 39.05, \"site\": \"III\"}, {\"salinity\": 38.24, \"site\": \"III\"}, {\"salinity\": 38.53, \"site\": \"III\"}, {\"salinity\": 38.71, \"site\": \"III\"}, {\"salinity\": 38.89, \"site\": \"III\"}, {\"salinity\": 38.66, \"site\": \"III\"}, {\"salinity\": 38.51, \"site\": \"III\"}, {\"salinity\": 40.08, \"site\": \"III\"}]}}, {\"mode\": \"vega-lite\"});\n",
       "</script>"
      ],
      "text/plain": [
       "alt.Chart(...)"
      ]
     },
     "execution_count": 23,
     "metadata": {},
     "output_type": "execute_result"
    }
   ],
   "source": [
    "(\n",
    "    alt.Chart(DATA['12.4'])\n",
    "    .mark_boxplot()\n",
    "    .encode(\n",
    "        alt.Y('site'),\n",
    "        alt.X('salinity').scale(zero=False))\n",
    ")"
   ]
  },
  {
   "cell_type": "markdown",
   "id": "faebbe9e-0250-45b6-b720-495e9b29a5d6",
   "metadata": {},
   "source": [
    "Obviously, site II > site III > site I in terms of salinity."
   ]
  },
  {
   "cell_type": "markdown",
   "id": "b028b727-b515-4c58-bdb6-a4f8672f6aa9",
   "metadata": {},
   "source": [
    "#### (b)"
   ]
  },
  {
   "cell_type": "code",
   "execution_count": 24,
   "id": "2a25a264-9105-4334-8d5f-40d6bf087ecf",
   "metadata": {},
   "outputs": [
    {
     "data": {
      "text/html": [
       "<div><style>\n",
       ".dataframe > thead > tr,\n",
       ".dataframe > tbody > tr {\n",
       "  text-align: right;\n",
       "  white-space: pre-wrap;\n",
       "}\n",
       "</style>\n",
       "<small>shape: (3, 6)</small><table border=\"1\" class=\"dataframe\"><thead><tr><th>dataset</th><th>source</th><th>SS</th><th>dof</th><th>MS</th><th>F</th></tr><tr><td>str</td><td>str</td><td>f64</td><td>u32</td><td>f64</td><td>f64</td></tr></thead><tbody><tr><td>&quot;&quot;</td><td>&quot;treatment&quot;</td><td>38.800883</td><td>2</td><td>19.400441</td><td>66.021046</td></tr><tr><td>&quot;&quot;</td><td>&quot;error&quot;</td><td>7.934014</td><td>27</td><td>0.293852</td><td>null</td></tr><tr><td>&quot;&quot;</td><td>&quot;total&quot;</td><td>46.734897</td><td>29</td><td>null</td><td>null</td></tr></tbody></table></div>"
      ],
      "text/plain": [
       "shape: (3, 6)\n",
       "┌─────────┬───────────┬───────────┬─────┬───────────┬───────────┐\n",
       "│ dataset ┆ source    ┆ SS        ┆ dof ┆ MS        ┆ F         │\n",
       "│ ---     ┆ ---       ┆ ---       ┆ --- ┆ ---       ┆ ---       │\n",
       "│ str     ┆ str       ┆ f64       ┆ u32 ┆ f64       ┆ f64       │\n",
       "╞═════════╪═══════════╪═══════════╪═════╪═══════════╪═══════════╡\n",
       "│         ┆ treatment ┆ 38.800883 ┆ 2   ┆ 19.400441 ┆ 66.021046 │\n",
       "│         ┆ error     ┆ 7.934014  ┆ 27  ┆ 0.293852  ┆ null      │\n",
       "│         ┆ total     ┆ 46.734897 ┆ 29  ┆ null      ┆ null      │\n",
       "└─────────┴───────────┴───────────┴─────┴───────────┴───────────┘"
      ]
     },
     "execution_count": 24,
     "metadata": {},
     "output_type": "execute_result"
    }
   ],
   "source": [
    "DATA['12.4 - aggregated'] = (\n",
    "    DATA['12.4']\n",
    "    .group_by(col('site').alias('group'))\n",
    "    .agg(\n",
    "        n=pl.len(),\n",
    "        μ=col('salinity').mean(),\n",
    "        s=col('salinity').std())\n",
    "    .with_columns(dataset=pl.lit('')))\n",
    "\n",
    "ANS['12.4.b'] = ANOVA(DATA['12.4 - aggregated'])\n",
    "ANS['12.4.b']"
   ]
  },
  {
   "cell_type": "code",
   "execution_count": 25,
   "id": "1e01bdf8-27f8-4015-a0d8-7fddba912a64",
   "metadata": {},
   "outputs": [
    {
     "data": {
      "text/plain": [
       "5.488117768420701"
      ]
     },
     "execution_count": 25,
     "metadata": {},
     "output_type": "execute_result"
    }
   ],
   "source": [
    "stats.f(2, 27).ppf(0.99)"
   ]
  },
  {
   "cell_type": "markdown",
   "id": "59cf6d19-ed20-4c71-9ea5-5d3563efd4f0",
   "metadata": {},
   "source": [
    "So the difference in salinity is indeed significant among the 3 sites."
   ]
  },
  {
   "cell_type": "markdown",
   "id": "df063ac4-10d9-40e3-82c5-15cbde8b75a3",
   "metadata": {},
   "source": [
    "#### (c)"
   ]
  },
  {
   "cell_type": "code",
   "execution_count": 26,
   "id": "b53c632d-ec2f-4b19-8000-7ddd0f3419f0",
   "metadata": {
    "scrolled": true
   },
   "outputs": [
    {
     "data": {
      "text/html": [
       "\n",
       "<style>\n",
       "  #altair-viz-d5b75c50f5d14b8e8bdf7f48e101000f.vega-embed {\n",
       "    width: 100%;\n",
       "    display: flex;\n",
       "  }\n",
       "\n",
       "  #altair-viz-d5b75c50f5d14b8e8bdf7f48e101000f.vega-embed details,\n",
       "  #altair-viz-d5b75c50f5d14b8e8bdf7f48e101000f.vega-embed details summary {\n",
       "    position: relative;\n",
       "  }\n",
       "</style>\n",
       "<div id=\"altair-viz-d5b75c50f5d14b8e8bdf7f48e101000f\"></div>\n",
       "<script type=\"text/javascript\">\n",
       "  var VEGA_DEBUG = (typeof VEGA_DEBUG == \"undefined\") ? {} : VEGA_DEBUG;\n",
       "  (function(spec, embedOpt){\n",
       "    let outputDiv = document.currentScript.previousElementSibling;\n",
       "    if (outputDiv.id !== \"altair-viz-d5b75c50f5d14b8e8bdf7f48e101000f\") {\n",
       "      outputDiv = document.getElementById(\"altair-viz-d5b75c50f5d14b8e8bdf7f48e101000f\");\n",
       "    }\n",
       "    const paths = {\n",
       "      \"vega\": \"https://cdn.jsdelivr.net/npm/vega@5?noext\",\n",
       "      \"vega-lib\": \"https://cdn.jsdelivr.net/npm/vega-lib?noext\",\n",
       "      \"vega-lite\": \"https://cdn.jsdelivr.net/npm/vega-lite@5.16.3?noext\",\n",
       "      \"vega-embed\": \"https://cdn.jsdelivr.net/npm/vega-embed@6?noext\",\n",
       "    };\n",
       "\n",
       "    function maybeLoadScript(lib, version) {\n",
       "      var key = `${lib.replace(\"-\", \"\")}_version`;\n",
       "      return (VEGA_DEBUG[key] == version) ?\n",
       "        Promise.resolve(paths[lib]) :\n",
       "        new Promise(function(resolve, reject) {\n",
       "          var s = document.createElement('script');\n",
       "          document.getElementsByTagName(\"head\")[0].appendChild(s);\n",
       "          s.async = true;\n",
       "          s.onload = () => {\n",
       "            VEGA_DEBUG[key] = version;\n",
       "            return resolve(paths[lib]);\n",
       "          };\n",
       "          s.onerror = () => reject(`Error loading script: ${paths[lib]}`);\n",
       "          s.src = paths[lib];\n",
       "        });\n",
       "    }\n",
       "\n",
       "    function showError(err) {\n",
       "      outputDiv.innerHTML = `<div class=\"error\" style=\"color:red;\">${err}</div>`;\n",
       "      throw err;\n",
       "    }\n",
       "\n",
       "    function displayChart(vegaEmbed) {\n",
       "      vegaEmbed(outputDiv, spec, embedOpt)\n",
       "        .catch(err => showError(`Javascript Error: ${err.message}<br>This usually means there's a typo in your chart specification. See the javascript console for the full traceback.`));\n",
       "    }\n",
       "\n",
       "    if(typeof define === \"function\" && define.amd) {\n",
       "      requirejs.config({paths});\n",
       "      require([\"vega-embed\"], displayChart, err => showError(`Error loading script: ${err.message}`));\n",
       "    } else {\n",
       "      maybeLoadScript(\"vega\", \"5\")\n",
       "        .then(() => maybeLoadScript(\"vega-lite\", \"5.16.3\"))\n",
       "        .then(() => maybeLoadScript(\"vega-embed\", \"6\"))\n",
       "        .catch(showError)\n",
       "        .then(() => displayChart(vegaEmbed));\n",
       "    }\n",
       "  })({\"config\": {\"view\": {\"continuousWidth\": 300, \"continuousHeight\": 300}}, \"hconcat\": [{\"mark\": {\"type\": \"circle\"}, \"encoding\": {\"x\": {\"axis\": {\"labelAngle\": 0}, \"field\": \"site\", \"type\": \"nominal\"}, \"y\": {\"field\": \"residual\", \"type\": \"quantitative\"}}, \"width\": 200}, {\"mark\": {\"type\": \"circle\"}, \"encoding\": {\"x\": {\"field\": \"residual\", \"type\": \"quantitative\"}, \"y\": {\"field\": \"normal_score\", \"type\": \"quantitative\"}}}], \"data\": {\"name\": \"data-560246715226fb9c7725ab3818333cdb\"}, \"$schema\": \"https://vega.github.io/schema/vega-lite/v5.16.3.json\", \"datasets\": {\"data-560246715226fb9c7725ab3818333cdb\": [{\"salinity\": 37.54, \"site\": \"I\", \"residual\": 0.22666666666666657, \"normal_score\": 0.6493239131864658}, {\"salinity\": 37.01, \"site\": \"I\", \"residual\": -0.30333333333333456, \"normal_score\": -0.41598722018967504}, {\"salinity\": 36.71, \"site\": \"I\", \"residual\": -0.6033333333333317, \"normal_score\": -1.3001534333634237}, {\"salinity\": 37.03, \"site\": \"I\", \"residual\": -0.28333333333333144, \"normal_score\": -0.2450062230373207}, {\"salinity\": 37.32, \"site\": \"I\", \"residual\": 0.006666666666667709, \"normal_score\": 0.1215873827504829}, {\"salinity\": 37.01, \"site\": \"I\", \"residual\": -0.30333333333333456, \"normal_score\": -0.41598722018967504}, {\"salinity\": 37.03, \"site\": \"I\", \"residual\": -0.28333333333333144, \"normal_score\": -0.2450062230373207}, {\"salinity\": 37.7, \"site\": \"I\", \"residual\": 0.38666666666667027, \"normal_score\": 0.9891686273406353}, {\"salinity\": 37.36, \"site\": \"I\", \"residual\": 0.046666666666666856, \"normal_score\": 0.20354423153248632}, {\"salinity\": 36.75, \"site\": \"I\", \"residual\": -0.5633333333333326, \"normal_score\": -1.1309776082451584}, {\"salinity\": 37.45, \"site\": \"I\", \"residual\": 0.13666666666667027, \"normal_score\": 0.37228936046519107}, {\"salinity\": 38.85, \"site\": \"I\", \"residual\": 1.5366666666666688, \"normal_score\": 1.8485962885014091}, {\"salinity\": 40.17, \"site\": \"II\", \"residual\": 0.0662500000000037, \"normal_score\": 0.2868939169230392}, {\"salinity\": 40.8, \"site\": \"II\", \"residual\": 0.6962499999999991, \"normal_score\": 1.300153433363423}, {\"salinity\": 39.76, \"site\": \"II\", \"residual\": -0.34375, \"normal_score\": -0.6493239131864658}, {\"salinity\": 39.7, \"site\": \"II\", \"residual\": -0.40374999999999517, \"normal_score\": -0.9891686273406353}, {\"salinity\": 40.79, \"site\": \"II\", \"residual\": 0.6862500000000011, \"normal_score\": 1.1309776082451584}, {\"salinity\": 40.44, \"site\": \"II\", \"residual\": 0.3362499999999997, \"normal_score\": 0.8648943586852829}, {\"salinity\": 39.79, \"site\": \"II\", \"residual\": -0.31374999999999886, \"normal_score\": -0.5524425846467742}, {\"salinity\": 39.38, \"site\": \"II\", \"residual\": -0.7237499999999955, \"normal_score\": -1.8485962885014091}, {\"salinity\": 39.04, \"site\": \"III\", \"residual\": 0.14799999999999613, \"normal_score\": 0.46049453910311605}, {\"salinity\": 39.21, \"site\": \"III\", \"residual\": 0.31799999999999784, \"normal_score\": 0.7527287942581697}, {\"salinity\": 39.05, \"site\": \"III\", \"residual\": 0.15799999999999415, \"normal_score\": 0.5524425846467744}, {\"salinity\": 38.24, \"site\": \"III\", \"residual\": -0.652000000000001, \"normal_score\": -1.5179291595942785}, {\"salinity\": 38.53, \"site\": \"III\", \"residual\": -0.3620000000000019, \"normal_score\": -0.7527287942581697}, {\"salinity\": 38.71, \"site\": \"III\", \"residual\": -0.18200000000000216, \"normal_score\": -0.04044050856564621}, {\"salinity\": 38.89, \"site\": \"III\", \"residual\": -0.0020000000000024443, \"normal_score\": 0.04044050856564621}, {\"salinity\": 38.66, \"site\": \"III\", \"residual\": -0.23200000000000642, \"normal_score\": -0.12158738275048304}, {\"salinity\": 38.51, \"site\": \"III\", \"residual\": -0.382000000000005, \"normal_score\": -0.8648943586852831}, {\"salinity\": 40.08, \"site\": \"III\", \"residual\": 1.1879999999999953, \"normal_score\": 1.517929159594278}]}}, {\"mode\": \"vega-lite\"});\n",
       "</script>"
      ],
      "text/plain": [
       "alt.HConcatChart(...)"
      ]
     },
     "execution_count": 26,
     "metadata": {},
     "output_type": "execute_result"
    }
   ],
   "source": [
    "chart_base = (\n",
    "    alt.Chart(\n",
    "        DATA['12.4']\n",
    "        .with_columns(\n",
    "            residual=col('salinity') - col('salinity').mean().over('site'))\n",
    "        .with_columns(\n",
    "            normal_score=(col('residual').rank() / (pl.len() + 1)).map_batches(\n",
    "                lambda x: stats.norm.ppf(x))))\n",
    "    .mark_circle())\n",
    "\n",
    "(\n",
    "    chart_base.encode(\n",
    "        alt.X('site').axis(labelAngle=0),\n",
    "        alt.Y('residual'))\n",
    "    .properties(width=200)\n",
    "    | chart_base.encode(\n",
    "        alt.X('residual'), \n",
    "        alt.Y('normal_score'))\n",
    ")"
   ]
  },
  {
   "cell_type": "markdown",
   "id": "93d05102-9b43-4048-ae80-57f9e210ced1",
   "metadata": {},
   "source": [
    "From the charts: the variances are roughly consistent across different sites. The residuals are mostly normally distributed, with a few points maybe too large."
   ]
  },
  {
   "cell_type": "markdown",
   "id": "5dc5f86b-d1d1-4984-b417-1abbc18634df",
   "metadata": {},
   "source": [
    "### 5."
   ]
  },
  {
   "cell_type": "code",
   "execution_count": 27,
   "id": "353a026d-b63d-4c77-b5b8-2bea62a64881",
   "metadata": {},
   "outputs": [
    {
     "data": {
      "text/html": [
       "<div><style>\n",
       ".dataframe > thead > tr,\n",
       ".dataframe > tbody > tr {\n",
       "  text-align: right;\n",
       "  white-space: pre-wrap;\n",
       "}\n",
       "</style>\n",
       "<small>shape: (5, 2)</small><table border=\"1\" class=\"dataframe\"><thead><tr><th>hemoglbn</th><th>Group</th></tr><tr><td>f64</td><td>str</td></tr></thead><tbody><tr><td>7.2</td><td>&quot;HBSS&quot;</td></tr><tr><td>7.7</td><td>&quot;HBSS&quot;</td></tr><tr><td>8.0</td><td>&quot;HBSS&quot;</td></tr><tr><td>8.1</td><td>&quot;HBSS&quot;</td></tr><tr><td>8.3</td><td>&quot;HBSS&quot;</td></tr></tbody></table></div>"
      ],
      "text/plain": [
       "shape: (5, 2)\n",
       "┌──────────┬───────┐\n",
       "│ hemoglbn ┆ Group │\n",
       "│ ---      ┆ ---   │\n",
       "│ f64      ┆ str   │\n",
       "╞══════════╪═══════╡\n",
       "│ 7.2      ┆ HBSS  │\n",
       "│ 7.7      ┆ HBSS  │\n",
       "│ 8.0      ┆ HBSS  │\n",
       "│ 8.1      ┆ HBSS  │\n",
       "│ 8.3      ┆ HBSS  │\n",
       "└──────────┴───────┘"
      ]
     },
     "execution_count": 27,
     "metadata": {},
     "output_type": "execute_result"
    }
   ],
   "source": [
    "DATA['12.5'] = pl.read_json('Ex12-5.json').explode(pl.all())\n",
    "DATA['12.5'].head()"
   ]
  },
  {
   "cell_type": "markdown",
   "id": "a0e291a9-a613-4257-85e1-93c48b10a37f",
   "metadata": {},
   "source": [
    "#### (a)"
   ]
  },
  {
   "cell_type": "code",
   "execution_count": 28,
   "id": "ebdf01d0-d007-4523-84fd-7387a414cd12",
   "metadata": {},
   "outputs": [
    {
     "data": {
      "text/html": [
       "\n",
       "<style>\n",
       "  #altair-viz-24bf7bbd78964fa3af5db062103b4d8c.vega-embed {\n",
       "    width: 100%;\n",
       "    display: flex;\n",
       "  }\n",
       "\n",
       "  #altair-viz-24bf7bbd78964fa3af5db062103b4d8c.vega-embed details,\n",
       "  #altair-viz-24bf7bbd78964fa3af5db062103b4d8c.vega-embed details summary {\n",
       "    position: relative;\n",
       "  }\n",
       "</style>\n",
       "<div id=\"altair-viz-24bf7bbd78964fa3af5db062103b4d8c\"></div>\n",
       "<script type=\"text/javascript\">\n",
       "  var VEGA_DEBUG = (typeof VEGA_DEBUG == \"undefined\") ? {} : VEGA_DEBUG;\n",
       "  (function(spec, embedOpt){\n",
       "    let outputDiv = document.currentScript.previousElementSibling;\n",
       "    if (outputDiv.id !== \"altair-viz-24bf7bbd78964fa3af5db062103b4d8c\") {\n",
       "      outputDiv = document.getElementById(\"altair-viz-24bf7bbd78964fa3af5db062103b4d8c\");\n",
       "    }\n",
       "    const paths = {\n",
       "      \"vega\": \"https://cdn.jsdelivr.net/npm/vega@5?noext\",\n",
       "      \"vega-lib\": \"https://cdn.jsdelivr.net/npm/vega-lib?noext\",\n",
       "      \"vega-lite\": \"https://cdn.jsdelivr.net/npm/vega-lite@5.16.3?noext\",\n",
       "      \"vega-embed\": \"https://cdn.jsdelivr.net/npm/vega-embed@6?noext\",\n",
       "    };\n",
       "\n",
       "    function maybeLoadScript(lib, version) {\n",
       "      var key = `${lib.replace(\"-\", \"\")}_version`;\n",
       "      return (VEGA_DEBUG[key] == version) ?\n",
       "        Promise.resolve(paths[lib]) :\n",
       "        new Promise(function(resolve, reject) {\n",
       "          var s = document.createElement('script');\n",
       "          document.getElementsByTagName(\"head\")[0].appendChild(s);\n",
       "          s.async = true;\n",
       "          s.onload = () => {\n",
       "            VEGA_DEBUG[key] = version;\n",
       "            return resolve(paths[lib]);\n",
       "          };\n",
       "          s.onerror = () => reject(`Error loading script: ${paths[lib]}`);\n",
       "          s.src = paths[lib];\n",
       "        });\n",
       "    }\n",
       "\n",
       "    function showError(err) {\n",
       "      outputDiv.innerHTML = `<div class=\"error\" style=\"color:red;\">${err}</div>`;\n",
       "      throw err;\n",
       "    }\n",
       "\n",
       "    function displayChart(vegaEmbed) {\n",
       "      vegaEmbed(outputDiv, spec, embedOpt)\n",
       "        .catch(err => showError(`Javascript Error: ${err.message}<br>This usually means there's a typo in your chart specification. See the javascript console for the full traceback.`));\n",
       "    }\n",
       "\n",
       "    if(typeof define === \"function\" && define.amd) {\n",
       "      requirejs.config({paths});\n",
       "      require([\"vega-embed\"], displayChart, err => showError(`Error loading script: ${err.message}`));\n",
       "    } else {\n",
       "      maybeLoadScript(\"vega\", \"5\")\n",
       "        .then(() => maybeLoadScript(\"vega-lite\", \"5.16.3\"))\n",
       "        .then(() => maybeLoadScript(\"vega-embed\", \"6\"))\n",
       "        .catch(showError)\n",
       "        .then(() => displayChart(vegaEmbed));\n",
       "    }\n",
       "  })({\"config\": {\"view\": {\"continuousWidth\": 300, \"continuousHeight\": 300}}, \"data\": {\"name\": \"data-d410dfee9ce56227150cc8d478acc063\"}, \"mark\": {\"type\": \"boxplot\"}, \"encoding\": {\"x\": {\"field\": \"hemoglbn\", \"scale\": {\"zero\": false}, \"type\": \"quantitative\"}, \"y\": {\"field\": \"Group\", \"type\": \"nominal\"}}, \"$schema\": \"https://vega.github.io/schema/vega-lite/v5.16.3.json\", \"datasets\": {\"data-d410dfee9ce56227150cc8d478acc063\": [{\"hemoglbn\": 7.2, \"Group\": \"HBSS\"}, {\"hemoglbn\": 7.7, \"Group\": \"HBSS\"}, {\"hemoglbn\": 8.0, \"Group\": \"HBSS\"}, {\"hemoglbn\": 8.1, \"Group\": \"HBSS\"}, {\"hemoglbn\": 8.3, \"Group\": \"HBSS\"}, {\"hemoglbn\": 8.4, \"Group\": \"HBSS\"}, {\"hemoglbn\": 8.4, \"Group\": \"HBSS\"}, {\"hemoglbn\": 8.5, \"Group\": \"HBSS\"}, {\"hemoglbn\": 8.6, \"Group\": \"HBSS\"}, {\"hemoglbn\": 8.7, \"Group\": \"HBSS\"}, {\"hemoglbn\": 9.1, \"Group\": \"HBSS\"}, {\"hemoglbn\": 9.1, \"Group\": \"HBSS\"}, {\"hemoglbn\": 9.1, \"Group\": \"HBSS\"}, {\"hemoglbn\": 9.8, \"Group\": \"HBSS\"}, {\"hemoglbn\": 10.1, \"Group\": \"HBSS\"}, {\"hemoglbn\": 10.3, \"Group\": \"HBSS\"}, {\"hemoglbn\": 8.1, \"Group\": \"HBS\"}, {\"hemoglbn\": 9.2, \"Group\": \"HBS\"}, {\"hemoglbn\": 10.0, \"Group\": \"HBS\"}, {\"hemoglbn\": 10.4, \"Group\": \"HBS\"}, {\"hemoglbn\": 10.6, \"Group\": \"HBS\"}, {\"hemoglbn\": 10.9, \"Group\": \"HBS\"}, {\"hemoglbn\": 11.1, \"Group\": \"HBS\"}, {\"hemoglbn\": 11.9, \"Group\": \"HBS\"}, {\"hemoglbn\": 12.0, \"Group\": \"HBS\"}, {\"hemoglbn\": 12.1, \"Group\": \"HBS\"}, {\"hemoglbn\": 10.7, \"Group\": \"HBSC\"}, {\"hemoglbn\": 11.3, \"Group\": \"HBSC\"}, {\"hemoglbn\": 11.5, \"Group\": \"HBSC\"}, {\"hemoglbn\": 11.6, \"Group\": \"HBSC\"}, {\"hemoglbn\": 11.7, \"Group\": \"HBSC\"}, {\"hemoglbn\": 11.8, \"Group\": \"HBSC\"}, {\"hemoglbn\": 12.0, \"Group\": \"HBSC\"}, {\"hemoglbn\": 12.1, \"Group\": \"HBSC\"}, {\"hemoglbn\": 12.3, \"Group\": \"HBSC\"}, {\"hemoglbn\": 12.6, \"Group\": \"HBSC\"}, {\"hemoglbn\": 12.6, \"Group\": \"HBSC\"}, {\"hemoglbn\": 13.3, \"Group\": \"HBSC\"}, {\"hemoglbn\": 13.3, \"Group\": \"HBSC\"}, {\"hemoglbn\": 13.8, \"Group\": \"HBSC\"}, {\"hemoglbn\": 13.9, \"Group\": \"HBSC\"}]}}, {\"mode\": \"vega-lite\"});\n",
       "</script>"
      ],
      "text/plain": [
       "alt.Chart(...)"
      ]
     },
     "execution_count": 28,
     "metadata": {},
     "output_type": "execute_result"
    }
   ],
   "source": [
    "(\n",
    "    alt.Chart(DATA['12.5'])\n",
    "    .mark_boxplot()\n",
    "    .encode(\n",
    "        alt.Y('Group'),\n",
    "        alt.X('hemoglbn').scale(zero=False))\n",
    ")"
   ]
  },
  {
   "cell_type": "markdown",
   "id": "ded94503-1c37-4c83-9ab1-6688de52ef2e",
   "metadata": {},
   "source": [
    "The groups seem to differ in hemoglobin levels: HBSC > HBS > HBSS."
   ]
  },
  {
   "cell_type": "markdown",
   "id": "0f960ea5-0b2c-4fc3-a72b-586b93252ceb",
   "metadata": {},
   "source": [
    "#### (b)"
   ]
  },
  {
   "cell_type": "code",
   "execution_count": 29,
   "id": "2ebf6ac0-b5ca-49eb-a5bf-b427aea11b5f",
   "metadata": {},
   "outputs": [
    {
     "data": {
      "text/html": [
       "<div><style>\n",
       ".dataframe > thead > tr,\n",
       ".dataframe > tbody > tr {\n",
       "  text-align: right;\n",
       "  white-space: pre-wrap;\n",
       "}\n",
       "</style>\n",
       "<small>shape: (3, 6)</small><table border=\"1\" class=\"dataframe\"><thead><tr><th>dataset</th><th>source</th><th>SS</th><th>dof</th><th>MS</th><th>F</th></tr><tr><td>str</td><td>str</td><td>f64</td><td>u32</td><td>f64</td><td>f64</td></tr></thead><tbody><tr><td>&quot;&quot;</td><td>&quot;treatment&quot;</td><td>99.889305</td><td>2</td><td>49.944652</td><td>49.999257</td></tr><tr><td>&quot;&quot;</td><td>&quot;error&quot;</td><td>37.9585</td><td>38</td><td>0.998908</td><td>null</td></tr><tr><td>&quot;&quot;</td><td>&quot;total&quot;</td><td>137.847805</td><td>40</td><td>null</td><td>null</td></tr></tbody></table></div>"
      ],
      "text/plain": [
       "shape: (3, 6)\n",
       "┌─────────┬───────────┬────────────┬─────┬───────────┬───────────┐\n",
       "│ dataset ┆ source    ┆ SS         ┆ dof ┆ MS        ┆ F         │\n",
       "│ ---     ┆ ---       ┆ ---        ┆ --- ┆ ---       ┆ ---       │\n",
       "│ str     ┆ str       ┆ f64        ┆ u32 ┆ f64       ┆ f64       │\n",
       "╞═════════╪═══════════╪════════════╪═════╪═══════════╪═══════════╡\n",
       "│         ┆ treatment ┆ 99.889305  ┆ 2   ┆ 49.944652 ┆ 49.999257 │\n",
       "│         ┆ error     ┆ 37.9585    ┆ 38  ┆ 0.998908  ┆ null      │\n",
       "│         ┆ total     ┆ 137.847805 ┆ 40  ┆ null      ┆ null      │\n",
       "└─────────┴───────────┴────────────┴─────┴───────────┴───────────┘"
      ]
     },
     "execution_count": 29,
     "metadata": {},
     "output_type": "execute_result"
    }
   ],
   "source": [
    "DATA['12.5 - aggregated'] = (\n",
    "    DATA['12.5']\n",
    "    .group_by(col('Group').alias('group'))\n",
    "    .agg(\n",
    "        n=pl.len(),\n",
    "        μ=col('hemoglbn').mean(),\n",
    "        s=col('hemoglbn').std())\n",
    "    .with_columns(dataset=pl.lit('')))\n",
    "\n",
    "ANS['12.5.b'] = ANOVA(DATA['12.5 - aggregated'])\n",
    "ANS['12.5.b']"
   ]
  },
  {
   "cell_type": "markdown",
   "id": "2432d8e7-9eb3-494f-adc5-7e29bc06ec20",
   "metadata": {},
   "source": [
    "The p value is"
   ]
  },
  {
   "cell_type": "code",
   "execution_count": 30,
   "id": "fccce009-9832-4c05-b8f8-69cec41da7b2",
   "metadata": {},
   "outputs": [
    {
     "data": {
      "text/plain": [
       "2.2817841643408732e-11"
      ]
     },
     "execution_count": 30,
     "metadata": {},
     "output_type": "execute_result"
    }
   ],
   "source": [
    "stats.f(2, 38).sf(ANS['12.5.b'].item(0, 'F'))"
   ]
  },
  {
   "cell_type": "markdown",
   "id": "af52dca1-798c-4533-a437-6a9f8c8ee5f5",
   "metadata": {},
   "source": [
    "So there are significant differences in hemoglobin levels."
   ]
  },
  {
   "cell_type": "markdown",
   "id": "775e01f6-79ef-4599-88a6-229a2db73209",
   "metadata": {},
   "source": [
    "#### (c)"
   ]
  },
  {
   "cell_type": "code",
   "execution_count": 31,
   "id": "6a26caa2-eece-4ccc-ab08-2664d04eba31",
   "metadata": {
    "scrolled": true
   },
   "outputs": [
    {
     "data": {
      "text/html": [
       "\n",
       "<style>\n",
       "  #altair-viz-e7b22a74ba854b00bd9faa88f548bdc6.vega-embed {\n",
       "    width: 100%;\n",
       "    display: flex;\n",
       "  }\n",
       "\n",
       "  #altair-viz-e7b22a74ba854b00bd9faa88f548bdc6.vega-embed details,\n",
       "  #altair-viz-e7b22a74ba854b00bd9faa88f548bdc6.vega-embed details summary {\n",
       "    position: relative;\n",
       "  }\n",
       "</style>\n",
       "<div id=\"altair-viz-e7b22a74ba854b00bd9faa88f548bdc6\"></div>\n",
       "<script type=\"text/javascript\">\n",
       "  var VEGA_DEBUG = (typeof VEGA_DEBUG == \"undefined\") ? {} : VEGA_DEBUG;\n",
       "  (function(spec, embedOpt){\n",
       "    let outputDiv = document.currentScript.previousElementSibling;\n",
       "    if (outputDiv.id !== \"altair-viz-e7b22a74ba854b00bd9faa88f548bdc6\") {\n",
       "      outputDiv = document.getElementById(\"altair-viz-e7b22a74ba854b00bd9faa88f548bdc6\");\n",
       "    }\n",
       "    const paths = {\n",
       "      \"vega\": \"https://cdn.jsdelivr.net/npm/vega@5?noext\",\n",
       "      \"vega-lib\": \"https://cdn.jsdelivr.net/npm/vega-lib?noext\",\n",
       "      \"vega-lite\": \"https://cdn.jsdelivr.net/npm/vega-lite@5.16.3?noext\",\n",
       "      \"vega-embed\": \"https://cdn.jsdelivr.net/npm/vega-embed@6?noext\",\n",
       "    };\n",
       "\n",
       "    function maybeLoadScript(lib, version) {\n",
       "      var key = `${lib.replace(\"-\", \"\")}_version`;\n",
       "      return (VEGA_DEBUG[key] == version) ?\n",
       "        Promise.resolve(paths[lib]) :\n",
       "        new Promise(function(resolve, reject) {\n",
       "          var s = document.createElement('script');\n",
       "          document.getElementsByTagName(\"head\")[0].appendChild(s);\n",
       "          s.async = true;\n",
       "          s.onload = () => {\n",
       "            VEGA_DEBUG[key] = version;\n",
       "            return resolve(paths[lib]);\n",
       "          };\n",
       "          s.onerror = () => reject(`Error loading script: ${paths[lib]}`);\n",
       "          s.src = paths[lib];\n",
       "        });\n",
       "    }\n",
       "\n",
       "    function showError(err) {\n",
       "      outputDiv.innerHTML = `<div class=\"error\" style=\"color:red;\">${err}</div>`;\n",
       "      throw err;\n",
       "    }\n",
       "\n",
       "    function displayChart(vegaEmbed) {\n",
       "      vegaEmbed(outputDiv, spec, embedOpt)\n",
       "        .catch(err => showError(`Javascript Error: ${err.message}<br>This usually means there's a typo in your chart specification. See the javascript console for the full traceback.`));\n",
       "    }\n",
       "\n",
       "    if(typeof define === \"function\" && define.amd) {\n",
       "      requirejs.config({paths});\n",
       "      require([\"vega-embed\"], displayChart, err => showError(`Error loading script: ${err.message}`));\n",
       "    } else {\n",
       "      maybeLoadScript(\"vega\", \"5\")\n",
       "        .then(() => maybeLoadScript(\"vega-lite\", \"5.16.3\"))\n",
       "        .then(() => maybeLoadScript(\"vega-embed\", \"6\"))\n",
       "        .catch(showError)\n",
       "        .then(() => displayChart(vegaEmbed));\n",
       "    }\n",
       "  })({\"config\": {\"view\": {\"continuousWidth\": 300, \"continuousHeight\": 300}}, \"hconcat\": [{\"mark\": {\"type\": \"circle\"}, \"encoding\": {\"x\": {\"axis\": {\"labelAngle\": 0}, \"field\": \"Group\", \"title\": null, \"type\": \"nominal\"}, \"y\": {\"field\": \"residual\", \"type\": \"quantitative\"}}, \"width\": 200}, {\"mark\": {\"type\": \"circle\"}, \"encoding\": {\"x\": {\"field\": \"residual\", \"type\": \"quantitative\"}, \"y\": {\"field\": \"normal_score\", \"type\": \"quantitative\"}}}], \"data\": {\"name\": \"data-6a5194b160745aed15747b6d9aa8eace\"}, \"$schema\": \"https://vega.github.io/schema/vega-lite/v5.16.3.json\", \"datasets\": {\"data-6a5194b160745aed15747b6d9aa8eace\": [{\"hemoglbn\": 7.2, \"Group\": \"HBSS\", \"residual\": -1.5124999999999984, \"normal_score\": -1.465233792685523}, {\"hemoglbn\": 7.7, \"Group\": \"HBSS\", \"residual\": -1.0124999999999984, \"normal_score\": -1.1797611176118612}, {\"hemoglbn\": 8.0, \"Group\": \"HBSS\", \"residual\": -0.7124999999999986, \"normal_score\": -0.8761428492468408}, {\"hemoglbn\": 8.1, \"Group\": \"HBSS\", \"residual\": -0.6124999999999989, \"normal_score\": -0.6374841609623769}, {\"hemoglbn\": 8.3, \"Group\": \"HBSS\", \"residual\": -0.41249999999999787, \"normal_score\": -0.43072729929545756}, {\"hemoglbn\": 8.4, \"Group\": \"HBSS\", \"residual\": -0.3124999999999982, \"normal_score\": -0.33437680758881416}, {\"hemoglbn\": 8.4, \"Group\": \"HBSS\", \"residual\": -0.3124999999999982, \"normal_score\": -0.33437680758881416}, {\"hemoglbn\": 8.5, \"Group\": \"HBSS\", \"residual\": -0.21249999999999858, \"normal_score\": -0.11964811303984203}, {\"hemoglbn\": 8.6, \"Group\": \"HBSS\", \"residual\": -0.11249999999999893, \"normal_score\": 0.0}, {\"hemoglbn\": 8.7, \"Group\": \"HBSS\", \"residual\": -0.01249999999999929, \"normal_score\": 0.11964811303984217}, {\"hemoglbn\": 9.1, \"Group\": \"HBSS\", \"residual\": 0.38750000000000107, \"normal_score\": 0.49720057068155404}, {\"hemoglbn\": 9.1, \"Group\": \"HBSS\", \"residual\": 0.38750000000000107, \"normal_score\": 0.49720057068155404}, {\"hemoglbn\": 9.1, \"Group\": \"HBSS\", \"residual\": 0.38750000000000107, \"normal_score\": 0.49720057068155404}, {\"hemoglbn\": 9.8, \"Group\": \"HBSS\", \"residual\": 1.0875000000000021, \"normal_score\": 0.8761428492468408}, {\"hemoglbn\": 10.1, \"Group\": \"HBSS\", \"residual\": 1.387500000000001, \"normal_score\": 1.1797611176118612}, {\"hemoglbn\": 10.3, \"Group\": \"HBSS\", \"residual\": 1.5875000000000021, \"normal_score\": 1.668391193947079}, {\"hemoglbn\": 8.1, \"Group\": \"HBS\", \"residual\": -2.5299999999999994, \"normal_score\": -1.9807523966472789}, {\"hemoglbn\": 9.2, \"Group\": \"HBS\", \"residual\": -1.4299999999999997, \"normal_score\": -1.309171716785777}, {\"hemoglbn\": 10.0, \"Group\": \"HBS\", \"residual\": -0.629999999999999, \"normal_score\": -0.712443032389489}, {\"hemoglbn\": 10.4, \"Group\": \"HBS\", \"residual\": -0.22999999999999865, \"normal_score\": -0.1800123697927051}, {\"hemoglbn\": 10.6, \"Group\": \"HBS\", \"residual\": -0.02999999999999936, \"normal_score\": 0.05971709978532289}, {\"hemoglbn\": 10.9, \"Group\": \"HBS\", \"residual\": 0.27000000000000135, \"normal_score\": 0.24104039388602685}, {\"hemoglbn\": 11.1, \"Group\": \"HBS\", \"residual\": 0.47000000000000064, \"normal_score\": 0.6374841609623771}, {\"hemoglbn\": 11.9, \"Group\": \"HBS\", \"residual\": 1.2700000000000014, \"normal_score\": 0.967421566101701}, {\"hemoglbn\": 12.0, \"Group\": \"HBS\", \"residual\": 1.370000000000001, \"normal_score\": 1.0675705238781412}, {\"hemoglbn\": 12.1, \"Group\": \"HBS\", \"residual\": 1.4700000000000006, \"normal_score\": 1.309171716785777}, {\"hemoglbn\": 10.7, \"Group\": \"HBSC\", \"residual\": -1.6000000000000032, \"normal_score\": -1.6683911939470795}, {\"hemoglbn\": 11.3, \"Group\": \"HBSC\", \"residual\": -1.0000000000000018, \"normal_score\": -1.0675705238781414}, {\"hemoglbn\": 11.5, \"Group\": \"HBSC\", \"residual\": -0.8000000000000025, \"normal_score\": -0.967421566101701}, {\"hemoglbn\": 11.6, \"Group\": \"HBSC\", \"residual\": -0.7000000000000028, \"normal_score\": -0.7916386077433746}, {\"hemoglbn\": 11.7, \"Group\": \"HBSC\", \"residual\": -0.6000000000000032, \"normal_score\": -0.5659488219328631}, {\"hemoglbn\": 11.8, \"Group\": \"HBSC\", \"residual\": -0.5000000000000018, \"normal_score\": -0.49720057068155404}, {\"hemoglbn\": 12.0, \"Group\": \"HBSC\", \"residual\": -0.3000000000000025, \"normal_score\": -0.24104039388602685}, {\"hemoglbn\": 12.1, \"Group\": \"HBSC\", \"residual\": -0.20000000000000284, \"normal_score\": -0.05971709978532289}, {\"hemoglbn\": 12.3, \"Group\": \"HBSC\", \"residual\": -1.7763568394002505e-15, \"normal_score\": 0.18001236979270496}, {\"hemoglbn\": 12.6, \"Group\": \"HBSC\", \"residual\": 0.29999999999999716, \"normal_score\": 0.33437680758881416}, {\"hemoglbn\": 12.6, \"Group\": \"HBSC\", \"residual\": 0.29999999999999716, \"normal_score\": 0.33437680758881416}, {\"hemoglbn\": 13.3, \"Group\": \"HBSC\", \"residual\": 0.9999999999999982, \"normal_score\": 0.7514515438490051}, {\"hemoglbn\": 13.3, \"Group\": \"HBSC\", \"residual\": 0.9999999999999982, \"normal_score\": 0.7514515438490051}, {\"hemoglbn\": 13.8, \"Group\": \"HBSC\", \"residual\": 1.4999999999999982, \"normal_score\": 1.465233792685523}, {\"hemoglbn\": 13.9, \"Group\": \"HBSC\", \"residual\": 1.5999999999999979, \"normal_score\": 1.9807523966472789}]}}, {\"mode\": \"vega-lite\"});\n",
       "</script>"
      ],
      "text/plain": [
       "alt.HConcatChart(...)"
      ]
     },
     "execution_count": 31,
     "metadata": {},
     "output_type": "execute_result"
    }
   ],
   "source": [
    "chart_base = (\n",
    "    alt.Chart(\n",
    "        DATA['12.5']\n",
    "        .with_columns(\n",
    "            residual=col('hemoglbn') - col('hemoglbn').mean().over('Group'))\n",
    "        .with_columns(\n",
    "            normal_score=(col('residual').rank() / (pl.len() + 1)).map_batches(\n",
    "                lambda x: stats.norm.ppf(x))))\n",
    "    .mark_circle())\n",
    "\n",
    "(\n",
    "    chart_base.encode(\n",
    "        alt.X('Group').axis(labelAngle=0).title(None),\n",
    "        alt.Y('residual'))\n",
    "    .properties(width=200)\n",
    "    | chart_base.encode(\n",
    "        alt.X('residual'), \n",
    "        alt.Y('normal_score'))\n",
    ")"
   ]
  },
  {
   "cell_type": "markdown",
   "id": "d5214ebd-70fc-4b8f-bf29-3abe56db3bac",
   "metadata": {},
   "source": [
    "From the charts: the variances are roughly consistent across different diseases. The residuals are mostly normally distributed, too."
   ]
  },
  {
   "cell_type": "markdown",
   "id": "efbd69e0-5ecf-4f28-9e5a-93273237300e",
   "metadata": {},
   "source": [
    "### 6."
   ]
  },
  {
   "cell_type": "code",
   "execution_count": 32,
   "id": "cd09bfe6-4a6a-46c3-b523-9eda85b4ed0e",
   "metadata": {},
   "outputs": [
    {
     "data": {
      "text/html": [
       "<div><style>\n",
       ".dataframe > thead > tr,\n",
       ".dataframe > tbody > tr {\n",
       "  text-align: right;\n",
       "  white-space: pre-wrap;\n",
       "}\n",
       "</style>\n",
       "<small>shape: (5, 2)</small><table border=\"1\" class=\"dataframe\"><thead><tr><th>Height</th><th>Part</th></tr><tr><td>f64</td><td>str</td></tr></thead><tbody><tr><td>69.0</td><td>&quot;Tenor1&quot;</td></tr><tr><td>72.0</td><td>&quot;Tenor1&quot;</td></tr><tr><td>71.0</td><td>&quot;Tenor1&quot;</td></tr><tr><td>66.0</td><td>&quot;Tenor1&quot;</td></tr><tr><td>76.0</td><td>&quot;Tenor1&quot;</td></tr></tbody></table></div>"
      ],
      "text/plain": [
       "shape: (5, 2)\n",
       "┌────────┬────────┐\n",
       "│ Height ┆ Part   │\n",
       "│ ---    ┆ ---    │\n",
       "│ f64    ┆ str    │\n",
       "╞════════╪════════╡\n",
       "│ 69.0   ┆ Tenor1 │\n",
       "│ 72.0   ┆ Tenor1 │\n",
       "│ 71.0   ┆ Tenor1 │\n",
       "│ 66.0   ┆ Tenor1 │\n",
       "│ 76.0   ┆ Tenor1 │\n",
       "└────────┴────────┘"
      ]
     },
     "execution_count": 32,
     "metadata": {},
     "output_type": "execute_result"
    }
   ],
   "source": [
    "DATA['12.6'] = pl.read_json('Ex12-6.json').explode(pl.all())\n",
    "DATA['12.6'].head()"
   ]
  },
  {
   "cell_type": "markdown",
   "id": "38c038a0-53d6-49e2-ba53-39d197deef98",
   "metadata": {},
   "source": [
    "#### (a)"
   ]
  },
  {
   "cell_type": "code",
   "execution_count": 33,
   "id": "b58e2a69-4f3a-45ad-8d6f-91e2dd7fb2c0",
   "metadata": {},
   "outputs": [
    {
     "data": {
      "text/html": [
       "\n",
       "<style>\n",
       "  #altair-viz-44e5a86b3a9348fea8bfaee5e4a68e87.vega-embed {\n",
       "    width: 100%;\n",
       "    display: flex;\n",
       "  }\n",
       "\n",
       "  #altair-viz-44e5a86b3a9348fea8bfaee5e4a68e87.vega-embed details,\n",
       "  #altair-viz-44e5a86b3a9348fea8bfaee5e4a68e87.vega-embed details summary {\n",
       "    position: relative;\n",
       "  }\n",
       "</style>\n",
       "<div id=\"altair-viz-44e5a86b3a9348fea8bfaee5e4a68e87\"></div>\n",
       "<script type=\"text/javascript\">\n",
       "  var VEGA_DEBUG = (typeof VEGA_DEBUG == \"undefined\") ? {} : VEGA_DEBUG;\n",
       "  (function(spec, embedOpt){\n",
       "    let outputDiv = document.currentScript.previousElementSibling;\n",
       "    if (outputDiv.id !== \"altair-viz-44e5a86b3a9348fea8bfaee5e4a68e87\") {\n",
       "      outputDiv = document.getElementById(\"altair-viz-44e5a86b3a9348fea8bfaee5e4a68e87\");\n",
       "    }\n",
       "    const paths = {\n",
       "      \"vega\": \"https://cdn.jsdelivr.net/npm/vega@5?noext\",\n",
       "      \"vega-lib\": \"https://cdn.jsdelivr.net/npm/vega-lib?noext\",\n",
       "      \"vega-lite\": \"https://cdn.jsdelivr.net/npm/vega-lite@5.16.3?noext\",\n",
       "      \"vega-embed\": \"https://cdn.jsdelivr.net/npm/vega-embed@6?noext\",\n",
       "    };\n",
       "\n",
       "    function maybeLoadScript(lib, version) {\n",
       "      var key = `${lib.replace(\"-\", \"\")}_version`;\n",
       "      return (VEGA_DEBUG[key] == version) ?\n",
       "        Promise.resolve(paths[lib]) :\n",
       "        new Promise(function(resolve, reject) {\n",
       "          var s = document.createElement('script');\n",
       "          document.getElementsByTagName(\"head\")[0].appendChild(s);\n",
       "          s.async = true;\n",
       "          s.onload = () => {\n",
       "            VEGA_DEBUG[key] = version;\n",
       "            return resolve(paths[lib]);\n",
       "          };\n",
       "          s.onerror = () => reject(`Error loading script: ${paths[lib]}`);\n",
       "          s.src = paths[lib];\n",
       "        });\n",
       "    }\n",
       "\n",
       "    function showError(err) {\n",
       "      outputDiv.innerHTML = `<div class=\"error\" style=\"color:red;\">${err}</div>`;\n",
       "      throw err;\n",
       "    }\n",
       "\n",
       "    function displayChart(vegaEmbed) {\n",
       "      vegaEmbed(outputDiv, spec, embedOpt)\n",
       "        .catch(err => showError(`Javascript Error: ${err.message}<br>This usually means there's a typo in your chart specification. See the javascript console for the full traceback.`));\n",
       "    }\n",
       "\n",
       "    if(typeof define === \"function\" && define.amd) {\n",
       "      requirejs.config({paths});\n",
       "      require([\"vega-embed\"], displayChart, err => showError(`Error loading script: ${err.message}`));\n",
       "    } else {\n",
       "      maybeLoadScript(\"vega\", \"5\")\n",
       "        .then(() => maybeLoadScript(\"vega-lite\", \"5.16.3\"))\n",
       "        .then(() => maybeLoadScript(\"vega-embed\", \"6\"))\n",
       "        .catch(showError)\n",
       "        .then(() => displayChart(vegaEmbed));\n",
       "    }\n",
       "  })({\"config\": {\"view\": {\"continuousWidth\": 300, \"continuousHeight\": 300}}, \"data\": {\"name\": \"data-2bed1bc8cb1b350aaa47305c152b7b67\"}, \"mark\": {\"type\": \"boxplot\"}, \"encoding\": {\"x\": {\"field\": \"Height\", \"scale\": {\"zero\": false}, \"type\": \"quantitative\"}, \"y\": {\"field\": \"Part\", \"type\": \"nominal\"}}, \"$schema\": \"https://vega.github.io/schema/vega-lite/v5.16.3.json\", \"datasets\": {\"data-2bed1bc8cb1b350aaa47305c152b7b67\": [{\"Height\": 69.0, \"Part\": \"Tenor1\"}, {\"Height\": 72.0, \"Part\": \"Tenor1\"}, {\"Height\": 71.0, \"Part\": \"Tenor1\"}, {\"Height\": 66.0, \"Part\": \"Tenor1\"}, {\"Height\": 76.0, \"Part\": \"Tenor1\"}, {\"Height\": 74.0, \"Part\": \"Tenor1\"}, {\"Height\": 71.0, \"Part\": \"Tenor1\"}, {\"Height\": 66.0, \"Part\": \"Tenor1\"}, {\"Height\": 68.0, \"Part\": \"Tenor1\"}, {\"Height\": 67.0, \"Part\": \"Tenor1\"}, {\"Height\": 70.0, \"Part\": \"Tenor1\"}, {\"Height\": 65.0, \"Part\": \"Tenor1\"}, {\"Height\": 72.0, \"Part\": \"Tenor1\"}, {\"Height\": 70.0, \"Part\": \"Tenor1\"}, {\"Height\": 68.0, \"Part\": \"Tenor1\"}, {\"Height\": 64.0, \"Part\": \"Tenor1\"}, {\"Height\": 73.0, \"Part\": \"Tenor1\"}, {\"Height\": 66.0, \"Part\": \"Tenor1\"}, {\"Height\": 68.0, \"Part\": \"Tenor1\"}, {\"Height\": 67.0, \"Part\": \"Tenor1\"}, {\"Height\": 64.0, \"Part\": \"Tenor1\"}, {\"Height\": 68.0, \"Part\": \"Tenor2\"}, {\"Height\": 73.0, \"Part\": \"Tenor2\"}, {\"Height\": 69.0, \"Part\": \"Tenor2\"}, {\"Height\": 71.0, \"Part\": \"Tenor2\"}, {\"Height\": 69.0, \"Part\": \"Tenor2\"}, {\"Height\": 76.0, \"Part\": \"Tenor2\"}, {\"Height\": 71.0, \"Part\": \"Tenor2\"}, {\"Height\": 69.0, \"Part\": \"Tenor2\"}, {\"Height\": 71.0, \"Part\": \"Tenor2\"}, {\"Height\": 66.0, \"Part\": \"Tenor2\"}, {\"Height\": 69.0, \"Part\": \"Tenor2\"}, {\"Height\": 71.0, \"Part\": \"Tenor2\"}, {\"Height\": 71.0, \"Part\": \"Tenor2\"}, {\"Height\": 71.0, \"Part\": \"Tenor2\"}, {\"Height\": 69.0, \"Part\": \"Tenor2\"}, {\"Height\": 70.0, \"Part\": \"Tenor2\"}, {\"Height\": 69.0, \"Part\": \"Tenor2\"}, {\"Height\": 68.0, \"Part\": \"Tenor2\"}, {\"Height\": 70.0, \"Part\": \"Tenor2\"}, {\"Height\": 68.0, \"Part\": \"Tenor2\"}, {\"Height\": 69.0, \"Part\": \"Tenor2\"}, {\"Height\": 72.0, \"Part\": \"Bass1\"}, {\"Height\": 70.0, \"Part\": \"Bass1\"}, {\"Height\": 72.0, \"Part\": \"Bass1\"}, {\"Height\": 69.0, \"Part\": \"Bass1\"}, {\"Height\": 73.0, \"Part\": \"Bass1\"}, {\"Height\": 71.0, \"Part\": \"Bass1\"}, {\"Height\": 72.0, \"Part\": \"Bass1\"}, {\"Height\": 68.0, \"Part\": \"Bass1\"}, {\"Height\": 68.0, \"Part\": \"Bass1\"}, {\"Height\": 71.0, \"Part\": \"Bass1\"}, {\"Height\": 66.0, \"Part\": \"Bass1\"}, {\"Height\": 68.0, \"Part\": \"Bass1\"}, {\"Height\": 71.0, \"Part\": \"Bass1\"}, {\"Height\": 73.0, \"Part\": \"Bass1\"}, {\"Height\": 73.0, \"Part\": \"Bass1\"}, {\"Height\": 70.0, \"Part\": \"Bass1\"}, {\"Height\": 68.0, \"Part\": \"Bass1\"}, {\"Height\": 70.0, \"Part\": \"Bass1\"}, {\"Height\": 75.0, \"Part\": \"Bass1\"}, {\"Height\": 68.0, \"Part\": \"Bass1\"}, {\"Height\": 71.0, \"Part\": \"Bass1\"}, {\"Height\": 70.0, \"Part\": \"Bass1\"}, {\"Height\": 74.0, \"Part\": \"Bass1\"}, {\"Height\": 70.0, \"Part\": \"Bass1\"}, {\"Height\": 75.0, \"Part\": \"Bass1\"}, {\"Height\": 75.0, \"Part\": \"Bass1\"}, {\"Height\": 69.0, \"Part\": \"Bass1\"}, {\"Height\": 72.0, \"Part\": \"Bass1\"}, {\"Height\": 71.0, \"Part\": \"Bass1\"}, {\"Height\": 70.0, \"Part\": \"Bass1\"}, {\"Height\": 71.0, \"Part\": \"Bass1\"}, {\"Height\": 68.0, \"Part\": \"Bass1\"}, {\"Height\": 70.0, \"Part\": \"Bass1\"}, {\"Height\": 75.0, \"Part\": \"Bass1\"}, {\"Height\": 72.0, \"Part\": \"Bass1\"}, {\"Height\": 66.0, \"Part\": \"Bass1\"}, {\"Height\": 72.0, \"Part\": \"Bass1\"}, {\"Height\": 70.0, \"Part\": \"Bass1\"}, {\"Height\": 69.0, \"Part\": \"Bass1\"}, {\"Height\": 72.0, \"Part\": \"Bass2\"}, {\"Height\": 75.0, \"Part\": \"Bass2\"}, {\"Height\": 67.0, \"Part\": \"Bass2\"}, {\"Height\": 75.0, \"Part\": \"Bass2\"}, {\"Height\": 74.0, \"Part\": \"Bass2\"}, {\"Height\": 72.0, \"Part\": \"Bass2\"}, {\"Height\": 72.0, \"Part\": \"Bass2\"}, {\"Height\": 74.0, \"Part\": \"Bass2\"}, {\"Height\": 72.0, \"Part\": \"Bass2\"}, {\"Height\": 72.0, \"Part\": \"Bass2\"}, {\"Height\": 74.0, \"Part\": \"Bass2\"}, {\"Height\": 70.0, \"Part\": \"Bass2\"}, {\"Height\": 66.0, \"Part\": \"Bass2\"}, {\"Height\": 68.0, \"Part\": \"Bass2\"}, {\"Height\": 75.0, \"Part\": \"Bass2\"}, {\"Height\": 68.0, \"Part\": \"Bass2\"}, {\"Height\": 70.0, \"Part\": \"Bass2\"}, {\"Height\": 72.0, \"Part\": \"Bass2\"}, {\"Height\": 67.0, \"Part\": \"Bass2\"}, {\"Height\": 70.0, \"Part\": \"Bass2\"}, {\"Height\": 70.0, \"Part\": \"Bass2\"}, {\"Height\": 69.0, \"Part\": \"Bass2\"}, {\"Height\": 72.0, \"Part\": \"Bass2\"}, {\"Height\": 71.0, \"Part\": \"Bass2\"}, {\"Height\": 74.0, \"Part\": \"Bass2\"}, {\"Height\": 75.0, \"Part\": \"Bass2\"}]}}, {\"mode\": \"vega-lite\"});\n",
       "</script>"
      ],
      "text/plain": [
       "alt.Chart(...)"
      ]
     },
     "execution_count": 33,
     "metadata": {},
     "output_type": "execute_result"
    }
   ],
   "source": [
    "(\n",
    "    alt.Chart(DATA['12.6'])\n",
    "    .mark_boxplot()\n",
    "    .encode(\n",
    "        alt.Y('Part'),\n",
    "        alt.X('Height').scale(zero=False))\n",
    ")"
   ]
  },
  {
   "cell_type": "markdown",
   "id": "224bd710-4607-4459-a305-e4e374204004",
   "metadata": {},
   "source": [
    "No obvious differences in height among the 4 parts."
   ]
  },
  {
   "cell_type": "markdown",
   "id": "5dfe8764-2583-471f-bdd2-3c5d8f941f28",
   "metadata": {},
   "source": [
    "#### (b)"
   ]
  },
  {
   "cell_type": "code",
   "execution_count": 34,
   "id": "685b07e9-8ab3-47be-946b-d3af2c8563dc",
   "metadata": {},
   "outputs": [
    {
     "data": {
      "text/html": [
       "<div><style>\n",
       ".dataframe > thead > tr,\n",
       ".dataframe > tbody > tr {\n",
       "  text-align: right;\n",
       "  white-space: pre-wrap;\n",
       "}\n",
       "</style>\n",
       "<small>shape: (3, 6)</small><table border=\"1\" class=\"dataframe\"><thead><tr><th>dataset</th><th>source</th><th>SS</th><th>dof</th><th>MS</th><th>F</th></tr><tr><td>str</td><td>str</td><td>f64</td><td>u32</td><td>f64</td><td>f64</td></tr></thead><tbody><tr><td>&quot;&quot;</td><td>&quot;treatment&quot;</td><td>81.114717</td><td>3</td><td>27.038239</td><td>3.946515</td></tr><tr><td>&quot;&quot;</td><td>&quot;error&quot;</td><td>705.67033</td><td>103</td><td>6.851168</td><td>null</td></tr><tr><td>&quot;&quot;</td><td>&quot;total&quot;</td><td>786.785047</td><td>106</td><td>null</td><td>null</td></tr></tbody></table></div>"
      ],
      "text/plain": [
       "shape: (3, 6)\n",
       "┌─────────┬───────────┬────────────┬─────┬───────────┬──────────┐\n",
       "│ dataset ┆ source    ┆ SS         ┆ dof ┆ MS        ┆ F        │\n",
       "│ ---     ┆ ---       ┆ ---        ┆ --- ┆ ---       ┆ ---      │\n",
       "│ str     ┆ str       ┆ f64        ┆ u32 ┆ f64       ┆ f64      │\n",
       "╞═════════╪═══════════╪════════════╪═════╪═══════════╪══════════╡\n",
       "│         ┆ treatment ┆ 81.114717  ┆ 3   ┆ 27.038239 ┆ 3.946515 │\n",
       "│         ┆ error     ┆ 705.67033  ┆ 103 ┆ 6.851168  ┆ null     │\n",
       "│         ┆ total     ┆ 786.785047 ┆ 106 ┆ null      ┆ null     │\n",
       "└─────────┴───────────┴────────────┴─────┴───────────┴──────────┘"
      ]
     },
     "execution_count": 34,
     "metadata": {},
     "output_type": "execute_result"
    }
   ],
   "source": [
    "DATA['12.6 - aggregated'] = (\n",
    "    DATA['12.6']\n",
    "    .group_by(col('Part').alias('group'))\n",
    "    .agg(\n",
    "        n=pl.len(),\n",
    "        μ=col('Height').mean(),\n",
    "        s=col('Height').std())\n",
    "    .with_columns(dataset=pl.lit('')))\n",
    "\n",
    "ANS['12.6.b'] = ANOVA(DATA['12.6 - aggregated'])\n",
    "ANS['12.6.b']"
   ]
  },
  {
   "cell_type": "markdown",
   "id": "e73dc145-74eb-4783-b4ec-13748fa6ed57",
   "metadata": {},
   "source": [
    "The p value is"
   ]
  },
  {
   "cell_type": "code",
   "execution_count": 35,
   "id": "bc49e1da-2447-47cf-a302-562712e63ccd",
   "metadata": {},
   "outputs": [
    {
     "data": {
      "text/plain": [
       "0.02231249549059697"
      ]
     },
     "execution_count": 35,
     "metadata": {},
     "output_type": "execute_result"
    }
   ],
   "source": [
    "stats.f(2, 103).sf(ANS['12.6.b'].item(0, 'F'))"
   ]
  },
  {
   "cell_type": "markdown",
   "id": "a4774f13-f6e3-4ed9-ac14-572c0a7cf0af",
   "metadata": {},
   "source": [
    "p < α = 0.05, so statistically, there are significant differences in height among the 4 vocal parts at the 0.05 confidence level. Note that the effect is not significant at the 0.01 level."
   ]
  },
  {
   "cell_type": "markdown",
   "id": "bf87550f-a063-4129-9910-7891a5187df7",
   "metadata": {},
   "source": [
    "#### (c)"
   ]
  },
  {
   "cell_type": "code",
   "execution_count": 36,
   "id": "4c601318-bc73-4fc5-872f-fed3a66ee365",
   "metadata": {
    "scrolled": true
   },
   "outputs": [
    {
     "data": {
      "text/html": [
       "\n",
       "<style>\n",
       "  #altair-viz-e3635f6bd0c647178ef3723bbb9293b8.vega-embed {\n",
       "    width: 100%;\n",
       "    display: flex;\n",
       "  }\n",
       "\n",
       "  #altair-viz-e3635f6bd0c647178ef3723bbb9293b8.vega-embed details,\n",
       "  #altair-viz-e3635f6bd0c647178ef3723bbb9293b8.vega-embed details summary {\n",
       "    position: relative;\n",
       "  }\n",
       "</style>\n",
       "<div id=\"altair-viz-e3635f6bd0c647178ef3723bbb9293b8\"></div>\n",
       "<script type=\"text/javascript\">\n",
       "  var VEGA_DEBUG = (typeof VEGA_DEBUG == \"undefined\") ? {} : VEGA_DEBUG;\n",
       "  (function(spec, embedOpt){\n",
       "    let outputDiv = document.currentScript.previousElementSibling;\n",
       "    if (outputDiv.id !== \"altair-viz-e3635f6bd0c647178ef3723bbb9293b8\") {\n",
       "      outputDiv = document.getElementById(\"altair-viz-e3635f6bd0c647178ef3723bbb9293b8\");\n",
       "    }\n",
       "    const paths = {\n",
       "      \"vega\": \"https://cdn.jsdelivr.net/npm/vega@5?noext\",\n",
       "      \"vega-lib\": \"https://cdn.jsdelivr.net/npm/vega-lib?noext\",\n",
       "      \"vega-lite\": \"https://cdn.jsdelivr.net/npm/vega-lite@5.16.3?noext\",\n",
       "      \"vega-embed\": \"https://cdn.jsdelivr.net/npm/vega-embed@6?noext\",\n",
       "    };\n",
       "\n",
       "    function maybeLoadScript(lib, version) {\n",
       "      var key = `${lib.replace(\"-\", \"\")}_version`;\n",
       "      return (VEGA_DEBUG[key] == version) ?\n",
       "        Promise.resolve(paths[lib]) :\n",
       "        new Promise(function(resolve, reject) {\n",
       "          var s = document.createElement('script');\n",
       "          document.getElementsByTagName(\"head\")[0].appendChild(s);\n",
       "          s.async = true;\n",
       "          s.onload = () => {\n",
       "            VEGA_DEBUG[key] = version;\n",
       "            return resolve(paths[lib]);\n",
       "          };\n",
       "          s.onerror = () => reject(`Error loading script: ${paths[lib]}`);\n",
       "          s.src = paths[lib];\n",
       "        });\n",
       "    }\n",
       "\n",
       "    function showError(err) {\n",
       "      outputDiv.innerHTML = `<div class=\"error\" style=\"color:red;\">${err}</div>`;\n",
       "      throw err;\n",
       "    }\n",
       "\n",
       "    function displayChart(vegaEmbed) {\n",
       "      vegaEmbed(outputDiv, spec, embedOpt)\n",
       "        .catch(err => showError(`Javascript Error: ${err.message}<br>This usually means there's a typo in your chart specification. See the javascript console for the full traceback.`));\n",
       "    }\n",
       "\n",
       "    if(typeof define === \"function\" && define.amd) {\n",
       "      requirejs.config({paths});\n",
       "      require([\"vega-embed\"], displayChart, err => showError(`Error loading script: ${err.message}`));\n",
       "    } else {\n",
       "      maybeLoadScript(\"vega\", \"5\")\n",
       "        .then(() => maybeLoadScript(\"vega-lite\", \"5.16.3\"))\n",
       "        .then(() => maybeLoadScript(\"vega-embed\", \"6\"))\n",
       "        .catch(showError)\n",
       "        .then(() => displayChart(vegaEmbed));\n",
       "    }\n",
       "  })({\"config\": {\"view\": {\"continuousWidth\": 300, \"continuousHeight\": 300}}, \"hconcat\": [{\"mark\": {\"type\": \"circle\"}, \"encoding\": {\"x\": {\"axis\": {\"labelAngle\": 0}, \"field\": \"Part\", \"title\": null, \"type\": \"nominal\"}, \"y\": {\"field\": \"residual\", \"type\": \"quantitative\"}}, \"width\": 200}, {\"mark\": {\"type\": \"circle\"}, \"encoding\": {\"x\": {\"field\": \"residual\", \"type\": \"quantitative\"}, \"y\": {\"field\": \"normal_score\", \"type\": \"quantitative\"}}}], \"data\": {\"name\": \"data-205cb03082d21531bec545007c0a68f2\"}, \"$schema\": \"https://vega.github.io/schema/vega-lite/v5.16.3.json\", \"datasets\": {\"data-205cb03082d21531bec545007c0a68f2\": [{\"Height\": 69.0, \"Part\": \"Tenor1\", \"residual\": 0.095238095238102, \"normal_score\": 0.0}, {\"Height\": 72.0, \"Part\": \"Tenor1\", \"residual\": 3.095238095238102, \"normal_score\": 1.0853249080767586}, {\"Height\": 71.0, \"Part\": \"Tenor1\", \"residual\": 2.095238095238102, \"normal_score\": 0.7492547032247756}, {\"Height\": 66.0, \"Part\": \"Tenor1\", \"residual\": -2.904761904761898, \"normal_score\": -1.1731373249266586}, {\"Height\": 76.0, \"Part\": \"Tenor1\", \"residual\": 7.095238095238102, \"normal_score\": 2.3550840094933703}, {\"Height\": 74.0, \"Part\": \"Tenor1\", \"residual\": 5.095238095238102, \"normal_score\": 1.9145058250555569}, {\"Height\": 71.0, \"Part\": \"Tenor1\", \"residual\": 2.095238095238102, \"normal_score\": 0.7492547032247756}, {\"Height\": 66.0, \"Part\": \"Tenor1\", \"residual\": -2.904761904761898, \"normal_score\": -1.1731373249266586}, {\"Height\": 68.0, \"Part\": \"Tenor1\", \"residual\": -0.904761904761898, \"normal_score\": -0.3678796658204571}, {\"Height\": 67.0, \"Part\": \"Tenor1\", \"residual\": -1.904761904761898, \"normal_score\": -0.7647096737863871}, {\"Height\": 70.0, \"Part\": \"Tenor1\", \"residual\": 1.095238095238102, \"normal_score\": 0.44349545297500625}, {\"Height\": 65.0, \"Part\": \"Tenor1\", \"residual\": -3.904761904761898, \"normal_score\": -1.413845034833694}, {\"Height\": 72.0, \"Part\": \"Tenor1\", \"residual\": 3.095238095238102, \"normal_score\": 1.0853249080767586}, {\"Height\": 70.0, \"Part\": \"Tenor1\", \"residual\": 1.095238095238102, \"normal_score\": 0.44349545297500625}, {\"Height\": 68.0, \"Part\": \"Tenor1\", \"residual\": -0.904761904761898, \"normal_score\": -0.3678796658204571}, {\"Height\": 64.0, \"Part\": \"Tenor1\", \"residual\": -4.904761904761898, \"normal_score\": -1.9926818479586272}, {\"Height\": 73.0, \"Part\": \"Tenor1\", \"residual\": 4.095238095238102, \"normal_score\": 1.4461035929181751}, {\"Height\": 66.0, \"Part\": \"Tenor1\", \"residual\": -2.904761904761898, \"normal_score\": -1.1731373249266586}, {\"Height\": 68.0, \"Part\": \"Tenor1\", \"residual\": -0.904761904761898, \"normal_score\": -0.3678796658204571}, {\"Height\": 67.0, \"Part\": \"Tenor1\", \"residual\": -1.904761904761898, \"normal_score\": -0.7647096737863871}, {\"Height\": 64.0, \"Part\": \"Tenor1\", \"residual\": -4.904761904761898, \"normal_score\": -1.9926818479586272}, {\"Height\": 68.0, \"Part\": \"Tenor2\", \"residual\": -1.904761904761898, \"normal_score\": -0.7647096737863871}, {\"Height\": 73.0, \"Part\": \"Tenor2\", \"residual\": 3.095238095238102, \"normal_score\": 1.0853249080767586}, {\"Height\": 69.0, \"Part\": \"Tenor2\", \"residual\": -0.904761904761898, \"normal_score\": -0.3678796658204571}, {\"Height\": 71.0, \"Part\": \"Tenor2\", \"residual\": 1.095238095238102, \"normal_score\": 0.44349545297500625}, {\"Height\": 69.0, \"Part\": \"Tenor2\", \"residual\": -0.904761904761898, \"normal_score\": -0.3678796658204571}, {\"Height\": 76.0, \"Part\": \"Tenor2\", \"residual\": 6.095238095238102, \"normal_score\": 2.0853555660318293}, {\"Height\": 71.0, \"Part\": \"Tenor2\", \"residual\": 1.095238095238102, \"normal_score\": 0.44349545297500625}, {\"Height\": 69.0, \"Part\": \"Tenor2\", \"residual\": -0.904761904761898, \"normal_score\": -0.3678796658204571}, {\"Height\": 71.0, \"Part\": \"Tenor2\", \"residual\": 1.095238095238102, \"normal_score\": 0.44349545297500625}, {\"Height\": 66.0, \"Part\": \"Tenor2\", \"residual\": -3.904761904761898, \"normal_score\": -1.413845034833694}, {\"Height\": 69.0, \"Part\": \"Tenor2\", \"residual\": -0.904761904761898, \"normal_score\": -0.3678796658204571}, {\"Height\": 71.0, \"Part\": \"Tenor2\", \"residual\": 1.095238095238102, \"normal_score\": 0.44349545297500625}, {\"Height\": 71.0, \"Part\": \"Tenor2\", \"residual\": 1.095238095238102, \"normal_score\": 0.44349545297500625}, {\"Height\": 71.0, \"Part\": \"Tenor2\", \"residual\": 1.095238095238102, \"normal_score\": 0.44349545297500625}, {\"Height\": 69.0, \"Part\": \"Tenor2\", \"residual\": -0.904761904761898, \"normal_score\": -0.3678796658204571}, {\"Height\": 70.0, \"Part\": \"Tenor2\", \"residual\": 0.095238095238102, \"normal_score\": 0.0}, {\"Height\": 69.0, \"Part\": \"Tenor2\", \"residual\": -0.904761904761898, \"normal_score\": -0.3678796658204571}, {\"Height\": 68.0, \"Part\": \"Tenor2\", \"residual\": -1.904761904761898, \"normal_score\": -0.7647096737863871}, {\"Height\": 70.0, \"Part\": \"Tenor2\", \"residual\": 0.095238095238102, \"normal_score\": 0.0}, {\"Height\": 68.0, \"Part\": \"Tenor2\", \"residual\": -1.904761904761898, \"normal_score\": -0.7647096737863871}, {\"Height\": 69.0, \"Part\": \"Tenor2\", \"residual\": -0.904761904761898, \"normal_score\": -0.3678796658204571}, {\"Height\": 72.0, \"Part\": \"Bass1\", \"residual\": 1.2820512820512846, \"normal_score\": 0.631401894239761}, {\"Height\": 70.0, \"Part\": \"Bass1\", \"residual\": -0.7179487179487154, \"normal_score\": -0.1514387426771959}, {\"Height\": 72.0, \"Part\": \"Bass1\", \"residual\": 1.2820512820512846, \"normal_score\": 0.631401894239761}, {\"Height\": 69.0, \"Part\": \"Bass1\", \"residual\": -1.7179487179487154, \"normal_score\": -0.6456307492759821}, {\"Height\": 73.0, \"Part\": \"Bass1\", \"residual\": 2.2820512820512846, \"normal_score\": 0.8284646485811346}, {\"Height\": 71.0, \"Part\": \"Bass1\", \"residual\": 0.2820512820512846, \"normal_score\": 0.10463345561407526}, {\"Height\": 72.0, \"Part\": \"Bass1\", \"residual\": 1.2820512820512846, \"normal_score\": 0.631401894239761}, {\"Height\": 68.0, \"Part\": \"Bass1\", \"residual\": -2.7179487179487154, \"normal_score\": -0.9861203186033465}, {\"Height\": 68.0, \"Part\": \"Bass1\", \"residual\": -2.7179487179487154, \"normal_score\": -0.9861203186033465}, {\"Height\": 71.0, \"Part\": \"Bass1\", \"residual\": 0.2820512820512846, \"normal_score\": 0.10463345561407526}, {\"Height\": 66.0, \"Part\": \"Bass1\", \"residual\": -4.717948717948715, \"normal_score\": -1.731664396122245}, {\"Height\": 68.0, \"Part\": \"Bass1\", \"residual\": -2.7179487179487154, \"normal_score\": -0.9861203186033465}, {\"Height\": 71.0, \"Part\": \"Bass1\", \"residual\": 0.2820512820512846, \"normal_score\": 0.10463345561407526}, {\"Height\": 73.0, \"Part\": \"Bass1\", \"residual\": 2.2820512820512846, \"normal_score\": 0.8284646485811346}, {\"Height\": 73.0, \"Part\": \"Bass1\", \"residual\": 2.2820512820512846, \"normal_score\": 0.8284646485811346}, {\"Height\": 70.0, \"Part\": \"Bass1\", \"residual\": -0.7179487179487154, \"normal_score\": -0.1514387426771959}, {\"Height\": 68.0, \"Part\": \"Bass1\", \"residual\": -2.7179487179487154, \"normal_score\": -0.9861203186033465}, {\"Height\": 70.0, \"Part\": \"Bass1\", \"residual\": -0.7179487179487154, \"normal_score\": -0.1514387426771959}, {\"Height\": 75.0, \"Part\": \"Bass1\", \"residual\": 4.282051282051285, \"normal_score\": 1.6359414022252217}, {\"Height\": 68.0, \"Part\": \"Bass1\", \"residual\": -2.7179487179487154, \"normal_score\": -0.9861203186033465}, {\"Height\": 71.0, \"Part\": \"Bass1\", \"residual\": 0.2820512820512846, \"normal_score\": 0.10463345561407526}, {\"Height\": 70.0, \"Part\": \"Bass1\", \"residual\": -0.7179487179487154, \"normal_score\": -0.1514387426771959}, {\"Height\": 74.0, \"Part\": \"Bass1\", \"residual\": 3.2820512820512846, \"normal_score\": 1.1731373249266586}, {\"Height\": 70.0, \"Part\": \"Bass1\", \"residual\": -0.7179487179487154, \"normal_score\": -0.1514387426771959}, {\"Height\": 75.0, \"Part\": \"Bass1\", \"residual\": 4.282051282051285, \"normal_score\": 1.6359414022252217}, {\"Height\": 75.0, \"Part\": \"Bass1\", \"residual\": 4.282051282051285, \"normal_score\": 1.6359414022252217}, {\"Height\": 69.0, \"Part\": \"Bass1\", \"residual\": -1.7179487179487154, \"normal_score\": -0.6456307492759821}, {\"Height\": 72.0, \"Part\": \"Bass1\", \"residual\": 1.2820512820512846, \"normal_score\": 0.631401894239761}, {\"Height\": 71.0, \"Part\": \"Bass1\", \"residual\": 0.2820512820512846, \"normal_score\": 0.10463345561407526}, {\"Height\": 70.0, \"Part\": \"Bass1\", \"residual\": -0.7179487179487154, \"normal_score\": -0.1514387426771959}, {\"Height\": 71.0, \"Part\": \"Bass1\", \"residual\": 0.2820512820512846, \"normal_score\": 0.10463345561407526}, {\"Height\": 68.0, \"Part\": \"Bass1\", \"residual\": -2.7179487179487154, \"normal_score\": -0.9861203186033465}, {\"Height\": 70.0, \"Part\": \"Bass1\", \"residual\": -0.7179487179487154, \"normal_score\": -0.1514387426771959}, {\"Height\": 75.0, \"Part\": \"Bass1\", \"residual\": 4.282051282051285, \"normal_score\": 1.6359414022252217}, {\"Height\": 72.0, \"Part\": \"Bass1\", \"residual\": 1.2820512820512846, \"normal_score\": 0.631401894239761}, {\"Height\": 66.0, \"Part\": \"Bass1\", \"residual\": -4.717948717948715, \"normal_score\": -1.731664396122245}, {\"Height\": 72.0, \"Part\": \"Bass1\", \"residual\": 1.2820512820512846, \"normal_score\": 0.631401894239761}, {\"Height\": 70.0, \"Part\": \"Bass1\", \"residual\": -0.7179487179487154, \"normal_score\": -0.1514387426771959}, {\"Height\": 69.0, \"Part\": \"Bass1\", \"residual\": -1.7179487179487154, \"normal_score\": -0.6456307492759821}, {\"Height\": 72.0, \"Part\": \"Bass2\", \"residual\": 0.6153846153846132, \"normal_score\": 0.2581433244208951}, {\"Height\": 75.0, \"Part\": \"Bass2\", \"residual\": 3.615384615384613, \"normal_score\": 1.2975429286165543}, {\"Height\": 67.0, \"Part\": \"Bass2\", \"residual\": -4.384615384615387, \"normal_score\": -1.5532208980015312}, {\"Height\": 75.0, \"Part\": \"Bass2\", \"residual\": 3.615384615384613, \"normal_score\": 1.2975429286165543}, {\"Height\": 74.0, \"Part\": \"Bass2\", \"residual\": 2.615384615384613, \"normal_score\": 0.9490550927517118}, {\"Height\": 72.0, \"Part\": \"Bass2\", \"residual\": 0.6153846153846132, \"normal_score\": 0.2581433244208951}, {\"Height\": 72.0, \"Part\": \"Bass2\", \"residual\": 0.6153846153846132, \"normal_score\": 0.2581433244208951}, {\"Height\": 74.0, \"Part\": \"Bass2\", \"residual\": 2.615384615384613, \"normal_score\": 0.9490550927517118}, {\"Height\": 72.0, \"Part\": \"Bass2\", \"residual\": 0.6153846153846132, \"normal_score\": 0.2581433244208951}, {\"Height\": 72.0, \"Part\": \"Bass2\", \"residual\": 0.6153846153846132, \"normal_score\": 0.2581433244208951}, {\"Height\": 74.0, \"Part\": \"Bass2\", \"residual\": 2.615384615384613, \"normal_score\": 0.9490550927517118}, {\"Height\": 70.0, \"Part\": \"Bass2\", \"residual\": -1.3846153846153868, \"normal_score\": -0.5485222826980979}, {\"Height\": 66.0, \"Part\": \"Bass2\", \"residual\": -5.384615384615387, \"normal_score\": -2.355084009493372}, {\"Height\": 68.0, \"Part\": \"Bass2\", \"residual\": -3.384615384615387, \"normal_score\": -1.2975429286165534}, {\"Height\": 75.0, \"Part\": \"Bass2\", \"residual\": 3.615384615384613, \"normal_score\": 1.2975429286165543}, {\"Height\": 68.0, \"Part\": \"Bass2\", \"residual\": -3.384615384615387, \"normal_score\": -1.2975429286165534}, {\"Height\": 70.0, \"Part\": \"Bass2\", \"residual\": -1.3846153846153868, \"normal_score\": -0.5485222826980979}, {\"Height\": 72.0, \"Part\": \"Bass2\", \"residual\": 0.6153846153846132, \"normal_score\": 0.2581433244208951}, {\"Height\": 67.0, \"Part\": \"Bass2\", \"residual\": -4.384615384615387, \"normal_score\": -1.5532208980015312}, {\"Height\": 70.0, \"Part\": \"Bass2\", \"residual\": -1.3846153846153868, \"normal_score\": -0.5485222826980979}, {\"Height\": 70.0, \"Part\": \"Bass2\", \"residual\": -1.3846153846153868, \"normal_score\": -0.5485222826980979}, {\"Height\": 69.0, \"Part\": \"Bass2\", \"residual\": -2.384615384615387, \"normal_score\": -0.8616341201741723}, {\"Height\": 72.0, \"Part\": \"Bass2\", \"residual\": 0.6153846153846132, \"normal_score\": 0.2581433244208951}, {\"Height\": 71.0, \"Part\": \"Bass2\", \"residual\": -0.3846153846153868, \"normal_score\": -0.04643572477052713}, {\"Height\": 74.0, \"Part\": \"Bass2\", \"residual\": 2.615384615384613, \"normal_score\": 0.9490550927517118}, {\"Height\": 75.0, \"Part\": \"Bass2\", \"residual\": 3.615384615384613, \"normal_score\": 1.2975429286165543}]}}, {\"mode\": \"vega-lite\"});\n",
       "</script>"
      ],
      "text/plain": [
       "alt.HConcatChart(...)"
      ]
     },
     "execution_count": 36,
     "metadata": {},
     "output_type": "execute_result"
    }
   ],
   "source": [
    "chart_base = (\n",
    "    alt.Chart(\n",
    "        DATA['12.6']\n",
    "        .with_columns(\n",
    "            residual=col('Height') - col('Height').mean().over('Part'))\n",
    "        .with_columns(\n",
    "            normal_score=(col('residual').rank() / (pl.len() + 1)).map_batches(\n",
    "                lambda x: stats.norm.ppf(x))))\n",
    "    .mark_circle())\n",
    "\n",
    "(\n",
    "    chart_base.encode(\n",
    "        alt.X('Part').axis(labelAngle=0).title(None),\n",
    "        alt.Y('residual'))\n",
    "    .properties(width=200)\n",
    "    | chart_base.encode(\n",
    "        alt.X('residual'), \n",
    "        alt.Y('normal_score'))\n",
    ")"
   ]
  },
  {
   "cell_type": "markdown",
   "id": "7eb68c3e-4366-4610-9d12-fa43cb134e6b",
   "metadata": {},
   "source": [
    "From the charts: the variances are roughly consistent across different vocal parts. The residuals are fairly normally distributed, too."
   ]
  },
  {
   "cell_type": "markdown",
   "id": "1060e2e8-f409-4b8f-b1c0-ac8be7b6ed4e",
   "metadata": {},
   "source": [
    "### 7."
   ]
  },
  {
   "cell_type": "code",
   "execution_count": 37,
   "id": "9815cd64-7c18-42b0-b148-ae9ceb2d9ae6",
   "metadata": {},
   "outputs": [
    {
     "data": {
      "text/html": [
       "<div><style>\n",
       ".dataframe > thead > tr,\n",
       ".dataframe > tbody > tr {\n",
       "  text-align: right;\n",
       "  white-space: pre-wrap;\n",
       "}\n",
       "</style>\n",
       "<small>shape: (5, 3)</small><table border=\"1\" class=\"dataframe\"><thead><tr><th>WtPre</th><th>WtDif</th><th>Group</th></tr><tr><td>f64</td><td>f64</td><td>str</td></tr></thead><tbody><tr><td>80.5</td><td>1.7</td><td>&quot;Behavior&quot;</td></tr><tr><td>84.9</td><td>0.7</td><td>&quot;Behavior&quot;</td></tr><tr><td>81.5</td><td>-0.1</td><td>&quot;Behavior&quot;</td></tr><tr><td>82.6</td><td>-0.7</td><td>&quot;Behavior&quot;</td></tr><tr><td>79.9</td><td>-3.5</td><td>&quot;Behavior&quot;</td></tr></tbody></table></div>"
      ],
      "text/plain": [
       "shape: (5, 3)\n",
       "┌───────┬───────┬──────────┐\n",
       "│ WtPre ┆ WtDif ┆ Group    │\n",
       "│ ---   ┆ ---   ┆ ---      │\n",
       "│ f64   ┆ f64   ┆ str      │\n",
       "╞═══════╪═══════╪══════════╡\n",
       "│ 80.5  ┆ 1.7   ┆ Behavior │\n",
       "│ 84.9  ┆ 0.7   ┆ Behavior │\n",
       "│ 81.5  ┆ -0.1  ┆ Behavior │\n",
       "│ 82.6  ┆ -0.7  ┆ Behavior │\n",
       "│ 79.9  ┆ -3.5  ┆ Behavior │\n",
       "└───────┴───────┴──────────┘"
      ]
     },
     "execution_count": 37,
     "metadata": {},
     "output_type": "execute_result"
    }
   ],
   "source": [
    "DATA['12.7'] = pl.read_json('Ex12-7.json').explode(pl.all())\n",
    "DATA['12.7'].head()"
   ]
  },
  {
   "cell_type": "markdown",
   "id": "323ad1c7-dd05-4217-a567-d54dee2ddbf3",
   "metadata": {},
   "source": [
    "#### (a)"
   ]
  },
  {
   "cell_type": "code",
   "execution_count": 38,
   "id": "787b3752-c4bb-470c-9b0a-1289df7c333b",
   "metadata": {},
   "outputs": [
    {
     "data": {
      "text/html": [
       "\n",
       "<style>\n",
       "  #altair-viz-873cc485bbfc4b4d9800726b12f415ba.vega-embed {\n",
       "    width: 100%;\n",
       "    display: flex;\n",
       "  }\n",
       "\n",
       "  #altair-viz-873cc485bbfc4b4d9800726b12f415ba.vega-embed details,\n",
       "  #altair-viz-873cc485bbfc4b4d9800726b12f415ba.vega-embed details summary {\n",
       "    position: relative;\n",
       "  }\n",
       "</style>\n",
       "<div id=\"altair-viz-873cc485bbfc4b4d9800726b12f415ba\"></div>\n",
       "<script type=\"text/javascript\">\n",
       "  var VEGA_DEBUG = (typeof VEGA_DEBUG == \"undefined\") ? {} : VEGA_DEBUG;\n",
       "  (function(spec, embedOpt){\n",
       "    let outputDiv = document.currentScript.previousElementSibling;\n",
       "    if (outputDiv.id !== \"altair-viz-873cc485bbfc4b4d9800726b12f415ba\") {\n",
       "      outputDiv = document.getElementById(\"altair-viz-873cc485bbfc4b4d9800726b12f415ba\");\n",
       "    }\n",
       "    const paths = {\n",
       "      \"vega\": \"https://cdn.jsdelivr.net/npm/vega@5?noext\",\n",
       "      \"vega-lib\": \"https://cdn.jsdelivr.net/npm/vega-lib?noext\",\n",
       "      \"vega-lite\": \"https://cdn.jsdelivr.net/npm/vega-lite@5.16.3?noext\",\n",
       "      \"vega-embed\": \"https://cdn.jsdelivr.net/npm/vega-embed@6?noext\",\n",
       "    };\n",
       "\n",
       "    function maybeLoadScript(lib, version) {\n",
       "      var key = `${lib.replace(\"-\", \"\")}_version`;\n",
       "      return (VEGA_DEBUG[key] == version) ?\n",
       "        Promise.resolve(paths[lib]) :\n",
       "        new Promise(function(resolve, reject) {\n",
       "          var s = document.createElement('script');\n",
       "          document.getElementsByTagName(\"head\")[0].appendChild(s);\n",
       "          s.async = true;\n",
       "          s.onload = () => {\n",
       "            VEGA_DEBUG[key] = version;\n",
       "            return resolve(paths[lib]);\n",
       "          };\n",
       "          s.onerror = () => reject(`Error loading script: ${paths[lib]}`);\n",
       "          s.src = paths[lib];\n",
       "        });\n",
       "    }\n",
       "\n",
       "    function showError(err) {\n",
       "      outputDiv.innerHTML = `<div class=\"error\" style=\"color:red;\">${err}</div>`;\n",
       "      throw err;\n",
       "    }\n",
       "\n",
       "    function displayChart(vegaEmbed) {\n",
       "      vegaEmbed(outputDiv, spec, embedOpt)\n",
       "        .catch(err => showError(`Javascript Error: ${err.message}<br>This usually means there's a typo in your chart specification. See the javascript console for the full traceback.`));\n",
       "    }\n",
       "\n",
       "    if(typeof define === \"function\" && define.amd) {\n",
       "      requirejs.config({paths});\n",
       "      require([\"vega-embed\"], displayChart, err => showError(`Error loading script: ${err.message}`));\n",
       "    } else {\n",
       "      maybeLoadScript(\"vega\", \"5\")\n",
       "        .then(() => maybeLoadScript(\"vega-lite\", \"5.16.3\"))\n",
       "        .then(() => maybeLoadScript(\"vega-embed\", \"6\"))\n",
       "        .catch(showError)\n",
       "        .then(() => displayChart(vegaEmbed));\n",
       "    }\n",
       "  })({\"config\": {\"view\": {\"continuousWidth\": 300, \"continuousHeight\": 300}}, \"data\": {\"name\": \"data-8c063309f22b2f308bb41769a87aae18\"}, \"mark\": {\"type\": \"boxplot\"}, \"encoding\": {\"x\": {\"field\": \"WtPre\", \"scale\": {\"zero\": false}, \"title\": \"weight before treatment\", \"type\": \"quantitative\"}, \"y\": {\"field\": \"Group\", \"type\": \"nominal\"}}, \"$schema\": \"https://vega.github.io/schema/vega-lite/v5.16.3.json\", \"datasets\": {\"data-8c063309f22b2f308bb41769a87aae18\": [{\"WtPre\": 80.5, \"WtDif\": 1.7, \"Group\": \"Behavior\"}, {\"WtPre\": 84.9, \"WtDif\": 0.7, \"Group\": \"Behavior\"}, {\"WtPre\": 81.5, \"WtDif\": -0.1, \"Group\": \"Behavior\"}, {\"WtPre\": 82.6, \"WtDif\": -0.7, \"Group\": \"Behavior\"}, {\"WtPre\": 79.9, \"WtDif\": -3.5, \"Group\": \"Behavior\"}, {\"WtPre\": 88.7, \"WtDif\": 14.9, \"Group\": \"Behavior\"}, {\"WtPre\": 94.9, \"WtDif\": 3.5, \"Group\": \"Behavior\"}, {\"WtPre\": 76.3, \"WtDif\": 17.1, \"Group\": \"Behavior\"}, {\"WtPre\": 81.0, \"WtDif\": -7.6, \"Group\": \"Behavior\"}, {\"WtPre\": 80.5, \"WtDif\": 1.6, \"Group\": \"Behavior\"}, {\"WtPre\": 85.0, \"WtDif\": 11.7, \"Group\": \"Behavior\"}, {\"WtPre\": 89.2, \"WtDif\": 6.1, \"Group\": \"Behavior\"}, {\"WtPre\": 81.3, \"WtDif\": 1.1, \"Group\": \"Behavior\"}, {\"WtPre\": 76.5, \"WtDif\": -4.0, \"Group\": \"Behavior\"}, {\"WtPre\": 70.0, \"WtDif\": 20.9, \"Group\": \"Behavior\"}, {\"WtPre\": 80.4, \"WtDif\": -9.1, \"Group\": \"Behavior\"}, {\"WtPre\": 83.3, \"WtDif\": 2.1, \"Group\": \"Behavior\"}, {\"WtPre\": 80.7, \"WtDif\": -0.5, \"Group\": \"Control\"}, {\"WtPre\": 89.4, \"WtDif\": -9.3, \"Group\": \"Control\"}, {\"WtPre\": 91.8, \"WtDif\": -5.4, \"Group\": \"Control\"}, {\"WtPre\": 74.0, \"WtDif\": 12.3, \"Group\": \"Control\"}, {\"WtPre\": 78.1, \"WtDif\": -2.0, \"Group\": \"Control\"}, {\"WtPre\": 88.3, \"WtDif\": -10.2, \"Group\": \"Control\"}, {\"WtPre\": 87.3, \"WtDif\": -12.2, \"Group\": \"Control\"}, {\"WtPre\": 75.1, \"WtDif\": 11.6, \"Group\": \"Control\"}, {\"WtPre\": 80.6, \"WtDif\": -7.1, \"Group\": \"Control\"}, {\"WtPre\": 78.4, \"WtDif\": 6.2, \"Group\": \"Control\"}, {\"WtPre\": 77.6, \"WtDif\": -0.2, \"Group\": \"Control\"}, {\"WtPre\": 88.7, \"WtDif\": -9.2, \"Group\": \"Control\"}, {\"WtPre\": 81.3, \"WtDif\": 8.3, \"Group\": \"Control\"}, {\"WtPre\": 78.1, \"WtDif\": 3.3, \"Group\": \"Control\"}, {\"WtPre\": 70.5, \"WtDif\": 11.3, \"Group\": \"Control\"}, {\"WtPre\": 77.3, \"WtDif\": 0.0, \"Group\": \"Control\"}, {\"WtPre\": 85.2, \"WtDif\": -1.0, \"Group\": \"Control\"}, {\"WtPre\": 83.8, \"WtDif\": 11.4, \"Group\": \"Family\"}, {\"WtPre\": 83.3, \"WtDif\": 11.0, \"Group\": \"Family\"}, {\"WtPre\": 86.0, \"WtDif\": 5.5, \"Group\": \"Family\"}, {\"WtPre\": 82.5, \"WtDif\": 9.4, \"Group\": \"Family\"}, {\"WtPre\": 86.7, \"WtDif\": 13.6, \"Group\": \"Family\"}, {\"WtPre\": 79.6, \"WtDif\": -2.9, \"Group\": \"Family\"}, {\"WtPre\": 76.9, \"WtDif\": -0.1, \"Group\": \"Family\"}, {\"WtPre\": 94.2, \"WtDif\": 7.4, \"Group\": \"Family\"}, {\"WtPre\": 73.4, \"WtDif\": 21.5, \"Group\": \"Family\"}, {\"WtPre\": 80.5, \"WtDif\": -5.3, \"Group\": \"Family\"}, {\"WtPre\": 81.6, \"WtDif\": -3.8, \"Group\": \"Family\"}, {\"WtPre\": 82.1, \"WtDif\": 13.4, \"Group\": \"Family\"}, {\"WtPre\": 77.6, \"WtDif\": 13.1, \"Group\": \"Family\"}, {\"WtPre\": 83.5, \"WtDif\": 9.0, \"Group\": \"Family\"}, {\"WtPre\": 89.9, \"WtDif\": 3.9, \"Group\": \"Family\"}, {\"WtPre\": 86.0, \"WtDif\": 5.7, \"Group\": \"Family\"}, {\"WtPre\": 87.3, \"WtDif\": 10.7, \"Group\": \"Family\"}]}}, {\"mode\": \"vega-lite\"});\n",
       "</script>"
      ],
      "text/plain": [
       "alt.Chart(...)"
      ]
     },
     "execution_count": 38,
     "metadata": {},
     "output_type": "execute_result"
    }
   ],
   "source": [
    "(\n",
    "    alt.Chart(DATA['12.7'])\n",
    "    .mark_boxplot()\n",
    "    .encode(\n",
    "        alt.Y('Group'),\n",
    "        alt.X('WtPre').scale(zero=False).title('weight before treatment'))\n",
    ")"
   ]
  },
  {
   "cell_type": "markdown",
   "id": "6ac0da31-3f21-4829-9899-17380f218b55",
   "metadata": {},
   "source": [
    "No obvious differences in weights among the 3 groups."
   ]
  },
  {
   "cell_type": "markdown",
   "id": "fe68319a-ed85-494c-bb0f-c6bc8a0407b0",
   "metadata": {},
   "source": [
    "#### (b)"
   ]
  },
  {
   "cell_type": "code",
   "execution_count": 39,
   "id": "3dd31dd1-dc06-4d9a-985b-f5f200f3ec71",
   "metadata": {},
   "outputs": [
    {
     "data": {
      "text/html": [
       "<div><style>\n",
       ".dataframe > thead > tr,\n",
       ".dataframe > tbody > tr {\n",
       "  text-align: right;\n",
       "  white-space: pre-wrap;\n",
       "}\n",
       "</style>\n",
       "<small>shape: (3, 6)</small><table border=\"1\" class=\"dataframe\"><thead><tr><th>dataset</th><th>source</th><th>SS</th><th>dof</th><th>MS</th><th>F</th></tr><tr><td>str</td><td>str</td><td>f64</td><td>u32</td><td>f64</td><td>f64</td></tr></thead><tbody><tr><td>&quot;&quot;</td><td>&quot;treatment&quot;</td><td>31.247451</td><td>2</td><td>15.623725</td><td>0.498801</td></tr><tr><td>&quot;&quot;</td><td>&quot;error&quot;</td><td>1503.482353</td><td>48</td><td>31.322549</td><td>null</td></tr><tr><td>&quot;&quot;</td><td>&quot;total&quot;</td><td>1534.729804</td><td>50</td><td>null</td><td>null</td></tr></tbody></table></div>"
      ],
      "text/plain": [
       "shape: (3, 6)\n",
       "┌─────────┬───────────┬─────────────┬─────┬───────────┬──────────┐\n",
       "│ dataset ┆ source    ┆ SS          ┆ dof ┆ MS        ┆ F        │\n",
       "│ ---     ┆ ---       ┆ ---         ┆ --- ┆ ---       ┆ ---      │\n",
       "│ str     ┆ str       ┆ f64         ┆ u32 ┆ f64       ┆ f64      │\n",
       "╞═════════╪═══════════╪═════════════╪═════╪═══════════╪══════════╡\n",
       "│         ┆ treatment ┆ 31.247451   ┆ 2   ┆ 15.623725 ┆ 0.498801 │\n",
       "│         ┆ error     ┆ 1503.482353 ┆ 48  ┆ 31.322549 ┆ null     │\n",
       "│         ┆ total     ┆ 1534.729804 ┆ 50  ┆ null      ┆ null     │\n",
       "└─────────┴───────────┴─────────────┴─────┴───────────┴──────────┘"
      ]
     },
     "execution_count": 39,
     "metadata": {},
     "output_type": "execute_result"
    }
   ],
   "source": [
    "DATA['12.7 - pre'] = (\n",
    "    DATA['12.7']\n",
    "    .group_by('Group')\n",
    "    .agg(\n",
    "        n=pl.len(),\n",
    "        μ=col('WtPre').mean(),\n",
    "        s=col('WtPre').std())\n",
    "    .with_columns(dataset=pl.lit('')))\n",
    "\n",
    "ANS['12.7.b'] = ANOVA(DATA['12.7 - pre'])\n",
    "ANS['12.7.b']"
   ]
  },
  {
   "cell_type": "markdown",
   "id": "798ab039-3722-46d8-9a70-5fe441908e8c",
   "metadata": {},
   "source": [
    "The p value is"
   ]
  },
  {
   "cell_type": "code",
   "execution_count": 40,
   "id": "76c7e2b7-4f7b-4ae0-8926-dbfa4c65731f",
   "metadata": {},
   "outputs": [
    {
     "data": {
      "text/plain": [
       "0.6103708574101225"
      ]
     },
     "execution_count": 40,
     "metadata": {},
     "output_type": "execute_result"
    }
   ],
   "source": [
    "stats.f(2, 48).sf(ANS['12.7.b'].item(0, 'F'))"
   ]
  },
  {
   "cell_type": "markdown",
   "id": "a9a55d0e-2ecf-4b49-9469-2d0f3d08129b",
   "metadata": {},
   "source": [
    "p > α = 0.05, so there are no significant weight differences among the 3 treatment groups."
   ]
  },
  {
   "cell_type": "markdown",
   "id": "cca400e9-93d8-4a53-8d82-245ec95fcdf6",
   "metadata": {},
   "source": [
    "#### (c)"
   ]
  },
  {
   "cell_type": "code",
   "execution_count": 41,
   "id": "90b933e5-40d4-4a13-95d9-bb974ba9a01c",
   "metadata": {},
   "outputs": [
    {
     "data": {
      "text/html": [
       "\n",
       "<style>\n",
       "  #altair-viz-621cbd623d134a7ab2d49d021dbb42e0.vega-embed {\n",
       "    width: 100%;\n",
       "    display: flex;\n",
       "  }\n",
       "\n",
       "  #altair-viz-621cbd623d134a7ab2d49d021dbb42e0.vega-embed details,\n",
       "  #altair-viz-621cbd623d134a7ab2d49d021dbb42e0.vega-embed details summary {\n",
       "    position: relative;\n",
       "  }\n",
       "</style>\n",
       "<div id=\"altair-viz-621cbd623d134a7ab2d49d021dbb42e0\"></div>\n",
       "<script type=\"text/javascript\">\n",
       "  var VEGA_DEBUG = (typeof VEGA_DEBUG == \"undefined\") ? {} : VEGA_DEBUG;\n",
       "  (function(spec, embedOpt){\n",
       "    let outputDiv = document.currentScript.previousElementSibling;\n",
       "    if (outputDiv.id !== \"altair-viz-621cbd623d134a7ab2d49d021dbb42e0\") {\n",
       "      outputDiv = document.getElementById(\"altair-viz-621cbd623d134a7ab2d49d021dbb42e0\");\n",
       "    }\n",
       "    const paths = {\n",
       "      \"vega\": \"https://cdn.jsdelivr.net/npm/vega@5?noext\",\n",
       "      \"vega-lib\": \"https://cdn.jsdelivr.net/npm/vega-lib?noext\",\n",
       "      \"vega-lite\": \"https://cdn.jsdelivr.net/npm/vega-lite@5.16.3?noext\",\n",
       "      \"vega-embed\": \"https://cdn.jsdelivr.net/npm/vega-embed@6?noext\",\n",
       "    };\n",
       "\n",
       "    function maybeLoadScript(lib, version) {\n",
       "      var key = `${lib.replace(\"-\", \"\")}_version`;\n",
       "      return (VEGA_DEBUG[key] == version) ?\n",
       "        Promise.resolve(paths[lib]) :\n",
       "        new Promise(function(resolve, reject) {\n",
       "          var s = document.createElement('script');\n",
       "          document.getElementsByTagName(\"head\")[0].appendChild(s);\n",
       "          s.async = true;\n",
       "          s.onload = () => {\n",
       "            VEGA_DEBUG[key] = version;\n",
       "            return resolve(paths[lib]);\n",
       "          };\n",
       "          s.onerror = () => reject(`Error loading script: ${paths[lib]}`);\n",
       "          s.src = paths[lib];\n",
       "        });\n",
       "    }\n",
       "\n",
       "    function showError(err) {\n",
       "      outputDiv.innerHTML = `<div class=\"error\" style=\"color:red;\">${err}</div>`;\n",
       "      throw err;\n",
       "    }\n",
       "\n",
       "    function displayChart(vegaEmbed) {\n",
       "      vegaEmbed(outputDiv, spec, embedOpt)\n",
       "        .catch(err => showError(`Javascript Error: ${err.message}<br>This usually means there's a typo in your chart specification. See the javascript console for the full traceback.`));\n",
       "    }\n",
       "\n",
       "    if(typeof define === \"function\" && define.amd) {\n",
       "      requirejs.config({paths});\n",
       "      require([\"vega-embed\"], displayChart, err => showError(`Error loading script: ${err.message}`));\n",
       "    } else {\n",
       "      maybeLoadScript(\"vega\", \"5\")\n",
       "        .then(() => maybeLoadScript(\"vega-lite\", \"5.16.3\"))\n",
       "        .then(() => maybeLoadScript(\"vega-embed\", \"6\"))\n",
       "        .catch(showError)\n",
       "        .then(() => displayChart(vegaEmbed));\n",
       "    }\n",
       "  })({\"config\": {\"view\": {\"continuousWidth\": 300, \"continuousHeight\": 300}}, \"data\": {\"name\": \"data-8c063309f22b2f308bb41769a87aae18\"}, \"mark\": {\"type\": \"boxplot\"}, \"encoding\": {\"x\": {\"field\": \"WtDif\", \"scale\": {\"zero\": true}, \"title\": \"weight gain\", \"type\": \"quantitative\"}, \"y\": {\"field\": \"Group\", \"type\": \"nominal\"}}, \"$schema\": \"https://vega.github.io/schema/vega-lite/v5.16.3.json\", \"datasets\": {\"data-8c063309f22b2f308bb41769a87aae18\": [{\"WtPre\": 80.5, \"WtDif\": 1.7, \"Group\": \"Behavior\"}, {\"WtPre\": 84.9, \"WtDif\": 0.7, \"Group\": \"Behavior\"}, {\"WtPre\": 81.5, \"WtDif\": -0.1, \"Group\": \"Behavior\"}, {\"WtPre\": 82.6, \"WtDif\": -0.7, \"Group\": \"Behavior\"}, {\"WtPre\": 79.9, \"WtDif\": -3.5, \"Group\": \"Behavior\"}, {\"WtPre\": 88.7, \"WtDif\": 14.9, \"Group\": \"Behavior\"}, {\"WtPre\": 94.9, \"WtDif\": 3.5, \"Group\": \"Behavior\"}, {\"WtPre\": 76.3, \"WtDif\": 17.1, \"Group\": \"Behavior\"}, {\"WtPre\": 81.0, \"WtDif\": -7.6, \"Group\": \"Behavior\"}, {\"WtPre\": 80.5, \"WtDif\": 1.6, \"Group\": \"Behavior\"}, {\"WtPre\": 85.0, \"WtDif\": 11.7, \"Group\": \"Behavior\"}, {\"WtPre\": 89.2, \"WtDif\": 6.1, \"Group\": \"Behavior\"}, {\"WtPre\": 81.3, \"WtDif\": 1.1, \"Group\": \"Behavior\"}, {\"WtPre\": 76.5, \"WtDif\": -4.0, \"Group\": \"Behavior\"}, {\"WtPre\": 70.0, \"WtDif\": 20.9, \"Group\": \"Behavior\"}, {\"WtPre\": 80.4, \"WtDif\": -9.1, \"Group\": \"Behavior\"}, {\"WtPre\": 83.3, \"WtDif\": 2.1, \"Group\": \"Behavior\"}, {\"WtPre\": 80.7, \"WtDif\": -0.5, \"Group\": \"Control\"}, {\"WtPre\": 89.4, \"WtDif\": -9.3, \"Group\": \"Control\"}, {\"WtPre\": 91.8, \"WtDif\": -5.4, \"Group\": \"Control\"}, {\"WtPre\": 74.0, \"WtDif\": 12.3, \"Group\": \"Control\"}, {\"WtPre\": 78.1, \"WtDif\": -2.0, \"Group\": \"Control\"}, {\"WtPre\": 88.3, \"WtDif\": -10.2, \"Group\": \"Control\"}, {\"WtPre\": 87.3, \"WtDif\": -12.2, \"Group\": \"Control\"}, {\"WtPre\": 75.1, \"WtDif\": 11.6, \"Group\": \"Control\"}, {\"WtPre\": 80.6, \"WtDif\": -7.1, \"Group\": \"Control\"}, {\"WtPre\": 78.4, \"WtDif\": 6.2, \"Group\": \"Control\"}, {\"WtPre\": 77.6, \"WtDif\": -0.2, \"Group\": \"Control\"}, {\"WtPre\": 88.7, \"WtDif\": -9.2, \"Group\": \"Control\"}, {\"WtPre\": 81.3, \"WtDif\": 8.3, \"Group\": \"Control\"}, {\"WtPre\": 78.1, \"WtDif\": 3.3, \"Group\": \"Control\"}, {\"WtPre\": 70.5, \"WtDif\": 11.3, \"Group\": \"Control\"}, {\"WtPre\": 77.3, \"WtDif\": 0.0, \"Group\": \"Control\"}, {\"WtPre\": 85.2, \"WtDif\": -1.0, \"Group\": \"Control\"}, {\"WtPre\": 83.8, \"WtDif\": 11.4, \"Group\": \"Family\"}, {\"WtPre\": 83.3, \"WtDif\": 11.0, \"Group\": \"Family\"}, {\"WtPre\": 86.0, \"WtDif\": 5.5, \"Group\": \"Family\"}, {\"WtPre\": 82.5, \"WtDif\": 9.4, \"Group\": \"Family\"}, {\"WtPre\": 86.7, \"WtDif\": 13.6, \"Group\": \"Family\"}, {\"WtPre\": 79.6, \"WtDif\": -2.9, \"Group\": \"Family\"}, {\"WtPre\": 76.9, \"WtDif\": -0.1, \"Group\": \"Family\"}, {\"WtPre\": 94.2, \"WtDif\": 7.4, \"Group\": \"Family\"}, {\"WtPre\": 73.4, \"WtDif\": 21.5, \"Group\": \"Family\"}, {\"WtPre\": 80.5, \"WtDif\": -5.3, \"Group\": \"Family\"}, {\"WtPre\": 81.6, \"WtDif\": -3.8, \"Group\": \"Family\"}, {\"WtPre\": 82.1, \"WtDif\": 13.4, \"Group\": \"Family\"}, {\"WtPre\": 77.6, \"WtDif\": 13.1, \"Group\": \"Family\"}, {\"WtPre\": 83.5, \"WtDif\": 9.0, \"Group\": \"Family\"}, {\"WtPre\": 89.9, \"WtDif\": 3.9, \"Group\": \"Family\"}, {\"WtPre\": 86.0, \"WtDif\": 5.7, \"Group\": \"Family\"}, {\"WtPre\": 87.3, \"WtDif\": 10.7, \"Group\": \"Family\"}]}}, {\"mode\": \"vega-lite\"});\n",
       "</script>"
      ],
      "text/plain": [
       "alt.Chart(...)"
      ]
     },
     "execution_count": 41,
     "metadata": {},
     "output_type": "execute_result"
    }
   ],
   "source": [
    "(\n",
    "    alt.Chart(DATA['12.7'])\n",
    "    .mark_boxplot()\n",
    "    .encode(\n",
    "        alt.Y('Group'),\n",
    "        alt.X('WtDif').scale(zero=True).title('weight gain'))\n",
    ")"
   ]
  },
  {
   "cell_type": "markdown",
   "id": "4ec4bec9-5d4d-4b25-b94c-70387c9e44e9",
   "metadata": {},
   "source": [
    "The family treatment group seems to have made the most weight gains among the 3 groups. The behavior group is slightly better than the control."
   ]
  },
  {
   "cell_type": "markdown",
   "id": "a6d3bed5-5c71-4833-a975-a13033816b45",
   "metadata": {},
   "source": [
    "#### (d)"
   ]
  },
  {
   "cell_type": "code",
   "execution_count": 42,
   "id": "94be353b-3813-41c6-a3e2-8c44192ebb8b",
   "metadata": {},
   "outputs": [
    {
     "data": {
      "text/html": [
       "<div><style>\n",
       ".dataframe > thead > tr,\n",
       ".dataframe > tbody > tr {\n",
       "  text-align: right;\n",
       "  white-space: pre-wrap;\n",
       "}\n",
       "</style>\n",
       "<small>shape: (3, 6)</small><table border=\"1\" class=\"dataframe\"><thead><tr><th>dataset</th><th>source</th><th>SS</th><th>dof</th><th>MS</th><th>F</th></tr><tr><td>str</td><td>str</td><td>f64</td><td>u32</td><td>f64</td><td>f64</td></tr></thead><tbody><tr><td>&quot;&quot;</td><td>&quot;treatment&quot;</td><td>479.302353</td><td>2</td><td>239.651176</td><td>3.846414</td></tr><tr><td>&quot;&quot;</td><td>&quot;error&quot;</td><td>2990.644706</td><td>48</td><td>62.305098</td><td>null</td></tr><tr><td>&quot;&quot;</td><td>&quot;total&quot;</td><td>3469.947059</td><td>50</td><td>null</td><td>null</td></tr></tbody></table></div>"
      ],
      "text/plain": [
       "shape: (3, 6)\n",
       "┌─────────┬───────────┬─────────────┬─────┬────────────┬──────────┐\n",
       "│ dataset ┆ source    ┆ SS          ┆ dof ┆ MS         ┆ F        │\n",
       "│ ---     ┆ ---       ┆ ---         ┆ --- ┆ ---        ┆ ---      │\n",
       "│ str     ┆ str       ┆ f64         ┆ u32 ┆ f64        ┆ f64      │\n",
       "╞═════════╪═══════════╪═════════════╪═════╪════════════╪══════════╡\n",
       "│         ┆ treatment ┆ 479.302353  ┆ 2   ┆ 239.651176 ┆ 3.846414 │\n",
       "│         ┆ error     ┆ 2990.644706 ┆ 48  ┆ 62.305098  ┆ null     │\n",
       "│         ┆ total     ┆ 3469.947059 ┆ 50  ┆ null       ┆ null     │\n",
       "└─────────┴───────────┴─────────────┴─────┴────────────┴──────────┘"
      ]
     },
     "execution_count": 42,
     "metadata": {},
     "output_type": "execute_result"
    }
   ],
   "source": [
    "DATA['12.7 - dif'] = (\n",
    "    DATA['12.7']\n",
    "    .group_by('Group')\n",
    "    .agg(\n",
    "        n=pl.len(),\n",
    "        μ=col('WtDif').mean(),\n",
    "        s=col('WtDif').std())\n",
    "    .with_columns(dataset=pl.lit('')))\n",
    "\n",
    "ANS['12.7.d'] = ANOVA(DATA['12.7 - dif'])\n",
    "ANS['12.7.d']"
   ]
  },
  {
   "cell_type": "markdown",
   "id": "cda0b3bf-dfd6-4d5f-ae15-d37e1fee0ca2",
   "metadata": {},
   "source": [
    "The p value is"
   ]
  },
  {
   "cell_type": "code",
   "execution_count": 43,
   "id": "2943a5be-a8f5-4ff0-b8eb-b6bcce985d2c",
   "metadata": {},
   "outputs": [
    {
     "data": {
      "text/plain": [
       "0.02822327034132448"
      ]
     },
     "execution_count": 43,
     "metadata": {},
     "output_type": "execute_result"
    }
   ],
   "source": [
    "stats.f(2, 48).sf(ANS['12.7.d'].item(0, 'F'))"
   ]
  },
  {
   "cell_type": "markdown",
   "id": "156dd52f-ba6b-4c9c-a59b-d7a72351d411",
   "metadata": {},
   "source": [
    "Since p < α = 0.05, there are significant differences in weight gains among the 3 treatment groups. These differences will not be significant at the 0.01 confidence level, however."
   ]
  },
  {
   "cell_type": "markdown",
   "id": "bbe3cd80-2726-4563-8d16-3087f323dcf9",
   "metadata": {},
   "source": [
    "## 12.2 Multiple Comparisons of Means"
   ]
  },
  {
   "cell_type": "code",
   "execution_count": 44,
   "id": "2959d35d-1f83-4d09-a0d2-b9289018ad10",
   "metadata": {},
   "outputs": [],
   "source": [
    "def pairwise_comparison(\n",
    "    data: pl.DataFrame,\n",
    "    α: float=0.05,\n",
    "    method: str|list[str]='tukey'\n",
    ") -> pl.DataFrame:\n",
    "    \"\"\" \n",
    "    returns pairwise comparison results of data as a DataFrame.\n",
    "\n",
    "    input columns:\n",
    "    - dataset: string id of dataset\n",
    "    - group: distinct for different treatment groups\n",
    "    - n: group size\n",
    "    - μ: group mean\n",
    "    - s: group standard deviation\n",
    "\n",
    "    output columns:\n",
    "    - dataset\n",
    "    - pair: the pair of groups to be compared\n",
    "    - μ_diff: difference between group means\n",
    "    - followed by CIs for each method requested\n",
    "    \"\"\"\n",
    "    def ci(μ, crit, se):\n",
    "        return pl.concat_list(μ - crit*se, μ + crit*se)\n",
    "\n",
    "    # critical values calculation by comparison methods\n",
    "    crit = {\n",
    "        'lsd': col('dof').map_batches(lambda dof: stats.t.ppf(1-α/2, df=dof)),\n",
    "        'bonferroni': (\n",
    "            pl.struct(col('dof'), col('pairs'))\n",
    "            .map_batches(lambda x:\n",
    "                stats.t.ppf(\n",
    "                    q=1-α/2/x.struct.field('pairs'), \n",
    "                    df=x.struct.field('dof')))),\n",
    "        'tukey': (\n",
    "            pl.struct(col('dof'), col('n_groups'))\n",
    "            .map_batches(lambda x: \n",
    "                stats.studentized_range.ppf(\n",
    "                    q=1-α, \n",
    "                    k=x.struct.field('n_groups'), \n",
    "                    df=x.struct.field('dof'))) \n",
    "            / np.sqrt(2))}\n",
    "\n",
    "    if isinstance(method, str):\n",
    "        method = [method]\n",
    "\n",
    "    return (\n",
    "        data\n",
    "        .with_columns(\n",
    "            n_total=col('n').sum().over('dataset'),\n",
    "            n_groups=pl.len().over('dataset'),\n",
    "            s_pool=((col('s')**2 * (col('n')-1)).sum() / (col('n') - 1).sum()).sqrt().over('dataset'))\n",
    "        .join(data, on='dataset')\n",
    "        .filter(col('group') < col('group_right'))\n",
    "        .with_columns(\n",
    "            μ_diff = col('μ') - col('μ_right'),\n",
    "            dof = col('n_total') - col('n_groups'),\n",
    "            pairs = col('n_groups') * (col('n_groups') - 1) / 2,\n",
    "            se = col('s_pool') * (1 / col('n') + 1 / col('n_right')).sqrt())\n",
    "        .select(\n",
    "            'dataset',\n",
    "            pl.concat_list(col('group'), col('group_right')).alias('pair'),\n",
    "            'μ_diff',\n",
    "            *[ci(col('μ_diff'), crit.get(m), col('se')).alias(m) for m in set(method)]))"
   ]
  },
  {
   "cell_type": "code",
   "execution_count": 45,
   "id": "6caa8952-2347-434b-ab7d-a256ba9692c9",
   "metadata": {
    "scrolled": true
   },
   "outputs": [],
   "source": [
    "def stepwise_comparison(\n",
    "    data: pl.DataFrame, \n",
    "    α: float=0.05, \n",
    "    method: str='ryan'\n",
    ") -> pl.DataFrame:\n",
    "    \"\"\"\n",
    "    returns stepwise comparison results of data as a DataFrame.\n",
    "\n",
    "    input columns:\n",
    "    - dataset: name of dataset\n",
    "    - group: distinct for different treatment groups\n",
    "    - n: group size\n",
    "    - μ: group mean\n",
    "    - s: group standard deviation\n",
    "\n",
    "    output columns:\n",
    "    - dataset: name of dataset\n",
    "    - pair: a pair of groups [g1, g2] that are significantly different\n",
    "    \"\"\"\n",
    "            \n",
    "    def significant_pairs(data: pl.Series) -> pl.Series:\n",
    "        \"\"\"\n",
    "        input:\n",
    "        data.group\n",
    "        data.μ\n",
    "        \"\"\"\n",
    "        data = data.struct.unnest().sort('μ')\n",
    "\n",
    "        n_total, n_groups, s_pool= (\n",
    "            data.select(\n",
    "                col('n').sum().alias('n_total'),\n",
    "                pl.len().alias('n_groups'),\n",
    "                ((col('s')**2 * (col('n')-1)).sum() / (col('n') - 1).sum()).sqrt()\n",
    "                .alias('s_pool'))\n",
    "            .row(0))\n",
    "\n",
    "        stepwise_method = {\n",
    "            'duncan': lambda p: 1 - (1 - α)**(p - 1),\n",
    "            'ryan': lambda p: α if p >= n_groups - 1 else p * α / n_groups}\n",
    "\n",
    "        def stepwise(start: int, end: int) -> list[list[str]]:\n",
    "            if start >= end - 1:\n",
    "                return []\n",
    "\n",
    "            g1, n1, μ1, _ = data.row(start)\n",
    "            g2, n2, μ2, _ = data.row(end-1)\n",
    "                            \n",
    "            if μ2 - μ1 > (\n",
    "                s_pool \n",
    "                * np.sqrt(0.5/n1 + 0.5/n2) \n",
    "                * stats.studentized_range.ppf(\n",
    "                    q = 1 - stepwise_method[method](end-start),\n",
    "                    k = n_groups,\n",
    "                    df = n_total - n_groups)):\n",
    "                return (\n",
    "                    [[g1, g2] if g1 < g2 else [g2, g1]] \n",
    "                    + stepwise(start+1, end) \n",
    "                    + stepwise(start, end-1))\n",
    "            else:\n",
    "                return []\n",
    "\n",
    "        return pl.Series('pair', stepwise(0, n_groups))\n",
    "\n",
    "    return (\n",
    "        data.with_columns(\n",
    "            pl.struct('group', 'n', 'μ', 's')\n",
    "            .alias('structure'))\n",
    "        .group_by('dataset')\n",
    "        .agg(\n",
    "            col('structure')\n",
    "            .map_elements(\n",
    "                lambda data: significant_pairs(data))\n",
    "            .alias('pair'))\n",
    "        .explode('pair'))"
   ]
  },
  {
   "cell_type": "markdown",
   "id": "51c54129-ffa8-4804-aa6d-e104552d17ea",
   "metadata": {},
   "source": [
    "## 12.2 Solutions to Exercises"
   ]
  },
  {
   "cell_type": "markdown",
   "id": "d741d850-b9ab-4fca-b039-2c117bb83842",
   "metadata": {},
   "source": [
    "### 8."
   ]
  },
  {
   "cell_type": "code",
   "execution_count": 46,
   "id": "8ec0575b-8213-497f-8417-69673ffe5463",
   "metadata": {
    "scrolled": true
   },
   "outputs": [
    {
     "data": {
      "text/html": [
       "<div><style>\n",
       ".dataframe > thead > tr,\n",
       ".dataframe > tbody > tr {\n",
       "  text-align: right;\n",
       "  white-space: pre-wrap;\n",
       "}\n",
       "</style>\n",
       "<small>shape: (6, 5)</small><table border=\"1\" class=\"dataframe\"><thead><tr><th>group</th><th>n</th><th>dataset</th><th>μ</th><th>s</th></tr><tr><td>str</td><td>i64</td><td>str</td><td>f64</td><td>f64</td></tr></thead><tbody><tr><td>&quot;Shelf1&quot;</td><td>20</td><td>&quot;fiber&quot;</td><td>1.68</td><td>1.166</td></tr><tr><td>&quot;Shelf2&quot;</td><td>20</td><td>&quot;fiber&quot;</td><td>0.95</td><td>1.162</td></tr><tr><td>&quot;Shelf3&quot;</td><td>20</td><td>&quot;fiber&quot;</td><td>2.17</td><td>1.277</td></tr><tr><td>&quot;Shelf1&quot;</td><td>20</td><td>&quot;sugar&quot;</td><td>4.8</td><td>2.138</td></tr><tr><td>&quot;Shelf2&quot;</td><td>20</td><td>&quot;sugar&quot;</td><td>9.85</td><td>1.985</td></tr><tr><td>&quot;Shelf3&quot;</td><td>20</td><td>&quot;sugar&quot;</td><td>6.1</td><td>1.865</td></tr></tbody></table></div>"
      ],
      "text/plain": [
       "shape: (6, 5)\n",
       "┌────────┬─────┬─────────┬──────┬───────┐\n",
       "│ group  ┆ n   ┆ dataset ┆ μ    ┆ s     │\n",
       "│ ---    ┆ --- ┆ ---     ┆ ---  ┆ ---   │\n",
       "│ str    ┆ i64 ┆ str     ┆ f64  ┆ f64   │\n",
       "╞════════╪═════╪═════════╪══════╪═══════╡\n",
       "│ Shelf1 ┆ 20  ┆ fiber   ┆ 1.68 ┆ 1.166 │\n",
       "│ Shelf2 ┆ 20  ┆ fiber   ┆ 0.95 ┆ 1.162 │\n",
       "│ Shelf3 ┆ 20  ┆ fiber   ┆ 2.17 ┆ 1.277 │\n",
       "│ Shelf1 ┆ 20  ┆ sugar   ┆ 4.8  ┆ 2.138 │\n",
       "│ Shelf2 ┆ 20  ┆ sugar   ┆ 9.85 ┆ 1.985 │\n",
       "│ Shelf3 ┆ 20  ┆ sugar   ┆ 6.1  ┆ 1.865 │\n",
       "└────────┴─────┴─────────┴──────┴───────┘"
      ]
     },
     "execution_count": 46,
     "metadata": {},
     "output_type": "execute_result"
    }
   ],
   "source": [
    "DATA['12.1 - long']"
   ]
  },
  {
   "cell_type": "code",
   "execution_count": 47,
   "id": "bccfd1da-5f72-4808-b52f-a23d470a7d9c",
   "metadata": {},
   "outputs": [
    {
     "data": {
      "text/html": [
       "<div><style>\n",
       ".dataframe > thead > tr,\n",
       ".dataframe > tbody > tr {\n",
       "  text-align: right;\n",
       "  white-space: pre-wrap;\n",
       "}\n",
       "</style>\n",
       "<small>shape: (6, 5)</small><table border=\"1\" class=\"dataframe\"><thead><tr><th>dataset</th><th>pair</th><th>μ_diff</th><th>tukey</th><th>bonferroni</th></tr><tr><td>str</td><td>list[str]</td><td>f64</td><td>list[f64]</td><td>list[f64]</td></tr></thead><tbody><tr><td>&quot;fiber&quot;</td><td>[&quot;Shelf1&quot;, &quot;Shelf2&quot;]</td><td>0.73</td><td>[-0.185339, 1.645339]</td><td>[-0.208263, 1.668263]</td></tr><tr><td>&quot;fiber&quot;</td><td>[&quot;Shelf1&quot;, &quot;Shelf3&quot;]</td><td>-0.49</td><td>[-1.405339, 0.425339]</td><td>[-1.428263, 0.448263]</td></tr><tr><td>&quot;fiber&quot;</td><td>[&quot;Shelf2&quot;, &quot;Shelf3&quot;]</td><td>-1.22</td><td>[-2.135339, -0.304661]</td><td>[-2.158263, -0.281737]</td></tr><tr><td>&quot;sugar&quot;</td><td>[&quot;Shelf1&quot;, &quot;Shelf2&quot;]</td><td>-5.05</td><td>[-6.571286, -3.528714]</td><td>[-6.609387, -3.490613]</td></tr><tr><td>&quot;sugar&quot;</td><td>[&quot;Shelf1&quot;, &quot;Shelf3&quot;]</td><td>-1.3</td><td>[-2.821286, 0.221286]</td><td>[-2.859387, 0.259387]</td></tr><tr><td>&quot;sugar&quot;</td><td>[&quot;Shelf2&quot;, &quot;Shelf3&quot;]</td><td>3.75</td><td>[2.228714, 5.271286]</td><td>[2.190613, 5.309387]</td></tr></tbody></table></div>"
      ],
      "text/plain": [
       "shape: (6, 5)\n",
       "┌─────────┬──────────────────────┬────────┬────────────────────────┬────────────────────────┐\n",
       "│ dataset ┆ pair                 ┆ μ_diff ┆ tukey                  ┆ bonferroni             │\n",
       "│ ---     ┆ ---                  ┆ ---    ┆ ---                    ┆ ---                    │\n",
       "│ str     ┆ list[str]            ┆ f64    ┆ list[f64]              ┆ list[f64]              │\n",
       "╞═════════╪══════════════════════╪════════╪════════════════════════╪════════════════════════╡\n",
       "│ fiber   ┆ [\"Shelf1\", \"Shelf2\"] ┆ 0.73   ┆ [-0.185339, 1.645339]  ┆ [-0.208263, 1.668263]  │\n",
       "│ fiber   ┆ [\"Shelf1\", \"Shelf3\"] ┆ -0.49  ┆ [-1.405339, 0.425339]  ┆ [-1.428263, 0.448263]  │\n",
       "│ fiber   ┆ [\"Shelf2\", \"Shelf3\"] ┆ -1.22  ┆ [-2.135339, -0.304661] ┆ [-2.158263, -0.281737] │\n",
       "│ sugar   ┆ [\"Shelf1\", \"Shelf2\"] ┆ -5.05  ┆ [-6.571286, -3.528714] ┆ [-6.609387, -3.490613] │\n",
       "│ sugar   ┆ [\"Shelf1\", \"Shelf3\"] ┆ -1.3   ┆ [-2.821286, 0.221286]  ┆ [-2.859387, 0.259387]  │\n",
       "│ sugar   ┆ [\"Shelf2\", \"Shelf3\"] ┆ 3.75   ┆ [2.228714, 5.271286]   ┆ [2.190613, 5.309387]   │\n",
       "└─────────┴──────────────────────┴────────┴────────────────────────┴────────────────────────┘"
      ]
     },
     "execution_count": 47,
     "metadata": {},
     "output_type": "execute_result"
    }
   ],
   "source": [
    "pairwise_comparison(DATA['12.1 - long'], method=['bonferroni', 'tukey'])"
   ]
  },
  {
   "cell_type": "markdown",
   "id": "334e1fe8-8cc1-45fe-8a27-31538559c093",
   "metadata": {},
   "source": [
    "A comparison is significant if the CI does not include 0.\n",
    "- For fiber content:\n",
    "    - Bonferroni method: shelves 2 and 3 are different.\n",
    "    - Tukey method: shelves 2 and 3 are different.\n",
    "- For sugar content:\n",
    "    - Bonferroni method: shelf 2 is different from shelves 1 and 3.\n",
    "    - Tukey method: shelf 2 is different from shelves 1 and 3."
   ]
  },
  {
   "cell_type": "markdown",
   "id": "21d38599-3771-40f9-8dff-30e1fd9a7017",
   "metadata": {},
   "source": [
    "### 9."
   ]
  },
  {
   "cell_type": "code",
   "execution_count": 48,
   "id": "0f27e6e2-652b-4e02-b62d-a3b372ae54b6",
   "metadata": {},
   "outputs": [
    {
     "data": {
      "text/html": [
       "<div><style>\n",
       ".dataframe > thead > tr,\n",
       ".dataframe > tbody > tr {\n",
       "  text-align: right;\n",
       "  white-space: pre-wrap;\n",
       "}\n",
       "</style>\n",
       "<small>shape: (3, 5)</small><table border=\"1\" class=\"dataframe\"><thead><tr><th>group</th><th>n</th><th>μ</th><th>s</th><th>dataset</th></tr><tr><td>str</td><td>u32</td><td>f64</td><td>f64</td><td>str</td></tr></thead><tbody><tr><td>&quot;II&quot;</td><td>8</td><td>40.10375</td><td>0.531385</td><td>&quot;&quot;</td></tr><tr><td>&quot;III&quot;</td><td>10</td><td>38.892</td><td>0.510812</td><td>&quot;&quot;</td></tr><tr><td>&quot;I&quot;</td><td>12</td><td>37.313333</td><td>0.572797</td><td>&quot;&quot;</td></tr></tbody></table></div>"
      ],
      "text/plain": [
       "shape: (3, 5)\n",
       "┌───────┬─────┬───────────┬──────────┬─────────┐\n",
       "│ group ┆ n   ┆ μ         ┆ s        ┆ dataset │\n",
       "│ ---   ┆ --- ┆ ---       ┆ ---      ┆ ---     │\n",
       "│ str   ┆ u32 ┆ f64       ┆ f64      ┆ str     │\n",
       "╞═══════╪═════╪═══════════╪══════════╪═════════╡\n",
       "│ II    ┆ 8   ┆ 40.10375  ┆ 0.531385 ┆         │\n",
       "│ III   ┆ 10  ┆ 38.892    ┆ 0.510812 ┆         │\n",
       "│ I     ┆ 12  ┆ 37.313333 ┆ 0.572797 ┆         │\n",
       "└───────┴─────┴───────────┴──────────┴─────────┘"
      ]
     },
     "execution_count": 48,
     "metadata": {},
     "output_type": "execute_result"
    }
   ],
   "source": [
    "DATA['12.4 - aggregated']"
   ]
  },
  {
   "cell_type": "code",
   "execution_count": 49,
   "id": "ad238efe-d06a-4a16-88e5-280a70e32d13",
   "metadata": {
    "scrolled": true
   },
   "outputs": [
    {
     "data": {
      "text/html": [
       "<div><style>\n",
       ".dataframe > thead > tr,\n",
       ".dataframe > tbody > tr {\n",
       "  text-align: right;\n",
       "  white-space: pre-wrap;\n",
       "}\n",
       "</style>\n",
       "<small>shape: (3, 4)</small><table border=\"1\" class=\"dataframe\"><thead><tr><th>dataset</th><th>pair</th><th>μ_diff</th><th>tukey</th></tr><tr><td>str</td><td>list[str]</td><td>f64</td><td>list[f64]</td></tr></thead><tbody><tr><td>&quot;&quot;</td><td>[&quot;I&quot;, &quot;II&quot;]</td><td>-2.790417</td><td>[-3.403887, -2.176946]</td></tr><tr><td>&quot;&quot;</td><td>[&quot;II&quot;, &quot;III&quot;]</td><td>1.21175</td><td>[0.574213, 1.849287]</td></tr><tr><td>&quot;&quot;</td><td>[&quot;I&quot;, &quot;III&quot;]</td><td>-1.578667</td><td>[-2.154153, -1.00318]</td></tr></tbody></table></div>"
      ],
      "text/plain": [
       "shape: (3, 4)\n",
       "┌─────────┬───────────────┬───────────┬────────────────────────┐\n",
       "│ dataset ┆ pair          ┆ μ_diff    ┆ tukey                  │\n",
       "│ ---     ┆ ---           ┆ ---       ┆ ---                    │\n",
       "│ str     ┆ list[str]     ┆ f64       ┆ list[f64]              │\n",
       "╞═════════╪═══════════════╪═══════════╪════════════════════════╡\n",
       "│         ┆ [\"I\", \"II\"]   ┆ -2.790417 ┆ [-3.403887, -2.176946] │\n",
       "│         ┆ [\"II\", \"III\"] ┆ 1.21175   ┆ [0.574213, 1.849287]   │\n",
       "│         ┆ [\"I\", \"III\"]  ┆ -1.578667 ┆ [-2.154153, -1.00318]  │\n",
       "└─────────┴───────────────┴───────────┴────────────────────────┘"
      ]
     },
     "execution_count": 49,
     "metadata": {},
     "output_type": "execute_result"
    }
   ],
   "source": [
    "pairwise_comparison(DATA['12.4 - aggregated'], method='tukey')"
   ]
  },
  {
   "cell_type": "markdown",
   "id": "d84221c3-d0a6-44e0-b421-f79daeba6edf",
   "metadata": {},
   "source": [
    "Tukey method: all sites are different from each other."
   ]
  },
  {
   "cell_type": "code",
   "execution_count": 50,
   "id": "3c5a07e6-3432-4889-ae6b-693693d202c4",
   "metadata": {},
   "outputs": [
    {
     "data": {
      "text/html": [
       "<div><style>\n",
       ".dataframe > thead > tr,\n",
       ".dataframe > tbody > tr {\n",
       "  text-align: right;\n",
       "  white-space: pre-wrap;\n",
       "}\n",
       "</style>\n",
       "<small>shape: (3, 2)</small><table border=\"1\" class=\"dataframe\"><thead><tr><th>dataset</th><th>pair</th></tr><tr><td>str</td><td>list[str]</td></tr></thead><tbody><tr><td>&quot;&quot;</td><td>[&quot;I&quot;, &quot;II&quot;]</td></tr><tr><td>&quot;&quot;</td><td>[&quot;II&quot;, &quot;III&quot;]</td></tr><tr><td>&quot;&quot;</td><td>[&quot;I&quot;, &quot;III&quot;]</td></tr></tbody></table></div>"
      ],
      "text/plain": [
       "shape: (3, 2)\n",
       "┌─────────┬───────────────┐\n",
       "│ dataset ┆ pair          │\n",
       "│ ---     ┆ ---           │\n",
       "│ str     ┆ list[str]     │\n",
       "╞═════════╪═══════════════╡\n",
       "│         ┆ [\"I\", \"II\"]   │\n",
       "│         ┆ [\"II\", \"III\"] │\n",
       "│         ┆ [\"I\", \"III\"]  │\n",
       "└─────────┴───────────────┘"
      ]
     },
     "execution_count": 50,
     "metadata": {},
     "output_type": "execute_result"
    }
   ],
   "source": [
    "stepwise_comparison(DATA['12.4 - aggregated'], method='ryan')"
   ]
  },
  {
   "cell_type": "markdown",
   "id": "63182c62-bf23-41d1-83de-f483dc7d3364",
   "metadata": {},
   "source": [
    "Ryan method: same conclusion -- all sites are different."
   ]
  },
  {
   "cell_type": "markdown",
   "id": "f7934ca3-ec0c-40ab-afa9-0d0fddda6565",
   "metadata": {},
   "source": [
    "### 10."
   ]
  },
  {
   "cell_type": "code",
   "execution_count": 51,
   "id": "1dae6070-a96d-4681-8c5b-f2d9051d1a58",
   "metadata": {},
   "outputs": [
    {
     "data": {
      "text/html": [
       "<div><style>\n",
       ".dataframe > thead > tr,\n",
       ".dataframe > tbody > tr {\n",
       "  text-align: right;\n",
       "  white-space: pre-wrap;\n",
       "}\n",
       "</style>\n",
       "<small>shape: (3, 5)</small><table border=\"1\" class=\"dataframe\"><thead><tr><th>group</th><th>n</th><th>μ</th><th>s</th><th>dataset</th></tr><tr><td>str</td><td>u32</td><td>f64</td><td>f64</td><td>str</td></tr></thead><tbody><tr><td>&quot;HBSC&quot;</td><td>15</td><td>12.3</td><td>0.941883</td><td>&quot;&quot;</td></tr><tr><td>&quot;HBS&quot;</td><td>10</td><td>10.63</td><td>1.284134</td><td>&quot;&quot;</td></tr><tr><td>&quot;HBSS&quot;</td><td>16</td><td>8.7125</td><td>0.844492</td><td>&quot;&quot;</td></tr></tbody></table></div>"
      ],
      "text/plain": [
       "shape: (3, 5)\n",
       "┌───────┬─────┬────────┬──────────┬─────────┐\n",
       "│ group ┆ n   ┆ μ      ┆ s        ┆ dataset │\n",
       "│ ---   ┆ --- ┆ ---    ┆ ---      ┆ ---     │\n",
       "│ str   ┆ u32 ┆ f64    ┆ f64      ┆ str     │\n",
       "╞═══════╪═════╪════════╪══════════╪═════════╡\n",
       "│ HBSC  ┆ 15  ┆ 12.3   ┆ 0.941883 ┆         │\n",
       "│ HBS   ┆ 10  ┆ 10.63  ┆ 1.284134 ┆         │\n",
       "│ HBSS  ┆ 16  ┆ 8.7125 ┆ 0.844492 ┆         │\n",
       "└───────┴─────┴────────┴──────────┴─────────┘"
      ]
     },
     "execution_count": 51,
     "metadata": {},
     "output_type": "execute_result"
    }
   ],
   "source": [
    "DATA['12.5 - aggregated']"
   ]
  },
  {
   "cell_type": "code",
   "execution_count": 52,
   "id": "a5509e3b-ac9c-416d-87e4-8f5267392364",
   "metadata": {
    "scrolled": true
   },
   "outputs": [
    {
     "data": {
      "text/html": [
       "<div><style>\n",
       ".dataframe > thead > tr,\n",
       ".dataframe > tbody > tr {\n",
       "  text-align: right;\n",
       "  white-space: pre-wrap;\n",
       "}\n",
       "</style>\n",
       "<small>shape: (3, 6)</small><table border=\"1\" class=\"dataframe\"><thead><tr><th>dataset</th><th>pair</th><th>μ_diff</th><th>tukey</th><th>lsd</th><th>bonferroni</th></tr><tr><td>str</td><td>list[str]</td><td>f64</td><td>list[f64]</td><td>list[f64]</td><td>list[f64]</td></tr></thead><tbody><tr><td>&quot;&quot;</td><td>[&quot;HBS&quot;, &quot;HBSC&quot;]</td><td>-1.67</td><td>[-2.933945, -0.406055]</td><td>[-2.776384, -0.563616]</td><td>[-2.948023, -0.391977]</td></tr><tr><td>&quot;&quot;</td><td>[&quot;HBSC&quot;, &quot;HBSS&quot;]</td><td>3.5875</td><td>[2.474798, 4.700202]</td><td>[2.613505, 4.561495]</td><td>[2.462404, 4.712596]</td></tr><tr><td>&quot;&quot;</td><td>[&quot;HBS&quot;, &quot;HBSS&quot;]</td><td>1.9175</td><td>[0.669455, 3.165545]</td><td>[0.825033, 3.009967]</td><td>[0.655553, 3.179447]</td></tr></tbody></table></div>"
      ],
      "text/plain": [
       "shape: (3, 6)\n",
       "┌─────────┬──────────────────┬────────┬─────────────┬───────────────────────┬──────────────────────┐\n",
       "│ dataset ┆ pair             ┆ μ_diff ┆ tukey       ┆ lsd                   ┆ bonferroni           │\n",
       "│ ---     ┆ ---              ┆ ---    ┆ ---         ┆ ---                   ┆ ---                  │\n",
       "│ str     ┆ list[str]        ┆ f64    ┆ list[f64]   ┆ list[f64]             ┆ list[f64]            │\n",
       "╞═════════╪══════════════════╪════════╪═════════════╪═══════════════════════╪══════════════════════╡\n",
       "│         ┆ [\"HBS\", \"HBSC\"]  ┆ -1.67  ┆ [-2.933945, ┆ [-2.776384,           ┆ [-2.948023,          │\n",
       "│         ┆                  ┆        ┆ -0.406055]  ┆ -0.563616]            ┆ -0.391977]           │\n",
       "│         ┆ [\"HBSC\", \"HBSS\"] ┆ 3.5875 ┆ [2.474798,  ┆ [2.613505, 4.561495]  ┆ [2.462404, 4.712596] │\n",
       "│         ┆                  ┆        ┆ 4.700202]   ┆                       ┆                      │\n",
       "│         ┆ [\"HBS\", \"HBSS\"]  ┆ 1.9175 ┆ [0.669455,  ┆ [0.825033, 3.009967]  ┆ [0.655553, 3.179447] │\n",
       "│         ┆                  ┆        ┆ 3.165545]   ┆                       ┆                      │\n",
       "└─────────┴──────────────────┴────────┴─────────────┴───────────────────────┴──────────────────────┘"
      ]
     },
     "execution_count": 52,
     "metadata": {},
     "output_type": "execute_result"
    }
   ],
   "source": [
    "pairwise_comparison(DATA['12.5 - aggregated'], method=['bonferroni', 'tukey', 'lsd'], α=0.01)"
   ]
  },
  {
   "cell_type": "markdown",
   "id": "ae2e994b-b4ff-4ad1-a99a-35b3f58148fc",
   "metadata": {},
   "source": [
    "All three methods (Tukey, Bonferroni, and LSD) reach the same conclusion -- all pairwise comparisons are different (CI does not include 0). But Tukey and Bonferroni give similar CIs with Bonferroni slightly wider. The LSD gives much narrower CIs (most sensitive)."
   ]
  },
  {
   "cell_type": "markdown",
   "id": "920affde-e661-46a6-a665-16ec7247702b",
   "metadata": {},
   "source": [
    "### 11."
   ]
  },
  {
   "cell_type": "code",
   "execution_count": 53,
   "id": "d1a78bd6-568a-4c18-afa8-2ff084f07f6e",
   "metadata": {},
   "outputs": [
    {
     "data": {
      "text/html": [
       "<div><style>\n",
       ".dataframe > thead > tr,\n",
       ".dataframe > tbody > tr {\n",
       "  text-align: right;\n",
       "  white-space: pre-wrap;\n",
       "}\n",
       "</style>\n",
       "<small>shape: (4, 5)</small><table border=\"1\" class=\"dataframe\"><thead><tr><th>group</th><th>n</th><th>μ</th><th>s</th><th>dataset</th></tr><tr><td>str</td><td>u32</td><td>f64</td><td>f64</td><td>str</td></tr></thead><tbody><tr><td>&quot;Tenor2&quot;</td><td>21</td><td>69.904762</td><td>2.071346</td><td>&quot;&quot;</td></tr><tr><td>&quot;Bass1&quot;</td><td>39</td><td>70.717949</td><td>2.361408</td><td>&quot;&quot;</td></tr><tr><td>&quot;Tenor1&quot;</td><td>21</td><td>68.904762</td><td>3.330237</td><td>&quot;&quot;</td></tr><tr><td>&quot;Bass2&quot;</td><td>26</td><td>71.384615</td><td>2.728764</td><td>&quot;&quot;</td></tr></tbody></table></div>"
      ],
      "text/plain": [
       "shape: (4, 5)\n",
       "┌────────┬─────┬───────────┬──────────┬─────────┐\n",
       "│ group  ┆ n   ┆ μ         ┆ s        ┆ dataset │\n",
       "│ ---    ┆ --- ┆ ---       ┆ ---      ┆ ---     │\n",
       "│ str    ┆ u32 ┆ f64       ┆ f64      ┆ str     │\n",
       "╞════════╪═════╪═══════════╪══════════╪═════════╡\n",
       "│ Tenor2 ┆ 21  ┆ 69.904762 ┆ 2.071346 ┆         │\n",
       "│ Bass1  ┆ 39  ┆ 70.717949 ┆ 2.361408 ┆         │\n",
       "│ Tenor1 ┆ 21  ┆ 68.904762 ┆ 3.330237 ┆         │\n",
       "│ Bass2  ┆ 26  ┆ 71.384615 ┆ 2.728764 ┆         │\n",
       "└────────┴─────┴───────────┴──────────┴─────────┘"
      ]
     },
     "execution_count": 53,
     "metadata": {},
     "output_type": "execute_result"
    }
   ],
   "source": [
    "DATA['12.6 - aggregated']"
   ]
  },
  {
   "cell_type": "code",
   "execution_count": 54,
   "id": "72027ff6-234e-4f42-917d-6d0bb46b8359",
   "metadata": {},
   "outputs": [
    {
     "data": {
      "text/html": [
       "<div><style>\n",
       ".dataframe > thead > tr,\n",
       ".dataframe > tbody > tr {\n",
       "  text-align: right;\n",
       "  white-space: pre-wrap;\n",
       "}\n",
       "</style>\n",
       "<small>shape: (6, 4)</small><table border=\"1\" class=\"dataframe\"><thead><tr><th>dataset</th><th>pair</th><th>μ_diff</th><th>tukey</th></tr><tr><td>str</td><td>list[str]</td><td>f64</td><td>list[f64]</td></tr></thead><tbody><tr><td>&quot;&quot;</td><td>[&quot;Bass1&quot;, &quot;Tenor2&quot;]</td><td>0.813187</td><td>[-0.83086, 2.457233]</td></tr><tr><td>&quot;&quot;</td><td>[&quot;Tenor1&quot;, &quot;Tenor2&quot;]</td><td>-1.0</td><td>[-2.874502, 0.874502]</td></tr><tr><td>&quot;&quot;</td><td>[&quot;Bass2&quot;, &quot;Tenor2&quot;]</td><td>1.479853</td><td>[-0.302251, 3.261958]</td></tr><tr><td>&quot;&quot;</td><td>[&quot;Bass1&quot;, &quot;Tenor1&quot;]</td><td>1.813187</td><td>[0.16914, 3.457233]</td></tr><tr><td>&quot;&quot;</td><td>[&quot;Bass2&quot;, &quot;Tenor1&quot;]</td><td>2.479853</td><td>[0.697749, 4.261958]</td></tr><tr><td>&quot;&quot;</td><td>[&quot;Bass1&quot;, &quot;Bass2&quot;]</td><td>-0.666667</td><td>[-2.204531, 0.871198]</td></tr></tbody></table></div>"
      ],
      "text/plain": [
       "shape: (6, 4)\n",
       "┌─────────┬──────────────────────┬───────────┬───────────────────────┐\n",
       "│ dataset ┆ pair                 ┆ μ_diff    ┆ tukey                 │\n",
       "│ ---     ┆ ---                  ┆ ---       ┆ ---                   │\n",
       "│ str     ┆ list[str]            ┆ f64       ┆ list[f64]             │\n",
       "╞═════════╪══════════════════════╪═══════════╪═══════════════════════╡\n",
       "│         ┆ [\"Bass1\", \"Tenor2\"]  ┆ 0.813187  ┆ [-0.83086, 2.457233]  │\n",
       "│         ┆ [\"Tenor1\", \"Tenor2\"] ┆ -1.0      ┆ [-2.874502, 0.874502] │\n",
       "│         ┆ [\"Bass2\", \"Tenor2\"]  ┆ 1.479853  ┆ [-0.302251, 3.261958] │\n",
       "│         ┆ [\"Bass1\", \"Tenor1\"]  ┆ 1.813187  ┆ [0.16914, 3.457233]   │\n",
       "│         ┆ [\"Bass2\", \"Tenor1\"]  ┆ 2.479853  ┆ [0.697749, 4.261958]  │\n",
       "│         ┆ [\"Bass1\", \"Bass2\"]   ┆ -0.666667 ┆ [-2.204531, 0.871198] │\n",
       "└─────────┴──────────────────────┴───────────┴───────────────────────┘"
      ]
     },
     "execution_count": 54,
     "metadata": {},
     "output_type": "execute_result"
    }
   ],
   "source": [
    "pairwise_comparison(DATA['12.6 - aggregated'], α=0.1, method='tukey')"
   ]
  }
 ],
 "metadata": {
  "kernelspec": {
   "display_name": "Python 3 (ipykernel)",
   "language": "python",
   "name": "python3"
  },
  "language_info": {
   "codemirror_mode": {
    "name": "ipython",
    "version": 3
   },
   "file_extension": ".py",
   "mimetype": "text/x-python",
   "name": "python",
   "nbconvert_exporter": "python",
   "pygments_lexer": "ipython3",
   "version": "3.10.12"
  }
 },
 "nbformat": 4,
 "nbformat_minor": 5
}
