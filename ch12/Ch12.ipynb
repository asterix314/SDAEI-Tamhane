{
 "cells": [
  {
   "cell_type": "markdown",
   "id": "7c0c714a-801d-4de5-96d7-e375584311c7",
   "metadata": {},
   "source": [
    "# Chapter 12 Analysis of Single Factor Experiments"
   ]
  },
  {
   "cell_type": "code",
   "execution_count": 1,
   "id": "77880b95-9144-4d43-9119-3197c2ea4432",
   "metadata": {},
   "outputs": [],
   "source": [
    "import json\n",
    "\n",
    "import polars as pl\n",
    "from polars import col, lit\n",
    "from scipy import stats\n",
    "import numpy as np\n",
    "import altair as alt\n",
    "\n",
    "# random number generator\n",
    "RNG = np.random.default_rng()"
   ]
  },
  {
   "cell_type": "markdown",
   "id": "ff855208-4011-419e-bfcd-c30c9014acf0",
   "metadata": {},
   "source": [
    "## Section 12.1"
   ]
  },
  {
   "cell_type": "markdown",
   "id": "62f159d3-bdc8-4e6a-a1e5-e9044628e414",
   "metadata": {},
   "source": [
    "### 1."
   ]
  },
  {
   "cell_type": "code",
   "execution_count": 2,
   "id": "64030157-1809-42e5-8888-0a49d21194d5",
   "metadata": {
    "scrolled": true
   },
   "outputs": [
    {
     "name": "stdout",
     "output_type": "stream",
     "text": [
      "shape: (3, 6)\n",
      "┌──────┬──────────┬─────────┬──────────┬─────────┬──────────┐\n",
      "│ n    ┆ SugarAvg ┆ SugarSD ┆ FiberAvg ┆ FiberSD ┆ Location │\n",
      "│ ---  ┆ ---      ┆ ---     ┆ ---      ┆ ---     ┆ ---      │\n",
      "│ f64  ┆ f64      ┆ f64     ┆ f64      ┆ f64     ┆ str      │\n",
      "╞══════╪══════════╪═════════╪══════════╪═════════╪══════════╡\n",
      "│ 20.0 ┆ 4.8      ┆ 2.138   ┆ 1.68     ┆ 1.166   ┆ Shelf1   │\n",
      "│ 20.0 ┆ 9.85     ┆ 1.985   ┆ 0.95     ┆ 1.162   ┆ Shelf2   │\n",
      "│ 20.0 ┆ 6.1      ┆ 1.865   ┆ 2.17     ┆ 1.277   ┆ Shelf3   │\n",
      "└──────┴──────────┴─────────┴──────────┴─────────┴──────────┘\n"
     ]
    }
   ],
   "source": [
    "with open('Ex12-1.json') as file:\n",
    "    data = pl.from_dict(json.load(file))\n",
    "print(data)"
   ]
  },
  {
   "cell_type": "markdown",
   "id": "4acd6e8e-f22d-4f49-91dc-b31f9e9ce095",
   "metadata": {},
   "source": [
    "Transform to a long format that is a bit easier to work with."
   ]
  },
  {
   "cell_type": "code",
   "execution_count": 3,
   "id": "a596b921-05e7-4324-882f-9f491a1737fc",
   "metadata": {},
   "outputs": [
    {
     "name": "stdout",
     "output_type": "stream",
     "text": [
      "shape: (6, 5)\n",
      "┌────────┬─────┬─────────┬──────┬───────┐\n",
      "│ factor ┆ n   ┆ dataset ┆ μ    ┆ s     │\n",
      "│ ---    ┆ --- ┆ ---     ┆ ---  ┆ ---   │\n",
      "│ str    ┆ i64 ┆ str     ┆ f64  ┆ f64   │\n",
      "╞════════╪═════╪═════════╪══════╪═══════╡\n",
      "│ Shelf1 ┆ 20  ┆ fiber   ┆ 1.68 ┆ 1.166 │\n",
      "│ Shelf2 ┆ 20  ┆ fiber   ┆ 0.95 ┆ 1.162 │\n",
      "│ Shelf3 ┆ 20  ┆ fiber   ┆ 2.17 ┆ 1.277 │\n",
      "│ Shelf1 ┆ 20  ┆ sugar   ┆ 4.8  ┆ 2.138 │\n",
      "│ Shelf2 ┆ 20  ┆ sugar   ┆ 9.85 ┆ 1.985 │\n",
      "│ Shelf3 ┆ 20  ┆ sugar   ┆ 6.1  ┆ 1.865 │\n",
      "└────────┴─────┴─────────┴──────┴───────┘\n"
     ]
    }
   ],
   "source": [
    "data = (\n",
    "    data\n",
    "    .select(\n",
    "        factor='Location',\n",
    "        n=col('n').cast(int),\n",
    "        container=pl.concat_list(\n",
    "            pl.struct(dataset=lit('sugar'), μ='SugarAvg', s='SugarSD'),\n",
    "            pl.struct(dataset=lit('fiber'), μ='FiberAvg', s='FiberSD')))\n",
    "    .explode('container')\n",
    "    .unnest('container')\n",
    "    .sort('dataset', 'factor'))\n",
    "print(data)"
   ]
  },
  {
   "cell_type": "markdown",
   "id": "59667044-5a30-4605-8142-19430bc1f3fd",
   "metadata": {},
   "source": [
    "#### (a)"
   ]
  },
  {
   "cell_type": "markdown",
   "id": "9100826f-47a0-47ff-8ef2-e66e81904ecf",
   "metadata": {},
   "source": [
    "For (a), remember to use the _pooled_ $\\hat s$.\n",
    "$$\n",
    "\\text{CI} = \\hat\\mu_\\text{group} \\pm t_{N-a,\\ \\alpha/2} \\frac{\\hat{s}_\\text{pool}}{\\sqrt{n_\\text{group}}}\n",
    "$$"
   ]
  },
  {
   "cell_type": "code",
   "execution_count": 4,
   "id": "56ec5588-7ebc-4c75-8353-9620f0f25583",
   "metadata": {
    "scrolled": true
   },
   "outputs": [
    {
     "name": "stdout",
     "output_type": "stream",
     "text": [
      "shape: (6, 3)\n",
      "┌─────────┬────────┬───────────────────────┐\n",
      "│ dataset ┆ factor ┆ CI                    │\n",
      "│ ---     ┆ ---    ┆ ---                   │\n",
      "│ str     ┆ str    ┆ list[f64]             │\n",
      "╞═════════╪════════╪═══════════════════════╡\n",
      "│ sugar   ┆ Shelf1 ┆ [3.904862, 5.695138]  │\n",
      "│ sugar   ┆ Shelf2 ┆ [8.954862, 10.745138] │\n",
      "│ sugar   ┆ Shelf3 ┆ [5.204862, 6.995138]  │\n",
      "│ fiber   ┆ Shelf1 ┆ [1.141407, 2.218593]  │\n",
      "│ fiber   ┆ Shelf2 ┆ [0.411407, 1.488593]  │\n",
      "│ fiber   ┆ Shelf3 ┆ [1.631407, 2.708593]  │\n",
      "└─────────┴────────┴───────────────────────┘\n"
     ]
    }
   ],
   "source": [
    "def CI(data: pl.DataFrame, α: float=0.05) -> pl.DataFrame:\n",
    "    \"\"\" \n",
    "    returns the studentized CIs for each group in the data using a pooled s.\n",
    "\n",
    "    data columns:\n",
    "    - dataset: string id of dataset\n",
    "    - factor: distinct for different treatment groups\n",
    "    - n: group size\n",
    "    - μ: group mean\n",
    "    - s: group standard deviation\n",
    "    \"\"\"\n",
    "    dof = col('n').sum() - pl.len()\n",
    "    t_crit = dof.map_elements(lambda v: stats.t.ppf(1-α/2, v))\n",
    "    s_pool = ((col('s')**2 * (col('n') - 1)).sum() / dof).sqrt()\n",
    "    \n",
    "    e = t_crit * s_pool / col('n').sqrt()\n",
    "    return (\n",
    "        data\n",
    "        .group_by('dataset')\n",
    "        .agg(\n",
    "            'factor',\n",
    "            CI=pl.concat_list(col('μ') - e, col('μ') + e))\n",
    "        .explode('factor', 'CI'))\n",
    "            \n",
    "print(ans := CI(data))"
   ]
  },
  {
   "cell_type": "markdown",
   "id": "413578bb-b0ab-4458-907a-677fdd020366",
   "metadata": {},
   "source": [
    "Let's visualize the CIs."
   ]
  },
  {
   "cell_type": "code",
   "execution_count": 5,
   "id": "92b1f4f3-c8bb-4cb6-8d98-a90a7cfdbfe4",
   "metadata": {
    "scrolled": true
   },
   "outputs": [
    {
     "data": {
      "text/html": [
       "\n",
       "<style>\n",
       "  #altair-viz-1ae3c921dfcf45f7a2552407b6ce1b3c.vega-embed {\n",
       "    width: 100%;\n",
       "    display: flex;\n",
       "  }\n",
       "\n",
       "  #altair-viz-1ae3c921dfcf45f7a2552407b6ce1b3c.vega-embed details,\n",
       "  #altair-viz-1ae3c921dfcf45f7a2552407b6ce1b3c.vega-embed details summary {\n",
       "    position: relative;\n",
       "  }\n",
       "</style>\n",
       "<div id=\"altair-viz-1ae3c921dfcf45f7a2552407b6ce1b3c\"></div>\n",
       "<script type=\"text/javascript\">\n",
       "  var VEGA_DEBUG = (typeof VEGA_DEBUG == \"undefined\") ? {} : VEGA_DEBUG;\n",
       "  (function(spec, embedOpt){\n",
       "    let outputDiv = document.currentScript.previousElementSibling;\n",
       "    if (outputDiv.id !== \"altair-viz-1ae3c921dfcf45f7a2552407b6ce1b3c\") {\n",
       "      outputDiv = document.getElementById(\"altair-viz-1ae3c921dfcf45f7a2552407b6ce1b3c\");\n",
       "    }\n",
       "    const paths = {\n",
       "      \"vega\": \"https://cdn.jsdelivr.net/npm/vega@5?noext\",\n",
       "      \"vega-lib\": \"https://cdn.jsdelivr.net/npm/vega-lib?noext\",\n",
       "      \"vega-lite\": \"https://cdn.jsdelivr.net/npm/vega-lite@5.16.3?noext\",\n",
       "      \"vega-embed\": \"https://cdn.jsdelivr.net/npm/vega-embed@6?noext\",\n",
       "    };\n",
       "\n",
       "    function maybeLoadScript(lib, version) {\n",
       "      var key = `${lib.replace(\"-\", \"\")}_version`;\n",
       "      return (VEGA_DEBUG[key] == version) ?\n",
       "        Promise.resolve(paths[lib]) :\n",
       "        new Promise(function(resolve, reject) {\n",
       "          var s = document.createElement('script');\n",
       "          document.getElementsByTagName(\"head\")[0].appendChild(s);\n",
       "          s.async = true;\n",
       "          s.onload = () => {\n",
       "            VEGA_DEBUG[key] = version;\n",
       "            return resolve(paths[lib]);\n",
       "          };\n",
       "          s.onerror = () => reject(`Error loading script: ${paths[lib]}`);\n",
       "          s.src = paths[lib];\n",
       "        });\n",
       "    }\n",
       "\n",
       "    function showError(err) {\n",
       "      outputDiv.innerHTML = `<div class=\"error\" style=\"color:red;\">${err}</div>`;\n",
       "      throw err;\n",
       "    }\n",
       "\n",
       "    function displayChart(vegaEmbed) {\n",
       "      vegaEmbed(outputDiv, spec, embedOpt)\n",
       "        .catch(err => showError(`Javascript Error: ${err.message}<br>This usually means there's a typo in your chart specification. See the javascript console for the full traceback.`));\n",
       "    }\n",
       "\n",
       "    if(typeof define === \"function\" && define.amd) {\n",
       "      requirejs.config({paths});\n",
       "      require([\"vega-embed\"], displayChart, err => showError(`Error loading script: ${err.message}`));\n",
       "    } else {\n",
       "      maybeLoadScript(\"vega\", \"5\")\n",
       "        .then(() => maybeLoadScript(\"vega-lite\", \"5.16.3\"))\n",
       "        .then(() => maybeLoadScript(\"vega-embed\", \"6\"))\n",
       "        .catch(showError)\n",
       "        .then(() => displayChart(vegaEmbed));\n",
       "    }\n",
       "  })({\"config\": {\"view\": {\"continuousWidth\": 300, \"continuousHeight\": 300}}, \"data\": {\"name\": \"data-326a5cc7767758f7b25cbb2ad0b58895\"}, \"mark\": {\"type\": \"line\", \"strokeWidth\": 2}, \"encoding\": {\"row\": {\"field\": \"dataset\", \"title\": null, \"type\": \"nominal\"}, \"x\": {\"field\": \"low\", \"title\": \"CI\", \"type\": \"quantitative\"}, \"x2\": {\"field\": \"high\"}, \"y\": {\"field\": \"factor\", \"title\": null, \"type\": \"nominal\"}}, \"resolve\": {\"scale\": {\"x\": \"independent\"}}, \"$schema\": \"https://vega.github.io/schema/vega-lite/v5.16.3.json\", \"datasets\": {\"data-326a5cc7767758f7b25cbb2ad0b58895\": [{\"dataset\": \"sugar\", \"factor\": \"Shelf1\", \"low\": 3.904862326639528, \"high\": 5.695137673360471}, {\"dataset\": \"sugar\", \"factor\": \"Shelf2\", \"low\": 8.954862326639528, \"high\": 10.745137673360471}, {\"dataset\": \"sugar\", \"factor\": \"Shelf3\", \"low\": 5.204862326639528, \"high\": 6.995137673360471}, {\"dataset\": \"fiber\", \"factor\": \"Shelf1\", \"low\": 1.141406957085243, \"high\": 2.218593042914757}, {\"dataset\": \"fiber\", \"factor\": \"Shelf2\", \"low\": 0.411406957085243, \"high\": 1.488593042914757}, {\"dataset\": \"fiber\", \"factor\": \"Shelf3\", \"low\": 1.631406957085243, \"high\": 2.7085930429147567}]}}, {\"mode\": \"vega-lite\"});\n",
       "</script>"
      ],
      "text/plain": [
       "alt.Chart(...)"
      ]
     },
     "execution_count": 5,
     "metadata": {},
     "output_type": "execute_result"
    }
   ],
   "source": [
    "(\n",
    "    alt.Chart(\n",
    "        ans.select('dataset', 'factor',\n",
    "            low=col('CI').list.first(),\n",
    "            high=col('CI').list.last()))\n",
    "    .mark_line(strokeWidth=2)\n",
    "    .encode(\n",
    "        alt.X('low').title('CI'),\n",
    "        alt.X2('high'),\n",
    "        alt.Y('factor').title(None),\n",
    "        alt.Row('dataset').title(None))\n",
    "    .resolve_scale(x='independent')\n",
    ")"
   ]
  },
  {
   "cell_type": "markdown",
   "id": "505975a2-a857-46fd-aa53-bbf3673f15ac",
   "metadata": {},
   "source": [
    "- Sugar: The CIs of Shelf1 and Shelf3 overlap, so no obvious differences. But Shelf2 stands out from the rest.\n",
    "- Fiber: By the same token, Shelf2 and Shelf3 are different becuuse their CIs do not overlap."
   ]
  },
  {
   "cell_type": "markdown",
   "id": "ea71f91f-c0d7-4180-9aa4-94aa2bf79643",
   "metadata": {},
   "source": [
    "#### (b)"
   ]
  },
  {
   "cell_type": "code",
   "execution_count": 14,
   "id": "c249e459-bb25-4d3f-8ea7-e4fc084c9b08",
   "metadata": {
    "scrolled": true
   },
   "outputs": [
    {
     "name": "stdout",
     "output_type": "stream",
     "text": [
      "shape: (6, 6)\n",
      "┌─────────┬────────┬────────────┬─────┬────────────┬───────────┐\n",
      "│ dataset ┆ source ┆ SS         ┆ dof ┆ MS         ┆ F         │\n",
      "│ ---     ┆ ---    ┆ ---        ┆ --- ┆ ---        ┆ ---       │\n",
      "│ str     ┆ str    ┆ f64        ┆ i64 ┆ f64        ┆ f64       │\n",
      "╞═════════╪════════╪════════════╪═════╪════════════╪═══════════╡\n",
      "│ sugar   ┆ factor ┆ 275.033333 ┆ 2   ┆ 137.516667 ┆ 34.409292 │\n",
      "│ sugar   ┆ error  ┆ 227.800386 ┆ 57  ┆ 3.996498   ┆ null      │\n",
      "│ sugar   ┆ total  ┆ 502.833719 ┆ 59  ┆ null       ┆ null      │\n",
      "│ fiber   ┆ factor ┆ 15.076     ┆ 2   ┆ 7.538      ┆ 5.209964  │\n",
      "│ fiber   ┆ error  ┆ 82.470051  ┆ 57  ┆ 1.446843   ┆ null      │\n",
      "│ fiber   ┆ total  ┆ 97.546051  ┆ 59  ┆ null       ┆ null      │\n",
      "└─────────┴────────┴────────────┴─────┴────────────┴───────────┘\n"
     ]
    }
   ],
   "source": [
    "def ANOVA(data: pl.DataFrame) -> pl.DataFrame:\n",
    "    \"\"\" \n",
    "    returns the 1-way ANOVA table as a DataFrame.\n",
    "\n",
    "    assuming the correct conditions of data:\n",
    "    - normality assumption\n",
    "    - constant variance\n",
    "\n",
    "    data columns:\n",
    "    - dataset: string id of dataset\n",
    "    - n: group size\n",
    "    - μ: group mean\n",
    "    - s: group standard deviation\n",
    "    \"\"\"\n",
    "    def item(expr: pl.Expr) -> float:\n",
    "        return data.select(expr).item()\n",
    "\n",
    "    μ_total = (col('μ') * col('n')).sum() / col('n').sum()\n",
    "    \n",
    "    # factor A sum of squares\n",
    "    ssa = ((col('μ') - μ_total)**2 * col('n')).sum()\n",
    "    dof_ssa = pl.len() - 1\n",
    "    \n",
    "    # error sum of squares\n",
    "    sse = (col('s')**2 * (col('n') - 1)).sum()\n",
    "    dof_sse = col('n').sum() - pl.len()\n",
    "    \n",
    "    msa = ssa / dof_ssa # factor A mean square\n",
    "    mse = sse / dof_sse # error mean square\n",
    "\n",
    "    return (\n",
    "        data\n",
    "        .group_by('dataset')\n",
    "        .agg(ssa=ssa, dof_ssa=dof_ssa, sse=sse, dof_sse=dof_sse, msa=msa, mse=mse)\n",
    "        .select(\n",
    "            'dataset', \n",
    "            source=pl.concat_list(lit('factor'), lit('error'), lit('total')),\n",
    "            SS=pl.concat_list('ssa', 'sse', col('ssa') + col('sse')),\n",
    "            dof=pl.concat_list('dof_ssa', 'dof_sse', col('dof_ssa') + col('dof_sse')),\n",
    "            MS=pl.concat_list('msa', 'mse', None),\n",
    "            F=pl.concat_list(col('msa') / col('mse'), None, None))\n",
    "        .explode('source', 'SS', 'dof', 'MS', 'F'))\n",
    "\n",
    "\n",
    "print(ans := ANOVA(data))"
   ]
  },
  {
   "cell_type": "markdown",
   "id": "33bd3fd2-3a39-4e88-917b-48f6496b0b17",
   "metadata": {},
   "source": [
    "On the other hand the 95% critical value $f(2, 57)$ is"
   ]
  },
  {
   "cell_type": "code",
   "execution_count": 15,
   "id": "27924785-b2c8-47ed-abda-cf4e1640a162",
   "metadata": {},
   "outputs": [
    {
     "data": {
      "text/plain": [
       "3.1588427192606465"
      ]
     },
     "execution_count": 15,
     "metadata": {},
     "output_type": "execute_result"
    }
   ],
   "source": [
    "stats.f(2, 57).ppf(0.95)"
   ]
  },
  {
   "cell_type": "markdown",
   "id": "872fe1b3-073e-4c52-93e8-764fdce292c1",
   "metadata": {},
   "source": [
    "Therefore both the sugar and fibert content F ratios (34.4 and 5.2 respectively) are greater than the critical value, meaning there are significant differences among the shelves."
   ]
  },
  {
   "cell_type": "markdown",
   "id": "2af505a3-1580-4ae6-a4f8-c9b898028835",
   "metadata": {},
   "source": [
    "#### (c)"
   ]
  },
  {
   "cell_type": "markdown",
   "id": "5f7a2831-361b-415a-9e39-9bed2a81a303",
   "metadata": {},
   "source": [
    "Shelf 2 contains cereals that are high in suger and low in fiber (refer to the line chart in (b)), in other words, \"taste good\". The grocery store's strategy is to place those where grade schoolers can easily see."
   ]
  },
  {
   "cell_type": "markdown",
   "id": "0d3bb4db-4db8-4dde-821a-352e925cb16e",
   "metadata": {},
   "source": [
    "### 2."
   ]
  },
  {
   "cell_type": "code",
   "execution_count": 16,
   "id": "55b3b6be-2c97-483b-82e6-f3e8940b6d0e",
   "metadata": {},
   "outputs": [
    {
     "name": "stdout",
     "output_type": "stream",
     "text": [
      "shape: (30, 2)\n",
      "┌───────┬─────────┐\n",
      "│ mg    ┆ taprate │\n",
      "│ ---   ┆ ---     │\n",
      "│ f64   ┆ f64     │\n",
      "╞═══════╪═════════╡\n",
      "│ 0.0   ┆ 242.0   │\n",
      "│ 0.0   ┆ 245.0   │\n",
      "│ 0.0   ┆ 244.0   │\n",
      "│ 0.0   ┆ 248.0   │\n",
      "│ 0.0   ┆ 247.0   │\n",
      "│ …     ┆ …       │\n",
      "│ 200.0 ┆ 250.0   │\n",
      "│ 200.0 ┆ 246.0   │\n",
      "│ 200.0 ┆ 248.0   │\n",
      "│ 200.0 ┆ 245.0   │\n",
      "│ 200.0 ┆ 250.0   │\n",
      "└───────┴─────────┘\n"
     ]
    }
   ],
   "source": [
    "with open('Ex12-2.json') as file:\n",
    "    data = pl.from_dict(json.load(file))\n",
    "print(data)"
   ]
  },
  {
   "cell_type": "code",
   "execution_count": 19,
   "id": "e1252732-e95d-4c83-8898-6c4f06f8b97d",
   "metadata": {},
   "outputs": [
    {
     "name": "stdout",
     "output_type": "stream",
     "text": [
      "shape: (30, 2)\n",
      "┌────────┬─────────┐\n",
      "│ dose   ┆ taprate │\n",
      "│ ---    ┆ ---     │\n",
      "│ str    ┆ i64     │\n",
      "╞════════╪═════════╡\n",
      "│ 0 mg   ┆ 242     │\n",
      "│ 0 mg   ┆ 245     │\n",
      "│ 0 mg   ┆ 244     │\n",
      "│ 0 mg   ┆ 248     │\n",
      "│ 0 mg   ┆ 247     │\n",
      "│ …      ┆ …       │\n",
      "│ 200 mg ┆ 250     │\n",
      "│ 200 mg ┆ 246     │\n",
      "│ 200 mg ┆ 248     │\n",
      "│ 200 mg ┆ 245     │\n",
      "│ 200 mg ┆ 250     │\n",
      "└────────┴─────────┘\n"
     ]
    }
   ],
   "source": [
    "data = (\n",
    "    data.cast({'mg': int, 'taprate': int})\n",
    "    .select(\n",
    "        dose=pl.format('{} mg', col('mg')),\n",
    "        taprate='taprate'))\n",
    "print(data)"
   ]
  },
  {
   "cell_type": "markdown",
   "id": "77a9fa04-7e9e-4db6-be93-95342310779d",
   "metadata": {},
   "source": [
    "#### (a)"
   ]
  },
  {
   "cell_type": "code",
   "execution_count": 29,
   "id": "5687a506-679f-4d81-b5b7-dc62d85a8b93",
   "metadata": {},
   "outputs": [
    {
     "data": {
      "text/html": [
       "\n",
       "<style>\n",
       "  #altair-viz-feed57a142cd4641b9d0aa062bb07da9.vega-embed {\n",
       "    width: 100%;\n",
       "    display: flex;\n",
       "  }\n",
       "\n",
       "  #altair-viz-feed57a142cd4641b9d0aa062bb07da9.vega-embed details,\n",
       "  #altair-viz-feed57a142cd4641b9d0aa062bb07da9.vega-embed details summary {\n",
       "    position: relative;\n",
       "  }\n",
       "</style>\n",
       "<div id=\"altair-viz-feed57a142cd4641b9d0aa062bb07da9\"></div>\n",
       "<script type=\"text/javascript\">\n",
       "  var VEGA_DEBUG = (typeof VEGA_DEBUG == \"undefined\") ? {} : VEGA_DEBUG;\n",
       "  (function(spec, embedOpt){\n",
       "    let outputDiv = document.currentScript.previousElementSibling;\n",
       "    if (outputDiv.id !== \"altair-viz-feed57a142cd4641b9d0aa062bb07da9\") {\n",
       "      outputDiv = document.getElementById(\"altair-viz-feed57a142cd4641b9d0aa062bb07da9\");\n",
       "    }\n",
       "    const paths = {\n",
       "      \"vega\": \"https://cdn.jsdelivr.net/npm/vega@5?noext\",\n",
       "      \"vega-lib\": \"https://cdn.jsdelivr.net/npm/vega-lib?noext\",\n",
       "      \"vega-lite\": \"https://cdn.jsdelivr.net/npm/vega-lite@5.16.3?noext\",\n",
       "      \"vega-embed\": \"https://cdn.jsdelivr.net/npm/vega-embed@6?noext\",\n",
       "    };\n",
       "\n",
       "    function maybeLoadScript(lib, version) {\n",
       "      var key = `${lib.replace(\"-\", \"\")}_version`;\n",
       "      return (VEGA_DEBUG[key] == version) ?\n",
       "        Promise.resolve(paths[lib]) :\n",
       "        new Promise(function(resolve, reject) {\n",
       "          var s = document.createElement('script');\n",
       "          document.getElementsByTagName(\"head\")[0].appendChild(s);\n",
       "          s.async = true;\n",
       "          s.onload = () => {\n",
       "            VEGA_DEBUG[key] = version;\n",
       "            return resolve(paths[lib]);\n",
       "          };\n",
       "          s.onerror = () => reject(`Error loading script: ${paths[lib]}`);\n",
       "          s.src = paths[lib];\n",
       "        });\n",
       "    }\n",
       "\n",
       "    function showError(err) {\n",
       "      outputDiv.innerHTML = `<div class=\"error\" style=\"color:red;\">${err}</div>`;\n",
       "      throw err;\n",
       "    }\n",
       "\n",
       "    function displayChart(vegaEmbed) {\n",
       "      vegaEmbed(outputDiv, spec, embedOpt)\n",
       "        .catch(err => showError(`Javascript Error: ${err.message}<br>This usually means there's a typo in your chart specification. See the javascript console for the full traceback.`));\n",
       "    }\n",
       "\n",
       "    if(typeof define === \"function\" && define.amd) {\n",
       "      requirejs.config({paths});\n",
       "      require([\"vega-embed\"], displayChart, err => showError(`Error loading script: ${err.message}`));\n",
       "    } else {\n",
       "      maybeLoadScript(\"vega\", \"5\")\n",
       "        .then(() => maybeLoadScript(\"vega-lite\", \"5.16.3\"))\n",
       "        .then(() => maybeLoadScript(\"vega-embed\", \"6\"))\n",
       "        .catch(showError)\n",
       "        .then(() => displayChart(vegaEmbed));\n",
       "    }\n",
       "  })({\"config\": {\"view\": {\"continuousWidth\": 300, \"continuousHeight\": 300}}, \"data\": {\"name\": \"data-c34b715001c3f0c305a09f1b5073d81e\"}, \"mark\": {\"type\": \"boxplot\"}, \"encoding\": {\"x\": {\"field\": \"taprate\", \"scale\": {\"zero\": false}, \"type\": \"quantitative\"}, \"y\": {\"field\": \"dose\", \"type\": \"nominal\"}}, \"$schema\": \"https://vega.github.io/schema/vega-lite/v5.16.3.json\", \"datasets\": {\"data-c34b715001c3f0c305a09f1b5073d81e\": [{\"dose\": \"0 mg\", \"taprate\": 242}, {\"dose\": \"0 mg\", \"taprate\": 245}, {\"dose\": \"0 mg\", \"taprate\": 244}, {\"dose\": \"0 mg\", \"taprate\": 248}, {\"dose\": \"0 mg\", \"taprate\": 247}, {\"dose\": \"0 mg\", \"taprate\": 248}, {\"dose\": \"0 mg\", \"taprate\": 242}, {\"dose\": \"0 mg\", \"taprate\": 244}, {\"dose\": \"0 mg\", \"taprate\": 246}, {\"dose\": \"0 mg\", \"taprate\": 242}, {\"dose\": \"100 mg\", \"taprate\": 248}, {\"dose\": \"100 mg\", \"taprate\": 246}, {\"dose\": \"100 mg\", \"taprate\": 245}, {\"dose\": \"100 mg\", \"taprate\": 247}, {\"dose\": \"100 mg\", \"taprate\": 248}, {\"dose\": \"100 mg\", \"taprate\": 250}, {\"dose\": \"100 mg\", \"taprate\": 247}, {\"dose\": \"100 mg\", \"taprate\": 246}, {\"dose\": \"100 mg\", \"taprate\": 243}, {\"dose\": \"100 mg\", \"taprate\": 244}, {\"dose\": \"200 mg\", \"taprate\": 246}, {\"dose\": \"200 mg\", \"taprate\": 248}, {\"dose\": \"200 mg\", \"taprate\": 250}, {\"dose\": \"200 mg\", \"taprate\": 252}, {\"dose\": \"200 mg\", \"taprate\": 248}, {\"dose\": \"200 mg\", \"taprate\": 250}, {\"dose\": \"200 mg\", \"taprate\": 246}, {\"dose\": \"200 mg\", \"taprate\": 248}, {\"dose\": \"200 mg\", \"taprate\": 245}, {\"dose\": \"200 mg\", \"taprate\": 250}]}}, {\"mode\": \"vega-lite\"});\n",
       "</script>"
      ],
      "text/plain": [
       "alt.Chart(...)"
      ]
     },
     "execution_count": 29,
     "metadata": {},
     "output_type": "execute_result"
    }
   ],
   "source": [
    "(\n",
    "    alt.Chart(data)\n",
    "    .mark_boxplot()\n",
    "    .encode(\n",
    "        alt.Y('dose'),\n",
    "        alt.X('taprate').scale(zero=False))\n",
    ")"
   ]
  },
  {
   "cell_type": "markdown",
   "id": "e6e28e8e-798a-4666-8cea-7e4a61a1217e",
   "metadata": {},
   "source": [
    "The chart seems to indicate different effects among the doses."
   ]
  },
  {
   "cell_type": "markdown",
   "id": "c51d393b-255e-4611-946d-ce447a4fdbe8",
   "metadata": {},
   "source": [
    "#### (b)"
   ]
  },
  {
   "cell_type": "code",
   "execution_count": 35,
   "id": "9823c426-1e20-49c3-b5ed-d21def8bed9a",
   "metadata": {},
   "outputs": [
    {
     "name": "stdout",
     "output_type": "stream",
     "text": [
      "shape: (3, 6)\n",
      "┌──────────┬────────┬───────┬─────┬──────────┬──────────┐\n",
      "│ dataset  ┆ source ┆ SS    ┆ dof ┆ MS       ┆ F        │\n",
      "│ ---      ┆ ---    ┆ ---   ┆ --- ┆ ---      ┆ ---      │\n",
      "│ str      ┆ str    ┆ f64   ┆ u32 ┆ f64      ┆ f64      │\n",
      "╞══════════╪════════╪═══════╪═════╪══════════╪══════════╡\n",
      "│ caffeine ┆ factor ┆ 61.4  ┆ 2   ┆ 30.7     ┆ 6.181208 │\n",
      "│ caffeine ┆ error  ┆ 134.1 ┆ 27  ┆ 4.966667 ┆ null     │\n",
      "│ caffeine ┆ total  ┆ 195.5 ┆ 29  ┆ null     ┆ null     │\n",
      "└──────────┴────────┴───────┴─────┴──────────┴──────────┘\n"
     ]
    }
   ],
   "source": [
    "ans = ANOVA(\n",
    "    data\n",
    "    .group_by('dose')\n",
    "    .agg(\n",
    "        n=pl.len(),\n",
    "        μ=col('taprate').mean(),\n",
    "        s=col('taprate').std())\n",
    "    .with_columns(dataset=pl.lit('caffeine'))\n",
    ")\n",
    "print(ans)"
   ]
  },
  {
   "cell_type": "markdown",
   "id": "0e788bf8-0c22-4f81-b0a9-fc60a4589467",
   "metadata": {},
   "source": [
    "On the other hand:"
   ]
  },
  {
   "cell_type": "code",
   "execution_count": 36,
   "id": "c86fbfd3-36c2-4038-a25e-cbf37ac948aa",
   "metadata": {},
   "outputs": [
    {
     "data": {
      "text/plain": [
       "2.5106086665585408"
      ]
     },
     "execution_count": 36,
     "metadata": {},
     "output_type": "execute_result"
    }
   ],
   "source": [
    "stats.f(2, 27).ppf(0.9)"
   ]
  },
  {
   "cell_type": "markdown",
   "id": "b68ccd4a-ac8a-474f-aab8-46beb48ec6eb",
   "metadata": {},
   "source": [
    "2.51 < 6.18, so yes, there are significant differences."
   ]
  },
  {
   "cell_type": "markdown",
   "id": "e97dec32-92a5-4889-bdf3-9cfe8b0c8bf6",
   "metadata": {},
   "source": [
    "#### (c)"
   ]
  },
  {
   "cell_type": "code",
   "execution_count": 73,
   "id": "5a98d274-338b-4937-96b6-dac6b5b11c53",
   "metadata": {},
   "outputs": [
    {
     "data": {
      "text/html": [
       "\n",
       "<style>\n",
       "  #altair-viz-ec1db30b84f54c83a4354423e9f38b81.vega-embed {\n",
       "    width: 100%;\n",
       "    display: flex;\n",
       "  }\n",
       "\n",
       "  #altair-viz-ec1db30b84f54c83a4354423e9f38b81.vega-embed details,\n",
       "  #altair-viz-ec1db30b84f54c83a4354423e9f38b81.vega-embed details summary {\n",
       "    position: relative;\n",
       "  }\n",
       "</style>\n",
       "<div id=\"altair-viz-ec1db30b84f54c83a4354423e9f38b81\"></div>\n",
       "<script type=\"text/javascript\">\n",
       "  var VEGA_DEBUG = (typeof VEGA_DEBUG == \"undefined\") ? {} : VEGA_DEBUG;\n",
       "  (function(spec, embedOpt){\n",
       "    let outputDiv = document.currentScript.previousElementSibling;\n",
       "    if (outputDiv.id !== \"altair-viz-ec1db30b84f54c83a4354423e9f38b81\") {\n",
       "      outputDiv = document.getElementById(\"altair-viz-ec1db30b84f54c83a4354423e9f38b81\");\n",
       "    }\n",
       "    const paths = {\n",
       "      \"vega\": \"https://cdn.jsdelivr.net/npm/vega@5?noext\",\n",
       "      \"vega-lib\": \"https://cdn.jsdelivr.net/npm/vega-lib?noext\",\n",
       "      \"vega-lite\": \"https://cdn.jsdelivr.net/npm/vega-lite@5.16.3?noext\",\n",
       "      \"vega-embed\": \"https://cdn.jsdelivr.net/npm/vega-embed@6?noext\",\n",
       "    };\n",
       "\n",
       "    function maybeLoadScript(lib, version) {\n",
       "      var key = `${lib.replace(\"-\", \"\")}_version`;\n",
       "      return (VEGA_DEBUG[key] == version) ?\n",
       "        Promise.resolve(paths[lib]) :\n",
       "        new Promise(function(resolve, reject) {\n",
       "          var s = document.createElement('script');\n",
       "          document.getElementsByTagName(\"head\")[0].appendChild(s);\n",
       "          s.async = true;\n",
       "          s.onload = () => {\n",
       "            VEGA_DEBUG[key] = version;\n",
       "            return resolve(paths[lib]);\n",
       "          };\n",
       "          s.onerror = () => reject(`Error loading script: ${paths[lib]}`);\n",
       "          s.src = paths[lib];\n",
       "        });\n",
       "    }\n",
       "\n",
       "    function showError(err) {\n",
       "      outputDiv.innerHTML = `<div class=\"error\" style=\"color:red;\">${err}</div>`;\n",
       "      throw err;\n",
       "    }\n",
       "\n",
       "    function displayChart(vegaEmbed) {\n",
       "      vegaEmbed(outputDiv, spec, embedOpt)\n",
       "        .catch(err => showError(`Javascript Error: ${err.message}<br>This usually means there's a typo in your chart specification. See the javascript console for the full traceback.`));\n",
       "    }\n",
       "\n",
       "    if(typeof define === \"function\" && define.amd) {\n",
       "      requirejs.config({paths});\n",
       "      require([\"vega-embed\"], displayChart, err => showError(`Error loading script: ${err.message}`));\n",
       "    } else {\n",
       "      maybeLoadScript(\"vega\", \"5\")\n",
       "        .then(() => maybeLoadScript(\"vega-lite\", \"5.16.3\"))\n",
       "        .then(() => maybeLoadScript(\"vega-embed\", \"6\"))\n",
       "        .catch(showError)\n",
       "        .then(() => displayChart(vegaEmbed));\n",
       "    }\n",
       "  })({\"config\": {\"view\": {\"continuousWidth\": 300, \"continuousHeight\": 300}}, \"hconcat\": [{\"mark\": {\"type\": \"circle\"}, \"encoding\": {\"x\": {\"field\": \"residual\", \"type\": \"quantitative\"}, \"y\": {\"field\": \"normal_score\", \"type\": \"quantitative\"}}}, {\"mark\": {\"type\": \"circle\"}, \"encoding\": {\"x\": {\"field\": \"dose\", \"type\": \"nominal\"}, \"y\": {\"field\": \"residual\", \"type\": \"quantitative\"}}}], \"data\": {\"name\": \"data-ad131f30beb372e52ed1cc66628503de\"}, \"$schema\": \"https://vega.github.io/schema/vega-lite/v5.16.3.json\", \"datasets\": {\"data-ad131f30beb372e52ed1cc66628503de\": [{\"dose\": \"0 mg\", \"taprate\": 242, \"residual\": -2.8000000000000114, \"normal_score\": -1.1309776082451584}, {\"dose\": \"0 mg\", \"taprate\": 245, \"residual\": 0.19999999999998863, \"normal_score\": 0.1215873827504829}, {\"dose\": \"0 mg\", \"taprate\": 244, \"residual\": -0.8000000000000114, \"normal_score\": -0.41598722018967504}, {\"dose\": \"0 mg\", \"taprate\": 248, \"residual\": 3.1999999999999886, \"normal_score\": 1.2112321309213452}, {\"dose\": \"0 mg\", \"taprate\": 247, \"residual\": 2.1999999999999886, \"normal_score\": 0.9891686273406353}, {\"dose\": \"0 mg\", \"taprate\": 248, \"residual\": 3.1999999999999886, \"normal_score\": 1.2112321309213452}, {\"dose\": \"0 mg\", \"taprate\": 242, \"residual\": -2.8000000000000114, \"normal_score\": -1.1309776082451584}, {\"dose\": \"0 mg\", \"taprate\": 244, \"residual\": -0.8000000000000114, \"normal_score\": -0.41598722018967504}, {\"dose\": \"0 mg\", \"taprate\": 246, \"residual\": 1.1999999999999886, \"normal_score\": 0.37228936046519107}, {\"dose\": \"0 mg\", \"taprate\": 242, \"residual\": -2.8000000000000114, \"normal_score\": -1.1309776082451584}, {\"dose\": \"100 mg\", \"taprate\": 248, \"residual\": 1.5999999999999943, \"normal_score\": 0.5059336541658119}, {\"dose\": \"100 mg\", \"taprate\": 246, \"residual\": -0.4000000000000057, \"normal_score\": -0.2450062230373207}, {\"dose\": \"100 mg\", \"taprate\": 245, \"residual\": -1.4000000000000057, \"normal_score\": -0.5524425846467742}, {\"dose\": \"100 mg\", \"taprate\": 247, \"residual\": 0.5999999999999943, \"normal_score\": 0.2450062230373207}, {\"dose\": \"100 mg\", \"taprate\": 248, \"residual\": 1.5999999999999943, \"normal_score\": 0.5059336541658119}, {\"dose\": \"100 mg\", \"taprate\": 250, \"residual\": 3.5999999999999943, \"normal_score\": 1.517929159594278}, {\"dose\": \"100 mg\", \"taprate\": 247, \"residual\": 0.5999999999999943, \"normal_score\": 0.2450062230373207}, {\"dose\": \"100 mg\", \"taprate\": 246, \"residual\": -0.4000000000000057, \"normal_score\": -0.2450062230373207}, {\"dose\": \"100 mg\", \"taprate\": 243, \"residual\": -3.4000000000000057, \"normal_score\": -1.8485962885014091}, {\"dose\": \"100 mg\", \"taprate\": 244, \"residual\": -2.4000000000000057, \"normal_score\": -0.8648943586852831}, {\"dose\": \"200 mg\", \"taprate\": 246, \"residual\": -2.3000000000000114, \"normal_score\": -0.7000902126075669}, {\"dose\": \"200 mg\", \"taprate\": 248, \"residual\": -0.30000000000001137, \"normal_score\": -0.04044050856564621}, {\"dose\": \"200 mg\", \"taprate\": 250, \"residual\": 1.6999999999999886, \"normal_score\": 0.7527287942581697}, {\"dose\": \"200 mg\", \"taprate\": 252, \"residual\": 3.6999999999999886, \"normal_score\": 1.8485962885014091}, {\"dose\": \"200 mg\", \"taprate\": 248, \"residual\": -0.30000000000001137, \"normal_score\": -0.04044050856564621}, {\"dose\": \"200 mg\", \"taprate\": 250, \"residual\": 1.6999999999999886, \"normal_score\": 0.7527287942581697}, {\"dose\": \"200 mg\", \"taprate\": 246, \"residual\": -2.3000000000000114, \"normal_score\": -0.7000902126075669}, {\"dose\": \"200 mg\", \"taprate\": 248, \"residual\": -0.30000000000001137, \"normal_score\": -0.04044050856564621}, {\"dose\": \"200 mg\", \"taprate\": 245, \"residual\": -3.3000000000000114, \"normal_score\": -1.5179291595942785}, {\"dose\": \"200 mg\", \"taprate\": 250, \"residual\": 1.6999999999999886, \"normal_score\": 0.7527287942581697}]}}, {\"mode\": \"vega-lite\"});\n",
       "</script>"
      ],
      "text/plain": [
       "alt.HConcatChart(...)"
      ]
     },
     "execution_count": 73,
     "metadata": {},
     "output_type": "execute_result"
    }
   ],
   "source": [
    "chart_base = (\n",
    "    alt.Chart(\n",
    "        data\n",
    "        .with_columns(\n",
    "            residual=col('taprate') - col('taprate').mean().over('dose'))\n",
    "        .with_columns(\n",
    "            normal_score=(col('residual').rank() / (pl.len() + 1)).map_batches(\n",
    "                lambda x: stats.norm.ppf(x))))\n",
    "    .mark_circle())\n",
    "\n",
    "(\n",
    "    chart_base.encode(\n",
    "        x='residual', \n",
    "        y='normal_score')\n",
    "    | chart_base.encode(\n",
    "        x='dose',\n",
    "        y='residual'))"
   ]
  },
  {
   "cell_type": "markdown",
   "id": "8d4a5f07-3616-4f0e-a329-945481fc93b1",
   "metadata": {},
   "source": [
    "From the charts: the residuals are fairly normally distributed, and the variance is consistant across different doses."
   ]
  },
  {
   "cell_type": "markdown",
   "id": "2d4a295b-4fe6-44dd-bc16-68a2ac1a632d",
   "metadata": {},
   "source": [
    "### 3."
   ]
  },
  {
   "cell_type": "code",
   "execution_count": 74,
   "id": "d26dea85-29bf-4bb8-9b16-bfb8d2355816",
   "metadata": {
    "scrolled": true
   },
   "outputs": [
    {
     "name": "stdout",
     "output_type": "stream",
     "text": [
      "shape: (75, 2)\n",
      "┌────────┬─────────┐\n",
      "│ AvgEgg ┆ Group   │\n",
      "│ ---    ┆ ---     │\n",
      "│ f64    ┆ str     │\n",
      "╞════════╪═════════╡\n",
      "│ 35.4   ┆ Control │\n",
      "│ 27.4   ┆ Control │\n",
      "│ 19.3   ┆ Control │\n",
      "│ 41.8   ┆ Control │\n",
      "│ 20.3   ┆ Control │\n",
      "│ …      ┆ …       │\n",
      "│ 15.1   ┆ Suscept │\n",
      "│ 31.0   ┆ Suscept │\n",
      "│ 16.9   ┆ Suscept │\n",
      "│ 16.1   ┆ Suscept │\n",
      "│ 10.8   ┆ Suscept │\n",
      "└────────┴─────────┘\n"
     ]
    }
   ],
   "source": [
    "with open('Ex12-3.json') as file:\n",
    "    data = pl.from_dict(json.load(file))\n",
    "print(data)"
   ]
  },
  {
   "cell_type": "markdown",
   "id": "eb63112f-1189-4797-92ce-f28b201470d4",
   "metadata": {},
   "source": [
    "#### (a)"
   ]
  },
  {
   "cell_type": "markdown",
   "id": "bbe3cd80-2726-4563-8d16-3087f323dcf9",
   "metadata": {},
   "source": [
    "## Section 12.2"
   ]
  }
 ],
 "metadata": {
  "kernelspec": {
   "display_name": "Python 3 (ipykernel)",
   "language": "python",
   "name": "python3"
  },
  "language_info": {
   "codemirror_mode": {
    "name": "ipython",
    "version": 3
   },
   "file_extension": ".py",
   "mimetype": "text/x-python",
   "name": "python",
   "nbconvert_exporter": "python",
   "pygments_lexer": "ipython3",
   "version": "3.10.12"
  }
 },
 "nbformat": 4,
 "nbformat_minor": 5
}
