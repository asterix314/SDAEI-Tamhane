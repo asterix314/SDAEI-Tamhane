{
 "cells": [
  {
   "cell_type": "markdown",
   "id": "7c0c714a-801d-4de5-96d7-e375584311c7",
   "metadata": {},
   "source": [
    "# Chapter 12 Analysis of Single Factor Experiments"
   ]
  },
  {
   "cell_type": "code",
   "execution_count": 25,
   "id": "77880b95-9144-4d43-9119-3197c2ea4432",
   "metadata": {},
   "outputs": [],
   "source": [
    "import json\n",
    "\n",
    "import polars as pl\n",
    "from polars import col, lit\n",
    "from scipy import stats\n",
    "import numpy as np\n",
    "import altair as alt\n",
    "\n",
    "# random number generator\n",
    "RNG = np.random.default_rng()"
   ]
  },
  {
   "cell_type": "markdown",
   "id": "ff855208-4011-419e-bfcd-c30c9014acf0",
   "metadata": {},
   "source": [
    "## Section 12.1"
   ]
  },
  {
   "cell_type": "markdown",
   "id": "62f159d3-bdc8-4e6a-a1e5-e9044628e414",
   "metadata": {},
   "source": [
    "### 1."
   ]
  },
  {
   "cell_type": "code",
   "execution_count": 74,
   "id": "64030157-1809-42e5-8888-0a49d21194d5",
   "metadata": {
    "scrolled": true
   },
   "outputs": [
    {
     "name": "stdout",
     "output_type": "stream",
     "text": [
      "shape: (3, 6)\n",
      "┌──────┬──────────┬─────────┬──────────┬─────────┬──────────┐\n",
      "│ n    ┆ SugarAvg ┆ SugarSD ┆ FiberAvg ┆ FiberSD ┆ Location │\n",
      "│ ---  ┆ ---      ┆ ---     ┆ ---      ┆ ---     ┆ ---      │\n",
      "│ f64  ┆ f64      ┆ f64     ┆ f64      ┆ f64     ┆ str      │\n",
      "╞══════╪══════════╪═════════╪══════════╪═════════╪══════════╡\n",
      "│ 20.0 ┆ 4.8      ┆ 2.138   ┆ 1.68     ┆ 1.166   ┆ Shelf1   │\n",
      "│ 20.0 ┆ 9.85     ┆ 1.985   ┆ 0.95     ┆ 1.162   ┆ Shelf2   │\n",
      "│ 20.0 ┆ 6.1      ┆ 1.865   ┆ 2.17     ┆ 1.277   ┆ Shelf3   │\n",
      "└──────┴──────────┴─────────┴──────────┴─────────┴──────────┘\n"
     ]
    }
   ],
   "source": [
    "with open('Ex12-1.json') as file:\n",
    "    data = pl.from_dict(json.load(file))\n",
    "print(data)"
   ]
  },
  {
   "cell_type": "markdown",
   "id": "4acd6e8e-f22d-4f49-91dc-b31f9e9ce095",
   "metadata": {},
   "source": [
    "Transform to a long format that is easier to work with in subsequent tasks."
   ]
  },
  {
   "cell_type": "code",
   "execution_count": 75,
   "id": "a596b921-05e7-4324-882f-9f491a1737fc",
   "metadata": {},
   "outputs": [
    {
     "name": "stdout",
     "output_type": "stream",
     "text": [
      "shape: (6, 5)\n",
      "┌────────┬─────┬─────────┬──────┬───────┐\n",
      "│ factor ┆ n   ┆ dataset ┆ μ    ┆ s     │\n",
      "│ ---    ┆ --- ┆ ---     ┆ ---  ┆ ---   │\n",
      "│ str    ┆ i64 ┆ str     ┆ f64  ┆ f64   │\n",
      "╞════════╪═════╪═════════╪══════╪═══════╡\n",
      "│ Shelf1 ┆ 20  ┆ fiber   ┆ 1.68 ┆ 1.166 │\n",
      "│ Shelf2 ┆ 20  ┆ fiber   ┆ 0.95 ┆ 1.162 │\n",
      "│ Shelf3 ┆ 20  ┆ fiber   ┆ 2.17 ┆ 1.277 │\n",
      "│ Shelf1 ┆ 20  ┆ sugar   ┆ 4.8  ┆ 2.138 │\n",
      "│ Shelf2 ┆ 20  ┆ sugar   ┆ 9.85 ┆ 1.985 │\n",
      "│ Shelf3 ┆ 20  ┆ sugar   ┆ 6.1  ┆ 1.865 │\n",
      "└────────┴─────┴─────────┴──────┴───────┘\n"
     ]
    }
   ],
   "source": [
    "data = (\n",
    "    data\n",
    "    .select(\n",
    "        factor='Location',\n",
    "        n=col('n').cast(int),\n",
    "        container=pl.concat_list(\n",
    "            pl.struct(dataset=lit('sugar'), μ='SugarAvg', s='SugarSD'),\n",
    "            pl.struct(dataset=lit('fiber'), μ='FiberAvg', s='FiberSD')))\n",
    "    .explode('container')\n",
    "    .unnest('container')\n",
    "    .sort('dataset', 'factor'))\n",
    "print(data)"
   ]
  },
  {
   "cell_type": "markdown",
   "id": "59667044-5a30-4605-8142-19430bc1f3fd",
   "metadata": {},
   "source": [
    "#### (a)"
   ]
  },
  {
   "cell_type": "markdown",
   "id": "9100826f-47a0-47ff-8ef2-e66e81904ecf",
   "metadata": {},
   "source": [
    "For (a), remember to use the _pooled_ $\\hat s$.\n",
    "$$\n",
    "\\text{CI} = \\hat\\mu_\\text{group} \\pm t_{N-a,\\ \\alpha/2} \\frac{\\hat{s}_\\text{pool}}{\\sqrt{n_\\text{group}}}\n",
    "$$"
   ]
  },
  {
   "cell_type": "code",
   "execution_count": 76,
   "id": "56ec5588-7ebc-4c75-8353-9620f0f25583",
   "metadata": {
    "scrolled": true
   },
   "outputs": [
    {
     "name": "stdout",
     "output_type": "stream",
     "text": [
      "shape: (6, 3)\n",
      "┌─────────┬────────┬───────────────────────┐\n",
      "│ dataset ┆ factor ┆ CI                    │\n",
      "│ ---     ┆ ---    ┆ ---                   │\n",
      "│ str     ┆ str    ┆ list[f64]             │\n",
      "╞═════════╪════════╪═══════════════════════╡\n",
      "│ sugar   ┆ Shelf1 ┆ [3.904862, 5.695138]  │\n",
      "│ sugar   ┆ Shelf2 ┆ [8.954862, 10.745138] │\n",
      "│ sugar   ┆ Shelf3 ┆ [5.204862, 6.995138]  │\n",
      "│ fiber   ┆ Shelf1 ┆ [1.141407, 2.218593]  │\n",
      "│ fiber   ┆ Shelf2 ┆ [0.411407, 1.488593]  │\n",
      "│ fiber   ┆ Shelf3 ┆ [1.631407, 2.708593]  │\n",
      "└─────────┴────────┴───────────────────────┘\n"
     ]
    }
   ],
   "source": [
    "def CI(data: pl.DataFrame, α: float=0.05) -> pl.DataFrame:\n",
    "    \"\"\" \n",
    "    returns the studentized CIs for each group in the data using a pooled s.\n",
    "\n",
    "    data columns:\n",
    "    - dataset: string id of dataset\n",
    "    - n: group size\n",
    "    - μ: group mean\n",
    "    - s: group standard deviation\n",
    "    \"\"\"\n",
    "    dof = col('n').sum() - pl.len()\n",
    "    t_crit = dof.map_elements(lambda v: stats.t.ppf(1-α/2, v))\n",
    "    s_pool = ((col('s')**2 * (col('n') - 1)).sum() / dof).sqrt()\n",
    "    \n",
    "    e = t_crit * s_pool / col('n').sqrt()\n",
    "    return (\n",
    "        data\n",
    "        .group_by('dataset')\n",
    "        .agg(\n",
    "            'factor',\n",
    "            CI=pl.concat_list(col('μ') - e, col('μ') + e))\n",
    "        .explode('factor', 'CI'))\n",
    "            \n",
    "print(ans := CI(data))"
   ]
  },
  {
   "cell_type": "markdown",
   "id": "413578bb-b0ab-4458-907a-677fdd020366",
   "metadata": {},
   "source": [
    "Let's visualize the CIs."
   ]
  },
  {
   "cell_type": "code",
   "execution_count": 77,
   "id": "92b1f4f3-c8bb-4cb6-8d98-a90a7cfdbfe4",
   "metadata": {
    "scrolled": true
   },
   "outputs": [
    {
     "data": {
      "text/html": [
       "\n",
       "<style>\n",
       "  #altair-viz-b63a9b1f1e35480b8150146eb57dd38d.vega-embed {\n",
       "    width: 100%;\n",
       "    display: flex;\n",
       "  }\n",
       "\n",
       "  #altair-viz-b63a9b1f1e35480b8150146eb57dd38d.vega-embed details,\n",
       "  #altair-viz-b63a9b1f1e35480b8150146eb57dd38d.vega-embed details summary {\n",
       "    position: relative;\n",
       "  }\n",
       "</style>\n",
       "<div id=\"altair-viz-b63a9b1f1e35480b8150146eb57dd38d\"></div>\n",
       "<script type=\"text/javascript\">\n",
       "  var VEGA_DEBUG = (typeof VEGA_DEBUG == \"undefined\") ? {} : VEGA_DEBUG;\n",
       "  (function(spec, embedOpt){\n",
       "    let outputDiv = document.currentScript.previousElementSibling;\n",
       "    if (outputDiv.id !== \"altair-viz-b63a9b1f1e35480b8150146eb57dd38d\") {\n",
       "      outputDiv = document.getElementById(\"altair-viz-b63a9b1f1e35480b8150146eb57dd38d\");\n",
       "    }\n",
       "    const paths = {\n",
       "      \"vega\": \"https://cdn.jsdelivr.net/npm/vega@5?noext\",\n",
       "      \"vega-lib\": \"https://cdn.jsdelivr.net/npm/vega-lib?noext\",\n",
       "      \"vega-lite\": \"https://cdn.jsdelivr.net/npm/vega-lite@5.16.3?noext\",\n",
       "      \"vega-embed\": \"https://cdn.jsdelivr.net/npm/vega-embed@6?noext\",\n",
       "    };\n",
       "\n",
       "    function maybeLoadScript(lib, version) {\n",
       "      var key = `${lib.replace(\"-\", \"\")}_version`;\n",
       "      return (VEGA_DEBUG[key] == version) ?\n",
       "        Promise.resolve(paths[lib]) :\n",
       "        new Promise(function(resolve, reject) {\n",
       "          var s = document.createElement('script');\n",
       "          document.getElementsByTagName(\"head\")[0].appendChild(s);\n",
       "          s.async = true;\n",
       "          s.onload = () => {\n",
       "            VEGA_DEBUG[key] = version;\n",
       "            return resolve(paths[lib]);\n",
       "          };\n",
       "          s.onerror = () => reject(`Error loading script: ${paths[lib]}`);\n",
       "          s.src = paths[lib];\n",
       "        });\n",
       "    }\n",
       "\n",
       "    function showError(err) {\n",
       "      outputDiv.innerHTML = `<div class=\"error\" style=\"color:red;\">${err}</div>`;\n",
       "      throw err;\n",
       "    }\n",
       "\n",
       "    function displayChart(vegaEmbed) {\n",
       "      vegaEmbed(outputDiv, spec, embedOpt)\n",
       "        .catch(err => showError(`Javascript Error: ${err.message}<br>This usually means there's a typo in your chart specification. See the javascript console for the full traceback.`));\n",
       "    }\n",
       "\n",
       "    if(typeof define === \"function\" && define.amd) {\n",
       "      requirejs.config({paths});\n",
       "      require([\"vega-embed\"], displayChart, err => showError(`Error loading script: ${err.message}`));\n",
       "    } else {\n",
       "      maybeLoadScript(\"vega\", \"5\")\n",
       "        .then(() => maybeLoadScript(\"vega-lite\", \"5.16.3\"))\n",
       "        .then(() => maybeLoadScript(\"vega-embed\", \"6\"))\n",
       "        .catch(showError)\n",
       "        .then(() => displayChart(vegaEmbed));\n",
       "    }\n",
       "  })({\"config\": {\"view\": {\"continuousWidth\": 300, \"continuousHeight\": 300}}, \"data\": {\"name\": \"data-326a5cc7767758f7b25cbb2ad0b58895\"}, \"mark\": {\"type\": \"line\", \"strokeWidth\": 2}, \"encoding\": {\"row\": {\"field\": \"dataset\", \"title\": null, \"type\": \"nominal\"}, \"x\": {\"field\": \"low\", \"title\": \"CI\", \"type\": \"quantitative\"}, \"x2\": {\"field\": \"high\"}, \"y\": {\"field\": \"factor\", \"title\": null, \"type\": \"nominal\"}}, \"resolve\": {\"scale\": {\"x\": \"independent\"}}, \"$schema\": \"https://vega.github.io/schema/vega-lite/v5.16.3.json\", \"datasets\": {\"data-326a5cc7767758f7b25cbb2ad0b58895\": [{\"dataset\": \"sugar\", \"factor\": \"Shelf1\", \"low\": 3.904862326639528, \"high\": 5.695137673360471}, {\"dataset\": \"sugar\", \"factor\": \"Shelf2\", \"low\": 8.954862326639528, \"high\": 10.745137673360471}, {\"dataset\": \"sugar\", \"factor\": \"Shelf3\", \"low\": 5.204862326639528, \"high\": 6.995137673360471}, {\"dataset\": \"fiber\", \"factor\": \"Shelf1\", \"low\": 1.141406957085243, \"high\": 2.218593042914757}, {\"dataset\": \"fiber\", \"factor\": \"Shelf2\", \"low\": 0.411406957085243, \"high\": 1.488593042914757}, {\"dataset\": \"fiber\", \"factor\": \"Shelf3\", \"low\": 1.631406957085243, \"high\": 2.7085930429147567}]}}, {\"mode\": \"vega-lite\"});\n",
       "</script>"
      ],
      "text/plain": [
       "alt.Chart(...)"
      ]
     },
     "execution_count": 77,
     "metadata": {},
     "output_type": "execute_result"
    }
   ],
   "source": [
    "(\n",
    "    alt.Chart(\n",
    "        ans.select('dataset', 'factor',\n",
    "            low=col('CI').list.first(),\n",
    "            high=col('CI').list.last()))\n",
    "    .mark_line(strokeWidth=2)\n",
    "    .encode(\n",
    "        alt.X('low').title('CI'),\n",
    "        alt.X2('high'),\n",
    "        alt.Y('factor').title(None),\n",
    "        alt.Row('dataset').title(None))\n",
    "    .resolve_scale(x='independent')\n",
    ")"
   ]
  },
  {
   "cell_type": "markdown",
   "id": "505975a2-a857-46fd-aa53-bbf3673f15ac",
   "metadata": {},
   "source": [
    "- Sugar: The CIs of Shelf1 and Shelf3 overlap, so no obvious differences. But Shelf2 stands out from the rest.\n",
    "- Fiber: By the same token, Shelf2 and Shelf3 are different becuuse their CIs do not overlap."
   ]
  },
  {
   "cell_type": "markdown",
   "id": "ea71f91f-c0d7-4180-9aa4-94aa2bf79643",
   "metadata": {},
   "source": [
    "#### (b)"
   ]
  },
  {
   "cell_type": "code",
   "execution_count": 81,
   "id": "c249e459-bb25-4d3f-8ea7-e4fc084c9b08",
   "metadata": {
    "scrolled": true
   },
   "outputs": [
    {
     "name": "stdout",
     "output_type": "stream",
     "text": [
      "shape: (6, 6)\n",
      "┌─────────┬────────┬────────────┬─────┬────────────┬───────────┐\n",
      "│ dataset ┆ source ┆ SS         ┆ dof ┆ MS         ┆ F         │\n",
      "│ ---     ┆ ---    ┆ ---        ┆ --- ┆ ---        ┆ ---       │\n",
      "│ str     ┆ str    ┆ f64        ┆ i64 ┆ f64        ┆ f64       │\n",
      "╞═════════╪════════╪════════════╪═════╪════════════╪═══════════╡\n",
      "│ sugar   ┆ factor ┆ 275.033333 ┆ 2   ┆ 137.516667 ┆ 34.409292 │\n",
      "│ sugar   ┆ error  ┆ 227.800386 ┆ 57  ┆ 3.996498   ┆ null      │\n",
      "│ sugar   ┆ total  ┆ 502.833719 ┆ 59  ┆ null       ┆ null      │\n",
      "│ fiber   ┆ factor ┆ 15.076     ┆ 2   ┆ 7.538      ┆ 5.209964  │\n",
      "│ fiber   ┆ error  ┆ 82.470051  ┆ 57  ┆ 1.446843   ┆ null      │\n",
      "│ fiber   ┆ total  ┆ 97.546051  ┆ 59  ┆ null       ┆ null      │\n",
      "└─────────┴────────┴────────────┴─────┴────────────┴───────────┘\n"
     ]
    }
   ],
   "source": [
    "def ANOVA(data: pl.DataFrame) -> pl.DataFrame:\n",
    "    \"\"\" \n",
    "    returns the 1-way ANOVA table as a DataFrame.\n",
    "\n",
    "    assuming the correct conditions of data:\n",
    "    - normality assumption\n",
    "    - constant variance\n",
    "\n",
    "    data columns:\n",
    "    - n: group size\n",
    "    - μ: group mean\n",
    "    - s: group standard deviation\n",
    "    \"\"\"\n",
    "    def item(expr: pl.Expr) -> float:\n",
    "        return data.select(expr).item()\n",
    "\n",
    "    μ_total = (col('μ') * col('n')).sum() / col('n').sum()\n",
    "    \n",
    "    # factor A sum of squares\n",
    "    ssa = ((col('μ') - μ_total)**2 * col('n')).sum()\n",
    "    dof_ssa = pl.len() - 1\n",
    "    \n",
    "    # error sum of squares\n",
    "    sse = (col('s')**2 * (col('n') - 1)).sum()\n",
    "    dof_sse = col('n').sum() - pl.len()\n",
    "    \n",
    "    msa = ssa / dof_ssa # factor A mean square\n",
    "    mse = sse / dof_sse # error mean square\n",
    "\n",
    "    return (\n",
    "        data\n",
    "        .group_by('dataset')\n",
    "        .agg(ssa=ssa, dof_ssa=dof_ssa, sse=sse, dof_sse=dof_sse, msa=msa, mse=mse)\n",
    "        .select(\n",
    "            'dataset', \n",
    "            source=pl.concat_list(lit('factor'), lit('error'), lit('total')),\n",
    "            SS=pl.concat_list('ssa', 'sse', col('ssa') + col('sse')),\n",
    "            dof=pl.concat_list('dof_ssa', 'dof_sse', col('dof_ssa') + col('dof_sse')),\n",
    "            MS=pl.concat_list('msa', 'mse', None),\n",
    "            F=pl.concat_list(col('msa') / col('mse'), None, None))\n",
    "        .explode('source', 'SS', 'dof', 'MS', 'F'))\n",
    "\n",
    "\n",
    "print(ans := ANOVA(data))"
   ]
  },
  {
   "cell_type": "code",
   "execution_count": 11,
   "id": "27924785-b2c8-47ed-abda-cf4e1640a162",
   "metadata": {},
   "outputs": [
    {
     "data": {
      "text/plain": [
       "34.40929200181425"
      ]
     },
     "execution_count": 11,
     "metadata": {},
     "output_type": "execute_result"
    }
   ],
   "source": [
    "ans.it"
   ]
  },
  {
   "cell_type": "markdown",
   "id": "2af505a3-1580-4ae6-a4f8-c9b898028835",
   "metadata": {},
   "source": [
    "#### (c)"
   ]
  },
  {
   "cell_type": "markdown",
   "id": "0d3bb4db-4db8-4dde-821a-352e925cb16e",
   "metadata": {},
   "source": [
    "### 2."
   ]
  },
  {
   "cell_type": "markdown",
   "id": "bbe3cd80-2726-4563-8d16-3087f323dcf9",
   "metadata": {},
   "source": [
    "## Section 12.2"
   ]
  }
 ],
 "metadata": {
  "kernelspec": {
   "display_name": "Python 3 (ipykernel)",
   "language": "python",
   "name": "python3"
  },
  "language_info": {
   "codemirror_mode": {
    "name": "ipython",
    "version": 3
   },
   "file_extension": ".py",
   "mimetype": "text/x-python",
   "name": "python",
   "nbconvert_exporter": "python",
   "pygments_lexer": "ipython3",
   "version": "3.10.12"
  }
 },
 "nbformat": 4,
 "nbformat_minor": 5
}
