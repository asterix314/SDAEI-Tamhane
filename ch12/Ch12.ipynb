{
 "cells": [
  {
   "cell_type": "markdown",
   "id": "7c0c714a-801d-4de5-96d7-e375584311c7",
   "metadata": {},
   "source": [
    "# Chapter 12 Analysis of Single Factor Experiments"
   ]
  },
  {
   "cell_type": "code",
   "execution_count": 1,
   "id": "77880b95-9144-4d43-9119-3197c2ea4432",
   "metadata": {},
   "outputs": [],
   "source": [
    "import json\n",
    "\n",
    "import polars as pl\n",
    "from polars import col, lit\n",
    "from scipy import stats\n",
    "import numpy as np\n",
    "import altair as alt\n",
    "\n",
    "# random number generator\n",
    "RNG = np.random.default_rng()"
   ]
  },
  {
   "cell_type": "markdown",
   "id": "ff855208-4011-419e-bfcd-c30c9014acf0",
   "metadata": {},
   "source": [
    "## Section 12.1"
   ]
  },
  {
   "cell_type": "markdown",
   "id": "62f159d3-bdc8-4e6a-a1e5-e9044628e414",
   "metadata": {},
   "source": [
    "### 1."
   ]
  },
  {
   "cell_type": "code",
   "execution_count": 2,
   "id": "64030157-1809-42e5-8888-0a49d21194d5",
   "metadata": {
    "scrolled": true
   },
   "outputs": [
    {
     "name": "stdout",
     "output_type": "stream",
     "text": [
      "shape: (3, 6)\n",
      "┌──────┬──────────┬─────────┬──────────┬─────────┬──────────┐\n",
      "│ n    ┆ SugarAvg ┆ SugarSD ┆ FiberAvg ┆ FiberSD ┆ Location │\n",
      "│ ---  ┆ ---      ┆ ---     ┆ ---      ┆ ---     ┆ ---      │\n",
      "│ f64  ┆ f64      ┆ f64     ┆ f64      ┆ f64     ┆ str      │\n",
      "╞══════╪══════════╪═════════╪══════════╪═════════╪══════════╡\n",
      "│ 20.0 ┆ 4.8      ┆ 2.138   ┆ 1.68     ┆ 1.166   ┆ Shelf1   │\n",
      "│ 20.0 ┆ 9.85     ┆ 1.985   ┆ 0.95     ┆ 1.162   ┆ Shelf2   │\n",
      "│ 20.0 ┆ 6.1      ┆ 1.865   ┆ 2.17     ┆ 1.277   ┆ Shelf3   │\n",
      "└──────┴──────────┴─────────┴──────────┴─────────┴──────────┘\n"
     ]
    }
   ],
   "source": [
    "with open('Ex12-1.json') as file:\n",
    "    data = pl.from_dict(json.load(file))\n",
    "print(data)"
   ]
  },
  {
   "cell_type": "markdown",
   "id": "4acd6e8e-f22d-4f49-91dc-b31f9e9ce095",
   "metadata": {},
   "source": [
    "Transform to a long format that is a bit easier to work with."
   ]
  },
  {
   "cell_type": "code",
   "execution_count": 3,
   "id": "a596b921-05e7-4324-882f-9f491a1737fc",
   "metadata": {},
   "outputs": [
    {
     "name": "stdout",
     "output_type": "stream",
     "text": [
      "shape: (6, 5)\n",
      "┌────────┬─────┬─────────┬──────┬───────┐\n",
      "│ factor ┆ n   ┆ dataset ┆ μ    ┆ s     │\n",
      "│ ---    ┆ --- ┆ ---     ┆ ---  ┆ ---   │\n",
      "│ str    ┆ i64 ┆ str     ┆ f64  ┆ f64   │\n",
      "╞════════╪═════╪═════════╪══════╪═══════╡\n",
      "│ Shelf1 ┆ 20  ┆ fiber   ┆ 1.68 ┆ 1.166 │\n",
      "│ Shelf2 ┆ 20  ┆ fiber   ┆ 0.95 ┆ 1.162 │\n",
      "│ Shelf3 ┆ 20  ┆ fiber   ┆ 2.17 ┆ 1.277 │\n",
      "│ Shelf1 ┆ 20  ┆ sugar   ┆ 4.8  ┆ 2.138 │\n",
      "│ Shelf2 ┆ 20  ┆ sugar   ┆ 9.85 ┆ 1.985 │\n",
      "│ Shelf3 ┆ 20  ┆ sugar   ┆ 6.1  ┆ 1.865 │\n",
      "└────────┴─────┴─────────┴──────┴───────┘\n"
     ]
    }
   ],
   "source": [
    "data = (\n",
    "    data\n",
    "    .select(\n",
    "        factor='Location',\n",
    "        n=col('n').cast(int),\n",
    "        container=pl.concat_list(\n",
    "            pl.struct(dataset=lit('sugar'), μ='SugarAvg', s='SugarSD'),\n",
    "            pl.struct(dataset=lit('fiber'), μ='FiberAvg', s='FiberSD')))\n",
    "    .explode('container')\n",
    "    .unnest('container')\n",
    "    .sort('dataset', 'factor'))\n",
    "print(data)"
   ]
  },
  {
   "cell_type": "markdown",
   "id": "59667044-5a30-4605-8142-19430bc1f3fd",
   "metadata": {},
   "source": [
    "#### (a)"
   ]
  },
  {
   "cell_type": "markdown",
   "id": "9100826f-47a0-47ff-8ef2-e66e81904ecf",
   "metadata": {},
   "source": [
    "For (a), remember to use the _pooled_ $\\hat s$.\n",
    "$$\n",
    "\\text{CI} = \\hat\\mu_\\text{group} \\pm t_{N-a,\\ \\alpha/2} \\frac{\\hat{s}_\\text{pool}}{\\sqrt{n_\\text{group}}}\n",
    "$$"
   ]
  },
  {
   "cell_type": "code",
   "execution_count": 4,
   "id": "56ec5588-7ebc-4c75-8353-9620f0f25583",
   "metadata": {
    "scrolled": true
   },
   "outputs": [
    {
     "name": "stdout",
     "output_type": "stream",
     "text": [
      "shape: (6, 3)\n",
      "┌─────────┬────────┬───────────────────────┐\n",
      "│ dataset ┆ factor ┆ CI                    │\n",
      "│ ---     ┆ ---    ┆ ---                   │\n",
      "│ str     ┆ str    ┆ list[f64]             │\n",
      "╞═════════╪════════╪═══════════════════════╡\n",
      "│ sugar   ┆ Shelf1 ┆ [3.904862, 5.695138]  │\n",
      "│ sugar   ┆ Shelf2 ┆ [8.954862, 10.745138] │\n",
      "│ sugar   ┆ Shelf3 ┆ [5.204862, 6.995138]  │\n",
      "│ fiber   ┆ Shelf1 ┆ [1.141407, 2.218593]  │\n",
      "│ fiber   ┆ Shelf2 ┆ [0.411407, 1.488593]  │\n",
      "│ fiber   ┆ Shelf3 ┆ [1.631407, 2.708593]  │\n",
      "└─────────┴────────┴───────────────────────┘\n"
     ]
    }
   ],
   "source": [
    "def CI(data: pl.DataFrame, α: float=0.05) -> pl.DataFrame:\n",
    "    \"\"\" \n",
    "    returns the studentized CIs for each group in the data using a pooled s.\n",
    "\n",
    "    data columns:\n",
    "    - dataset: string id of dataset\n",
    "    - factor: distinct for different treatment groups\n",
    "    - n: group size\n",
    "    - μ: group mean\n",
    "    - s: group standard deviation\n",
    "    \"\"\"\n",
    "    dof = col('n').sum() - pl.len()\n",
    "    t_crit = dof.map_elements(lambda v: stats.t.ppf(1-α/2, v))\n",
    "    s_pool = ((col('s')**2 * (col('n') - 1)).sum() / dof).sqrt()\n",
    "    \n",
    "    e = t_crit * s_pool / col('n').sqrt()\n",
    "    return (\n",
    "        data\n",
    "        .group_by('dataset')\n",
    "        .agg(\n",
    "            'factor',\n",
    "            CI=pl.concat_list(col('μ') - e, col('μ') + e))\n",
    "        .explode('factor', 'CI'))\n",
    "            \n",
    "print(ans := CI(data))"
   ]
  },
  {
   "cell_type": "markdown",
   "id": "413578bb-b0ab-4458-907a-677fdd020366",
   "metadata": {},
   "source": [
    "Let's visualize the CIs."
   ]
  },
  {
   "cell_type": "code",
   "execution_count": 5,
   "id": "92b1f4f3-c8bb-4cb6-8d98-a90a7cfdbfe4",
   "metadata": {
    "scrolled": true
   },
   "outputs": [
    {
     "data": {
      "text/html": [
       "\n",
       "<style>\n",
       "  #altair-viz-1ae3c921dfcf45f7a2552407b6ce1b3c.vega-embed {\n",
       "    width: 100%;\n",
       "    display: flex;\n",
       "  }\n",
       "\n",
       "  #altair-viz-1ae3c921dfcf45f7a2552407b6ce1b3c.vega-embed details,\n",
       "  #altair-viz-1ae3c921dfcf45f7a2552407b6ce1b3c.vega-embed details summary {\n",
       "    position: relative;\n",
       "  }\n",
       "</style>\n",
       "<div id=\"altair-viz-1ae3c921dfcf45f7a2552407b6ce1b3c\"></div>\n",
       "<script type=\"text/javascript\">\n",
       "  var VEGA_DEBUG = (typeof VEGA_DEBUG == \"undefined\") ? {} : VEGA_DEBUG;\n",
       "  (function(spec, embedOpt){\n",
       "    let outputDiv = document.currentScript.previousElementSibling;\n",
       "    if (outputDiv.id !== \"altair-viz-1ae3c921dfcf45f7a2552407b6ce1b3c\") {\n",
       "      outputDiv = document.getElementById(\"altair-viz-1ae3c921dfcf45f7a2552407b6ce1b3c\");\n",
       "    }\n",
       "    const paths = {\n",
       "      \"vega\": \"https://cdn.jsdelivr.net/npm/vega@5?noext\",\n",
       "      \"vega-lib\": \"https://cdn.jsdelivr.net/npm/vega-lib?noext\",\n",
       "      \"vega-lite\": \"https://cdn.jsdelivr.net/npm/vega-lite@5.16.3?noext\",\n",
       "      \"vega-embed\": \"https://cdn.jsdelivr.net/npm/vega-embed@6?noext\",\n",
       "    };\n",
       "\n",
       "    function maybeLoadScript(lib, version) {\n",
       "      var key = `${lib.replace(\"-\", \"\")}_version`;\n",
       "      return (VEGA_DEBUG[key] == version) ?\n",
       "        Promise.resolve(paths[lib]) :\n",
       "        new Promise(function(resolve, reject) {\n",
       "          var s = document.createElement('script');\n",
       "          document.getElementsByTagName(\"head\")[0].appendChild(s);\n",
       "          s.async = true;\n",
       "          s.onload = () => {\n",
       "            VEGA_DEBUG[key] = version;\n",
       "            return resolve(paths[lib]);\n",
       "          };\n",
       "          s.onerror = () => reject(`Error loading script: ${paths[lib]}`);\n",
       "          s.src = paths[lib];\n",
       "        });\n",
       "    }\n",
       "\n",
       "    function showError(err) {\n",
       "      outputDiv.innerHTML = `<div class=\"error\" style=\"color:red;\">${err}</div>`;\n",
       "      throw err;\n",
       "    }\n",
       "\n",
       "    function displayChart(vegaEmbed) {\n",
       "      vegaEmbed(outputDiv, spec, embedOpt)\n",
       "        .catch(err => showError(`Javascript Error: ${err.message}<br>This usually means there's a typo in your chart specification. See the javascript console for the full traceback.`));\n",
       "    }\n",
       "\n",
       "    if(typeof define === \"function\" && define.amd) {\n",
       "      requirejs.config({paths});\n",
       "      require([\"vega-embed\"], displayChart, err => showError(`Error loading script: ${err.message}`));\n",
       "    } else {\n",
       "      maybeLoadScript(\"vega\", \"5\")\n",
       "        .then(() => maybeLoadScript(\"vega-lite\", \"5.16.3\"))\n",
       "        .then(() => maybeLoadScript(\"vega-embed\", \"6\"))\n",
       "        .catch(showError)\n",
       "        .then(() => displayChart(vegaEmbed));\n",
       "    }\n",
       "  })({\"config\": {\"view\": {\"continuousWidth\": 300, \"continuousHeight\": 300}}, \"data\": {\"name\": \"data-326a5cc7767758f7b25cbb2ad0b58895\"}, \"mark\": {\"type\": \"line\", \"strokeWidth\": 2}, \"encoding\": {\"row\": {\"field\": \"dataset\", \"title\": null, \"type\": \"nominal\"}, \"x\": {\"field\": \"low\", \"title\": \"CI\", \"type\": \"quantitative\"}, \"x2\": {\"field\": \"high\"}, \"y\": {\"field\": \"factor\", \"title\": null, \"type\": \"nominal\"}}, \"resolve\": {\"scale\": {\"x\": \"independent\"}}, \"$schema\": \"https://vega.github.io/schema/vega-lite/v5.16.3.json\", \"datasets\": {\"data-326a5cc7767758f7b25cbb2ad0b58895\": [{\"dataset\": \"sugar\", \"factor\": \"Shelf1\", \"low\": 3.904862326639528, \"high\": 5.695137673360471}, {\"dataset\": \"sugar\", \"factor\": \"Shelf2\", \"low\": 8.954862326639528, \"high\": 10.745137673360471}, {\"dataset\": \"sugar\", \"factor\": \"Shelf3\", \"low\": 5.204862326639528, \"high\": 6.995137673360471}, {\"dataset\": \"fiber\", \"factor\": \"Shelf1\", \"low\": 1.141406957085243, \"high\": 2.218593042914757}, {\"dataset\": \"fiber\", \"factor\": \"Shelf2\", \"low\": 0.411406957085243, \"high\": 1.488593042914757}, {\"dataset\": \"fiber\", \"factor\": \"Shelf3\", \"low\": 1.631406957085243, \"high\": 2.7085930429147567}]}}, {\"mode\": \"vega-lite\"});\n",
       "</script>"
      ],
      "text/plain": [
       "alt.Chart(...)"
      ]
     },
     "execution_count": 5,
     "metadata": {},
     "output_type": "execute_result"
    }
   ],
   "source": [
    "(\n",
    "    alt.Chart(\n",
    "        ans.select('dataset', 'factor',\n",
    "            low=col('CI').list.first(),\n",
    "            high=col('CI').list.last()))\n",
    "    .mark_line(strokeWidth=2)\n",
    "    .encode(\n",
    "        alt.X('low').title('CI'),\n",
    "        alt.X2('high'),\n",
    "        alt.Y('factor').title(None),\n",
    "        alt.Row('dataset').title(None))\n",
    "    .resolve_scale(x='independent')\n",
    ")"
   ]
  },
  {
   "cell_type": "markdown",
   "id": "505975a2-a857-46fd-aa53-bbf3673f15ac",
   "metadata": {},
   "source": [
    "- Sugar: The CIs of Shelf1 and Shelf3 overlap, so no obvious differences. But Shelf2 stands out from the rest.\n",
    "- Fiber: By the same token, Shelf2 and Shelf3 are different becuuse their CIs do not overlap."
   ]
  },
  {
   "cell_type": "markdown",
   "id": "ea71f91f-c0d7-4180-9aa4-94aa2bf79643",
   "metadata": {},
   "source": [
    "#### (b)"
   ]
  },
  {
   "cell_type": "code",
   "execution_count": 14,
   "id": "c249e459-bb25-4d3f-8ea7-e4fc084c9b08",
   "metadata": {
    "scrolled": true
   },
   "outputs": [
    {
     "name": "stdout",
     "output_type": "stream",
     "text": [
      "shape: (6, 6)\n",
      "┌─────────┬────────┬────────────┬─────┬────────────┬───────────┐\n",
      "│ dataset ┆ source ┆ SS         ┆ dof ┆ MS         ┆ F         │\n",
      "│ ---     ┆ ---    ┆ ---        ┆ --- ┆ ---        ┆ ---       │\n",
      "│ str     ┆ str    ┆ f64        ┆ i64 ┆ f64        ┆ f64       │\n",
      "╞═════════╪════════╪════════════╪═════╪════════════╪═══════════╡\n",
      "│ sugar   ┆ factor ┆ 275.033333 ┆ 2   ┆ 137.516667 ┆ 34.409292 │\n",
      "│ sugar   ┆ error  ┆ 227.800386 ┆ 57  ┆ 3.996498   ┆ null      │\n",
      "│ sugar   ┆ total  ┆ 502.833719 ┆ 59  ┆ null       ┆ null      │\n",
      "│ fiber   ┆ factor ┆ 15.076     ┆ 2   ┆ 7.538      ┆ 5.209964  │\n",
      "│ fiber   ┆ error  ┆ 82.470051  ┆ 57  ┆ 1.446843   ┆ null      │\n",
      "│ fiber   ┆ total  ┆ 97.546051  ┆ 59  ┆ null       ┆ null      │\n",
      "└─────────┴────────┴────────────┴─────┴────────────┴───────────┘\n"
     ]
    }
   ],
   "source": [
    "def ANOVA(data: pl.DataFrame) -> pl.DataFrame:\n",
    "    \"\"\" \n",
    "    returns the 1-way ANOVA table as a DataFrame.\n",
    "\n",
    "    assuming the correct conditions of data:\n",
    "    - normality assumption\n",
    "    - constant variance\n",
    "\n",
    "    data columns:\n",
    "    - dataset: string id of dataset\n",
    "    - n: group size\n",
    "    - μ: group mean\n",
    "    - s: group standard deviation\n",
    "    \"\"\"\n",
    "    def item(expr: pl.Expr) -> float:\n",
    "        return data.select(expr).item()\n",
    "\n",
    "    μ_total = (col('μ') * col('n')).sum() / col('n').sum()\n",
    "    \n",
    "    # factor A sum of squares\n",
    "    ssa = ((col('μ') - μ_total)**2 * col('n')).sum()\n",
    "    dof_ssa = pl.len() - 1\n",
    "    \n",
    "    # error sum of squares\n",
    "    sse = (col('s')**2 * (col('n') - 1)).sum()\n",
    "    dof_sse = col('n').sum() - pl.len()\n",
    "    \n",
    "    msa = ssa / dof_ssa # factor A mean square\n",
    "    mse = sse / dof_sse # error mean square\n",
    "\n",
    "    return (\n",
    "        data\n",
    "        .group_by('dataset')\n",
    "        .agg(ssa=ssa, dof_ssa=dof_ssa, sse=sse, dof_sse=dof_sse, msa=msa, mse=mse)\n",
    "        .select(\n",
    "            'dataset', \n",
    "            source=pl.concat_list(lit('factor'), lit('error'), lit('total')),\n",
    "            SS=pl.concat_list('ssa', 'sse', col('ssa') + col('sse')),\n",
    "            dof=pl.concat_list('dof_ssa', 'dof_sse', col('dof_ssa') + col('dof_sse')),\n",
    "            MS=pl.concat_list('msa', 'mse', None),\n",
    "            F=pl.concat_list(col('msa') / col('mse'), None, None))\n",
    "        .explode('source', 'SS', 'dof', 'MS', 'F'))\n",
    "\n",
    "\n",
    "print(ans := ANOVA(data))"
   ]
  },
  {
   "cell_type": "markdown",
   "id": "33bd3fd2-3a39-4e88-917b-48f6496b0b17",
   "metadata": {},
   "source": [
    "On the other hand the 95% critical value $f(2, 57)$ is"
   ]
  },
  {
   "cell_type": "code",
   "execution_count": 15,
   "id": "27924785-b2c8-47ed-abda-cf4e1640a162",
   "metadata": {},
   "outputs": [
    {
     "data": {
      "text/plain": [
       "3.1588427192606465"
      ]
     },
     "execution_count": 15,
     "metadata": {},
     "output_type": "execute_result"
    }
   ],
   "source": [
    "stats.f(2, 57).ppf(0.95)"
   ]
  },
  {
   "cell_type": "markdown",
   "id": "872fe1b3-073e-4c52-93e8-764fdce292c1",
   "metadata": {},
   "source": [
    "Therefore both the sugar and fibert content F ratios (34.4 and 5.2 respectively) are greater than the critical value, meaning there are significant differences among the shelves."
   ]
  },
  {
   "cell_type": "markdown",
   "id": "2af505a3-1580-4ae6-a4f8-c9b898028835",
   "metadata": {},
   "source": [
    "#### (c)"
   ]
  },
  {
   "cell_type": "markdown",
   "id": "5f7a2831-361b-415a-9e39-9bed2a81a303",
   "metadata": {},
   "source": [
    "Shelf 2 contains cereals that are high in suger and low in fiber (refer to the line chart in (b)), in other words, \"taste good\". The grocery store's strategy is to place those where grade schoolers can easily see."
   ]
  },
  {
   "cell_type": "markdown",
   "id": "0d3bb4db-4db8-4dde-821a-352e925cb16e",
   "metadata": {},
   "source": [
    "### 2."
   ]
  },
  {
   "cell_type": "code",
   "execution_count": 99,
   "id": "55b3b6be-2c97-483b-82e6-f3e8940b6d0e",
   "metadata": {},
   "outputs": [
    {
     "name": "stdout",
     "output_type": "stream",
     "text": [
      "shape: (30, 2)\n",
      "┌───────┬─────────┐\n",
      "│ mg    ┆ taprate │\n",
      "│ ---   ┆ ---     │\n",
      "│ f64   ┆ f64     │\n",
      "╞═══════╪═════════╡\n",
      "│ 0.0   ┆ 242.0   │\n",
      "│ 0.0   ┆ 245.0   │\n",
      "│ 0.0   ┆ 244.0   │\n",
      "│ 0.0   ┆ 248.0   │\n",
      "│ 0.0   ┆ 247.0   │\n",
      "│ …     ┆ …       │\n",
      "│ 200.0 ┆ 250.0   │\n",
      "│ 200.0 ┆ 246.0   │\n",
      "│ 200.0 ┆ 248.0   │\n",
      "│ 200.0 ┆ 245.0   │\n",
      "│ 200.0 ┆ 250.0   │\n",
      "└───────┴─────────┘\n"
     ]
    }
   ],
   "source": [
    "with open('Ex12-2.json') as file:\n",
    "    data = pl.from_dict(json.load(file))\n",
    "print(data)"
   ]
  },
  {
   "cell_type": "code",
   "execution_count": 100,
   "id": "e1252732-e95d-4c83-8898-6c4f06f8b97d",
   "metadata": {},
   "outputs": [
    {
     "name": "stdout",
     "output_type": "stream",
     "text": [
      "shape: (30, 2)\n",
      "┌────────┬─────────┐\n",
      "│ dose   ┆ taprate │\n",
      "│ ---    ┆ ---     │\n",
      "│ str    ┆ i64     │\n",
      "╞════════╪═════════╡\n",
      "│ 0 mg   ┆ 242     │\n",
      "│ 0 mg   ┆ 245     │\n",
      "│ 0 mg   ┆ 244     │\n",
      "│ 0 mg   ┆ 248     │\n",
      "│ 0 mg   ┆ 247     │\n",
      "│ …      ┆ …       │\n",
      "│ 200 mg ┆ 250     │\n",
      "│ 200 mg ┆ 246     │\n",
      "│ 200 mg ┆ 248     │\n",
      "│ 200 mg ┆ 245     │\n",
      "│ 200 mg ┆ 250     │\n",
      "└────────┴─────────┘\n"
     ]
    }
   ],
   "source": [
    "data = (\n",
    "    data.cast({'mg': int, 'taprate': int})\n",
    "    .select(\n",
    "        dose=pl.format('{} mg', col('mg')),\n",
    "        taprate='taprate'))\n",
    "print(data)"
   ]
  },
  {
   "cell_type": "markdown",
   "id": "77a9fa04-7e9e-4db6-be93-95342310779d",
   "metadata": {},
   "source": [
    "#### (a)"
   ]
  },
  {
   "cell_type": "code",
   "execution_count": 101,
   "id": "5687a506-679f-4d81-b5b7-dc62d85a8b93",
   "metadata": {},
   "outputs": [
    {
     "data": {
      "text/html": [
       "\n",
       "<style>\n",
       "  #altair-viz-2fae17441a6f4aac89b8d1dda6379a6d.vega-embed {\n",
       "    width: 100%;\n",
       "    display: flex;\n",
       "  }\n",
       "\n",
       "  #altair-viz-2fae17441a6f4aac89b8d1dda6379a6d.vega-embed details,\n",
       "  #altair-viz-2fae17441a6f4aac89b8d1dda6379a6d.vega-embed details summary {\n",
       "    position: relative;\n",
       "  }\n",
       "</style>\n",
       "<div id=\"altair-viz-2fae17441a6f4aac89b8d1dda6379a6d\"></div>\n",
       "<script type=\"text/javascript\">\n",
       "  var VEGA_DEBUG = (typeof VEGA_DEBUG == \"undefined\") ? {} : VEGA_DEBUG;\n",
       "  (function(spec, embedOpt){\n",
       "    let outputDiv = document.currentScript.previousElementSibling;\n",
       "    if (outputDiv.id !== \"altair-viz-2fae17441a6f4aac89b8d1dda6379a6d\") {\n",
       "      outputDiv = document.getElementById(\"altair-viz-2fae17441a6f4aac89b8d1dda6379a6d\");\n",
       "    }\n",
       "    const paths = {\n",
       "      \"vega\": \"https://cdn.jsdelivr.net/npm/vega@5?noext\",\n",
       "      \"vega-lib\": \"https://cdn.jsdelivr.net/npm/vega-lib?noext\",\n",
       "      \"vega-lite\": \"https://cdn.jsdelivr.net/npm/vega-lite@5.16.3?noext\",\n",
       "      \"vega-embed\": \"https://cdn.jsdelivr.net/npm/vega-embed@6?noext\",\n",
       "    };\n",
       "\n",
       "    function maybeLoadScript(lib, version) {\n",
       "      var key = `${lib.replace(\"-\", \"\")}_version`;\n",
       "      return (VEGA_DEBUG[key] == version) ?\n",
       "        Promise.resolve(paths[lib]) :\n",
       "        new Promise(function(resolve, reject) {\n",
       "          var s = document.createElement('script');\n",
       "          document.getElementsByTagName(\"head\")[0].appendChild(s);\n",
       "          s.async = true;\n",
       "          s.onload = () => {\n",
       "            VEGA_DEBUG[key] = version;\n",
       "            return resolve(paths[lib]);\n",
       "          };\n",
       "          s.onerror = () => reject(`Error loading script: ${paths[lib]}`);\n",
       "          s.src = paths[lib];\n",
       "        });\n",
       "    }\n",
       "\n",
       "    function showError(err) {\n",
       "      outputDiv.innerHTML = `<div class=\"error\" style=\"color:red;\">${err}</div>`;\n",
       "      throw err;\n",
       "    }\n",
       "\n",
       "    function displayChart(vegaEmbed) {\n",
       "      vegaEmbed(outputDiv, spec, embedOpt)\n",
       "        .catch(err => showError(`Javascript Error: ${err.message}<br>This usually means there's a typo in your chart specification. See the javascript console for the full traceback.`));\n",
       "    }\n",
       "\n",
       "    if(typeof define === \"function\" && define.amd) {\n",
       "      requirejs.config({paths});\n",
       "      require([\"vega-embed\"], displayChart, err => showError(`Error loading script: ${err.message}`));\n",
       "    } else {\n",
       "      maybeLoadScript(\"vega\", \"5\")\n",
       "        .then(() => maybeLoadScript(\"vega-lite\", \"5.16.3\"))\n",
       "        .then(() => maybeLoadScript(\"vega-embed\", \"6\"))\n",
       "        .catch(showError)\n",
       "        .then(() => displayChart(vegaEmbed));\n",
       "    }\n",
       "  })({\"config\": {\"view\": {\"continuousWidth\": 300, \"continuousHeight\": 300}}, \"data\": {\"name\": \"data-c34b715001c3f0c305a09f1b5073d81e\"}, \"mark\": {\"type\": \"boxplot\"}, \"encoding\": {\"x\": {\"field\": \"taprate\", \"scale\": {\"zero\": false}, \"type\": \"quantitative\"}, \"y\": {\"field\": \"dose\", \"type\": \"nominal\"}}, \"$schema\": \"https://vega.github.io/schema/vega-lite/v5.16.3.json\", \"datasets\": {\"data-c34b715001c3f0c305a09f1b5073d81e\": [{\"dose\": \"0 mg\", \"taprate\": 242}, {\"dose\": \"0 mg\", \"taprate\": 245}, {\"dose\": \"0 mg\", \"taprate\": 244}, {\"dose\": \"0 mg\", \"taprate\": 248}, {\"dose\": \"0 mg\", \"taprate\": 247}, {\"dose\": \"0 mg\", \"taprate\": 248}, {\"dose\": \"0 mg\", \"taprate\": 242}, {\"dose\": \"0 mg\", \"taprate\": 244}, {\"dose\": \"0 mg\", \"taprate\": 246}, {\"dose\": \"0 mg\", \"taprate\": 242}, {\"dose\": \"100 mg\", \"taprate\": 248}, {\"dose\": \"100 mg\", \"taprate\": 246}, {\"dose\": \"100 mg\", \"taprate\": 245}, {\"dose\": \"100 mg\", \"taprate\": 247}, {\"dose\": \"100 mg\", \"taprate\": 248}, {\"dose\": \"100 mg\", \"taprate\": 250}, {\"dose\": \"100 mg\", \"taprate\": 247}, {\"dose\": \"100 mg\", \"taprate\": 246}, {\"dose\": \"100 mg\", \"taprate\": 243}, {\"dose\": \"100 mg\", \"taprate\": 244}, {\"dose\": \"200 mg\", \"taprate\": 246}, {\"dose\": \"200 mg\", \"taprate\": 248}, {\"dose\": \"200 mg\", \"taprate\": 250}, {\"dose\": \"200 mg\", \"taprate\": 252}, {\"dose\": \"200 mg\", \"taprate\": 248}, {\"dose\": \"200 mg\", \"taprate\": 250}, {\"dose\": \"200 mg\", \"taprate\": 246}, {\"dose\": \"200 mg\", \"taprate\": 248}, {\"dose\": \"200 mg\", \"taprate\": 245}, {\"dose\": \"200 mg\", \"taprate\": 250}]}}, {\"mode\": \"vega-lite\"});\n",
       "</script>"
      ],
      "text/plain": [
       "alt.Chart(...)"
      ]
     },
     "execution_count": 101,
     "metadata": {},
     "output_type": "execute_result"
    }
   ],
   "source": [
    "(\n",
    "    alt.Chart(data)\n",
    "    .mark_boxplot()\n",
    "    .encode(\n",
    "        alt.Y('dose'),\n",
    "        alt.X('taprate').scale(zero=False))\n",
    ")"
   ]
  },
  {
   "cell_type": "markdown",
   "id": "e6e28e8e-798a-4666-8cea-7e4a61a1217e",
   "metadata": {},
   "source": [
    "The chart seems to indicate different effects among the doses."
   ]
  },
  {
   "cell_type": "markdown",
   "id": "c51d393b-255e-4611-946d-ce447a4fdbe8",
   "metadata": {},
   "source": [
    "#### (b)"
   ]
  },
  {
   "cell_type": "code",
   "execution_count": 102,
   "id": "9823c426-1e20-49c3-b5ed-d21def8bed9a",
   "metadata": {},
   "outputs": [
    {
     "name": "stdout",
     "output_type": "stream",
     "text": [
      "shape: (3, 6)\n",
      "┌──────────┬────────┬───────┬─────┬──────────┬──────────┐\n",
      "│ dataset  ┆ source ┆ SS    ┆ dof ┆ MS       ┆ F        │\n",
      "│ ---      ┆ ---    ┆ ---   ┆ --- ┆ ---      ┆ ---      │\n",
      "│ str      ┆ str    ┆ f64   ┆ u32 ┆ f64      ┆ f64      │\n",
      "╞══════════╪════════╪═══════╪═════╪══════════╪══════════╡\n",
      "│ caffeine ┆ factor ┆ 61.4  ┆ 2   ┆ 30.7     ┆ 6.181208 │\n",
      "│ caffeine ┆ error  ┆ 134.1 ┆ 27  ┆ 4.966667 ┆ null     │\n",
      "│ caffeine ┆ total  ┆ 195.5 ┆ 29  ┆ null     ┆ null     │\n",
      "└──────────┴────────┴───────┴─────┴──────────┴──────────┘\n"
     ]
    }
   ],
   "source": [
    "ans = ANOVA(\n",
    "    data\n",
    "    .group_by('dose')\n",
    "    .agg(\n",
    "        n=pl.len(),\n",
    "        μ=col('taprate').mean(),\n",
    "        s=col('taprate').std())\n",
    "    .with_columns(dataset=pl.lit('caffeine'))\n",
    ")\n",
    "print(ans)"
   ]
  },
  {
   "cell_type": "markdown",
   "id": "0e788bf8-0c22-4f81-b0a9-fc60a4589467",
   "metadata": {},
   "source": [
    "On the other hand:"
   ]
  },
  {
   "cell_type": "code",
   "execution_count": 36,
   "id": "c86fbfd3-36c2-4038-a25e-cbf37ac948aa",
   "metadata": {},
   "outputs": [
    {
     "data": {
      "text/plain": [
       "2.5106086665585408"
      ]
     },
     "execution_count": 36,
     "metadata": {},
     "output_type": "execute_result"
    }
   ],
   "source": [
    "stats.f(2, 27).ppf(0.9)"
   ]
  },
  {
   "cell_type": "markdown",
   "id": "b68ccd4a-ac8a-474f-aab8-46beb48ec6eb",
   "metadata": {},
   "source": [
    "2.51 < 6.18, so yes, there are significant differences."
   ]
  },
  {
   "cell_type": "markdown",
   "id": "e97dec32-92a5-4889-bdf3-9cfe8b0c8bf6",
   "metadata": {},
   "source": [
    "#### (c)"
   ]
  },
  {
   "cell_type": "code",
   "execution_count": 105,
   "id": "5a98d274-338b-4937-96b6-dac6b5b11c53",
   "metadata": {},
   "outputs": [
    {
     "data": {
      "text/html": [
       "\n",
       "<style>\n",
       "  #altair-viz-affeb13ffaad4cd7a52b569873520a4a.vega-embed {\n",
       "    width: 100%;\n",
       "    display: flex;\n",
       "  }\n",
       "\n",
       "  #altair-viz-affeb13ffaad4cd7a52b569873520a4a.vega-embed details,\n",
       "  #altair-viz-affeb13ffaad4cd7a52b569873520a4a.vega-embed details summary {\n",
       "    position: relative;\n",
       "  }\n",
       "</style>\n",
       "<div id=\"altair-viz-affeb13ffaad4cd7a52b569873520a4a\"></div>\n",
       "<script type=\"text/javascript\">\n",
       "  var VEGA_DEBUG = (typeof VEGA_DEBUG == \"undefined\") ? {} : VEGA_DEBUG;\n",
       "  (function(spec, embedOpt){\n",
       "    let outputDiv = document.currentScript.previousElementSibling;\n",
       "    if (outputDiv.id !== \"altair-viz-affeb13ffaad4cd7a52b569873520a4a\") {\n",
       "      outputDiv = document.getElementById(\"altair-viz-affeb13ffaad4cd7a52b569873520a4a\");\n",
       "    }\n",
       "    const paths = {\n",
       "      \"vega\": \"https://cdn.jsdelivr.net/npm/vega@5?noext\",\n",
       "      \"vega-lib\": \"https://cdn.jsdelivr.net/npm/vega-lib?noext\",\n",
       "      \"vega-lite\": \"https://cdn.jsdelivr.net/npm/vega-lite@5.16.3?noext\",\n",
       "      \"vega-embed\": \"https://cdn.jsdelivr.net/npm/vega-embed@6?noext\",\n",
       "    };\n",
       "\n",
       "    function maybeLoadScript(lib, version) {\n",
       "      var key = `${lib.replace(\"-\", \"\")}_version`;\n",
       "      return (VEGA_DEBUG[key] == version) ?\n",
       "        Promise.resolve(paths[lib]) :\n",
       "        new Promise(function(resolve, reject) {\n",
       "          var s = document.createElement('script');\n",
       "          document.getElementsByTagName(\"head\")[0].appendChild(s);\n",
       "          s.async = true;\n",
       "          s.onload = () => {\n",
       "            VEGA_DEBUG[key] = version;\n",
       "            return resolve(paths[lib]);\n",
       "          };\n",
       "          s.onerror = () => reject(`Error loading script: ${paths[lib]}`);\n",
       "          s.src = paths[lib];\n",
       "        });\n",
       "    }\n",
       "\n",
       "    function showError(err) {\n",
       "      outputDiv.innerHTML = `<div class=\"error\" style=\"color:red;\">${err}</div>`;\n",
       "      throw err;\n",
       "    }\n",
       "\n",
       "    function displayChart(vegaEmbed) {\n",
       "      vegaEmbed(outputDiv, spec, embedOpt)\n",
       "        .catch(err => showError(`Javascript Error: ${err.message}<br>This usually means there's a typo in your chart specification. See the javascript console for the full traceback.`));\n",
       "    }\n",
       "\n",
       "    if(typeof define === \"function\" && define.amd) {\n",
       "      requirejs.config({paths});\n",
       "      require([\"vega-embed\"], displayChart, err => showError(`Error loading script: ${err.message}`));\n",
       "    } else {\n",
       "      maybeLoadScript(\"vega\", \"5\")\n",
       "        .then(() => maybeLoadScript(\"vega-lite\", \"5.16.3\"))\n",
       "        .then(() => maybeLoadScript(\"vega-embed\", \"6\"))\n",
       "        .catch(showError)\n",
       "        .then(() => displayChart(vegaEmbed));\n",
       "    }\n",
       "  })({\"config\": {\"view\": {\"continuousWidth\": 300, \"continuousHeight\": 300}}, \"hconcat\": [{\"mark\": {\"type\": \"circle\"}, \"encoding\": {\"x\": {\"axis\": {\"labelAngle\": 0}, \"field\": \"dose\", \"type\": \"nominal\"}, \"y\": {\"field\": \"residual\", \"type\": \"quantitative\"}}, \"width\": 200}, {\"mark\": {\"type\": \"circle\"}, \"encoding\": {\"x\": {\"field\": \"residual\", \"type\": \"quantitative\"}, \"y\": {\"field\": \"normal_score\", \"type\": \"quantitative\"}}}], \"data\": {\"name\": \"data-ad131f30beb372e52ed1cc66628503de\"}, \"$schema\": \"https://vega.github.io/schema/vega-lite/v5.16.3.json\", \"datasets\": {\"data-ad131f30beb372e52ed1cc66628503de\": [{\"dose\": \"0 mg\", \"taprate\": 242, \"residual\": -2.8000000000000114, \"normal_score\": -1.1309776082451584}, {\"dose\": \"0 mg\", \"taprate\": 245, \"residual\": 0.19999999999998863, \"normal_score\": 0.1215873827504829}, {\"dose\": \"0 mg\", \"taprate\": 244, \"residual\": -0.8000000000000114, \"normal_score\": -0.41598722018967504}, {\"dose\": \"0 mg\", \"taprate\": 248, \"residual\": 3.1999999999999886, \"normal_score\": 1.2112321309213452}, {\"dose\": \"0 mg\", \"taprate\": 247, \"residual\": 2.1999999999999886, \"normal_score\": 0.9891686273406353}, {\"dose\": \"0 mg\", \"taprate\": 248, \"residual\": 3.1999999999999886, \"normal_score\": 1.2112321309213452}, {\"dose\": \"0 mg\", \"taprate\": 242, \"residual\": -2.8000000000000114, \"normal_score\": -1.1309776082451584}, {\"dose\": \"0 mg\", \"taprate\": 244, \"residual\": -0.8000000000000114, \"normal_score\": -0.41598722018967504}, {\"dose\": \"0 mg\", \"taprate\": 246, \"residual\": 1.1999999999999886, \"normal_score\": 0.37228936046519107}, {\"dose\": \"0 mg\", \"taprate\": 242, \"residual\": -2.8000000000000114, \"normal_score\": -1.1309776082451584}, {\"dose\": \"100 mg\", \"taprate\": 248, \"residual\": 1.5999999999999943, \"normal_score\": 0.5059336541658119}, {\"dose\": \"100 mg\", \"taprate\": 246, \"residual\": -0.4000000000000057, \"normal_score\": -0.2450062230373207}, {\"dose\": \"100 mg\", \"taprate\": 245, \"residual\": -1.4000000000000057, \"normal_score\": -0.5524425846467742}, {\"dose\": \"100 mg\", \"taprate\": 247, \"residual\": 0.5999999999999943, \"normal_score\": 0.2450062230373207}, {\"dose\": \"100 mg\", \"taprate\": 248, \"residual\": 1.5999999999999943, \"normal_score\": 0.5059336541658119}, {\"dose\": \"100 mg\", \"taprate\": 250, \"residual\": 3.5999999999999943, \"normal_score\": 1.517929159594278}, {\"dose\": \"100 mg\", \"taprate\": 247, \"residual\": 0.5999999999999943, \"normal_score\": 0.2450062230373207}, {\"dose\": \"100 mg\", \"taprate\": 246, \"residual\": -0.4000000000000057, \"normal_score\": -0.2450062230373207}, {\"dose\": \"100 mg\", \"taprate\": 243, \"residual\": -3.4000000000000057, \"normal_score\": -1.8485962885014091}, {\"dose\": \"100 mg\", \"taprate\": 244, \"residual\": -2.4000000000000057, \"normal_score\": -0.8648943586852831}, {\"dose\": \"200 mg\", \"taprate\": 246, \"residual\": -2.3000000000000114, \"normal_score\": -0.7000902126075669}, {\"dose\": \"200 mg\", \"taprate\": 248, \"residual\": -0.30000000000001137, \"normal_score\": -0.04044050856564621}, {\"dose\": \"200 mg\", \"taprate\": 250, \"residual\": 1.6999999999999886, \"normal_score\": 0.7527287942581697}, {\"dose\": \"200 mg\", \"taprate\": 252, \"residual\": 3.6999999999999886, \"normal_score\": 1.8485962885014091}, {\"dose\": \"200 mg\", \"taprate\": 248, \"residual\": -0.30000000000001137, \"normal_score\": -0.04044050856564621}, {\"dose\": \"200 mg\", \"taprate\": 250, \"residual\": 1.6999999999999886, \"normal_score\": 0.7527287942581697}, {\"dose\": \"200 mg\", \"taprate\": 246, \"residual\": -2.3000000000000114, \"normal_score\": -0.7000902126075669}, {\"dose\": \"200 mg\", \"taprate\": 248, \"residual\": -0.30000000000001137, \"normal_score\": -0.04044050856564621}, {\"dose\": \"200 mg\", \"taprate\": 245, \"residual\": -3.3000000000000114, \"normal_score\": -1.5179291595942785}, {\"dose\": \"200 mg\", \"taprate\": 250, \"residual\": 1.6999999999999886, \"normal_score\": 0.7527287942581697}]}}, {\"mode\": \"vega-lite\"});\n",
       "</script>"
      ],
      "text/plain": [
       "alt.HConcatChart(...)"
      ]
     },
     "execution_count": 105,
     "metadata": {},
     "output_type": "execute_result"
    }
   ],
   "source": [
    "chart_base = (\n",
    "    alt.Chart(\n",
    "        data\n",
    "        .with_columns(\n",
    "            residual=col('taprate') - col('taprate').mean().over('dose'))\n",
    "        .with_columns(\n",
    "            normal_score=(col('residual').rank() / (pl.len() + 1)).map_batches(\n",
    "                lambda x: stats.norm.ppf(x))))\n",
    "    .mark_circle())\n",
    "\n",
    "(\n",
    "    chart_base.encode(\n",
    "        alt.X('dose').axis(labelAngle=0),\n",
    "        alt.Y('residual'))\n",
    "    .properties(width=200)\n",
    "    | chart_base.encode(\n",
    "        x='residual', \n",
    "        y='normal_score')\n",
    ")"
   ]
  },
  {
   "cell_type": "markdown",
   "id": "8d4a5f07-3616-4f0e-a329-945481fc93b1",
   "metadata": {},
   "source": [
    "From the charts: the variances are consistent across different doses. The residuals are fairly normally distributed."
   ]
  },
  {
   "cell_type": "markdown",
   "id": "2d4a295b-4fe6-44dd-bc16-68a2ac1a632d",
   "metadata": {},
   "source": [
    "### 3."
   ]
  },
  {
   "cell_type": "code",
   "execution_count": 106,
   "id": "d26dea85-29bf-4bb8-9b16-bfb8d2355816",
   "metadata": {
    "scrolled": true
   },
   "outputs": [
    {
     "name": "stdout",
     "output_type": "stream",
     "text": [
      "shape: (75, 2)\n",
      "┌────────┬─────────┐\n",
      "│ AvgEgg ┆ Group   │\n",
      "│ ---    ┆ ---     │\n",
      "│ f64    ┆ str     │\n",
      "╞════════╪═════════╡\n",
      "│ 35.4   ┆ Control │\n",
      "│ 27.4   ┆ Control │\n",
      "│ 19.3   ┆ Control │\n",
      "│ 41.8   ┆ Control │\n",
      "│ 20.3   ┆ Control │\n",
      "│ …      ┆ …       │\n",
      "│ 15.1   ┆ Suscept │\n",
      "│ 31.0   ┆ Suscept │\n",
      "│ 16.9   ┆ Suscept │\n",
      "│ 16.1   ┆ Suscept │\n",
      "│ 10.8   ┆ Suscept │\n",
      "└────────┴─────────┘\n"
     ]
    }
   ],
   "source": [
    "with open('Ex12-3.json') as file:\n",
    "    data = pl.from_dict(json.load(file))\n",
    "print(data)"
   ]
  },
  {
   "cell_type": "markdown",
   "id": "eb63112f-1189-4797-92ce-f28b201470d4",
   "metadata": {},
   "source": [
    "#### (a)"
   ]
  },
  {
   "cell_type": "code",
   "execution_count": 81,
   "id": "9a71b153-5cdb-4137-adaa-4f6315e38a53",
   "metadata": {},
   "outputs": [
    {
     "data": {
      "text/html": [
       "\n",
       "<style>\n",
       "  #altair-viz-40d51352ac0d4078a2783da54dec5258.vega-embed {\n",
       "    width: 100%;\n",
       "    display: flex;\n",
       "  }\n",
       "\n",
       "  #altair-viz-40d51352ac0d4078a2783da54dec5258.vega-embed details,\n",
       "  #altair-viz-40d51352ac0d4078a2783da54dec5258.vega-embed details summary {\n",
       "    position: relative;\n",
       "  }\n",
       "</style>\n",
       "<div id=\"altair-viz-40d51352ac0d4078a2783da54dec5258\"></div>\n",
       "<script type=\"text/javascript\">\n",
       "  var VEGA_DEBUG = (typeof VEGA_DEBUG == \"undefined\") ? {} : VEGA_DEBUG;\n",
       "  (function(spec, embedOpt){\n",
       "    let outputDiv = document.currentScript.previousElementSibling;\n",
       "    if (outputDiv.id !== \"altair-viz-40d51352ac0d4078a2783da54dec5258\") {\n",
       "      outputDiv = document.getElementById(\"altair-viz-40d51352ac0d4078a2783da54dec5258\");\n",
       "    }\n",
       "    const paths = {\n",
       "      \"vega\": \"https://cdn.jsdelivr.net/npm/vega@5?noext\",\n",
       "      \"vega-lib\": \"https://cdn.jsdelivr.net/npm/vega-lib?noext\",\n",
       "      \"vega-lite\": \"https://cdn.jsdelivr.net/npm/vega-lite@5.16.3?noext\",\n",
       "      \"vega-embed\": \"https://cdn.jsdelivr.net/npm/vega-embed@6?noext\",\n",
       "    };\n",
       "\n",
       "    function maybeLoadScript(lib, version) {\n",
       "      var key = `${lib.replace(\"-\", \"\")}_version`;\n",
       "      return (VEGA_DEBUG[key] == version) ?\n",
       "        Promise.resolve(paths[lib]) :\n",
       "        new Promise(function(resolve, reject) {\n",
       "          var s = document.createElement('script');\n",
       "          document.getElementsByTagName(\"head\")[0].appendChild(s);\n",
       "          s.async = true;\n",
       "          s.onload = () => {\n",
       "            VEGA_DEBUG[key] = version;\n",
       "            return resolve(paths[lib]);\n",
       "          };\n",
       "          s.onerror = () => reject(`Error loading script: ${paths[lib]}`);\n",
       "          s.src = paths[lib];\n",
       "        });\n",
       "    }\n",
       "\n",
       "    function showError(err) {\n",
       "      outputDiv.innerHTML = `<div class=\"error\" style=\"color:red;\">${err}</div>`;\n",
       "      throw err;\n",
       "    }\n",
       "\n",
       "    function displayChart(vegaEmbed) {\n",
       "      vegaEmbed(outputDiv, spec, embedOpt)\n",
       "        .catch(err => showError(`Javascript Error: ${err.message}<br>This usually means there's a typo in your chart specification. See the javascript console for the full traceback.`));\n",
       "    }\n",
       "\n",
       "    if(typeof define === \"function\" && define.amd) {\n",
       "      requirejs.config({paths});\n",
       "      require([\"vega-embed\"], displayChart, err => showError(`Error loading script: ${err.message}`));\n",
       "    } else {\n",
       "      maybeLoadScript(\"vega\", \"5\")\n",
       "        .then(() => maybeLoadScript(\"vega-lite\", \"5.16.3\"))\n",
       "        .then(() => maybeLoadScript(\"vega-embed\", \"6\"))\n",
       "        .catch(showError)\n",
       "        .then(() => displayChart(vegaEmbed));\n",
       "    }\n",
       "  })({\"config\": {\"view\": {\"continuousWidth\": 300, \"continuousHeight\": 300}}, \"data\": {\"name\": \"data-43f65669a64c2460a2a05e6e52bf316c\"}, \"mark\": {\"type\": \"boxplot\"}, \"encoding\": {\"x\": {\"field\": \"AvgEgg\", \"type\": \"quantitative\"}, \"y\": {\"field\": \"Group\", \"type\": \"nominal\"}}, \"$schema\": \"https://vega.github.io/schema/vega-lite/v5.16.3.json\", \"datasets\": {\"data-43f65669a64c2460a2a05e6e52bf316c\": [{\"AvgEgg\": 35.4, \"Group\": \"Control\"}, {\"AvgEgg\": 27.4, \"Group\": \"Control\"}, {\"AvgEgg\": 19.3, \"Group\": \"Control\"}, {\"AvgEgg\": 41.8, \"Group\": \"Control\"}, {\"AvgEgg\": 20.3, \"Group\": \"Control\"}, {\"AvgEgg\": 37.6, \"Group\": \"Control\"}, {\"AvgEgg\": 36.9, \"Group\": \"Control\"}, {\"AvgEgg\": 37.3, \"Group\": \"Control\"}, {\"AvgEgg\": 28.2, \"Group\": \"Control\"}, {\"AvgEgg\": 23.4, \"Group\": \"Control\"}, {\"AvgEgg\": 33.7, \"Group\": \"Control\"}, {\"AvgEgg\": 29.2, \"Group\": \"Control\"}, {\"AvgEgg\": 41.7, \"Group\": \"Control\"}, {\"AvgEgg\": 22.6, \"Group\": \"Control\"}, {\"AvgEgg\": 40.4, \"Group\": \"Control\"}, {\"AvgEgg\": 34.4, \"Group\": \"Control\"}, {\"AvgEgg\": 30.4, \"Group\": \"Control\"}, {\"AvgEgg\": 14.9, \"Group\": \"Control\"}, {\"AvgEgg\": 51.8, \"Group\": \"Control\"}, {\"AvgEgg\": 33.8, \"Group\": \"Control\"}, {\"AvgEgg\": 37.9, \"Group\": \"Control\"}, {\"AvgEgg\": 29.5, \"Group\": \"Control\"}, {\"AvgEgg\": 42.4, \"Group\": \"Control\"}, {\"AvgEgg\": 36.6, \"Group\": \"Control\"}, {\"AvgEgg\": 47.4, \"Group\": \"Control\"}, {\"AvgEgg\": 12.8, \"Group\": \"Resist\"}, {\"AvgEgg\": 21.6, \"Group\": \"Resist\"}, {\"AvgEgg\": 14.8, \"Group\": \"Resist\"}, {\"AvgEgg\": 23.1, \"Group\": \"Resist\"}, {\"AvgEgg\": 34.6, \"Group\": \"Resist\"}, {\"AvgEgg\": 19.7, \"Group\": \"Resist\"}, {\"AvgEgg\": 22.6, \"Group\": \"Resist\"}, {\"AvgEgg\": 29.6, \"Group\": \"Resist\"}, {\"AvgEgg\": 16.4, \"Group\": \"Resist\"}, {\"AvgEgg\": 20.3, \"Group\": \"Resist\"}, {\"AvgEgg\": 29.3, \"Group\": \"Resist\"}, {\"AvgEgg\": 14.9, \"Group\": \"Resist\"}, {\"AvgEgg\": 27.3, \"Group\": \"Resist\"}, {\"AvgEgg\": 22.4, \"Group\": \"Resist\"}, {\"AvgEgg\": 27.5, \"Group\": \"Resist\"}, {\"AvgEgg\": 20.3, \"Group\": \"Resist\"}, {\"AvgEgg\": 38.7, \"Group\": \"Resist\"}, {\"AvgEgg\": 26.4, \"Group\": \"Resist\"}, {\"AvgEgg\": 23.7, \"Group\": \"Resist\"}, {\"AvgEgg\": 26.1, \"Group\": \"Resist\"}, {\"AvgEgg\": 29.5, \"Group\": \"Resist\"}, {\"AvgEgg\": 38.6, \"Group\": \"Resist\"}, {\"AvgEgg\": 44.4, \"Group\": \"Resist\"}, {\"AvgEgg\": 23.2, \"Group\": \"Resist\"}, {\"AvgEgg\": 23.6, \"Group\": \"Resist\"}, {\"AvgEgg\": 38.4, \"Group\": \"Suscept\"}, {\"AvgEgg\": 32.9, \"Group\": \"Suscept\"}, {\"AvgEgg\": 48.5, \"Group\": \"Suscept\"}, {\"AvgEgg\": 20.9, \"Group\": \"Suscept\"}, {\"AvgEgg\": 11.6, \"Group\": \"Suscept\"}, {\"AvgEgg\": 22.3, \"Group\": \"Suscept\"}, {\"AvgEgg\": 30.2, \"Group\": \"Suscept\"}, {\"AvgEgg\": 33.4, \"Group\": \"Suscept\"}, {\"AvgEgg\": 26.7, \"Group\": \"Suscept\"}, {\"AvgEgg\": 39.0, \"Group\": \"Suscept\"}, {\"AvgEgg\": 12.8, \"Group\": \"Suscept\"}, {\"AvgEgg\": 14.6, \"Group\": \"Suscept\"}, {\"AvgEgg\": 12.2, \"Group\": \"Suscept\"}, {\"AvgEgg\": 23.1, \"Group\": \"Suscept\"}, {\"AvgEgg\": 29.4, \"Group\": \"Suscept\"}, {\"AvgEgg\": 16.0, \"Group\": \"Suscept\"}, {\"AvgEgg\": 20.1, \"Group\": \"Suscept\"}, {\"AvgEgg\": 23.3, \"Group\": \"Suscept\"}, {\"AvgEgg\": 22.9, \"Group\": \"Suscept\"}, {\"AvgEgg\": 22.5, \"Group\": \"Suscept\"}, {\"AvgEgg\": 15.1, \"Group\": \"Suscept\"}, {\"AvgEgg\": 31.0, \"Group\": \"Suscept\"}, {\"AvgEgg\": 16.9, \"Group\": \"Suscept\"}, {\"AvgEgg\": 16.1, \"Group\": \"Suscept\"}, {\"AvgEgg\": 10.8, \"Group\": \"Suscept\"}]}}, {\"mode\": \"vega-lite\"});\n",
       "</script>"
      ],
      "text/plain": [
       "alt.Chart(...)"
      ]
     },
     "execution_count": 81,
     "metadata": {},
     "output_type": "execute_result"
    }
   ],
   "source": [
    "(\n",
    "    alt.Chart(data)\n",
    "    .mark_boxplot()\n",
    "    .encode(y='Group', x='AvgEgg')\n",
    ")"
   ]
  },
  {
   "cell_type": "markdown",
   "id": "ac4e5edd-a333-4338-9c8c-cf2b6c15a6d0",
   "metadata": {},
   "source": [
    "The control group is a bit higher in terms of average eggs laid per day."
   ]
  },
  {
   "cell_type": "markdown",
   "id": "fac70e7f-a999-4939-8606-8490084ff749",
   "metadata": {},
   "source": [
    "#### (b)"
   ]
  },
  {
   "cell_type": "code",
   "execution_count": 79,
   "id": "0fe66a79-c1c0-4de1-b782-394137b7ac04",
   "metadata": {},
   "outputs": [
    {
     "name": "stdout",
     "output_type": "stream",
     "text": [
      "shape: (3, 6)\n",
      "┌───────────┬────────┬─────────────┬─────┬────────────┬──────────┐\n",
      "│ dataset   ┆ source ┆ SS          ┆ dof ┆ MS         ┆ F        │\n",
      "│ ---       ┆ ---    ┆ ---         ┆ --- ┆ ---        ┆ ---      │\n",
      "│ str       ┆ str    ┆ f64         ┆ u32 ┆ f64        ┆ f64      │\n",
      "╞═══════════╪════════╪═════════════╪═════╪════════════╪══════════╡\n",
      "│ fecundity ┆ factor ┆ 1362.211467 ┆ 2   ┆ 681.105733 ┆ 8.665739 │\n",
      "│ fecundity ┆ error  ┆ 5659.0224   ┆ 72  ┆ 78.597533  ┆ null     │\n",
      "│ fecundity ┆ total  ┆ 7021.233867 ┆ 74  ┆ null       ┆ null     │\n",
      "└───────────┴────────┴─────────────┴─────┴────────────┴──────────┘\n"
     ]
    }
   ],
   "source": [
    "ans = ANOVA(\n",
    "    data\n",
    "    .group_by('Group')\n",
    "    .agg(\n",
    "        n=pl.len(),\n",
    "        μ=col('AvgEgg').mean(),\n",
    "        s=col('AvgEgg').std())\n",
    "    .with_columns(dataset=pl.lit('fecundity'))\n",
    ")\n",
    "print(ans)"
   ]
  },
  {
   "cell_type": "code",
   "execution_count": 80,
   "id": "aa132fe6-0422-42ea-9ddf-3d8619aae081",
   "metadata": {},
   "outputs": [
    {
     "data": {
      "text/plain": [
       "3.1239074485457783"
      ]
     },
     "execution_count": 80,
     "metadata": {},
     "output_type": "execute_result"
    }
   ],
   "source": [
    "stats.f(2, 72).ppf(0.95)"
   ]
  },
  {
   "cell_type": "markdown",
   "id": "f9562a43-96f0-4935-8861-7960c2c4b0f1",
   "metadata": {},
   "source": [
    "So the difference is significant."
   ]
  },
  {
   "cell_type": "markdown",
   "id": "c35a1e81-d1d1-404b-848d-54735c41e99f",
   "metadata": {},
   "source": [
    "#### (c)"
   ]
  },
  {
   "cell_type": "code",
   "execution_count": 109,
   "id": "0f6517f0-7754-41d3-8d1e-205ddefc1b58",
   "metadata": {
    "scrolled": true
   },
   "outputs": [
    {
     "data": {
      "text/html": [
       "\n",
       "<style>\n",
       "  #altair-viz-2283a19733e04663b575b5c582384d7f.vega-embed {\n",
       "    width: 100%;\n",
       "    display: flex;\n",
       "  }\n",
       "\n",
       "  #altair-viz-2283a19733e04663b575b5c582384d7f.vega-embed details,\n",
       "  #altair-viz-2283a19733e04663b575b5c582384d7f.vega-embed details summary {\n",
       "    position: relative;\n",
       "  }\n",
       "</style>\n",
       "<div id=\"altair-viz-2283a19733e04663b575b5c582384d7f\"></div>\n",
       "<script type=\"text/javascript\">\n",
       "  var VEGA_DEBUG = (typeof VEGA_DEBUG == \"undefined\") ? {} : VEGA_DEBUG;\n",
       "  (function(spec, embedOpt){\n",
       "    let outputDiv = document.currentScript.previousElementSibling;\n",
       "    if (outputDiv.id !== \"altair-viz-2283a19733e04663b575b5c582384d7f\") {\n",
       "      outputDiv = document.getElementById(\"altair-viz-2283a19733e04663b575b5c582384d7f\");\n",
       "    }\n",
       "    const paths = {\n",
       "      \"vega\": \"https://cdn.jsdelivr.net/npm/vega@5?noext\",\n",
       "      \"vega-lib\": \"https://cdn.jsdelivr.net/npm/vega-lib?noext\",\n",
       "      \"vega-lite\": \"https://cdn.jsdelivr.net/npm/vega-lite@5.16.3?noext\",\n",
       "      \"vega-embed\": \"https://cdn.jsdelivr.net/npm/vega-embed@6?noext\",\n",
       "    };\n",
       "\n",
       "    function maybeLoadScript(lib, version) {\n",
       "      var key = `${lib.replace(\"-\", \"\")}_version`;\n",
       "      return (VEGA_DEBUG[key] == version) ?\n",
       "        Promise.resolve(paths[lib]) :\n",
       "        new Promise(function(resolve, reject) {\n",
       "          var s = document.createElement('script');\n",
       "          document.getElementsByTagName(\"head\")[0].appendChild(s);\n",
       "          s.async = true;\n",
       "          s.onload = () => {\n",
       "            VEGA_DEBUG[key] = version;\n",
       "            return resolve(paths[lib]);\n",
       "          };\n",
       "          s.onerror = () => reject(`Error loading script: ${paths[lib]}`);\n",
       "          s.src = paths[lib];\n",
       "        });\n",
       "    }\n",
       "\n",
       "    function showError(err) {\n",
       "      outputDiv.innerHTML = `<div class=\"error\" style=\"color:red;\">${err}</div>`;\n",
       "      throw err;\n",
       "    }\n",
       "\n",
       "    function displayChart(vegaEmbed) {\n",
       "      vegaEmbed(outputDiv, spec, embedOpt)\n",
       "        .catch(err => showError(`Javascript Error: ${err.message}<br>This usually means there's a typo in your chart specification. See the javascript console for the full traceback.`));\n",
       "    }\n",
       "\n",
       "    if(typeof define === \"function\" && define.amd) {\n",
       "      requirejs.config({paths});\n",
       "      require([\"vega-embed\"], displayChart, err => showError(`Error loading script: ${err.message}`));\n",
       "    } else {\n",
       "      maybeLoadScript(\"vega\", \"5\")\n",
       "        .then(() => maybeLoadScript(\"vega-lite\", \"5.16.3\"))\n",
       "        .then(() => maybeLoadScript(\"vega-embed\", \"6\"))\n",
       "        .catch(showError)\n",
       "        .then(() => displayChart(vegaEmbed));\n",
       "    }\n",
       "  })({\"config\": {\"view\": {\"continuousWidth\": 300, \"continuousHeight\": 300}}, \"hconcat\": [{\"mark\": {\"type\": \"circle\"}, \"encoding\": {\"x\": {\"axis\": {\"labelAngle\": 0}, \"field\": \"Group\", \"type\": \"nominal\"}, \"y\": {\"field\": \"residual\", \"type\": \"quantitative\"}}, \"width\": 200}, {\"mark\": {\"type\": \"circle\"}, \"encoding\": {\"x\": {\"field\": \"residual\", \"type\": \"quantitative\"}, \"y\": {\"field\": \"normal_score\", \"type\": \"quantitative\"}}}], \"data\": {\"name\": \"data-b9f939fcc56d1df6261b45c4d9f50d73\"}, \"$schema\": \"https://vega.github.io/schema/vega-lite/v5.16.3.json\", \"datasets\": {\"data-b9f939fcc56d1df6261b45c4d9f50d73\": [{\"AvgEgg\": 35.4, \"Group\": \"Control\", \"residual\": 2.028000000000013, \"normal_score\": 0.26699412540495254}, {\"AvgEgg\": 27.4, \"Group\": \"Control\", \"residual\": -5.971999999999987, \"normal_score\": -0.6744897501960817}, {\"AvgEgg\": 19.3, \"Group\": \"Control\", \"residual\": -14.071999999999985, \"normal_score\": -1.9379315108528288}, {\"AvgEgg\": 41.8, \"Group\": \"Control\", \"residual\": 8.428000000000011, \"normal_score\": 0.9500137556693217}, {\"AvgEgg\": 20.3, \"Group\": \"Control\", \"residual\": -13.071999999999985, \"normal_score\": -1.7568266072519054}, {\"AvgEgg\": 37.6, \"Group\": \"Control\", \"residual\": 4.228000000000016, \"normal_score\": 0.5549229427026537}, {\"AvgEgg\": 36.9, \"Group\": \"Control\", \"residual\": 3.528000000000013, \"normal_score\": 0.44282165759651115}, {\"AvgEgg\": 37.3, \"Group\": \"Control\", \"residual\": 3.9280000000000115, \"normal_score\": 0.4795056533309502}, {\"AvgEgg\": 28.2, \"Group\": \"Control\", \"residual\": -5.171999999999986, \"normal_score\": -0.5938213929935198}, {\"AvgEgg\": 23.4, \"Group\": \"Control\", \"residual\": -9.971999999999987, \"normal_score\": -1.0031479676625337}, {\"AvgEgg\": 33.7, \"Group\": \"Control\", \"residual\": 0.32800000000001717, \"normal_score\": 0.09910785982289917}, {\"AvgEgg\": 29.2, \"Group\": \"Control\", \"residual\": -4.171999999999986, \"normal_score\": -0.4795056533309502}, {\"AvgEgg\": 41.7, \"Group\": \"Control\", \"residual\": 8.328000000000017, \"normal_score\": 0.899434907667234}, {\"AvgEgg\": 22.6, \"Group\": \"Control\", \"residual\": -10.771999999999984, \"normal_score\": -1.1829168441908855}, {\"AvgEgg\": 40.4, \"Group\": \"Control\", \"residual\": 7.028000000000013, \"normal_score\": 0.8045963803603002}, {\"AvgEgg\": 34.4, \"Group\": \"Control\", \"residual\": 1.028000000000013, \"normal_score\": 0.199201324789267}, {\"AvgEgg\": 30.4, \"Group\": \"Control\", \"residual\": -2.971999999999987, \"normal_score\": -0.33603814037182317}, {\"AvgEgg\": 14.9, \"Group\": \"Control\", \"residual\": -18.471999999999987, \"normal_score\": -2.221519588337837}, {\"AvgEgg\": 51.8, \"Group\": \"Control\", \"residual\": 18.42800000000001, \"normal_score\": 1.7568266072519054}, {\"AvgEgg\": 33.8, \"Group\": \"Control\", \"residual\": 0.4280000000000115, \"normal_score\": 0.13231285227617132}, {\"AvgEgg\": 37.9, \"Group\": \"Control\", \"residual\": 4.528000000000013, \"normal_score\": 0.6744897501960817}, {\"AvgEgg\": 29.5, \"Group\": \"Control\", \"residual\": -3.8719999999999857, \"normal_score\": -0.44282165759651115}, {\"AvgEgg\": 42.4, \"Group\": \"Control\", \"residual\": 9.028000000000013, \"normal_score\": 1.0031479676625337}, {\"AvgEgg\": 36.6, \"Group\": \"Control\", \"residual\": 3.2280000000000157, \"normal_score\": 0.4067242518713638}, {\"AvgEgg\": 47.4, \"Group\": \"Control\", \"residual\": 14.028000000000013, \"normal_score\": 1.4121875789061633}, {\"AvgEgg\": 12.8, \"Group\": \"Resist\", \"residual\": -12.456000000000003, \"normal_score\": -1.5079045914405589}, {\"AvgEgg\": 21.6, \"Group\": \"Resist\", \"residual\": -3.6560000000000024, \"normal_score\": -0.40672425187136363}, {\"AvgEgg\": 14.8, \"Group\": \"Resist\", \"residual\": -10.456000000000003, \"normal_score\": -1.11895838106256}, {\"AvgEgg\": 23.1, \"Group\": \"Resist\", \"residual\": -2.1560000000000024, \"normal_score\": -0.199201324789267}, {\"AvgEgg\": 34.6, \"Group\": \"Resist\", \"residual\": 9.343999999999998, \"normal_score\": 1.11895838106256}, {\"AvgEgg\": 19.7, \"Group\": \"Resist\", \"residual\": -5.5560000000000045, \"normal_score\": -0.6336400007797011}, {\"AvgEgg\": 22.6, \"Group\": \"Resist\", \"residual\": -2.6560000000000024, \"normal_score\": -0.23296385427137248}, {\"AvgEgg\": 29.6, \"Group\": \"Resist\", \"residual\": 4.343999999999998, \"normal_score\": 0.633640000779701}, {\"AvgEgg\": 16.4, \"Group\": \"Resist\", \"residual\": -8.856000000000005, \"normal_score\": -0.899434907667234}, {\"AvgEgg\": 20.3, \"Group\": \"Resist\", \"residual\": -4.956000000000003, \"normal_score\": -0.5357877300556416}, {\"AvgEgg\": 29.3, \"Group\": \"Resist\", \"residual\": 4.043999999999997, \"normal_score\": 0.5168467276526094}, {\"AvgEgg\": 14.9, \"Group\": \"Resist\", \"residual\": -10.356000000000003, \"normal_score\": -1.0592769170824314}, {\"AvgEgg\": 27.3, \"Group\": \"Resist\", \"residual\": 2.043999999999997, \"normal_score\": 0.30133652085957624}, {\"AvgEgg\": 22.4, \"Group\": \"Resist\", \"residual\": -2.856000000000005, \"normal_score\": -0.30133652085957613}, {\"AvgEgg\": 27.5, \"Group\": \"Resist\", \"residual\": 2.243999999999996, \"normal_score\": 0.33603814037182306}, {\"AvgEgg\": 20.3, \"Group\": \"Resist\", \"residual\": -4.956000000000003, \"normal_score\": -0.5357877300556416}, {\"AvgEgg\": 38.7, \"Group\": \"Resist\", \"residual\": 13.443999999999999, \"normal_score\": 1.3279018717558344}, {\"AvgEgg\": 26.4, \"Group\": \"Resist\", \"residual\": 1.1439999999999948, \"normal_score\": 0.23296385427137234}, {\"AvgEgg\": 23.7, \"Group\": \"Resist\", \"residual\": -1.5560000000000045, \"normal_score\": -0.09910785982289917}, {\"AvgEgg\": 26.1, \"Group\": \"Resist\", \"residual\": 0.8439999999999976, \"normal_score\": 0.16566441386855307}, {\"AvgEgg\": 29.5, \"Group\": \"Resist\", \"residual\": 4.243999999999996, \"normal_score\": 0.5938213929935199}, {\"AvgEgg\": 38.6, \"Group\": \"Resist\", \"residual\": 13.343999999999998, \"normal_score\": 1.2521195202652196}, {\"AvgEgg\": 44.4, \"Group\": \"Resist\", \"residual\": 19.143999999999995, \"normal_score\": 1.9379315108528297}, {\"AvgEgg\": 23.2, \"Group\": \"Resist\", \"residual\": -2.0560000000000045, \"normal_score\": -0.16566441386855307}, {\"AvgEgg\": 23.6, \"Group\": \"Resist\", \"residual\": -1.6560000000000024, \"normal_score\": -0.13231285227617118}, {\"AvgEgg\": 38.4, \"Group\": \"Suscept\", \"residual\": 14.772000000000002, \"normal_score\": 1.5079045914405595}, {\"AvgEgg\": 32.9, \"Group\": \"Suscept\", \"residual\": 9.272000000000002, \"normal_score\": 1.0592769170824314}, {\"AvgEgg\": 48.5, \"Group\": \"Suscept\", \"residual\": 24.872000000000003, \"normal_score\": 2.221519588337836}, {\"AvgEgg\": 20.9, \"Group\": \"Suscept\", \"residual\": -2.727999999999998, \"normal_score\": -0.26699412540495254}, {\"AvgEgg\": 11.6, \"Group\": \"Suscept\", \"residual\": -12.027999999999997, \"normal_score\": -1.4121875789061642}, {\"AvgEgg\": 22.3, \"Group\": \"Suscept\", \"residual\": -1.3279999999999959, \"normal_score\": -0.06601181237584074}, {\"AvgEgg\": 30.2, \"Group\": \"Suscept\", \"residual\": 6.572000000000003, \"normal_score\": 0.7598095710099186}, {\"AvgEgg\": 33.4, \"Group\": \"Suscept\", \"residual\": 9.772000000000002, \"normal_score\": 1.1829168441908855}, {\"AvgEgg\": 26.7, \"Group\": \"Suscept\", \"residual\": 3.0720000000000027, \"normal_score\": 0.37114932320228394}, {\"AvgEgg\": 39.0, \"Group\": \"Suscept\", \"residual\": 15.372000000000003, \"normal_score\": 1.6198562586382697}, {\"AvgEgg\": 12.8, \"Group\": \"Suscept\", \"residual\": -10.827999999999996, \"normal_score\": -1.2521195202652196}, {\"AvgEgg\": 14.6, \"Group\": \"Suscept\", \"residual\": -9.027999999999997, \"normal_score\": -0.9500137556693217}, {\"AvgEgg\": 12.2, \"Group\": \"Suscept\", \"residual\": -11.427999999999997, \"normal_score\": -1.3279018717558337}, {\"AvgEgg\": 23.1, \"Group\": \"Suscept\", \"residual\": -0.5279999999999951, \"normal_score\": 0.032987932937402896}, {\"AvgEgg\": 29.4, \"Group\": \"Suscept\", \"residual\": 5.772000000000002, \"normal_score\": 0.7164975001779914}, {\"AvgEgg\": 16.0, \"Group\": \"Suscept\", \"residual\": -7.627999999999997, \"normal_score\": -0.8045963803603002}, {\"AvgEgg\": 20.1, \"Group\": \"Suscept\", \"residual\": -3.527999999999995, \"normal_score\": -0.37114932320228394}, {\"AvgEgg\": 23.3, \"Group\": \"Suscept\", \"residual\": -0.32799999999999585, \"normal_score\": 0.0660118123758406}, {\"AvgEgg\": 22.9, \"Group\": \"Suscept\", \"residual\": -0.727999999999998, \"normal_score\": 0.0}, {\"AvgEgg\": 22.5, \"Group\": \"Suscept\", \"residual\": -1.1279999999999966, \"normal_score\": -0.03298793293740276}, {\"AvgEgg\": 15.1, \"Group\": \"Suscept\", \"residual\": -8.527999999999997, \"normal_score\": -0.8510585268385688}, {\"AvgEgg\": 31.0, \"Group\": \"Suscept\", \"residual\": 7.372000000000003, \"normal_score\": 0.851058526838569}, {\"AvgEgg\": 16.9, \"Group\": \"Suscept\", \"residual\": -6.727999999999998, \"normal_score\": -0.7164975001779914}, {\"AvgEgg\": 16.1, \"Group\": \"Suscept\", \"residual\": -7.527999999999995, \"normal_score\": -0.7598095710099186}, {\"AvgEgg\": 10.8, \"Group\": \"Suscept\", \"residual\": -12.827999999999996, \"normal_score\": -1.6198562586382699}]}}, {\"mode\": \"vega-lite\"});\n",
       "</script>"
      ],
      "text/plain": [
       "alt.HConcatChart(...)"
      ]
     },
     "execution_count": 109,
     "metadata": {},
     "output_type": "execute_result"
    }
   ],
   "source": [
    "chart_base = (\n",
    "    alt.Chart(\n",
    "        data\n",
    "        .with_columns(\n",
    "            residual=col('AvgEgg') - col('AvgEgg').mean().over('Group'))\n",
    "        .with_columns(\n",
    "            normal_score=(col('residual').rank() / (pl.len() + 1)).map_batches(\n",
    "                lambda x: stats.norm.ppf(x))))\n",
    "    .mark_circle())\n",
    "\n",
    "(\n",
    "    chart_base.encode(\n",
    "        alt.X('Group').axis(labelAngle=0),\n",
    "        alt.Y('residual'))\n",
    "    .properties(width=200)\n",
    "    | chart_base.encode(\n",
    "        x='residual', \n",
    "        y='normal_score')\n",
    ")"
   ]
  },
  {
   "cell_type": "markdown",
   "id": "cb4d0a01-0ce4-4255-94bd-f80e471f49b1",
   "metadata": {},
   "source": [
    "From the charts: the variances are consistent across different groups. The residuals are fairly normally distributed."
   ]
  },
  {
   "cell_type": "markdown",
   "id": "1f30a46a-2be4-4e4e-b30e-513d59e893c7",
   "metadata": {},
   "source": [
    "### 4."
   ]
  },
  {
   "cell_type": "code",
   "execution_count": 110,
   "id": "af9fc814-2fdd-462c-8e17-21f01e7f9a9e",
   "metadata": {},
   "outputs": [
    {
     "name": "stdout",
     "output_type": "stream",
     "text": [
      "shape: (30, 2)\n",
      "┌──────────┬──────┐\n",
      "│ salinity ┆ site │\n",
      "│ ---      ┆ ---  │\n",
      "│ f64      ┆ str  │\n",
      "╞══════════╪══════╡\n",
      "│ 37.54    ┆ I    │\n",
      "│ 37.01    ┆ I    │\n",
      "│ 36.71    ┆ I    │\n",
      "│ 37.03    ┆ I    │\n",
      "│ 37.32    ┆ I    │\n",
      "│ …        ┆ …    │\n",
      "│ 38.71    ┆ III  │\n",
      "│ 38.89    ┆ III  │\n",
      "│ 38.66    ┆ III  │\n",
      "│ 38.51    ┆ III  │\n",
      "│ 40.08    ┆ III  │\n",
      "└──────────┴──────┘\n"
     ]
    }
   ],
   "source": [
    "with open('Ex12-4.json') as file:\n",
    "    data = pl.from_dict(json.load(file))\n",
    "print(data)"
   ]
  },
  {
   "cell_type": "markdown",
   "id": "892a0800-b03a-43e2-bbcd-352856e0c764",
   "metadata": {},
   "source": [
    "#### (a)"
   ]
  },
  {
   "cell_type": "code",
   "execution_count": 91,
   "id": "ebb0d12d-c49e-4f7c-9584-efd3f01ea42f",
   "metadata": {},
   "outputs": [
    {
     "data": {
      "text/html": [
       "\n",
       "<style>\n",
       "  #altair-viz-198fdc14a7b542d8811ffbdac180f105.vega-embed {\n",
       "    width: 100%;\n",
       "    display: flex;\n",
       "  }\n",
       "\n",
       "  #altair-viz-198fdc14a7b542d8811ffbdac180f105.vega-embed details,\n",
       "  #altair-viz-198fdc14a7b542d8811ffbdac180f105.vega-embed details summary {\n",
       "    position: relative;\n",
       "  }\n",
       "</style>\n",
       "<div id=\"altair-viz-198fdc14a7b542d8811ffbdac180f105\"></div>\n",
       "<script type=\"text/javascript\">\n",
       "  var VEGA_DEBUG = (typeof VEGA_DEBUG == \"undefined\") ? {} : VEGA_DEBUG;\n",
       "  (function(spec, embedOpt){\n",
       "    let outputDiv = document.currentScript.previousElementSibling;\n",
       "    if (outputDiv.id !== \"altair-viz-198fdc14a7b542d8811ffbdac180f105\") {\n",
       "      outputDiv = document.getElementById(\"altair-viz-198fdc14a7b542d8811ffbdac180f105\");\n",
       "    }\n",
       "    const paths = {\n",
       "      \"vega\": \"https://cdn.jsdelivr.net/npm/vega@5?noext\",\n",
       "      \"vega-lib\": \"https://cdn.jsdelivr.net/npm/vega-lib?noext\",\n",
       "      \"vega-lite\": \"https://cdn.jsdelivr.net/npm/vega-lite@5.16.3?noext\",\n",
       "      \"vega-embed\": \"https://cdn.jsdelivr.net/npm/vega-embed@6?noext\",\n",
       "    };\n",
       "\n",
       "    function maybeLoadScript(lib, version) {\n",
       "      var key = `${lib.replace(\"-\", \"\")}_version`;\n",
       "      return (VEGA_DEBUG[key] == version) ?\n",
       "        Promise.resolve(paths[lib]) :\n",
       "        new Promise(function(resolve, reject) {\n",
       "          var s = document.createElement('script');\n",
       "          document.getElementsByTagName(\"head\")[0].appendChild(s);\n",
       "          s.async = true;\n",
       "          s.onload = () => {\n",
       "            VEGA_DEBUG[key] = version;\n",
       "            return resolve(paths[lib]);\n",
       "          };\n",
       "          s.onerror = () => reject(`Error loading script: ${paths[lib]}`);\n",
       "          s.src = paths[lib];\n",
       "        });\n",
       "    }\n",
       "\n",
       "    function showError(err) {\n",
       "      outputDiv.innerHTML = `<div class=\"error\" style=\"color:red;\">${err}</div>`;\n",
       "      throw err;\n",
       "    }\n",
       "\n",
       "    function displayChart(vegaEmbed) {\n",
       "      vegaEmbed(outputDiv, spec, embedOpt)\n",
       "        .catch(err => showError(`Javascript Error: ${err.message}<br>This usually means there's a typo in your chart specification. See the javascript console for the full traceback.`));\n",
       "    }\n",
       "\n",
       "    if(typeof define === \"function\" && define.amd) {\n",
       "      requirejs.config({paths});\n",
       "      require([\"vega-embed\"], displayChart, err => showError(`Error loading script: ${err.message}`));\n",
       "    } else {\n",
       "      maybeLoadScript(\"vega\", \"5\")\n",
       "        .then(() => maybeLoadScript(\"vega-lite\", \"5.16.3\"))\n",
       "        .then(() => maybeLoadScript(\"vega-embed\", \"6\"))\n",
       "        .catch(showError)\n",
       "        .then(() => displayChart(vegaEmbed));\n",
       "    }\n",
       "  })({\"config\": {\"view\": {\"continuousWidth\": 300, \"continuousHeight\": 300}}, \"data\": {\"name\": \"data-a2fefc8eb492678b2ea3ff8a4735123d\"}, \"mark\": {\"type\": \"boxplot\"}, \"encoding\": {\"x\": {\"field\": \"salinity\", \"scale\": {\"zero\": false}, \"type\": \"quantitative\"}, \"y\": {\"field\": \"site\", \"type\": \"nominal\"}}, \"$schema\": \"https://vega.github.io/schema/vega-lite/v5.16.3.json\", \"datasets\": {\"data-a2fefc8eb492678b2ea3ff8a4735123d\": [{\"salinity\": 37.54, \"site\": \"I\"}, {\"salinity\": 37.01, \"site\": \"I\"}, {\"salinity\": 36.71, \"site\": \"I\"}, {\"salinity\": 37.03, \"site\": \"I\"}, {\"salinity\": 37.32, \"site\": \"I\"}, {\"salinity\": 37.01, \"site\": \"I\"}, {\"salinity\": 37.03, \"site\": \"I\"}, {\"salinity\": 37.7, \"site\": \"I\"}, {\"salinity\": 37.36, \"site\": \"I\"}, {\"salinity\": 36.75, \"site\": \"I\"}, {\"salinity\": 37.45, \"site\": \"I\"}, {\"salinity\": 38.85, \"site\": \"I\"}, {\"salinity\": 40.17, \"site\": \"II\"}, {\"salinity\": 40.8, \"site\": \"II\"}, {\"salinity\": 39.76, \"site\": \"II\"}, {\"salinity\": 39.7, \"site\": \"II\"}, {\"salinity\": 40.79, \"site\": \"II\"}, {\"salinity\": 40.44, \"site\": \"II\"}, {\"salinity\": 39.79, \"site\": \"II\"}, {\"salinity\": 39.38, \"site\": \"II\"}, {\"salinity\": 39.04, \"site\": \"III\"}, {\"salinity\": 39.21, \"site\": \"III\"}, {\"salinity\": 39.05, \"site\": \"III\"}, {\"salinity\": 38.24, \"site\": \"III\"}, {\"salinity\": 38.53, \"site\": \"III\"}, {\"salinity\": 38.71, \"site\": \"III\"}, {\"salinity\": 38.89, \"site\": \"III\"}, {\"salinity\": 38.66, \"site\": \"III\"}, {\"salinity\": 38.51, \"site\": \"III\"}, {\"salinity\": 40.08, \"site\": \"III\"}]}}, {\"mode\": \"vega-lite\"});\n",
       "</script>"
      ],
      "text/plain": [
       "alt.Chart(...)"
      ]
     },
     "execution_count": 91,
     "metadata": {},
     "output_type": "execute_result"
    }
   ],
   "source": [
    "(\n",
    "    alt.Chart(data)\n",
    "    .mark_boxplot()\n",
    "    .encode(\n",
    "        alt.Y('site'),\n",
    "        alt.X('salinity').scale(zero=False))\n",
    ")"
   ]
  },
  {
   "cell_type": "markdown",
   "id": "faebbe9e-0250-45b6-b720-495e9b29a5d6",
   "metadata": {},
   "source": [
    "Obviously, site II > site III > site I in terms of salinity."
   ]
  },
  {
   "cell_type": "markdown",
   "id": "b028b727-b515-4c58-bdb6-a4f8672f6aa9",
   "metadata": {},
   "source": [
    "#### (b)"
   ]
  },
  {
   "cell_type": "code",
   "execution_count": 92,
   "id": "2a25a264-9105-4334-8d5f-40d6bf087ecf",
   "metadata": {},
   "outputs": [
    {
     "name": "stdout",
     "output_type": "stream",
     "text": [
      "shape: (3, 6)\n",
      "┌─────────┬────────┬───────────┬─────┬───────────┬───────────┐\n",
      "│ dataset ┆ source ┆ SS        ┆ dof ┆ MS        ┆ F         │\n",
      "│ ---     ┆ ---    ┆ ---       ┆ --- ┆ ---       ┆ ---       │\n",
      "│ str     ┆ str    ┆ f64       ┆ u32 ┆ f64       ┆ f64       │\n",
      "╞═════════╪════════╪═══════════╪═════╪═══════════╪═══════════╡\n",
      "│ lagoon  ┆ factor ┆ 38.800883 ┆ 2   ┆ 19.400441 ┆ 66.021046 │\n",
      "│ lagoon  ┆ error  ┆ 7.934014  ┆ 27  ┆ 0.293852  ┆ null      │\n",
      "│ lagoon  ┆ total  ┆ 46.734897 ┆ 29  ┆ null      ┆ null      │\n",
      "└─────────┴────────┴───────────┴─────┴───────────┴───────────┘\n"
     ]
    }
   ],
   "source": [
    "ans = ANOVA(\n",
    "    data\n",
    "    .group_by('site')\n",
    "    .agg(\n",
    "        n=pl.len(),\n",
    "        μ=col('salinity').mean(),\n",
    "        s=col('salinity').std())\n",
    "    .with_columns(dataset=pl.lit('lagoon'))\n",
    ")\n",
    "print(ans)"
   ]
  },
  {
   "cell_type": "code",
   "execution_count": 94,
   "id": "1e01bdf8-27f8-4015-a0d8-7fddba912a64",
   "metadata": {},
   "outputs": [
    {
     "data": {
      "text/plain": [
       "5.488117768420701"
      ]
     },
     "execution_count": 94,
     "metadata": {},
     "output_type": "execute_result"
    }
   ],
   "source": [
    "stats.f(2, 27).ppf(0.99)"
   ]
  },
  {
   "cell_type": "markdown",
   "id": "59cf6d19-ed20-4c71-9ea5-5d3563efd4f0",
   "metadata": {},
   "source": [
    "So the difference in salinity is indeed significant among the 3 sites."
   ]
  },
  {
   "cell_type": "markdown",
   "id": "df063ac4-10d9-40e3-82c5-15cbde8b75a3",
   "metadata": {},
   "source": [
    "#### (c)"
   ]
  },
  {
   "cell_type": "code",
   "execution_count": 112,
   "id": "b53c632d-ec2f-4b19-8000-7ddd0f3419f0",
   "metadata": {
    "scrolled": true
   },
   "outputs": [
    {
     "data": {
      "text/html": [
       "\n",
       "<style>\n",
       "  #altair-viz-b4f730ce55ff4b2d8841a69e8fd1841f.vega-embed {\n",
       "    width: 100%;\n",
       "    display: flex;\n",
       "  }\n",
       "\n",
       "  #altair-viz-b4f730ce55ff4b2d8841a69e8fd1841f.vega-embed details,\n",
       "  #altair-viz-b4f730ce55ff4b2d8841a69e8fd1841f.vega-embed details summary {\n",
       "    position: relative;\n",
       "  }\n",
       "</style>\n",
       "<div id=\"altair-viz-b4f730ce55ff4b2d8841a69e8fd1841f\"></div>\n",
       "<script type=\"text/javascript\">\n",
       "  var VEGA_DEBUG = (typeof VEGA_DEBUG == \"undefined\") ? {} : VEGA_DEBUG;\n",
       "  (function(spec, embedOpt){\n",
       "    let outputDiv = document.currentScript.previousElementSibling;\n",
       "    if (outputDiv.id !== \"altair-viz-b4f730ce55ff4b2d8841a69e8fd1841f\") {\n",
       "      outputDiv = document.getElementById(\"altair-viz-b4f730ce55ff4b2d8841a69e8fd1841f\");\n",
       "    }\n",
       "    const paths = {\n",
       "      \"vega\": \"https://cdn.jsdelivr.net/npm/vega@5?noext\",\n",
       "      \"vega-lib\": \"https://cdn.jsdelivr.net/npm/vega-lib?noext\",\n",
       "      \"vega-lite\": \"https://cdn.jsdelivr.net/npm/vega-lite@5.16.3?noext\",\n",
       "      \"vega-embed\": \"https://cdn.jsdelivr.net/npm/vega-embed@6?noext\",\n",
       "    };\n",
       "\n",
       "    function maybeLoadScript(lib, version) {\n",
       "      var key = `${lib.replace(\"-\", \"\")}_version`;\n",
       "      return (VEGA_DEBUG[key] == version) ?\n",
       "        Promise.resolve(paths[lib]) :\n",
       "        new Promise(function(resolve, reject) {\n",
       "          var s = document.createElement('script');\n",
       "          document.getElementsByTagName(\"head\")[0].appendChild(s);\n",
       "          s.async = true;\n",
       "          s.onload = () => {\n",
       "            VEGA_DEBUG[key] = version;\n",
       "            return resolve(paths[lib]);\n",
       "          };\n",
       "          s.onerror = () => reject(`Error loading script: ${paths[lib]}`);\n",
       "          s.src = paths[lib];\n",
       "        });\n",
       "    }\n",
       "\n",
       "    function showError(err) {\n",
       "      outputDiv.innerHTML = `<div class=\"error\" style=\"color:red;\">${err}</div>`;\n",
       "      throw err;\n",
       "    }\n",
       "\n",
       "    function displayChart(vegaEmbed) {\n",
       "      vegaEmbed(outputDiv, spec, embedOpt)\n",
       "        .catch(err => showError(`Javascript Error: ${err.message}<br>This usually means there's a typo in your chart specification. See the javascript console for the full traceback.`));\n",
       "    }\n",
       "\n",
       "    if(typeof define === \"function\" && define.amd) {\n",
       "      requirejs.config({paths});\n",
       "      require([\"vega-embed\"], displayChart, err => showError(`Error loading script: ${err.message}`));\n",
       "    } else {\n",
       "      maybeLoadScript(\"vega\", \"5\")\n",
       "        .then(() => maybeLoadScript(\"vega-lite\", \"5.16.3\"))\n",
       "        .then(() => maybeLoadScript(\"vega-embed\", \"6\"))\n",
       "        .catch(showError)\n",
       "        .then(() => displayChart(vegaEmbed));\n",
       "    }\n",
       "  })({\"config\": {\"view\": {\"continuousWidth\": 300, \"continuousHeight\": 300}}, \"hconcat\": [{\"mark\": {\"type\": \"circle\"}, \"encoding\": {\"x\": {\"axis\": {\"labelAngle\": 0}, \"field\": \"site\", \"type\": \"nominal\"}, \"y\": {\"field\": \"residual\", \"type\": \"quantitative\"}}, \"width\": 200}, {\"mark\": {\"type\": \"circle\"}, \"encoding\": {\"x\": {\"field\": \"residual\", \"type\": \"quantitative\"}, \"y\": {\"field\": \"normal_score\", \"type\": \"quantitative\"}}}], \"data\": {\"name\": \"data-560246715226fb9c7725ab3818333cdb\"}, \"$schema\": \"https://vega.github.io/schema/vega-lite/v5.16.3.json\", \"datasets\": {\"data-560246715226fb9c7725ab3818333cdb\": [{\"salinity\": 37.54, \"site\": \"I\", \"residual\": 0.22666666666666657, \"normal_score\": 0.6493239131864658}, {\"salinity\": 37.01, \"site\": \"I\", \"residual\": -0.30333333333333456, \"normal_score\": -0.41598722018967504}, {\"salinity\": 36.71, \"site\": \"I\", \"residual\": -0.6033333333333317, \"normal_score\": -1.3001534333634237}, {\"salinity\": 37.03, \"site\": \"I\", \"residual\": -0.28333333333333144, \"normal_score\": -0.2450062230373207}, {\"salinity\": 37.32, \"site\": \"I\", \"residual\": 0.006666666666667709, \"normal_score\": 0.1215873827504829}, {\"salinity\": 37.01, \"site\": \"I\", \"residual\": -0.30333333333333456, \"normal_score\": -0.41598722018967504}, {\"salinity\": 37.03, \"site\": \"I\", \"residual\": -0.28333333333333144, \"normal_score\": -0.2450062230373207}, {\"salinity\": 37.7, \"site\": \"I\", \"residual\": 0.38666666666667027, \"normal_score\": 0.9891686273406353}, {\"salinity\": 37.36, \"site\": \"I\", \"residual\": 0.046666666666666856, \"normal_score\": 0.20354423153248632}, {\"salinity\": 36.75, \"site\": \"I\", \"residual\": -0.5633333333333326, \"normal_score\": -1.1309776082451584}, {\"salinity\": 37.45, \"site\": \"I\", \"residual\": 0.13666666666667027, \"normal_score\": 0.37228936046519107}, {\"salinity\": 38.85, \"site\": \"I\", \"residual\": 1.5366666666666688, \"normal_score\": 1.8485962885014091}, {\"salinity\": 40.17, \"site\": \"II\", \"residual\": 0.0662500000000037, \"normal_score\": 0.2868939169230392}, {\"salinity\": 40.8, \"site\": \"II\", \"residual\": 0.6962499999999991, \"normal_score\": 1.300153433363423}, {\"salinity\": 39.76, \"site\": \"II\", \"residual\": -0.34375, \"normal_score\": -0.6493239131864658}, {\"salinity\": 39.7, \"site\": \"II\", \"residual\": -0.40374999999999517, \"normal_score\": -0.9891686273406353}, {\"salinity\": 40.79, \"site\": \"II\", \"residual\": 0.6862500000000011, \"normal_score\": 1.1309776082451584}, {\"salinity\": 40.44, \"site\": \"II\", \"residual\": 0.3362499999999997, \"normal_score\": 0.8648943586852829}, {\"salinity\": 39.79, \"site\": \"II\", \"residual\": -0.31374999999999886, \"normal_score\": -0.5524425846467742}, {\"salinity\": 39.38, \"site\": \"II\", \"residual\": -0.7237499999999955, \"normal_score\": -1.8485962885014091}, {\"salinity\": 39.04, \"site\": \"III\", \"residual\": 0.14799999999999613, \"normal_score\": 0.46049453910311605}, {\"salinity\": 39.21, \"site\": \"III\", \"residual\": 0.31799999999999784, \"normal_score\": 0.7527287942581697}, {\"salinity\": 39.05, \"site\": \"III\", \"residual\": 0.15799999999999415, \"normal_score\": 0.5524425846467744}, {\"salinity\": 38.24, \"site\": \"III\", \"residual\": -0.652000000000001, \"normal_score\": -1.5179291595942785}, {\"salinity\": 38.53, \"site\": \"III\", \"residual\": -0.3620000000000019, \"normal_score\": -0.7527287942581697}, {\"salinity\": 38.71, \"site\": \"III\", \"residual\": -0.18200000000000216, \"normal_score\": -0.04044050856564621}, {\"salinity\": 38.89, \"site\": \"III\", \"residual\": -0.0020000000000024443, \"normal_score\": 0.04044050856564621}, {\"salinity\": 38.66, \"site\": \"III\", \"residual\": -0.23200000000000642, \"normal_score\": -0.12158738275048304}, {\"salinity\": 38.51, \"site\": \"III\", \"residual\": -0.382000000000005, \"normal_score\": -0.8648943586852831}, {\"salinity\": 40.08, \"site\": \"III\", \"residual\": 1.1879999999999953, \"normal_score\": 1.517929159594278}]}}, {\"mode\": \"vega-lite\"});\n",
       "</script>"
      ],
      "text/plain": [
       "alt.HConcatChart(...)"
      ]
     },
     "execution_count": 112,
     "metadata": {},
     "output_type": "execute_result"
    }
   ],
   "source": [
    "chart_base = (\n",
    "    alt.Chart(\n",
    "        data\n",
    "        .with_columns(\n",
    "            residual=col('salinity') - col('salinity').mean().over('site'))\n",
    "        .with_columns(\n",
    "            normal_score=(col('residual').rank() / (pl.len() + 1)).map_batches(\n",
    "                lambda x: stats.norm.ppf(x))))\n",
    "    .mark_circle())\n",
    "\n",
    "(\n",
    "    chart_base.encode(\n",
    "        alt.X('site').axis(labelAngle=0),\n",
    "        alt.Y('residual'))\n",
    "    .properties(width=200)\n",
    "    | chart_base.encode(\n",
    "        alt.X('residual'), \n",
    "        alt.Y('normal_score'))\n",
    ")"
   ]
  },
  {
   "cell_type": "markdown",
   "id": "93d05102-9b43-4048-ae80-57f9e210ced1",
   "metadata": {},
   "source": [
    "From the charts: the variances are roughly consistent across different sites.The residuals are mostly normally distributed, with a few points maybe too large."
   ]
  },
  {
   "cell_type": "markdown",
   "id": "bbe3cd80-2726-4563-8d16-3087f323dcf9",
   "metadata": {},
   "source": [
    "## Section 12.2"
   ]
  }
 ],
 "metadata": {
  "kernelspec": {
   "display_name": "Python 3 (ipykernel)",
   "language": "python",
   "name": "python3"
  },
  "language_info": {
   "codemirror_mode": {
    "name": "ipython",
    "version": 3
   },
   "file_extension": ".py",
   "mimetype": "text/x-python",
   "name": "python",
   "nbconvert_exporter": "python",
   "pygments_lexer": "ipython3",
   "version": "3.10.12"
  }
 },
 "nbformat": 4,
 "nbformat_minor": 5
}
