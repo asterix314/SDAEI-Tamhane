{
 "cells": [
  {
   "cell_type": "markdown",
   "id": "7c0c714a-801d-4de5-96d7-e375584311c7",
   "metadata": {},
   "source": [
    "# Chapter 10 Simple Linear Regression and Correlation"
   ]
  },
  {
   "cell_type": "code",
   "execution_count": 1,
   "id": "77880b95-9144-4d43-9119-3197c2ea4432",
   "metadata": {},
   "outputs": [],
   "source": [
    "import polars as pl\n",
    "from polars import col, lit\n",
    "from scipy import stats\n",
    "import numpy as np\n",
    "import altair as alt\n",
    "\n",
    "RNG = np.random.default_rng()\n",
    "DATA = {}  # input data\n",
    "ANS = {}   # calculation results"
   ]
  },
  {
   "cell_type": "markdown",
   "id": "ed97c34b-0e54-4351-97c3-0485d2d5d74e",
   "metadata": {},
   "source": [
    "## 10.1 A Probabilistic Model for Simple Linear Regression"
   ]
  },
  {
   "cell_type": "markdown",
   "id": "594bef62-84fa-4cbf-aa52-aa47f83ab4a1",
   "metadata": {},
   "source": [
    "*Linear regression analysis* begins by fitting a straight line, $y = \\beta_0 + \\beta_1 x$, to a set of paired data $\\{(x_i, y_i), i = 1, 2, \\ldots , n\\}$ on two numerical variables $x$ and $y$. The *least squares(LS) estimates* $\\hat{\\beta}_0$ and $\\hat{\\beta}_1$ minimize $Q = \\sum_{i=1}^n [y_i - (\\beta_0 + \\beta_1 x_i) ]^2$ and are given by\n",
    "\n",
    "$$\n",
    "\\begin{align*}\n",
    "\\hat{\\beta}_0 &= \\bar{y} - \\hat{\\beta}_1 \\bar{x},\\\\\n",
    "\\hat{\\beta}_1 &= \\frac{S_{xy}}{S_{xx}}\n",
    "\\end{align*}\n",
    "$$\n",
    "\n",
    "where $S_{xy} = \\sum_{i=1}^n (x_i - \\bar{x})(y_i - \\bar{y})$ and $S_{xx} = \\sum_{i=1}^n (x_i - \\bar{x})^2$. The *fitted values* are given by $\\hat{y}_i = \\hat{\\beta}_0 + \\hat{\\beta}_1 x_i$ and the *residuals* by $e_i = y_i - \\hat{y}_i$.\n",
    "\n",
    "The total sum of squares (SST), regression sum of squares (SSR) and error sum of squares (SSE) are defined as $\\mathrm{SST} = \\sum_{i=1}^n (y_i - \\bar{y})^2$, $\\mathrm{SSR} = \\sum_{i=1}^n (\\hat{y}_i - \\bar{y})^2$, and $\\mathrm{SSE} = \\sum_{i=1}^n (y_i - \\hat{y}_i)^2$. These sums of squares satisfy the identity $\\mathrm{SST} = \\mathrm{SSR} + \\mathrm{SSE}$. A measure of goodness of fit of the least squares line is the *coefficient of determination*,\n",
    "\n",
    "$$\n",
    "r^2 = \\frac{\\mathrm{SSR}}{\\mathrm{SST}} = 1 - \\frac{\\mathrm{SSE}}{\\mathrm{SST}}\n",
    "$$\n",
    "\n",
    "which represents the proportion of variation in $y$ that is accounted for by regression on $x$. The *correlation coefficient* $r$ equals $\\pm\\sqrt{r^2}$, where $\\mathrm{sign}(r) = \\mathrm{sign}(\\hat{\\beta}_1)$. In fact, $r = \\hat{\\beta}_1 (s_x / s_y)$, where $s_x$ and $s_y$ are the sample standard deviations of $x$ and $y$, respectively.\n",
    "\n",
    "The *probabilistic model* for linear regression assumes that $y_i$ is the observed value of r.v. $Y \\thicksim N(\\mu_i, \\sigma^2)$, where $\\mu_i = \\beta_0 + \\beta_1 x_i$ and the $Y_i$ are independent. An unbiased estimate of $\\sigma^2$ is provided by $s^2 = \\mathrm{SSE}/(n - 2)$ with $n-2$ d.f. The estimated standard errors of $\\hat{\\beta}_0$ and $\\hat{\\beta}_1$ equal\n",
    "\n",
    "$$\n",
    "\\mathrm{SE}(\\hat{\\beta}_0) = s\\sqrt{\\frac{\\sum x_i^2}{n\\,S_{xx}}} \\quad \\text{and}\\quad \\mathrm{SE}(\\hat{\\beta}_1) = \\frac{s}{\\sqrt{S_{xx}}}.\n",
    "$$"
   ]
  },
  {
   "cell_type": "markdown",
   "id": "0e0fd2c6-a891-4d89-b524-44e7bde59409",
   "metadata": {},
   "source": [
    "### Ex 10.1\n",
    "\n",
    "Tell whether the following mathematical models are theoretical and deterministic or empirical and probabilistic.\n",
    "\n",
    "1. Maxwell's equations of electromagnetism.\n",
    "2. An econometric model of the U.S. economy.\n",
    "3. A credit scoring model for the probability of a credit applicant being a good risk as a function of selected variables, e.g., income, outstanding debts, etc."
   ]
  },
  {
   "cell_type": "markdown",
   "id": "b0ead40d-9985-4da8-bbf2-824531356006",
   "metadata": {},
   "source": [
    "### Ex 10.2\n",
    "\n",
    "Tell whether the following mathematical models are theoretical and deterministic or empirical and probabilistic.\n",
    "\n",
    "1. An item response model for the probability of a correct response to an item on a \"true-false\" test as a function of the item's intrinsic difficulty.\n",
    "2. The Cobb-Douglas production function, which relates the output of a firm to its capital and labor inputs.\n",
    "3. Kepler's laws of planetary motion."
   ]
  },
  {
   "cell_type": "markdown",
   "id": "9aa19ce1-6ea4-4d0b-a154-1cd1295b9078",
   "metadata": {
    "jp-MarkdownHeadingCollapsed": true
   },
   "source": [
    "### Ex 10.3\n",
    "\n",
    "Give an example of an experimental study in which the explanatory variable is controlled at fixed values, while the response variable is random. Also, give an example of an observational study in which both variables are uncontrolled and random."
   ]
  },
  {
   "cell_type": "markdown",
   "id": "5c9d62d7-575a-418c-9c88-4c89dca84bad",
   "metadata": {},
   "source": [
    "## 10.2 Fitting the Simple Linear Regression Model"
   ]
  },
  {
   "cell_type": "markdown",
   "id": "22ac58ea-dcd1-4b9e-8134-7acd971d4791",
   "metadata": {},
   "source": [
    "## 10.3 Statistical Inference for Simple Linear Regression"
   ]
  },
  {
   "cell_type": "markdown",
   "id": "e0c4790c-05ff-493b-bb48-9c821baba3be",
   "metadata": {},
   "source": [
    "These are used to construct confidence intervals and perform hypothesis tests on /Jo\n",
    "and /31.For example, a 100(1 - a)% confidence interval on /31is given by\n",
    "\n",
    "/31± 1n-2.a/2SE(/J1).\n",
    "A common use of the fitted regression model is to predict Y* for specified x = x• or\n",
    "to estimateµ,* = E(Y*). In both cases we have\n",
    "A.= /JO\n",
    "R + R\n",
    "*\n",
    "Y • = µ,\n",
    "/JIX •\n",
    "A\n",
    "A\n",
    "A\n",
    "However, a 100(1 - a)% prediction interval for Y* is wider than a 100(1 - a)%\n",
    "confidence interval forµ,• because y• is an r.v., whileµ,* is a fixed constant.\n",
    "Residuals are key to checking the model assumptions such as normality of the Y;,\n",
    "linearity of the regression model, constant variance u 2 , and independence of the Y;.\n",
    "Residuals are also useful for detecting outlien and influentialobservations. Many of\n",
    "these diagnostic checks are done by plotting residuals in appropriate ways.\n",
    "Correlation analysis assumes that the data {(x;, y;), ; = 1, 2, ... , n} form a\n",
    "random sample from a bivariatenormaldistributionwith correlation coefficient p. An\n",
    "estimate of p is the sample correlation coefficient r. An exact tes·t of H0 : p = 0 is a\n",
    "t-test with n - 2 d.f. based on the test statistic\n",
    "t\n",
    "A\n",
    "rJn - 2\n",
    "= ✓1 - ,2.\n",
    "A\n",
    "This equals t = /31/SE(/31) which is used to test H 0 : {31 = 0 in the related regression\n",
    "model. In other cases only approximate large sample inferences are available. These\n",
    "inferences use the para_meterization\n",
    "1 (1+ p)\n",
    "t/1= -loge\n",
    "2\n",
    "--\n",
    "1- p\n",
    "A\n",
    ".\n",
    "The sample estimate t/1of t/1,obtained by substituting p\n",
    "½loge (\n",
    "is approximately normally distributed with mean=\n",
    "■\n",
    "= r in the above expression,\n",
    "!+~)\n",
    "and variance=\n",
    "n\n",
    "1\n",
    "3\n",
    "•"
   ]
  },
  {
   "cell_type": "markdown",
   "id": "84416064-4901-46c1-b4bb-400f2ac09253",
   "metadata": {},
   "source": [
    "## 10.4 Regression Diagnosis"
   ]
  },
  {
   "cell_type": "markdown",
   "id": "d23ed70b-e8ce-4b25-bff0-eedcb04b4edc",
   "metadata": {},
   "source": [
    "## 10.5 *Correlation Analysis"
   ]
  },
  {
   "cell_type": "markdown",
   "id": "9f9c3aa9-2afa-4f5f-9b10-6fc15e369be5",
   "metadata": {},
   "source": [
    "## 10.6 Pitfalls of Regression and Correlation Analysis"
   ]
  },
  {
   "cell_type": "code",
   "execution_count": null,
   "id": "3671143e-6b4f-40be-82a8-1cca7250afcb",
   "metadata": {},
   "outputs": [],
   "source": []
  }
 ],
 "metadata": {
  "kernelspec": {
   "display_name": "Python 3 (ipykernel)",
   "language": "python",
   "name": "python3"
  },
  "language_info": {
   "codemirror_mode": {
    "name": "ipython",
    "version": 3
   },
   "file_extension": ".py",
   "mimetype": "text/x-python",
   "name": "python",
   "nbconvert_exporter": "python",
   "pygments_lexer": "ipython3",
   "version": "3.10.12"
  }
 },
 "nbformat": 4,
 "nbformat_minor": 5
}
